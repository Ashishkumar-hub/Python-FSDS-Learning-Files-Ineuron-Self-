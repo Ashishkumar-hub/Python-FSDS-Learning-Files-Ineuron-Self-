{
  "cells": [
    {
      "cell_type": "code",
      "execution_count": 1,
      "metadata": {
        "id": "acvVJmmpgRfJ"
      },
      "outputs": [],
      "source": [
        "def test(**kwargs):\n",
        "    print(\"this is my args elememnt \",kwargs.items())"
      ]
    },
    {
      "cell_type": "code",
      "execution_count": 2,
      "metadata": {
        "colab": {
          "base_uri": "https://localhost:8080/"
        },
        "id": "ukvpHighgRfR",
        "outputId": "a72977a3-a900-48fb-8151-b22c70eefe00"
      },
      "outputs": [
        {
          "output_type": "stream",
          "name": "stdout",
          "text": [
            "this is my args elememnt  dict_items([('x', 'ashish'), ('y', 56), ('z', [3, 4, 5, 6])])\n"
          ]
        }
      ],
      "source": [
        "test(x = \"ashish\" , y = 56 , z = [3,4,5,6]) "
      ]
    },
    {
      "cell_type": "code",
      "execution_count": 6,
      "metadata": {
        "id": "hxWwQZpegRfU"
      },
      "outputs": [],
      "source": [
        "def test(name , mail_id):\n",
        "    con = name+ mail_id\n",
        "    return mail_id , name , con"
      ]
    },
    {
      "cell_type": "code",
      "execution_count": 8,
      "metadata": {
        "colab": {
          "base_uri": "https://localhost:8080/"
        },
        "id": "dYmqpaK8gRfW",
        "outputId": "6c43a036-01ca-4421-a6e3-c2b5370ed62e"
      },
      "outputs": [
        {
          "output_type": "execute_result",
          "data": {
            "text/plain": [
              "('ahsish@gmail.om ', 'ashu', 'ashuahsish@gmail.om ')"
            ]
          },
          "metadata": {},
          "execution_count": 8
        }
      ],
      "source": [
        "test(\"ashu\" , \"ahsish@gmail.om \")"
      ]
    },
    {
      "cell_type": "code",
      "execution_count": 9,
      "metadata": {
        "id": "oX0FHCdsgRfX"
      },
      "outputs": [],
      "source": [
        "a = 10 \n",
        "b =  20 \n",
        "def test1(x, y ):\n",
        "    return x + y "
      ]
    },
    {
      "cell_type": "code",
      "execution_count": 10,
      "metadata": {
        "colab": {
          "base_uri": "https://localhost:8080/"
        },
        "id": "SyRtIryNgRfZ",
        "outputId": "e39e8182-8821-4734-a3e3-e95e323d3272"
      },
      "outputs": [
        {
          "output_type": "execute_result",
          "data": {
            "text/plain": [
              "30"
            ]
          },
          "metadata": {},
          "execution_count": 10
        }
      ],
      "source": [
        "test1(a,b)"
      ]
    },
    {
      "cell_type": "code",
      "execution_count": 11,
      "metadata": {
        "id": "5UknJadkgRfb"
      },
      "outputs": [],
      "source": [
        "m = lambda x,y : x+y"
      ]
    },
    {
      "cell_type": "code",
      "execution_count": 12,
      "metadata": {
        "colab": {
          "base_uri": "https://localhost:8080/"
        },
        "id": "Bn5HNmTHgRfc",
        "outputId": "7ce2bbde-0872-4788-a7da-a4723acae0c2"
      },
      "outputs": [
        {
          "output_type": "execute_result",
          "data": {
            "text/plain": [
              "30"
            ]
          },
          "metadata": {},
          "execution_count": 12
        }
      ],
      "source": [
        "m(a,b)"
      ]
    },
    {
      "cell_type": "code",
      "execution_count": 14,
      "metadata": {
        "colab": {
          "base_uri": "https://localhost:8080/",
          "height": 35
        },
        "id": "Y_c7B8CtgRfe",
        "outputId": "269d4734-aaf3-437b-aaa7-a3be0d6e6a5b"
      },
      "outputs": [
        {
          "output_type": "execute_result",
          "data": {
            "application/vnd.google.colaboratory.intrinsic+json": {
              "type": "string"
            },
            "text/plain": [
              "'ashuashish@gmail.com'"
            ]
          },
          "metadata": {},
          "execution_count": 14
        }
      ],
      "source": [
        "m(\"ashu\" , \"ashish@gmail.com\")"
      ]
    },
    {
      "cell_type": "code",
      "execution_count": 15,
      "metadata": {
        "id": "sE-qh0ILgRfg"
      },
      "outputs": [],
      "source": [
        "b = \"test1\"\n",
        "c = \"test\"\n",
        "n = lambda arg1 , arg2 : print(arg1, arg2)"
      ]
    },
    {
      "cell_type": "code",
      "execution_count": 16,
      "metadata": {
        "colab": {
          "base_uri": "https://localhost:8080/"
        },
        "id": "YILCgLdHgRfi",
        "outputId": "822f43bb-d471-4889-d524-cfc4d674208a"
      },
      "outputs": [
        {
          "output_type": "stream",
          "name": "stdout",
          "text": [
            "test1 test\n"
          ]
        }
      ],
      "source": [
        "n(b, c)"
      ]
    },
    {
      "cell_type": "code",
      "execution_count": 18,
      "metadata": {
        "id": "U1EsDkRPgRfj"
      },
      "outputs": [],
      "source": [
        "r = 10 \n",
        "def test3(a , b ) : \n",
        "    r  = a /b\n",
        "    print(r)"
      ]
    },
    {
      "cell_type": "code",
      "execution_count": 19,
      "metadata": {
        "colab": {
          "base_uri": "https://localhost:8080/"
        },
        "id": "pEMu4WnZgRfk",
        "outputId": "b0780e43-a4dc-4c43-a0e0-d00581ae7c21"
      },
      "outputs": [
        {
          "output_type": "stream",
          "name": "stdout",
          "text": [
            "1.0\n"
          ]
        }
      ],
      "source": [
        "test3(10,10)"
      ]
    },
    {
      "cell_type": "code",
      "execution_count": 20,
      "metadata": {
        "id": "GI9Pr1g4gRfm"
      },
      "outputs": [],
      "source": [
        "def test4(a , b ):\n",
        "    \"\"\"\n",
        "    test4()\n",
        "    a = this is going to do this \n",
        "    b = is going to do that \n",
        "    this is my test function with the \n",
        "    help of this function you will be able to learn a basic of fun \n",
        "    \n",
        "    \n",
        "    \"\"\"\n",
        "    print(\"my name is xyz\")"
      ]
    },
    {
      "cell_type": "code",
      "execution_count": 21,
      "metadata": {
        "colab": {
          "base_uri": "https://localhost:8080/"
        },
        "id": "WwJfgt-HgRfo",
        "outputId": "770eaf3d-bf4c-4a91-833b-aa6a903ea674"
      },
      "outputs": [
        {
          "output_type": "stream",
          "name": "stdout",
          "text": [
            "my name is xyz\n"
          ]
        }
      ],
      "source": [
        "test4(34,56)"
      ]
    },
    {
      "cell_type": "code",
      "execution_count": 22,
      "metadata": {
        "colab": {
          "base_uri": "https://localhost:8080/"
        },
        "id": "Ofng-xvRgRfp",
        "outputId": "4a83d891-c6f9-452d-d638-f1832c14f6ed"
      },
      "outputs": [
        {
          "output_type": "stream",
          "name": "stdout",
          "text": [
            "Help on built-in function print in module builtins:\n",
            "\n",
            "print(...)\n",
            "    print(value, ..., sep=' ', end='\\n', file=sys.stdout, flush=False)\n",
            "    \n",
            "    Prints the values to a stream, or to sys.stdout by default.\n",
            "    Optional keyword arguments:\n",
            "    file:  a file-like object (stream); defaults to the current sys.stdout.\n",
            "    sep:   string inserted between values, default a space.\n",
            "    end:   string appended after the last value, default a newline.\n",
            "    flush: whether to forcibly flush the stream.\n",
            "\n"
          ]
        }
      ],
      "source": [
        "help(print)"
      ]
    },
    {
      "cell_type": "code",
      "execution_count": 23,
      "metadata": {
        "colab": {
          "base_uri": "https://localhost:8080/"
        },
        "id": "3585KpWvgRfq",
        "outputId": "a7576ab3-c20a-42df-9b40-6ba996a6b2d6"
      },
      "outputs": [
        {
          "output_type": "stream",
          "name": "stdout",
          "text": [
            "Help on function test4 in module __main__:\n",
            "\n",
            "test4(a, b)\n",
            "    test4()\n",
            "    a = this is going to do this \n",
            "    b = is going to do that \n",
            "    this is my test function with the \n",
            "    help of this function you will be able to learn a basic of fun\n",
            "\n"
          ]
        }
      ],
      "source": [
        "help(test4)"
      ]
    },
    {
      "cell_type": "code",
      "execution_count": 24,
      "metadata": {
        "id": "Bs89LrC9gRfr"
      },
      "outputs": [],
      "source": [
        "a = 10 "
      ]
    },
    {
      "cell_type": "code",
      "execution_count": 25,
      "metadata": {
        "colab": {
          "base_uri": "https://localhost:8080/",
          "height": 183
        },
        "id": "YhgQuj4mgRfs",
        "outputId": "fc5b4017-9a80-4ad4-fc89-9006ea7ae0ae"
      },
      "outputs": [
        {
          "output_type": "error",
          "ename": "TypeError",
          "evalue": "ignored",
          "traceback": [
            "\u001b[0;31m---------------------------------------------------------------------------\u001b[0m",
            "\u001b[0;31mTypeError\u001b[0m                                 Traceback (most recent call last)",
            "\u001b[0;32m<ipython-input-25-04edae832eaf>\u001b[0m in \u001b[0;36m<module>\u001b[0;34m()\u001b[0m\n\u001b[0;32m----> 1\u001b[0;31m \u001b[0;32mfor\u001b[0m \u001b[0mi\u001b[0m \u001b[0;32min\u001b[0m \u001b[0ma\u001b[0m \u001b[0;34m:\u001b[0m\u001b[0;34m\u001b[0m\u001b[0;34m\u001b[0m\u001b[0m\n\u001b[0m\u001b[1;32m      2\u001b[0m     \u001b[0mprint\u001b[0m\u001b[0;34m(\u001b[0m\u001b[0mi\u001b[0m\u001b[0;34m)\u001b[0m\u001b[0;34m\u001b[0m\u001b[0;34m\u001b[0m\u001b[0m\n",
            "\u001b[0;31mTypeError\u001b[0m: 'int' object is not iterable"
          ]
        }
      ],
      "source": [
        "for i in a :\n",
        "    print(i)"
      ]
    },
    {
      "cell_type": "code",
      "execution_count": 26,
      "metadata": {
        "colab": {
          "base_uri": "https://localhost:8080/"
        },
        "id": "eACQu3YlgRft",
        "outputId": "9bdb404d-ea35-4ed2-a804-a6a5d508b59e"
      },
      "outputs": [
        {
          "output_type": "stream",
          "name": "stdout",
          "text": [
            "a\n",
            "s\n",
            "h\n",
            "i\n",
            "s\n",
            "h\n"
          ]
        }
      ],
      "source": [
        "for i in \"ashish\":\n",
        "    print(i)"
      ]
    },
    {
      "cell_type": "code",
      "execution_count": 28,
      "metadata": {
        "colab": {
          "base_uri": "https://localhost:8080/",
          "height": 183
        },
        "id": "qC1HisB8gRfv",
        "outputId": "efdbefd9-9ee5-4e20-a1af-fe45894d94a7"
      },
      "outputs": [
        {
          "output_type": "error",
          "ename": "TypeError",
          "evalue": "ignored",
          "traceback": [
            "\u001b[0;31m---------------------------------------------------------------------------\u001b[0m",
            "\u001b[0;31mTypeError\u001b[0m                                 Traceback (most recent call last)",
            "\u001b[0;32m<ipython-input-28-c842e1691ce4>\u001b[0m in \u001b[0;36m<module>\u001b[0;34m()\u001b[0m\n\u001b[1;32m      1\u001b[0m \u001b[0ms\u001b[0m \u001b[0;34m=\u001b[0m \u001b[0;34m\"ashisg\"\u001b[0m\u001b[0;34m\u001b[0m\u001b[0;34m\u001b[0m\u001b[0m\n\u001b[0;32m----> 2\u001b[0;31m \u001b[0mnext\u001b[0m\u001b[0;34m(\u001b[0m\u001b[0ms\u001b[0m\u001b[0;34m)\u001b[0m\u001b[0;34m\u001b[0m\u001b[0;34m\u001b[0m\u001b[0m\n\u001b[0m",
            "\u001b[0;31mTypeError\u001b[0m: 'str' object is not an iterator"
          ]
        }
      ],
      "source": [
        "s = \"ashisg\"\n",
        "next(s)"
      ]
    },
    {
      "cell_type": "code",
      "execution_count": 29,
      "metadata": {
        "id": "dfovxD-6gRfv"
      },
      "outputs": [],
      "source": [
        "s= iter(s)"
      ]
    },
    {
      "cell_type": "code",
      "execution_count": 30,
      "metadata": {
        "colab": {
          "base_uri": "https://localhost:8080/",
          "height": 35
        },
        "id": "KpIWM8RwgRfw",
        "outputId": "2a8b5543-5971-4ea6-873b-824695dfee46"
      },
      "outputs": [
        {
          "output_type": "execute_result",
          "data": {
            "application/vnd.google.colaboratory.intrinsic+json": {
              "type": "string"
            },
            "text/plain": [
              "'a'"
            ]
          },
          "metadata": {},
          "execution_count": 30
        }
      ],
      "source": [
        "next(s)"
      ]
    },
    {
      "cell_type": "code",
      "execution_count": 31,
      "metadata": {
        "colab": {
          "base_uri": "https://localhost:8080/",
          "height": 35
        },
        "id": "Bf3k9PT1gRfw",
        "outputId": "bfbf5b83-34a7-4905-b5ca-3b5a499147d4"
      },
      "outputs": [
        {
          "output_type": "execute_result",
          "data": {
            "application/vnd.google.colaboratory.intrinsic+json": {
              "type": "string"
            },
            "text/plain": [
              "'s'"
            ]
          },
          "metadata": {},
          "execution_count": 31
        }
      ],
      "source": [
        "next(s)"
      ]
    },
    {
      "cell_type": "code",
      "execution_count": 32,
      "metadata": {
        "colab": {
          "base_uri": "https://localhost:8080/",
          "height": 35
        },
        "id": "JIJvGpE-gRfx",
        "outputId": "979d91e8-eefc-4fb9-e7e0-745af6530ef1"
      },
      "outputs": [
        {
          "output_type": "execute_result",
          "data": {
            "application/vnd.google.colaboratory.intrinsic+json": {
              "type": "string"
            },
            "text/plain": [
              "'h'"
            ]
          },
          "metadata": {},
          "execution_count": 32
        }
      ],
      "source": [
        "next(s)"
      ]
    },
    {
      "cell_type": "code",
      "execution_count": 33,
      "metadata": {
        "colab": {
          "base_uri": "https://localhost:8080/",
          "height": 35
        },
        "id": "26D2mxXrgRfx",
        "outputId": "4d82b9e6-f53b-476b-890f-abb58b075c23"
      },
      "outputs": [
        {
          "output_type": "execute_result",
          "data": {
            "application/vnd.google.colaboratory.intrinsic+json": {
              "type": "string"
            },
            "text/plain": [
              "'i'"
            ]
          },
          "metadata": {},
          "execution_count": 33
        }
      ],
      "source": [
        "next(s)"
      ]
    },
    {
      "cell_type": "code",
      "execution_count": 34,
      "metadata": {
        "colab": {
          "base_uri": "https://localhost:8080/",
          "height": 35
        },
        "id": "8mzxpERZgRfy",
        "outputId": "ddc8701e-e536-48cc-8a95-ae62c0c7527f"
      },
      "outputs": [
        {
          "output_type": "execute_result",
          "data": {
            "application/vnd.google.colaboratory.intrinsic+json": {
              "type": "string"
            },
            "text/plain": [
              "'s'"
            ]
          },
          "metadata": {},
          "execution_count": 34
        }
      ],
      "source": [
        "next(s)"
      ]
    },
    {
      "cell_type": "code",
      "execution_count": 35,
      "metadata": {
        "colab": {
          "base_uri": "https://localhost:8080/",
          "height": 35
        },
        "id": "IXk4j2WXgRfy",
        "outputId": "309bd38a-6142-4cfa-de60-36da4b9ff54a"
      },
      "outputs": [
        {
          "output_type": "execute_result",
          "data": {
            "application/vnd.google.colaboratory.intrinsic+json": {
              "type": "string"
            },
            "text/plain": [
              "'g'"
            ]
          },
          "metadata": {},
          "execution_count": 35
        }
      ],
      "source": [
        "next(s)"
      ]
    },
    {
      "cell_type": "code",
      "execution_count": null,
      "metadata": {
        "id": "NAdet_GygRfy",
        "outputId": "bb535aac-de1c-4ba3-883e-1ba6277ff840"
      },
      "outputs": [
        {
          "ename": "TypeError",
          "evalue": "'int' object is not an iterator",
          "output_type": "error",
          "traceback": [
            "\u001b[1;31m---------------------------------------------------------------------------\u001b[0m",
            "\u001b[1;31mTypeError\u001b[0m                                 Traceback (most recent call last)",
            "\u001b[1;32m<ipython-input-57-8e04c0291449>\u001b[0m in \u001b[0;36m<module>\u001b[1;34m\u001b[0m\n\u001b[0;32m      1\u001b[0m \u001b[0ma\u001b[0m \u001b[1;33m=\u001b[0m \u001b[1;36m10\u001b[0m\u001b[1;33m\u001b[0m\u001b[1;33m\u001b[0m\u001b[0m\n\u001b[1;32m----> 2\u001b[1;33m \u001b[0mnext\u001b[0m\u001b[1;33m(\u001b[0m\u001b[0ma\u001b[0m\u001b[1;33m)\u001b[0m\u001b[1;33m\u001b[0m\u001b[1;33m\u001b[0m\u001b[0m\n\u001b[0m",
            "\u001b[1;31mTypeError\u001b[0m: 'int' object is not an iterator"
          ]
        }
      ],
      "source": [
        "a = 10 \n",
        "next(a)"
      ]
    },
    {
      "cell_type": "code",
      "execution_count": null,
      "metadata": {
        "id": "MCYMGY32gRf-",
        "outputId": "8bdf7dfd-d418-4d25-b85e-024174f33bfc"
      },
      "outputs": [
        {
          "ename": "TypeError",
          "evalue": "'int' object is not iterable",
          "output_type": "error",
          "traceback": [
            "\u001b[1;31m---------------------------------------------------------------------------\u001b[0m",
            "\u001b[1;31mTypeError\u001b[0m                                 Traceback (most recent call last)",
            "\u001b[1;32m<ipython-input-58-2b64cb055077>\u001b[0m in \u001b[0;36m<module>\u001b[1;34m\u001b[0m\n\u001b[1;32m----> 1\u001b[1;33m \u001b[0miter\u001b[0m\u001b[1;33m(\u001b[0m\u001b[0ma\u001b[0m\u001b[1;33m)\u001b[0m\u001b[1;33m\u001b[0m\u001b[1;33m\u001b[0m\u001b[0m\n\u001b[0m",
            "\u001b[1;31mTypeError\u001b[0m: 'int' object is not iterable"
          ]
        }
      ],
      "source": [
        "iter(a)"
      ]
    },
    {
      "cell_type": "code",
      "execution_count": 36,
      "metadata": {
        "id": "5dDetv9PgRf_"
      },
      "outputs": [],
      "source": [
        "s = \"ashu\""
      ]
    },
    {
      "cell_type": "code",
      "execution_count": 37,
      "metadata": {
        "colab": {
          "base_uri": "https://localhost:8080/",
          "height": 165
        },
        "id": "nb--R69xgRf_",
        "outputId": "a4522161-941a-4199-d793-7b09ccfbc02c"
      },
      "outputs": [
        {
          "output_type": "error",
          "ename": "TypeError",
          "evalue": "ignored",
          "traceback": [
            "\u001b[0;31m---------------------------------------------------------------------------\u001b[0m",
            "\u001b[0;31mTypeError\u001b[0m                                 Traceback (most recent call last)",
            "\u001b[0;32m<ipython-input-37-61c30b5fe1d5>\u001b[0m in \u001b[0;36m<module>\u001b[0;34m()\u001b[0m\n\u001b[0;32m----> 1\u001b[0;31m \u001b[0mnext\u001b[0m\u001b[0;34m(\u001b[0m\u001b[0ms\u001b[0m\u001b[0;34m)\u001b[0m\u001b[0;34m\u001b[0m\u001b[0;34m\u001b[0m\u001b[0m\n\u001b[0m",
            "\u001b[0;31mTypeError\u001b[0m: 'str' object is not an iterator"
          ]
        }
      ],
      "source": [
        "next(s)"
      ]
    },
    {
      "cell_type": "code",
      "execution_count": 38,
      "metadata": {
        "id": "Lo7z-ECrgRgA"
      },
      "outputs": [],
      "source": [
        "s = iter(s)"
      ]
    },
    {
      "cell_type": "code",
      "execution_count": 39,
      "metadata": {
        "colab": {
          "base_uri": "https://localhost:8080/",
          "height": 35
        },
        "id": "K2kEjcrNgRgB",
        "outputId": "e47324d4-0637-4b2d-dfb8-362f8565779c"
      },
      "outputs": [
        {
          "output_type": "execute_result",
          "data": {
            "application/vnd.google.colaboratory.intrinsic+json": {
              "type": "string"
            },
            "text/plain": [
              "'a'"
            ]
          },
          "metadata": {},
          "execution_count": 39
        }
      ],
      "source": [
        "next(s)"
      ]
    },
    {
      "cell_type": "code",
      "execution_count": 40,
      "metadata": {
        "colab": {
          "base_uri": "https://localhost:8080/",
          "height": 35
        },
        "id": "syiiSGl5gRgB",
        "outputId": "e2d77f55-3060-4606-bfff-fdc796ca3738"
      },
      "outputs": [
        {
          "output_type": "execute_result",
          "data": {
            "application/vnd.google.colaboratory.intrinsic+json": {
              "type": "string"
            },
            "text/plain": [
              "'s'"
            ]
          },
          "metadata": {},
          "execution_count": 40
        }
      ],
      "source": [
        "next(s)"
      ]
    },
    {
      "cell_type": "code",
      "execution_count": 41,
      "metadata": {
        "colab": {
          "base_uri": "https://localhost:8080/",
          "height": 35
        },
        "id": "f-RuXhW_gRgC",
        "outputId": "c2e3338e-6859-40f1-fb23-f48635ee4373"
      },
      "outputs": [
        {
          "output_type": "execute_result",
          "data": {
            "application/vnd.google.colaboratory.intrinsic+json": {
              "type": "string"
            },
            "text/plain": [
              "'h'"
            ]
          },
          "metadata": {},
          "execution_count": 41
        }
      ],
      "source": [
        "next(s)"
      ]
    },
    {
      "cell_type": "code",
      "execution_count": 42,
      "metadata": {
        "colab": {
          "base_uri": "https://localhost:8080/",
          "height": 35
        },
        "id": "no5QfIHzgRgC",
        "outputId": "5e04318a-02a6-4e64-c531-76d7b81f46aa"
      },
      "outputs": [
        {
          "output_type": "execute_result",
          "data": {
            "application/vnd.google.colaboratory.intrinsic+json": {
              "type": "string"
            },
            "text/plain": [
              "'u'"
            ]
          },
          "metadata": {},
          "execution_count": 42
        }
      ],
      "source": [
        "next(s)"
      ]
    },
    {
      "cell_type": "code",
      "execution_count": 43,
      "metadata": {
        "colab": {
          "base_uri": "https://localhost:8080/",
          "height": 165
        },
        "id": "xrf5Ht_hgRgD",
        "outputId": "3c118e41-c346-4087-8816-37c9fec133af"
      },
      "outputs": [
        {
          "output_type": "error",
          "ename": "StopIteration",
          "evalue": "ignored",
          "traceback": [
            "\u001b[0;31m---------------------------------------------------------------------------\u001b[0m",
            "\u001b[0;31mStopIteration\u001b[0m                             Traceback (most recent call last)",
            "\u001b[0;32m<ipython-input-43-61c30b5fe1d5>\u001b[0m in \u001b[0;36m<module>\u001b[0;34m()\u001b[0m\n\u001b[0;32m----> 1\u001b[0;31m \u001b[0mnext\u001b[0m\u001b[0;34m(\u001b[0m\u001b[0ms\u001b[0m\u001b[0;34m)\u001b[0m\u001b[0;34m\u001b[0m\u001b[0;34m\u001b[0m\u001b[0m\n\u001b[0m",
            "\u001b[0;31mStopIteration\u001b[0m: "
          ]
        }
      ],
      "source": [
        "next(s)"
      ]
    },
    {
      "cell_type": "code",
      "execution_count": 44,
      "metadata": {
        "colab": {
          "base_uri": "https://localhost:8080/"
        },
        "id": "DZYGuxmXgRgD",
        "outputId": "3870d070-77a8-445f-d170-5352d60530d3"
      },
      "outputs": [
        {
          "output_type": "stream",
          "name": "stdout",
          "text": [
            "a\n",
            "s\n",
            "h\n",
            "u\n"
          ]
        }
      ],
      "source": [
        "for i in \"ashu\":\n",
        "    print(i)"
      ]
    },
    {
      "cell_type": "code",
      "execution_count": 45,
      "metadata": {
        "id": "Pc0Q6Y0ZgRgE"
      },
      "outputs": [],
      "source": [
        "l= [1,2,3,4,5]"
      ]
    },
    {
      "cell_type": "code",
      "execution_count": 46,
      "metadata": {
        "colab": {
          "base_uri": "https://localhost:8080/",
          "height": 165
        },
        "id": "YD-z-DnCgRgE",
        "outputId": "4db2e1b2-c053-4862-b81f-eaa9037a2da3"
      },
      "outputs": [
        {
          "output_type": "error",
          "ename": "TypeError",
          "evalue": "ignored",
          "traceback": [
            "\u001b[0;31m---------------------------------------------------------------------------\u001b[0m",
            "\u001b[0;31mTypeError\u001b[0m                                 Traceback (most recent call last)",
            "\u001b[0;32m<ipython-input-46-cdc8a39da60d>\u001b[0m in \u001b[0;36m<module>\u001b[0;34m()\u001b[0m\n\u001b[0;32m----> 1\u001b[0;31m \u001b[0mnext\u001b[0m\u001b[0;34m(\u001b[0m\u001b[0ml\u001b[0m\u001b[0;34m)\u001b[0m\u001b[0;34m\u001b[0m\u001b[0;34m\u001b[0m\u001b[0m\n\u001b[0m",
            "\u001b[0;31mTypeError\u001b[0m: 'list' object is not an iterator"
          ]
        }
      ],
      "source": [
        "next(l)"
      ]
    },
    {
      "cell_type": "code",
      "execution_count": 47,
      "metadata": {
        "id": "55H-3G0xgRgF"
      },
      "outputs": [],
      "source": [
        "l = iter(l)"
      ]
    },
    {
      "cell_type": "code",
      "execution_count": 48,
      "metadata": {
        "colab": {
          "base_uri": "https://localhost:8080/"
        },
        "id": "wzJEo7GJgRgF",
        "outputId": "d1e717a0-92af-4935-c20e-6b2680d1b79e"
      },
      "outputs": [
        {
          "output_type": "execute_result",
          "data": {
            "text/plain": [
              "1"
            ]
          },
          "metadata": {},
          "execution_count": 48
        }
      ],
      "source": [
        "next(l)"
      ]
    },
    {
      "cell_type": "code",
      "execution_count": 49,
      "metadata": {
        "colab": {
          "base_uri": "https://localhost:8080/"
        },
        "id": "6_2hE9WlgRgG",
        "outputId": "9d54c423-2fa0-4005-beb0-19a1f4afbbeb"
      },
      "outputs": [
        {
          "output_type": "execute_result",
          "data": {
            "text/plain": [
              "2"
            ]
          },
          "metadata": {},
          "execution_count": 49
        }
      ],
      "source": [
        "next(l)"
      ]
    },
    {
      "cell_type": "code",
      "execution_count": 50,
      "metadata": {
        "colab": {
          "base_uri": "https://localhost:8080/"
        },
        "id": "87CsIivEgRgG",
        "outputId": "fb84b086-ebe7-42b5-b149-7449c476a1fb"
      },
      "outputs": [
        {
          "output_type": "execute_result",
          "data": {
            "text/plain": [
              "3"
            ]
          },
          "metadata": {},
          "execution_count": 50
        }
      ],
      "source": [
        "next(l)"
      ]
    },
    {
      "cell_type": "code",
      "execution_count": 51,
      "metadata": {
        "colab": {
          "base_uri": "https://localhost:8080/"
        },
        "id": "u0cIhSb5gRgG",
        "outputId": "b857ca1a-14c3-4013-8286-5229b893068f"
      },
      "outputs": [
        {
          "output_type": "execute_result",
          "data": {
            "text/plain": [
              "4"
            ]
          },
          "metadata": {},
          "execution_count": 51
        }
      ],
      "source": [
        "next(l)"
      ]
    },
    {
      "cell_type": "code",
      "execution_count": 52,
      "metadata": {
        "colab": {
          "base_uri": "https://localhost:8080/"
        },
        "id": "mnZe7exWgRgH",
        "outputId": "10ef73ef-2fcd-426a-be8f-f015522a2b66"
      },
      "outputs": [
        {
          "output_type": "execute_result",
          "data": {
            "text/plain": [
              "5"
            ]
          },
          "metadata": {},
          "execution_count": 52
        }
      ],
      "source": [
        "next(l)"
      ]
    },
    {
      "cell_type": "code",
      "execution_count": 53,
      "metadata": {
        "colab": {
          "base_uri": "https://localhost:8080/",
          "height": 165
        },
        "id": "lgJJbPYlgRgH",
        "outputId": "269a788c-234b-482f-ba17-0292e5975188"
      },
      "outputs": [
        {
          "output_type": "error",
          "ename": "StopIteration",
          "evalue": "ignored",
          "traceback": [
            "\u001b[0;31m---------------------------------------------------------------------------\u001b[0m",
            "\u001b[0;31mStopIteration\u001b[0m                             Traceback (most recent call last)",
            "\u001b[0;32m<ipython-input-53-cdc8a39da60d>\u001b[0m in \u001b[0;36m<module>\u001b[0;34m()\u001b[0m\n\u001b[0;32m----> 1\u001b[0;31m \u001b[0mnext\u001b[0m\u001b[0;34m(\u001b[0m\u001b[0ml\u001b[0m\u001b[0;34m)\u001b[0m\u001b[0;34m\u001b[0m\u001b[0;34m\u001b[0m\u001b[0m\n\u001b[0m",
            "\u001b[0;31mStopIteration\u001b[0m: "
          ]
        }
      ],
      "source": [
        "next(l)"
      ]
    },
    {
      "cell_type": "code",
      "execution_count": 54,
      "metadata": {
        "id": "FKwl5PIigRgI"
      },
      "outputs": [],
      "source": [
        "t = (4,5,6,7)\n",
        "t = iter(t)"
      ]
    },
    {
      "cell_type": "code",
      "execution_count": 55,
      "metadata": {
        "colab": {
          "base_uri": "https://localhost:8080/"
        },
        "id": "zBBunwXHgRgI",
        "outputId": "2ccde6f6-f26b-4abf-8acb-ad143d4abc5a"
      },
      "outputs": [
        {
          "output_type": "execute_result",
          "data": {
            "text/plain": [
              "4"
            ]
          },
          "metadata": {},
          "execution_count": 55
        }
      ],
      "source": [
        "next(t)"
      ]
    },
    {
      "cell_type": "code",
      "execution_count": 56,
      "metadata": {
        "id": "miAYMKm5gRgI"
      },
      "outputs": [],
      "source": [
        "def test4(n):\n",
        "    l = []\n",
        "    for i in range(n) :\n",
        "        l.append(i**3)\n",
        "        \n",
        "    return l"
      ]
    },
    {
      "cell_type": "code",
      "source": [
        "test4(600)"
      ],
      "metadata": {
        "colab": {
          "base_uri": "https://localhost:8080/"
        },
        "id": "_mx0EV8WjS_k",
        "outputId": "a0402b1f-308a-4f47-c2ff-d9b52ebe4e85"
      },
      "execution_count": 58,
      "outputs": [
        {
          "output_type": "execute_result",
          "data": {
            "text/plain": [
              "[0,\n",
              " 1,\n",
              " 8,\n",
              " 27,\n",
              " 64,\n",
              " 125,\n",
              " 216,\n",
              " 343,\n",
              " 512,\n",
              " 729,\n",
              " 1000,\n",
              " 1331,\n",
              " 1728,\n",
              " 2197,\n",
              " 2744,\n",
              " 3375,\n",
              " 4096,\n",
              " 4913,\n",
              " 5832,\n",
              " 6859,\n",
              " 8000,\n",
              " 9261,\n",
              " 10648,\n",
              " 12167,\n",
              " 13824,\n",
              " 15625,\n",
              " 17576,\n",
              " 19683,\n",
              " 21952,\n",
              " 24389,\n",
              " 27000,\n",
              " 29791,\n",
              " 32768,\n",
              " 35937,\n",
              " 39304,\n",
              " 42875,\n",
              " 46656,\n",
              " 50653,\n",
              " 54872,\n",
              " 59319,\n",
              " 64000,\n",
              " 68921,\n",
              " 74088,\n",
              " 79507,\n",
              " 85184,\n",
              " 91125,\n",
              " 97336,\n",
              " 103823,\n",
              " 110592,\n",
              " 117649,\n",
              " 125000,\n",
              " 132651,\n",
              " 140608,\n",
              " 148877,\n",
              " 157464,\n",
              " 166375,\n",
              " 175616,\n",
              " 185193,\n",
              " 195112,\n",
              " 205379,\n",
              " 216000,\n",
              " 226981,\n",
              " 238328,\n",
              " 250047,\n",
              " 262144,\n",
              " 274625,\n",
              " 287496,\n",
              " 300763,\n",
              " 314432,\n",
              " 328509,\n",
              " 343000,\n",
              " 357911,\n",
              " 373248,\n",
              " 389017,\n",
              " 405224,\n",
              " 421875,\n",
              " 438976,\n",
              " 456533,\n",
              " 474552,\n",
              " 493039,\n",
              " 512000,\n",
              " 531441,\n",
              " 551368,\n",
              " 571787,\n",
              " 592704,\n",
              " 614125,\n",
              " 636056,\n",
              " 658503,\n",
              " 681472,\n",
              " 704969,\n",
              " 729000,\n",
              " 753571,\n",
              " 778688,\n",
              " 804357,\n",
              " 830584,\n",
              " 857375,\n",
              " 884736,\n",
              " 912673,\n",
              " 941192,\n",
              " 970299,\n",
              " 1000000,\n",
              " 1030301,\n",
              " 1061208,\n",
              " 1092727,\n",
              " 1124864,\n",
              " 1157625,\n",
              " 1191016,\n",
              " 1225043,\n",
              " 1259712,\n",
              " 1295029,\n",
              " 1331000,\n",
              " 1367631,\n",
              " 1404928,\n",
              " 1442897,\n",
              " 1481544,\n",
              " 1520875,\n",
              " 1560896,\n",
              " 1601613,\n",
              " 1643032,\n",
              " 1685159,\n",
              " 1728000,\n",
              " 1771561,\n",
              " 1815848,\n",
              " 1860867,\n",
              " 1906624,\n",
              " 1953125,\n",
              " 2000376,\n",
              " 2048383,\n",
              " 2097152,\n",
              " 2146689,\n",
              " 2197000,\n",
              " 2248091,\n",
              " 2299968,\n",
              " 2352637,\n",
              " 2406104,\n",
              " 2460375,\n",
              " 2515456,\n",
              " 2571353,\n",
              " 2628072,\n",
              " 2685619,\n",
              " 2744000,\n",
              " 2803221,\n",
              " 2863288,\n",
              " 2924207,\n",
              " 2985984,\n",
              " 3048625,\n",
              " 3112136,\n",
              " 3176523,\n",
              " 3241792,\n",
              " 3307949,\n",
              " 3375000,\n",
              " 3442951,\n",
              " 3511808,\n",
              " 3581577,\n",
              " 3652264,\n",
              " 3723875,\n",
              " 3796416,\n",
              " 3869893,\n",
              " 3944312,\n",
              " 4019679,\n",
              " 4096000,\n",
              " 4173281,\n",
              " 4251528,\n",
              " 4330747,\n",
              " 4410944,\n",
              " 4492125,\n",
              " 4574296,\n",
              " 4657463,\n",
              " 4741632,\n",
              " 4826809,\n",
              " 4913000,\n",
              " 5000211,\n",
              " 5088448,\n",
              " 5177717,\n",
              " 5268024,\n",
              " 5359375,\n",
              " 5451776,\n",
              " 5545233,\n",
              " 5639752,\n",
              " 5735339,\n",
              " 5832000,\n",
              " 5929741,\n",
              " 6028568,\n",
              " 6128487,\n",
              " 6229504,\n",
              " 6331625,\n",
              " 6434856,\n",
              " 6539203,\n",
              " 6644672,\n",
              " 6751269,\n",
              " 6859000,\n",
              " 6967871,\n",
              " 7077888,\n",
              " 7189057,\n",
              " 7301384,\n",
              " 7414875,\n",
              " 7529536,\n",
              " 7645373,\n",
              " 7762392,\n",
              " 7880599,\n",
              " 8000000,\n",
              " 8120601,\n",
              " 8242408,\n",
              " 8365427,\n",
              " 8489664,\n",
              " 8615125,\n",
              " 8741816,\n",
              " 8869743,\n",
              " 8998912,\n",
              " 9129329,\n",
              " 9261000,\n",
              " 9393931,\n",
              " 9528128,\n",
              " 9663597,\n",
              " 9800344,\n",
              " 9938375,\n",
              " 10077696,\n",
              " 10218313,\n",
              " 10360232,\n",
              " 10503459,\n",
              " 10648000,\n",
              " 10793861,\n",
              " 10941048,\n",
              " 11089567,\n",
              " 11239424,\n",
              " 11390625,\n",
              " 11543176,\n",
              " 11697083,\n",
              " 11852352,\n",
              " 12008989,\n",
              " 12167000,\n",
              " 12326391,\n",
              " 12487168,\n",
              " 12649337,\n",
              " 12812904,\n",
              " 12977875,\n",
              " 13144256,\n",
              " 13312053,\n",
              " 13481272,\n",
              " 13651919,\n",
              " 13824000,\n",
              " 13997521,\n",
              " 14172488,\n",
              " 14348907,\n",
              " 14526784,\n",
              " 14706125,\n",
              " 14886936,\n",
              " 15069223,\n",
              " 15252992,\n",
              " 15438249,\n",
              " 15625000,\n",
              " 15813251,\n",
              " 16003008,\n",
              " 16194277,\n",
              " 16387064,\n",
              " 16581375,\n",
              " 16777216,\n",
              " 16974593,\n",
              " 17173512,\n",
              " 17373979,\n",
              " 17576000,\n",
              " 17779581,\n",
              " 17984728,\n",
              " 18191447,\n",
              " 18399744,\n",
              " 18609625,\n",
              " 18821096,\n",
              " 19034163,\n",
              " 19248832,\n",
              " 19465109,\n",
              " 19683000,\n",
              " 19902511,\n",
              " 20123648,\n",
              " 20346417,\n",
              " 20570824,\n",
              " 20796875,\n",
              " 21024576,\n",
              " 21253933,\n",
              " 21484952,\n",
              " 21717639,\n",
              " 21952000,\n",
              " 22188041,\n",
              " 22425768,\n",
              " 22665187,\n",
              " 22906304,\n",
              " 23149125,\n",
              " 23393656,\n",
              " 23639903,\n",
              " 23887872,\n",
              " 24137569,\n",
              " 24389000,\n",
              " 24642171,\n",
              " 24897088,\n",
              " 25153757,\n",
              " 25412184,\n",
              " 25672375,\n",
              " 25934336,\n",
              " 26198073,\n",
              " 26463592,\n",
              " 26730899,\n",
              " 27000000,\n",
              " 27270901,\n",
              " 27543608,\n",
              " 27818127,\n",
              " 28094464,\n",
              " 28372625,\n",
              " 28652616,\n",
              " 28934443,\n",
              " 29218112,\n",
              " 29503629,\n",
              " 29791000,\n",
              " 30080231,\n",
              " 30371328,\n",
              " 30664297,\n",
              " 30959144,\n",
              " 31255875,\n",
              " 31554496,\n",
              " 31855013,\n",
              " 32157432,\n",
              " 32461759,\n",
              " 32768000,\n",
              " 33076161,\n",
              " 33386248,\n",
              " 33698267,\n",
              " 34012224,\n",
              " 34328125,\n",
              " 34645976,\n",
              " 34965783,\n",
              " 35287552,\n",
              " 35611289,\n",
              " 35937000,\n",
              " 36264691,\n",
              " 36594368,\n",
              " 36926037,\n",
              " 37259704,\n",
              " 37595375,\n",
              " 37933056,\n",
              " 38272753,\n",
              " 38614472,\n",
              " 38958219,\n",
              " 39304000,\n",
              " 39651821,\n",
              " 40001688,\n",
              " 40353607,\n",
              " 40707584,\n",
              " 41063625,\n",
              " 41421736,\n",
              " 41781923,\n",
              " 42144192,\n",
              " 42508549,\n",
              " 42875000,\n",
              " 43243551,\n",
              " 43614208,\n",
              " 43986977,\n",
              " 44361864,\n",
              " 44738875,\n",
              " 45118016,\n",
              " 45499293,\n",
              " 45882712,\n",
              " 46268279,\n",
              " 46656000,\n",
              " 47045881,\n",
              " 47437928,\n",
              " 47832147,\n",
              " 48228544,\n",
              " 48627125,\n",
              " 49027896,\n",
              " 49430863,\n",
              " 49836032,\n",
              " 50243409,\n",
              " 50653000,\n",
              " 51064811,\n",
              " 51478848,\n",
              " 51895117,\n",
              " 52313624,\n",
              " 52734375,\n",
              " 53157376,\n",
              " 53582633,\n",
              " 54010152,\n",
              " 54439939,\n",
              " 54872000,\n",
              " 55306341,\n",
              " 55742968,\n",
              " 56181887,\n",
              " 56623104,\n",
              " 57066625,\n",
              " 57512456,\n",
              " 57960603,\n",
              " 58411072,\n",
              " 58863869,\n",
              " 59319000,\n",
              " 59776471,\n",
              " 60236288,\n",
              " 60698457,\n",
              " 61162984,\n",
              " 61629875,\n",
              " 62099136,\n",
              " 62570773,\n",
              " 63044792,\n",
              " 63521199,\n",
              " 64000000,\n",
              " 64481201,\n",
              " 64964808,\n",
              " 65450827,\n",
              " 65939264,\n",
              " 66430125,\n",
              " 66923416,\n",
              " 67419143,\n",
              " 67917312,\n",
              " 68417929,\n",
              " 68921000,\n",
              " 69426531,\n",
              " 69934528,\n",
              " 70444997,\n",
              " 70957944,\n",
              " 71473375,\n",
              " 71991296,\n",
              " 72511713,\n",
              " 73034632,\n",
              " 73560059,\n",
              " 74088000,\n",
              " 74618461,\n",
              " 75151448,\n",
              " 75686967,\n",
              " 76225024,\n",
              " 76765625,\n",
              " 77308776,\n",
              " 77854483,\n",
              " 78402752,\n",
              " 78953589,\n",
              " 79507000,\n",
              " 80062991,\n",
              " 80621568,\n",
              " 81182737,\n",
              " 81746504,\n",
              " 82312875,\n",
              " 82881856,\n",
              " 83453453,\n",
              " 84027672,\n",
              " 84604519,\n",
              " 85184000,\n",
              " 85766121,\n",
              " 86350888,\n",
              " 86938307,\n",
              " 87528384,\n",
              " 88121125,\n",
              " 88716536,\n",
              " 89314623,\n",
              " 89915392,\n",
              " 90518849,\n",
              " 91125000,\n",
              " 91733851,\n",
              " 92345408,\n",
              " 92959677,\n",
              " 93576664,\n",
              " 94196375,\n",
              " 94818816,\n",
              " 95443993,\n",
              " 96071912,\n",
              " 96702579,\n",
              " 97336000,\n",
              " 97972181,\n",
              " 98611128,\n",
              " 99252847,\n",
              " 99897344,\n",
              " 100544625,\n",
              " 101194696,\n",
              " 101847563,\n",
              " 102503232,\n",
              " 103161709,\n",
              " 103823000,\n",
              " 104487111,\n",
              " 105154048,\n",
              " 105823817,\n",
              " 106496424,\n",
              " 107171875,\n",
              " 107850176,\n",
              " 108531333,\n",
              " 109215352,\n",
              " 109902239,\n",
              " 110592000,\n",
              " 111284641,\n",
              " 111980168,\n",
              " 112678587,\n",
              " 113379904,\n",
              " 114084125,\n",
              " 114791256,\n",
              " 115501303,\n",
              " 116214272,\n",
              " 116930169,\n",
              " 117649000,\n",
              " 118370771,\n",
              " 119095488,\n",
              " 119823157,\n",
              " 120553784,\n",
              " 121287375,\n",
              " 122023936,\n",
              " 122763473,\n",
              " 123505992,\n",
              " 124251499,\n",
              " 125000000,\n",
              " 125751501,\n",
              " 126506008,\n",
              " 127263527,\n",
              " 128024064,\n",
              " 128787625,\n",
              " 129554216,\n",
              " 130323843,\n",
              " 131096512,\n",
              " 131872229,\n",
              " 132651000,\n",
              " 133432831,\n",
              " 134217728,\n",
              " 135005697,\n",
              " 135796744,\n",
              " 136590875,\n",
              " 137388096,\n",
              " 138188413,\n",
              " 138991832,\n",
              " 139798359,\n",
              " 140608000,\n",
              " 141420761,\n",
              " 142236648,\n",
              " 143055667,\n",
              " 143877824,\n",
              " 144703125,\n",
              " 145531576,\n",
              " 146363183,\n",
              " 147197952,\n",
              " 148035889,\n",
              " 148877000,\n",
              " 149721291,\n",
              " 150568768,\n",
              " 151419437,\n",
              " 152273304,\n",
              " 153130375,\n",
              " 153990656,\n",
              " 154854153,\n",
              " 155720872,\n",
              " 156590819,\n",
              " 157464000,\n",
              " 158340421,\n",
              " 159220088,\n",
              " 160103007,\n",
              " 160989184,\n",
              " 161878625,\n",
              " 162771336,\n",
              " 163667323,\n",
              " 164566592,\n",
              " 165469149,\n",
              " 166375000,\n",
              " 167284151,\n",
              " 168196608,\n",
              " 169112377,\n",
              " 170031464,\n",
              " 170953875,\n",
              " 171879616,\n",
              " 172808693,\n",
              " 173741112,\n",
              " 174676879,\n",
              " 175616000,\n",
              " 176558481,\n",
              " 177504328,\n",
              " 178453547,\n",
              " 179406144,\n",
              " 180362125,\n",
              " 181321496,\n",
              " 182284263,\n",
              " 183250432,\n",
              " 184220009,\n",
              " 185193000,\n",
              " 186169411,\n",
              " 187149248,\n",
              " 188132517,\n",
              " 189119224,\n",
              " 190109375,\n",
              " 191102976,\n",
              " 192100033,\n",
              " 193100552,\n",
              " 194104539,\n",
              " 195112000,\n",
              " 196122941,\n",
              " 197137368,\n",
              " 198155287,\n",
              " 199176704,\n",
              " 200201625,\n",
              " 201230056,\n",
              " 202262003,\n",
              " 203297472,\n",
              " 204336469,\n",
              " 205379000,\n",
              " 206425071,\n",
              " 207474688,\n",
              " 208527857,\n",
              " 209584584,\n",
              " 210644875,\n",
              " 211708736,\n",
              " 212776173,\n",
              " 213847192,\n",
              " 214921799]"
            ]
          },
          "metadata": {},
          "execution_count": 58
        }
      ]
    },
    {
      "cell_type": "code",
      "execution_count": 59,
      "metadata": {
        "id": "eDXDQ1tVgRgJ"
      },
      "outputs": [],
      "source": [
        "#generator \n",
        "def test5(n):\n",
        "    for i in range(n):\n",
        "        yield  i**3"
      ]
    },
    {
      "cell_type": "code",
      "execution_count": 60,
      "metadata": {
        "colab": {
          "base_uri": "https://localhost:8080/"
        },
        "id": "WPgLOP04gRgJ",
        "outputId": "480e00e9-4359-45d1-b222-3d1bd0916e8e"
      },
      "outputs": [
        {
          "output_type": "execute_result",
          "data": {
            "text/plain": [
              "<generator object test5 at 0x7fd47f5712d0>"
            ]
          },
          "metadata": {},
          "execution_count": 60
        }
      ],
      "source": [
        "test5(30)"
      ]
    },
    {
      "cell_type": "code",
      "execution_count": null,
      "metadata": {
        "id": "PQZ1vePWgRgK",
        "outputId": "c75073bd-6568-4f8b-fc73-57e33d0b47f7"
      },
      "outputs": [
        {
          "data": {
            "text/plain": [
              "range(0, 20)"
            ]
          },
          "execution_count": 101,
          "metadata": {},
          "output_type": "execute_result"
        }
      ],
      "source": [
        "range(20)"
      ]
    },
    {
      "cell_type": "code",
      "execution_count": 62,
      "metadata": {
        "colab": {
          "base_uri": "https://localhost:8080/"
        },
        "id": "CUgjdwBlgRgK",
        "outputId": "95aaeb27-9cb9-499c-ca46-77dceb67a5c9"
      },
      "outputs": [
        {
          "output_type": "execute_result",
          "data": {
            "text/plain": [
              "[0, 1, 2, 3, 4, 5, 6, 7, 8, 9, 10, 11, 12, 13, 14, 15, 16, 17, 18, 19]"
            ]
          },
          "metadata": {},
          "execution_count": 62
        }
      ],
      "source": [
        "list(range(20))"
      ]
    },
    {
      "cell_type": "code",
      "execution_count": 63,
      "metadata": {
        "colab": {
          "base_uri": "https://localhost:8080/"
        },
        "id": "etWBNbnwgRgK",
        "outputId": "e7ccc08c-b641-46c7-c8c1-0718fc0727d1"
      },
      "outputs": [
        {
          "output_type": "stream",
          "name": "stdout",
          "text": [
            "0\n",
            "1\n",
            "2\n",
            "3\n",
            "4\n",
            "5\n",
            "6\n",
            "7\n",
            "8\n",
            "9\n",
            "10\n",
            "11\n",
            "12\n",
            "13\n",
            "14\n",
            "15\n",
            "16\n",
            "17\n",
            "18\n",
            "19\n"
          ]
        }
      ],
      "source": [
        "for i in range(20):\n",
        "    print(i)"
      ]
    }
  ],
  "metadata": {
    "kernelspec": {
      "display_name": "Python 3",
      "language": "python",
      "name": "python3"
    },
    "language_info": {
      "codemirror_mode": {
        "name": "ipython",
        "version": 3
      },
      "file_extension": ".py",
      "mimetype": "text/x-python",
      "name": "python",
      "nbconvert_exporter": "python",
      "pygments_lexer": "ipython3",
      "version": "3.8.3"
    },
    "colab": {
      "name": "Function and files.ipynb",
      "provenance": []
    }
  },
  "nbformat": 4,
  "nbformat_minor": 0
}