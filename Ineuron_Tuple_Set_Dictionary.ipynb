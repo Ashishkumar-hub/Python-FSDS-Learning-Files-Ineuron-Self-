{
  "cells": [
    {
      "cell_type": "code",
      "execution_count": 1,
      "metadata": {
        "id": "PUIk42DnT2oB"
      },
      "outputs": [],
      "source": [
        "t = ()"
      ]
    },
    {
      "cell_type": "code",
      "execution_count": 2,
      "metadata": {
        "colab": {
          "base_uri": "https://localhost:8080/"
        },
        "id": "r1Pf9KxAT2oH",
        "outputId": "39c69b92-d67d-48e8-809e-367526bfa9cf"
      },
      "outputs": [
        {
          "output_type": "execute_result",
          "data": {
            "text/plain": [
              "tuple"
            ]
          },
          "metadata": {},
          "execution_count": 2
        }
      ],
      "source": [
        "type(t)"
      ]
    },
    {
      "cell_type": "code",
      "execution_count": 3,
      "metadata": {
        "colab": {
          "base_uri": "https://localhost:8080/"
        },
        "id": "Zd1m4mxtT2oJ",
        "outputId": "eba4efb1-7678-471b-d96c-d519e597f8e9"
      },
      "outputs": [
        {
          "output_type": "execute_result",
          "data": {
            "text/plain": [
              "list"
            ]
          },
          "metadata": {},
          "execution_count": 3
        }
      ],
      "source": [
        "l = []\n",
        "type(l)"
      ]
    },
    {
      "cell_type": "code",
      "execution_count": 4,
      "metadata": {
        "id": "XUR2t3g-T2oK"
      },
      "outputs": [],
      "source": [
        "t1 = (234,34,\"ashish\" , 3.45,True)"
      ]
    },
    {
      "cell_type": "code",
      "execution_count": 5,
      "metadata": {
        "id": "MipsoHtqT2oK"
      },
      "outputs": [],
      "source": [
        "l1 = [234,34,\"ashih\" , 3.45,True]"
      ]
    },
    {
      "cell_type": "code",
      "execution_count": 6,
      "metadata": {
        "colab": {
          "base_uri": "https://localhost:8080/"
        },
        "id": "SaRHkCJ_T2oL",
        "outputId": "9cb804a2-ac27-4f2f-b540-d622b7710619"
      },
      "outputs": [
        {
          "output_type": "execute_result",
          "data": {
            "text/plain": [
              "(234, 34, 'ashish', 3.45)"
            ]
          },
          "metadata": {},
          "execution_count": 6
        }
      ],
      "source": [
        "t1[0:4]"
      ]
    },
    {
      "cell_type": "code",
      "execution_count": 7,
      "metadata": {
        "colab": {
          "base_uri": "https://localhost:8080/"
        },
        "id": "Dm9HxfTcT2oM",
        "outputId": "e2e4f4ed-2b88-452c-ac3b-f55fbbdfaec3"
      },
      "outputs": [
        {
          "output_type": "execute_result",
          "data": {
            "text/plain": [
              "(True, 3.45, 'ashish', 34, 234)"
            ]
          },
          "metadata": {},
          "execution_count": 7
        }
      ],
      "source": [
        "t1[::-1]"
      ]
    },
    {
      "cell_type": "code",
      "execution_count": 8,
      "metadata": {
        "colab": {
          "base_uri": "https://localhost:8080/"
        },
        "id": "NJJlQvyUT2oN",
        "outputId": "e79b12ff-8f86-4384-d869-54d03bd4841d"
      },
      "outputs": [
        {
          "output_type": "execute_result",
          "data": {
            "text/plain": [
              "True"
            ]
          },
          "metadata": {},
          "execution_count": 8
        }
      ],
      "source": [
        "t1[-1]"
      ]
    },
    {
      "cell_type": "code",
      "execution_count": 9,
      "metadata": {
        "id": "-IVjSPZCT2oO"
      },
      "outputs": [],
      "source": [
        "l1[0] = \"kumar\""
      ]
    },
    {
      "cell_type": "code",
      "execution_count": 10,
      "metadata": {
        "colab": {
          "base_uri": "https://localhost:8080/"
        },
        "id": "zzp-W0q9T2oP",
        "outputId": "d51a0f8b-3718-4e5e-82c8-c52b36b4b442"
      },
      "outputs": [
        {
          "output_type": "execute_result",
          "data": {
            "text/plain": [
              "['kumar', 34, 'ashih', 3.45, True]"
            ]
          },
          "metadata": {},
          "execution_count": 10
        }
      ],
      "source": [
        "l1"
      ]
    },
    {
      "cell_type": "code",
      "execution_count": 11,
      "metadata": {
        "colab": {
          "base_uri": "https://localhost:8080/"
        },
        "id": "42X-3dzWT2oP",
        "outputId": "40c08298-5b1d-40cd-cf0f-9077dc25d9f4"
      },
      "outputs": [
        {
          "output_type": "execute_result",
          "data": {
            "text/plain": [
              "(234, 34, 'ashish', 3.45, True)"
            ]
          },
          "metadata": {},
          "execution_count": 11
        }
      ],
      "source": [
        "t1"
      ]
    },
    {
      "cell_type": "code",
      "execution_count": 12,
      "metadata": {
        "colab": {
          "base_uri": "https://localhost:8080/",
          "height": 165
        },
        "id": "0NoR6cMCT2oQ",
        "outputId": "9cfe88a2-2e2b-4683-d954-c0d55a0bbc29"
      },
      "outputs": [
        {
          "output_type": "error",
          "ename": "TypeError",
          "evalue": "ignored",
          "traceback": [
            "\u001b[0;31m---------------------------------------------------------------------------\u001b[0m",
            "\u001b[0;31mTypeError\u001b[0m                                 Traceback (most recent call last)",
            "\u001b[0;32m<ipython-input-12-de2369803a3c>\u001b[0m in \u001b[0;36m<module>\u001b[0;34m()\u001b[0m\n\u001b[0;32m----> 1\u001b[0;31m \u001b[0mt1\u001b[0m\u001b[0;34m[\u001b[0m\u001b[0;36m0\u001b[0m\u001b[0;34m]\u001b[0m \u001b[0;34m=\u001b[0m \u001b[0;34m\"dsdfdf\"\u001b[0m\u001b[0;34m\u001b[0m\u001b[0;34m\u001b[0m\u001b[0m\n\u001b[0m",
            "\u001b[0;31mTypeError\u001b[0m: 'tuple' object does not support item assignment"
          ]
        }
      ],
      "source": [
        "t1[0] = \"dsdfdf\" #immutable     "
      ]
    },
    {
      "cell_type": "code",
      "execution_count": 13,
      "metadata": {
        "id": "3iC9C5sVT2oQ"
      },
      "outputs": [],
      "source": [
        "t2 = (234,54,565)"
      ]
    },
    {
      "cell_type": "code",
      "execution_count": 14,
      "metadata": {
        "colab": {
          "base_uri": "https://localhost:8080/"
        },
        "id": "Yul9tn0NT2oR",
        "outputId": "0313b224-1b34-4f5a-ef53-232a8b4eef14"
      },
      "outputs": [
        {
          "output_type": "execute_result",
          "data": {
            "text/plain": [
              "(234, 34, 'ashish', 3.45, True, 234, 54, 565)"
            ]
          },
          "metadata": {},
          "execution_count": 14
        }
      ],
      "source": [
        "t1+t2"
      ]
    },
    {
      "cell_type": "code",
      "execution_count": 15,
      "metadata": {
        "colab": {
          "base_uri": "https://localhost:8080/"
        },
        "id": "qjl9rzqmT2oS",
        "outputId": "850a6057-93a2-4c68-c49f-cb44858e96a6"
      },
      "outputs": [
        {
          "output_type": "execute_result",
          "data": {
            "text/plain": [
              "(234,\n",
              " 34,\n",
              " 'ashish',\n",
              " 3.45,\n",
              " True,\n",
              " 234,\n",
              " 34,\n",
              " 'ashish',\n",
              " 3.45,\n",
              " True,\n",
              " 234,\n",
              " 34,\n",
              " 'ashish',\n",
              " 3.45,\n",
              " True,\n",
              " 234,\n",
              " 34,\n",
              " 'ashish',\n",
              " 3.45,\n",
              " True)"
            ]
          },
          "metadata": {},
          "execution_count": 15
        }
      ],
      "source": [
        "t1*4"
      ]
    },
    {
      "cell_type": "code",
      "execution_count": 16,
      "metadata": {
        "colab": {
          "base_uri": "https://localhost:8080/"
        },
        "id": "5thBCnm8T2oS",
        "outputId": "63f3fe0c-488a-4659-e95b-9c3b137e3dc8"
      },
      "outputs": [
        {
          "output_type": "execute_result",
          "data": {
            "text/plain": [
              "(234, 34, 'ashish', 3.45, True)"
            ]
          },
          "metadata": {},
          "execution_count": 16
        }
      ],
      "source": [
        "t1"
      ]
    },
    {
      "cell_type": "code",
      "execution_count": 17,
      "metadata": {
        "colab": {
          "base_uri": "https://localhost:8080/"
        },
        "id": "dz6xdzX7T2oS",
        "outputId": "07f4422e-5f86-44b0-a27d-130be8decade"
      },
      "outputs": [
        {
          "output_type": "execute_result",
          "data": {
            "text/plain": [
              "True"
            ]
          },
          "metadata": {},
          "execution_count": 17
        }
      ],
      "source": [
        "34 in t1"
      ]
    },
    {
      "cell_type": "code",
      "execution_count": 18,
      "metadata": {
        "colab": {
          "base_uri": "https://localhost:8080/"
        },
        "id": "MyR_ml_ET2oT",
        "outputId": "ccb53cac-4e7d-4e73-a07a-450c13155b32"
      },
      "outputs": [
        {
          "output_type": "execute_result",
          "data": {
            "text/plain": [
              "False"
            ]
          },
          "metadata": {},
          "execution_count": 18
        }
      ],
      "source": [
        "\"fdsfds\" in t1"
      ]
    },
    {
      "cell_type": "code",
      "execution_count": 19,
      "metadata": {
        "colab": {
          "base_uri": "https://localhost:8080/"
        },
        "id": "joNELTuqT2oT",
        "outputId": "fc340a34-e966-46e4-cd82-77140f2bb528"
      },
      "outputs": [
        {
          "output_type": "execute_result",
          "data": {
            "text/plain": [
              "(234, 34, 'ashish', 3.45, True)"
            ]
          },
          "metadata": {},
          "execution_count": 19
        }
      ],
      "source": [
        "t1"
      ]
    },
    {
      "cell_type": "code",
      "execution_count": 20,
      "metadata": {
        "colab": {
          "base_uri": "https://localhost:8080/",
          "height": 165
        },
        "id": "X48IHKB2T2oU",
        "outputId": "c2c7dfca-a8c4-4ac8-977d-f6c066715403"
      },
      "outputs": [
        {
          "output_type": "error",
          "ename": "TypeError",
          "evalue": "ignored",
          "traceback": [
            "\u001b[0;31m---------------------------------------------------------------------------\u001b[0m",
            "\u001b[0;31mTypeError\u001b[0m                                 Traceback (most recent call last)",
            "\u001b[0;32m<ipython-input-20-07c1bf72392e>\u001b[0m in \u001b[0;36m<module>\u001b[0;34m()\u001b[0m\n\u001b[0;32m----> 1\u001b[0;31m \u001b[0mmax\u001b[0m\u001b[0;34m(\u001b[0m\u001b[0mt1\u001b[0m\u001b[0;34m)\u001b[0m\u001b[0;34m\u001b[0m\u001b[0;34m\u001b[0m\u001b[0m\n\u001b[0m",
            "\u001b[0;31mTypeError\u001b[0m: '>' not supported between instances of 'str' and 'int'"
          ]
        }
      ],
      "source": [
        "max(t1)"
      ]
    },
    {
      "cell_type": "code",
      "execution_count": 21,
      "metadata": {
        "id": "CF0jTlbXT2oU"
      },
      "outputs": [],
      "source": [
        "t3 = (23,343,45,454,54)"
      ]
    },
    {
      "cell_type": "code",
      "execution_count": 22,
      "metadata": {
        "colab": {
          "base_uri": "https://localhost:8080/"
        },
        "id": "zxza1uhHT2oV",
        "outputId": "272f7568-53bb-4639-de8c-227256fdfafb"
      },
      "outputs": [
        {
          "output_type": "execute_result",
          "data": {
            "text/plain": [
              "454"
            ]
          },
          "metadata": {},
          "execution_count": 22
        }
      ],
      "source": [
        "max(t3)"
      ]
    },
    {
      "cell_type": "code",
      "execution_count": 23,
      "metadata": {
        "id": "7UcDQMc7T2oV"
      },
      "outputs": [],
      "source": [
        "t4 = (\"fsdf\",\"Fsdf\",\"fsd\")"
      ]
    },
    {
      "cell_type": "code",
      "execution_count": 24,
      "metadata": {
        "colab": {
          "base_uri": "https://localhost:8080/",
          "height": 35
        },
        "id": "NrZtSkycT2oW",
        "outputId": "f7d9f45a-a554-423b-c527-69a2810ef2ca"
      },
      "outputs": [
        {
          "output_type": "execute_result",
          "data": {
            "application/vnd.google.colaboratory.intrinsic+json": {
              "type": "string"
            },
            "text/plain": [
              "'fsdf'"
            ]
          },
          "metadata": {},
          "execution_count": 24
        }
      ],
      "source": [
        "max(t4)"
      ]
    },
    {
      "cell_type": "code",
      "execution_count": 25,
      "metadata": {
        "id": "41NY62B2T2oW"
      },
      "outputs": [],
      "source": [
        "t1 =(234, 34, 'sudh', 3.45,34,34,34, True)"
      ]
    },
    {
      "cell_type": "code",
      "execution_count": 26,
      "metadata": {
        "colab": {
          "base_uri": "https://localhost:8080/"
        },
        "id": "YjLTosSJT2oW",
        "outputId": "0a691c96-11cc-4820-cc4a-fbeb5eec20c5"
      },
      "outputs": [
        {
          "output_type": "execute_result",
          "data": {
            "text/plain": [
              "1"
            ]
          },
          "metadata": {},
          "execution_count": 26
        }
      ],
      "source": [
        "t1.index(34)"
      ]
    },
    {
      "cell_type": "code",
      "execution_count": 27,
      "metadata": {
        "colab": {
          "base_uri": "https://localhost:8080/"
        },
        "id": "LRrKbGQzT2oW",
        "outputId": "14b3965c-a878-459f-ba12-270ca82bc542"
      },
      "outputs": [
        {
          "output_type": "execute_result",
          "data": {
            "text/plain": [
              "4"
            ]
          },
          "metadata": {},
          "execution_count": 27
        }
      ],
      "source": [
        "t1.count(34)"
      ]
    },
    {
      "cell_type": "code",
      "execution_count": 28,
      "metadata": {
        "colab": {
          "base_uri": "https://localhost:8080/"
        },
        "id": "tQzs8TUzT2oX",
        "outputId": "fb1bcc31-1d77-4917-bd5e-43bc8ef22831"
      },
      "outputs": [
        {
          "output_type": "execute_result",
          "data": {
            "text/plain": [
              "['kumar', 34, 'ashih', 3.45, True]"
            ]
          },
          "metadata": {},
          "execution_count": 28
        }
      ],
      "source": [
        "l1"
      ]
    },
    {
      "cell_type": "code",
      "execution_count": 34,
      "metadata": {
        "colab": {
          "base_uri": "https://localhost:8080/"
        },
        "id": "C_o56CG1T2oX",
        "outputId": "a99e1914-49fa-4bd8-be69-a390a13c3976"
      },
      "outputs": [
        {
          "output_type": "execute_result",
          "data": {
            "text/plain": [
              "4"
            ]
          },
          "metadata": {},
          "execution_count": 34
        }
      ],
      "source": [
        "l1.index(True)"
      ]
    },
    {
      "cell_type": "code",
      "execution_count": 35,
      "metadata": {
        "colab": {
          "base_uri": "https://localhost:8080/"
        },
        "id": "e76ZEdXST2oX",
        "outputId": "6077ba3b-ffe1-4230-e9d5-fdec2b8c7363"
      },
      "outputs": [
        {
          "output_type": "execute_result",
          "data": {
            "text/plain": [
              "(234, 34, 'sudh', 3.45, 34, 34, 34, True)"
            ]
          },
          "metadata": {},
          "execution_count": 35
        }
      ],
      "source": [
        "t1"
      ]
    },
    {
      "cell_type": "code",
      "execution_count": 36,
      "metadata": {
        "colab": {
          "base_uri": "https://localhost:8080/",
          "height": 165
        },
        "id": "rmr9TGfET2oY",
        "outputId": "bf6dc0e8-b208-48c6-df7a-b137f086e9a7"
      },
      "outputs": [
        {
          "output_type": "error",
          "ename": "TypeError",
          "evalue": "ignored",
          "traceback": [
            "\u001b[0;31m---------------------------------------------------------------------------\u001b[0m",
            "\u001b[0;31mTypeError\u001b[0m                                 Traceback (most recent call last)",
            "\u001b[0;32m<ipython-input-36-e8166676ab5b>\u001b[0m in \u001b[0;36m<module>\u001b[0;34m()\u001b[0m\n\u001b[0;32m----> 1\u001b[0;31m \u001b[0mmin\u001b[0m\u001b[0;34m(\u001b[0m\u001b[0mt1\u001b[0m\u001b[0;34m)\u001b[0m\u001b[0;34m\u001b[0m\u001b[0;34m\u001b[0m\u001b[0m\n\u001b[0m",
            "\u001b[0;31mTypeError\u001b[0m: '<' not supported between instances of 'str' and 'int'"
          ]
        }
      ],
      "source": [
        "min(t1)"
      ]
    },
    {
      "cell_type": "code",
      "execution_count": 37,
      "metadata": {
        "colab": {
          "base_uri": "https://localhost:8080/"
        },
        "id": "RJB4V2ecT2oY",
        "outputId": "ce1b7169-a84a-44e7-f970-f8fc30b7910c"
      },
      "outputs": [
        {
          "output_type": "execute_result",
          "data": {
            "text/plain": [
              "(23, 343, 45, 454, 54)"
            ]
          },
          "metadata": {},
          "execution_count": 37
        }
      ],
      "source": [
        "t3"
      ]
    },
    {
      "cell_type": "code",
      "execution_count": 38,
      "metadata": {
        "colab": {
          "base_uri": "https://localhost:8080/"
        },
        "id": "GyuAazUxT2oY",
        "outputId": "e9af2d63-3b51-47ee-9676-7a41945db8b4"
      },
      "outputs": [
        {
          "output_type": "execute_result",
          "data": {
            "text/plain": [
              "23"
            ]
          },
          "metadata": {},
          "execution_count": 38
        }
      ],
      "source": [
        "min(t3)"
      ]
    },
    {
      "cell_type": "code",
      "execution_count": 39,
      "metadata": {
        "colab": {
          "base_uri": "https://localhost:8080/",
          "height": 35
        },
        "id": "Cgux84flT2oY",
        "outputId": "dbab1e86-6ca7-451c-93cd-4dec84631f78"
      },
      "outputs": [
        {
          "output_type": "execute_result",
          "data": {
            "application/vnd.google.colaboratory.intrinsic+json": {
              "type": "string"
            },
            "text/plain": [
              "'Fsdf'"
            ]
          },
          "metadata": {},
          "execution_count": 39
        }
      ],
      "source": [
        "min(t4)"
      ]
    },
    {
      "cell_type": "code",
      "execution_count": 40,
      "metadata": {
        "colab": {
          "base_uri": "https://localhost:8080/"
        },
        "id": "ittFTMGkT2oZ",
        "outputId": "093631b7-6a40-4a45-9d72-2847d7d03c14"
      },
      "outputs": [
        {
          "output_type": "execute_result",
          "data": {
            "text/plain": [
              "()"
            ]
          },
          "metadata": {},
          "execution_count": 40
        }
      ],
      "source": [
        "t"
      ]
    },
    {
      "cell_type": "code",
      "execution_count": 41,
      "metadata": {
        "colab": {
          "base_uri": "https://localhost:8080/"
        },
        "id": "VQ8I_-E1T2oZ",
        "outputId": "64673634-6611-4fbf-ab2e-fd50edbb4e54"
      },
      "outputs": [
        {
          "output_type": "execute_result",
          "data": {
            "text/plain": [
              "(234, 34, 'sudh', 3.45, 34, 34, 34, True)"
            ]
          },
          "metadata": {},
          "execution_count": 41
        }
      ],
      "source": [
        "t1"
      ]
    },
    {
      "cell_type": "code",
      "execution_count": 42,
      "metadata": {
        "id": "PV7IELeoT2oZ"
      },
      "outputs": [],
      "source": [
        "t5 =(90,45)"
      ]
    },
    {
      "cell_type": "code",
      "execution_count": 43,
      "metadata": {
        "colab": {
          "base_uri": "https://localhost:8080/"
        },
        "id": "29FWXu35T2oZ",
        "outputId": "df920203-6975-4a02-dd71-3eba07754547"
      },
      "outputs": [
        {
          "output_type": "execute_result",
          "data": {
            "text/plain": [
              "(234, 34, 'sudh', 3.45, 34, 34, 34, True, 90, 45)"
            ]
          },
          "metadata": {},
          "execution_count": 43
        }
      ],
      "source": [
        "t1+t5"
      ]
    },
    {
      "cell_type": "code",
      "execution_count": 44,
      "metadata": {
        "id": "RCIO0HuJT2oa"
      },
      "outputs": [],
      "source": [
        "t6= 56"
      ]
    },
    {
      "cell_type": "code",
      "execution_count": 45,
      "metadata": {
        "id": "qcU-SS21T2oa"
      },
      "outputs": [],
      "source": [
        "l5 = list(t1)"
      ]
    },
    {
      "cell_type": "code",
      "execution_count": 46,
      "metadata": {
        "id": "GpxAwZbYT2oa"
      },
      "outputs": [],
      "source": [
        "l5.insert(3,t6)"
      ]
    },
    {
      "cell_type": "code",
      "execution_count": 47,
      "metadata": {
        "colab": {
          "base_uri": "https://localhost:8080/"
        },
        "id": "JmiWGZTBT2oa",
        "outputId": "2fbf511c-5c55-4974-d7cc-791cba38f6eb"
      },
      "outputs": [
        {
          "output_type": "execute_result",
          "data": {
            "text/plain": [
              "[234, 34, 'sudh', 56, 3.45, 34, 34, 34, True]"
            ]
          },
          "metadata": {},
          "execution_count": 47
        }
      ],
      "source": [
        "l5"
      ]
    },
    {
      "cell_type": "code",
      "execution_count": 48,
      "metadata": {
        "colab": {
          "base_uri": "https://localhost:8080/"
        },
        "id": "sTx766xzT2oa",
        "outputId": "043f6298-bbd2-4e57-db35-b96fe279b0c1"
      },
      "outputs": [
        {
          "output_type": "execute_result",
          "data": {
            "text/plain": [
              "(234, 34, 'sudh', 56, 3.45, 34, 34, 34, True)"
            ]
          },
          "metadata": {},
          "execution_count": 48
        }
      ],
      "source": [
        "tuple(l5)"
      ]
    },
    {
      "cell_type": "code",
      "execution_count": 51,
      "metadata": {
        "id": "QaGa3EQqT2ob"
      },
      "outputs": [],
      "source": [
        "t = ((3,4,5,6,7) , (\"sdfsd\",45,45) , (\"454\",54) , 45, 454, 67, [4,5,6,7,7])"
      ]
    },
    {
      "cell_type": "code",
      "execution_count": 52,
      "metadata": {
        "colab": {
          "base_uri": "https://localhost:8080/"
        },
        "id": "3dK2uYd6T2ob",
        "outputId": "15e6f125-0322-4b93-ae70-5a48fd575421"
      },
      "outputs": [
        {
          "output_type": "execute_result",
          "data": {
            "text/plain": [
              "[5, 6, 7]"
            ]
          },
          "metadata": {},
          "execution_count": 52
        }
      ],
      "source": [
        "t[6][1:4]"
      ]
    },
    {
      "cell_type": "code",
      "execution_count": 53,
      "metadata": {
        "colab": {
          "base_uri": "https://localhost:8080/",
          "height": 35
        },
        "id": "CuRgtY_ST2ob",
        "outputId": "e9696b69-ecf7-4997-efad-b6f442ef57b9"
      },
      "outputs": [
        {
          "output_type": "execute_result",
          "data": {
            "application/vnd.google.colaboratory.intrinsic+json": {
              "type": "string"
            },
            "text/plain": [
              "'sdfsd'"
            ]
          },
          "metadata": {},
          "execution_count": 53
        }
      ],
      "source": [
        "t[1][0]"
      ]
    },
    {
      "cell_type": "code",
      "execution_count": 54,
      "metadata": {
        "colab": {
          "base_uri": "https://localhost:8080/"
        },
        "id": "SgAK8DVdT2ob",
        "outputId": "5bd3b811-c5a0-48c5-88bb-1273b0ea60a5"
      },
      "outputs": [
        {
          "output_type": "stream",
          "name": "stdout",
          "text": [
            "(3, 4, 5, 6, 7)\n",
            "('sdfsd', 45, 45)\n",
            "('454', 54)\n",
            "45\n",
            "454\n",
            "67\n",
            "[4, 5, 6, 7, 7]\n"
          ]
        }
      ],
      "source": [
        "for i in t :\n",
        "    print(i)"
      ]
    },
    {
      "cell_type": "code",
      "execution_count": 55,
      "metadata": {
        "colab": {
          "base_uri": "https://localhost:8080/"
        },
        "id": "x38Zw5UoT2oc",
        "outputId": "5eb0cb1e-d524-4a17-b1e9-27ecc609f14e"
      },
      "outputs": [
        {
          "output_type": "stream",
          "name": "stdout",
          "text": [
            "3\n",
            "sdfsd\n",
            "454\n"
          ]
        }
      ],
      "source": [
        "for i in t :\n",
        "    if type(i)==tuple :\n",
        "        print(i[0])"
      ]
    },
    {
      "cell_type": "code",
      "execution_count": 56,
      "metadata": {
        "colab": {
          "base_uri": "https://localhost:8080/"
        },
        "id": "WYQO2vawT2oc",
        "outputId": "cde43501-1c60-4bde-b0b4-df20f4447093"
      },
      "outputs": [
        {
          "output_type": "execute_result",
          "data": {
            "text/plain": [
              "(234, 34, 'sudh', 3.45, 34, 34, 34, True)"
            ]
          },
          "metadata": {},
          "execution_count": 56
        }
      ],
      "source": [
        "t1 "
      ]
    },
    {
      "cell_type": "code",
      "execution_count": 57,
      "metadata": {
        "colab": {
          "base_uri": "https://localhost:8080/"
        },
        "id": "bUSQqI8eT2oc",
        "outputId": "cb2adb58-971f-4211-bb64-e5da77e5d0d8"
      },
      "outputs": [
        {
          "output_type": "execute_result",
          "data": {
            "text/plain": [
              "(234, 54, 565)"
            ]
          },
          "metadata": {},
          "execution_count": 57
        }
      ],
      "source": [
        "t2"
      ]
    },
    {
      "cell_type": "code",
      "execution_count": 58,
      "metadata": {
        "colab": {
          "base_uri": "https://localhost:8080/"
        },
        "id": "xTrQheBrT2od",
        "outputId": "9175d329-1c7a-4afc-d37e-1d7130677c4b"
      },
      "outputs": [
        {
          "output_type": "stream",
          "name": "stdout",
          "text": [
            "not same \n"
          ]
        }
      ],
      "source": [
        "if len(t1) == len(t2):\n",
        "    print(\"its same \")\n",
        "else :\n",
        "    print(\"not same \")"
      ]
    },
    {
      "cell_type": "code",
      "execution_count": 59,
      "metadata": {
        "id": "LUWFmvD2T2od"
      },
      "outputs": [],
      "source": [
        "t = (234, 34, 'ashiishh', 3.45, 34, 34, 34, True , \"kumar\")"
      ]
    },
    {
      "cell_type": "code",
      "execution_count": 60,
      "metadata": {
        "colab": {
          "base_uri": "https://localhost:8080/"
        },
        "id": "IdpLGEDhT2od",
        "outputId": "0895a153-2d47-44e0-ebdd-f80f75fbd3f2"
      },
      "outputs": [
        {
          "output_type": "stream",
          "name": "stdout",
          "text": [
            "take a user inputkumar\n",
            "yes your name is available \n"
          ]
        }
      ],
      "source": [
        "i = input(\"take a user input\")\n",
        "if i in t :\n",
        "    print(\"yes your name is available \")\n",
        "else :\n",
        "    print(\"your name is not available \")"
      ]
    },
    {
      "cell_type": "code",
      "execution_count": 61,
      "metadata": {
        "colab": {
          "base_uri": "https://localhost:8080/"
        },
        "id": "ZzwoiJxrT2oe",
        "outputId": "3d77f383-54f1-45c7-ee7b-ffa4fd8e8f4b"
      },
      "outputs": [
        {
          "output_type": "execute_result",
          "data": {
            "text/plain": [
              "(234, 34, 'ashiishh', 3.45, 34, 34, 34, True, 'kumar')"
            ]
          },
          "metadata": {},
          "execution_count": 61
        }
      ],
      "source": [
        "t"
      ]
    },
    {
      "cell_type": "code",
      "execution_count": 62,
      "metadata": {
        "colab": {
          "base_uri": "https://localhost:8080/"
        },
        "id": "0DOakyKaT2of",
        "outputId": "9c0a21e8-d034-46fe-c516-85e2a035cb1f"
      },
      "outputs": [
        {
          "output_type": "execute_result",
          "data": {
            "text/plain": [
              "['kumar', 34, 'ashih', 3.45, True]"
            ]
          },
          "metadata": {},
          "execution_count": 62
        }
      ],
      "source": [
        "l1"
      ]
    },
    {
      "cell_type": "code",
      "execution_count": 63,
      "metadata": {
        "id": "FK3zj_gjT2of"
      },
      "outputs": [],
      "source": [
        "t1  = (34)"
      ]
    },
    {
      "cell_type": "code",
      "execution_count": 64,
      "metadata": {
        "id": "R2XKfnFqT2of"
      },
      "outputs": [],
      "source": [
        "del(t)"
      ]
    },
    {
      "cell_type": "code",
      "execution_count": 65,
      "metadata": {
        "colab": {
          "base_uri": "https://localhost:8080/",
          "height": 165
        },
        "id": "KoV5-AVzT2of",
        "outputId": "1480a360-6c5e-47de-f411-9baa3b40781f"
      },
      "outputs": [
        {
          "output_type": "error",
          "ename": "NameError",
          "evalue": "ignored",
          "traceback": [
            "\u001b[0;31m---------------------------------------------------------------------------\u001b[0m",
            "\u001b[0;31mNameError\u001b[0m                                 Traceback (most recent call last)",
            "\u001b[0;32m<ipython-input-65-34fc7a11cb38>\u001b[0m in \u001b[0;36m<module>\u001b[0;34m()\u001b[0m\n\u001b[0;32m----> 1\u001b[0;31m \u001b[0mt\u001b[0m\u001b[0;34m\u001b[0m\u001b[0;34m\u001b[0m\u001b[0m\n\u001b[0m",
            "\u001b[0;31mNameError\u001b[0m: name 't' is not defined"
          ]
        }
      ],
      "source": [
        "t"
      ]
    },
    {
      "cell_type": "code",
      "execution_count": 66,
      "metadata": {
        "id": "3P5tJQr7T2og"
      },
      "outputs": [],
      "source": [
        "\n",
        "del(l1)"
      ]
    },
    {
      "cell_type": "code",
      "execution_count": 67,
      "metadata": {
        "colab": {
          "base_uri": "https://localhost:8080/",
          "height": 165
        },
        "id": "ZRXVKMbET2og",
        "outputId": "5d67d292-e344-4843-bd2c-32a701315147"
      },
      "outputs": [
        {
          "output_type": "error",
          "ename": "NameError",
          "evalue": "ignored",
          "traceback": [
            "\u001b[0;31m---------------------------------------------------------------------------\u001b[0m",
            "\u001b[0;31mNameError\u001b[0m                                 Traceback (most recent call last)",
            "\u001b[0;32m<ipython-input-67-6cf485bc2797>\u001b[0m in \u001b[0;36m<module>\u001b[0;34m()\u001b[0m\n\u001b[0;32m----> 1\u001b[0;31m \u001b[0ml1\u001b[0m\u001b[0;34m\u001b[0m\u001b[0;34m\u001b[0m\u001b[0m\n\u001b[0m",
            "\u001b[0;31mNameError\u001b[0m: name 'l1' is not defined"
          ]
        }
      ],
      "source": [
        "l1"
      ]
    },
    {
      "cell_type": "code",
      "execution_count": 68,
      "metadata": {
        "id": "Nn6TOUpFT2og"
      },
      "outputs": [],
      "source": [
        "l = [324,343,343,34]"
      ]
    },
    {
      "cell_type": "code",
      "execution_count": 69,
      "metadata": {
        "colab": {
          "base_uri": "https://localhost:8080/"
        },
        "id": "Di__qtQaT2og",
        "outputId": "dd1e70d7-dd0e-4308-9930-9635d59c5153"
      },
      "outputs": [
        {
          "output_type": "execute_result",
          "data": {
            "text/plain": [
              "(234, 54, 565)"
            ]
          },
          "metadata": {},
          "execution_count": 69
        }
      ],
      "source": [
        "t2"
      ]
    },
    {
      "cell_type": "code",
      "execution_count": 70,
      "metadata": {
        "id": "yC1T6h7mT2oh"
      },
      "outputs": [],
      "source": [
        "x = set()"
      ]
    },
    {
      "cell_type": "code",
      "execution_count": 71,
      "metadata": {
        "colab": {
          "base_uri": "https://localhost:8080/"
        },
        "id": "7yAD01f4T2oh",
        "outputId": "106e26cb-dca0-42ee-9e0a-e4f80160afae"
      },
      "outputs": [
        {
          "output_type": "execute_result",
          "data": {
            "text/plain": [
              "set"
            ]
          },
          "metadata": {},
          "execution_count": 71
        }
      ],
      "source": [
        "type(x)"
      ]
    },
    {
      "cell_type": "code",
      "execution_count": 73,
      "metadata": {
        "id": "DdRLw0OHT2oh"
      },
      "outputs": [],
      "source": [
        "l = [34,45,45,45,45,67,34,56,78,\"ashu\",\"ashu\",\"ashu\",\"kumar\" ,45,454545454,545,4545,545 , [3,45,6]]"
      ]
    },
    {
      "cell_type": "code",
      "execution_count": 76,
      "metadata": {
        "colab": {
          "base_uri": "https://localhost:8080/",
          "height": 165
        },
        "id": "cw4tpaQBT2oh",
        "outputId": "a3ded559-0b50-406e-e321-447d2193a13b"
      },
      "outputs": [
        {
          "output_type": "error",
          "ename": "TypeError",
          "evalue": "ignored",
          "traceback": [
            "\u001b[0;31m---------------------------------------------------------------------------\u001b[0m",
            "\u001b[0;31mTypeError\u001b[0m                                 Traceback (most recent call last)",
            "\u001b[0;32m<ipython-input-76-3c7060e5ad20>\u001b[0m in \u001b[0;36m<module>\u001b[0;34m()\u001b[0m\n\u001b[0;32m----> 1\u001b[0;31m \u001b[0ms\u001b[0m \u001b[0;34m=\u001b[0m \u001b[0mset\u001b[0m\u001b[0;34m(\u001b[0m\u001b[0ml\u001b[0m\u001b[0;34m)\u001b[0m\u001b[0;34m\u001b[0m\u001b[0;34m\u001b[0m\u001b[0m\n\u001b[0m",
            "\u001b[0;31mTypeError\u001b[0m: unhashable type: 'list'"
          ]
        }
      ],
      "source": [
        "s = set(l)"
      ]
    },
    {
      "cell_type": "code",
      "execution_count": 78,
      "metadata": {
        "id": "nUcEFyqUT2oh"
      },
      "outputs": [],
      "source": [
        "s = [1,1,1,1,1,1,2,3,4,5,6,7,\"ashish\",\"ashu\",\"ashish\"]"
      ]
    },
    {
      "cell_type": "code",
      "execution_count": 79,
      "metadata": {
        "colab": {
          "base_uri": "https://localhost:8080/"
        },
        "id": "nSuD8g27T2oi",
        "outputId": "66d9beb6-7029-436c-da8f-850c11de7225"
      },
      "outputs": [
        {
          "output_type": "stream",
          "name": "stdout",
          "text": [
            "1\n",
            "1\n",
            "1\n",
            "1\n",
            "1\n",
            "1\n",
            "2\n",
            "3\n",
            "4\n",
            "5\n",
            "6\n",
            "7\n",
            "ashish\n",
            "ashu\n",
            "ashish\n"
          ]
        }
      ],
      "source": [
        "for i in s :\n",
        "    print(i)"
      ]
    },
    {
      "cell_type": "code",
      "execution_count": 82,
      "metadata": {
        "colab": {
          "base_uri": "https://localhost:8080/"
        },
        "id": "GI_d1xy3T2oi",
        "outputId": "ee3fc379-cdc4-4190-a605-38d4c18da9cb"
      },
      "outputs": [
        {
          "output_type": "execute_result",
          "data": {
            "text/plain": [
              "True"
            ]
          },
          "metadata": {},
          "execution_count": 82
        }
      ],
      "source": [
        "4 in s "
      ]
    },
    {
      "cell_type": "code",
      "execution_count": 83,
      "metadata": {
        "colab": {
          "base_uri": "https://localhost:8080/"
        },
        "id": "f9Gwa7yjT2oi",
        "outputId": "5d2376ce-0e70-4c73-d2cd-86da70150235"
      },
      "outputs": [
        {
          "output_type": "execute_result",
          "data": {
            "text/plain": [
              "1"
            ]
          },
          "metadata": {},
          "execution_count": 83
        }
      ],
      "source": [
        "s[0]"
      ]
    },
    {
      "cell_type": "code",
      "execution_count": 89,
      "metadata": {
        "id": "W7vxjBcXT2oi"
      },
      "outputs": [],
      "source": [
        "s = set()"
      ]
    },
    {
      "cell_type": "code",
      "source": [
        "s"
      ],
      "metadata": {
        "colab": {
          "base_uri": "https://localhost:8080/"
        },
        "id": "0eNfRJnBV_bU",
        "outputId": "f7f1c34e-4847-4c1f-fc36-d6067e24a52a"
      },
      "execution_count": 90,
      "outputs": [
        {
          "output_type": "execute_result",
          "data": {
            "text/plain": [
              "set()"
            ]
          },
          "metadata": {},
          "execution_count": 90
        }
      ]
    },
    {
      "cell_type": "code",
      "execution_count": 91,
      "metadata": {
        "id": "oXQ_UwiTT2oj"
      },
      "outputs": [],
      "source": [
        "s.add(45)"
      ]
    },
    {
      "cell_type": "code",
      "execution_count": 92,
      "metadata": {
        "colab": {
          "base_uri": "https://localhost:8080/"
        },
        "id": "bTVkKWgET2oj",
        "outputId": "5ab926e5-95df-4ce5-cba7-ebfa56561336"
      },
      "outputs": [
        {
          "output_type": "execute_result",
          "data": {
            "text/plain": [
              "{45}"
            ]
          },
          "metadata": {},
          "execution_count": 92
        }
      ],
      "source": [
        "s"
      ]
    },
    {
      "cell_type": "code",
      "execution_count": 104,
      "metadata": {
        "id": "RC8BHtVoT2oj"
      },
      "outputs": [],
      "source": [
        "s.add(\"ashuuuu\")"
      ]
    },
    {
      "cell_type": "code",
      "execution_count": 105,
      "metadata": {
        "id": "4Pszf7_zT2oj"
      },
      "outputs": [],
      "source": [
        "s.add(\"fsdfsfs\")"
      ]
    },
    {
      "cell_type": "code",
      "execution_count": 106,
      "metadata": {
        "colab": {
          "base_uri": "https://localhost:8080/",
          "height": 165
        },
        "id": "21_n26DrT2ok",
        "outputId": "7a96dfd1-58b1-4e55-a38b-02e4c4710120"
      },
      "outputs": [
        {
          "output_type": "error",
          "ename": "TypeError",
          "evalue": "ignored",
          "traceback": [
            "\u001b[0;31m---------------------------------------------------------------------------\u001b[0m",
            "\u001b[0;31mTypeError\u001b[0m                                 Traceback (most recent call last)",
            "\u001b[0;32m<ipython-input-106-27fd4cc9406d>\u001b[0m in \u001b[0;36m<module>\u001b[0;34m()\u001b[0m\n\u001b[0;32m----> 1\u001b[0;31m \u001b[0ms\u001b[0m\u001b[0;34m.\u001b[0m\u001b[0madd\u001b[0m\u001b[0;34m(\u001b[0m\u001b[0;34m[\u001b[0m\u001b[0;36m2344455\u001b[0m\u001b[0;34m,\u001b[0m\u001b[0;36m454\u001b[0m\u001b[0;34m]\u001b[0m\u001b[0;34m)\u001b[0m\u001b[0;34m\u001b[0m\u001b[0;34m\u001b[0m\u001b[0m\n\u001b[0m",
            "\u001b[0;31mTypeError\u001b[0m: unhashable type: 'list'"
          ]
        }
      ],
      "source": [
        "s.add([2344455,454])"
      ]
    },
    {
      "cell_type": "code",
      "execution_count": 107,
      "metadata": {
        "colab": {
          "base_uri": "https://localhost:8080/"
        },
        "id": "9gQlALdJT2ok",
        "outputId": "3695798b-cd7c-4c43-e6df-d324a6471287"
      },
      "outputs": [
        {
          "output_type": "execute_result",
          "data": {
            "text/plain": [
              "{'ashuuuu', 'fsdfsfs'}"
            ]
          },
          "metadata": {},
          "execution_count": 107
        }
      ],
      "source": [
        "s"
      ]
    },
    {
      "cell_type": "code",
      "execution_count": 108,
      "metadata": {
        "id": "I90VIo0dT2ok"
      },
      "outputs": [],
      "source": [
        "s.add(45)"
      ]
    },
    {
      "cell_type": "code",
      "execution_count": 109,
      "metadata": {
        "colab": {
          "base_uri": "https://localhost:8080/"
        },
        "id": "JFkzUzLfT2ok",
        "outputId": "0d4324a6-6d66-4c3c-98af-8ad98d874d24"
      },
      "outputs": [
        {
          "output_type": "execute_result",
          "data": {
            "text/plain": [
              "{45, 'ashuuuu', 'fsdfsfs'}"
            ]
          },
          "metadata": {},
          "execution_count": 109
        }
      ],
      "source": [
        "s"
      ]
    },
    {
      "cell_type": "code",
      "execution_count": 110,
      "metadata": {
        "colab": {
          "base_uri": "https://localhost:8080/"
        },
        "id": "ZIrww9KaT2ol",
        "outputId": "5abc68b1-b575-4a6e-a7f4-f52fcd2df3ee"
      },
      "outputs": [
        {
          "output_type": "execute_result",
          "data": {
            "text/plain": [
              "{45, 'ashuuuu', 'fsdfsfs'}"
            ]
          },
          "metadata": {},
          "execution_count": 110
        }
      ],
      "source": [
        "s"
      ]
    },
    {
      "cell_type": "code",
      "execution_count": 111,
      "metadata": {
        "id": "EO5F4M8gT2ol"
      },
      "outputs": [],
      "source": [
        "\n",
        "s.remove(45)"
      ]
    },
    {
      "cell_type": "code",
      "execution_count": 112,
      "metadata": {
        "colab": {
          "base_uri": "https://localhost:8080/"
        },
        "id": "GMWhDIs-T2ol",
        "outputId": "09df5029-cb63-4b49-9c60-381d0ccca897"
      },
      "outputs": [
        {
          "output_type": "execute_result",
          "data": {
            "text/plain": [
              "{'ashuuuu', 'fsdfsfs'}"
            ]
          },
          "metadata": {},
          "execution_count": 112
        }
      ],
      "source": [
        "s"
      ]
    },
    {
      "cell_type": "code",
      "execution_count": 113,
      "metadata": {
        "colab": {
          "base_uri": "https://localhost:8080/"
        },
        "id": "a_V8nOsLT2ol",
        "outputId": "05590fec-8795-4769-9e6e-f6a27ce66766"
      },
      "outputs": [
        {
          "output_type": "execute_result",
          "data": {
            "text/plain": [
              "False"
            ]
          },
          "metadata": {},
          "execution_count": 113
        }
      ],
      "source": [
        "\n",
        "45 in s"
      ]
    },
    {
      "cell_type": "code",
      "execution_count": 114,
      "metadata": {
        "id": "sLLX7ONtT2om"
      },
      "outputs": [],
      "source": [
        "s.clear()"
      ]
    },
    {
      "cell_type": "code",
      "execution_count": 115,
      "metadata": {
        "colab": {
          "base_uri": "https://localhost:8080/"
        },
        "id": "2LfY9LkUT2om",
        "outputId": "0d498856-0c8b-40aa-a70d-7ccdbb21b319"
      },
      "outputs": [
        {
          "output_type": "execute_result",
          "data": {
            "text/plain": [
              "set()"
            ]
          },
          "metadata": {},
          "execution_count": 115
        }
      ],
      "source": [
        "s"
      ]
    },
    {
      "cell_type": "code",
      "execution_count": 116,
      "metadata": {
        "colab": {
          "base_uri": "https://localhost:8080/"
        },
        "id": "EtIpEUveT2om",
        "outputId": "f1ab3d86-9a8b-413d-e7f7-504026d16034"
      },
      "outputs": [
        {
          "output_type": "execute_result",
          "data": {
            "text/plain": [
              "set()"
            ]
          },
          "metadata": {},
          "execution_count": 116
        }
      ],
      "source": [
        "s "
      ]
    },
    {
      "cell_type": "code",
      "execution_count": 117,
      "metadata": {
        "colab": {
          "base_uri": "https://localhost:8080/"
        },
        "id": "VBjkJ5BgT2om",
        "outputId": "d6455559-0109-480c-bbf8-a37434927918"
      },
      "outputs": [
        {
          "output_type": "execute_result",
          "data": {
            "text/plain": [
              "set()"
            ]
          },
          "metadata": {},
          "execution_count": 117
        }
      ],
      "source": [
        "s "
      ]
    },
    {
      "cell_type": "code",
      "execution_count": 118,
      "metadata": {
        "id": "gcGLZcruT2om"
      },
      "outputs": [],
      "source": [
        "s.add(\"sdfsd\")"
      ]
    },
    {
      "cell_type": "code",
      "execution_count": 119,
      "metadata": {
        "id": "bc4QkYazT2on"
      },
      "outputs": [],
      "source": [
        "s.add(234)"
      ]
    },
    {
      "cell_type": "code",
      "execution_count": 120,
      "metadata": {
        "id": "5X3uOILIT2on"
      },
      "outputs": [],
      "source": [
        "s.add(345)"
      ]
    },
    {
      "cell_type": "code",
      "execution_count": 121,
      "metadata": {
        "id": "oEXKr9LBT2on"
      },
      "outputs": [],
      "source": [
        "s.add(\"wer\")"
      ]
    },
    {
      "cell_type": "code",
      "execution_count": 125,
      "metadata": {
        "colab": {
          "base_uri": "https://localhost:8080/"
        },
        "id": "yThHUIemT2on",
        "outputId": "7243e299-8ad1-4af5-ae87-a0ce550d17c5"
      },
      "outputs": [
        {
          "output_type": "execute_result",
          "data": {
            "text/plain": [
              "{234, 345, 'sdfsd', 'wer'}"
            ]
          },
          "metadata": {},
          "execution_count": 125
        }
      ],
      "source": [
        "s"
      ]
    },
    {
      "cell_type": "code",
      "execution_count": 126,
      "metadata": {
        "id": "gJ8gzPZKT2on"
      },
      "outputs": [],
      "source": [
        "s1 = set(l)"
      ]
    },
    {
      "cell_type": "code",
      "execution_count": 127,
      "metadata": {
        "id": "-RR8UC5JT2oo"
      },
      "outputs": [],
      "source": [
        "l = [345,5464566,54645,6546,4654,654,6]"
      ]
    },
    {
      "cell_type": "code",
      "execution_count": 128,
      "metadata": {
        "colab": {
          "base_uri": "https://localhost:8080/"
        },
        "id": "-JJXrwupT2oo",
        "outputId": "34ab71a0-e4de-4f5b-bdbb-dc8252e98649"
      },
      "outputs": [
        {
          "output_type": "execute_result",
          "data": {
            "text/plain": [
              "{6, 345, 654, 4654, 6546, 54645, 5464566}"
            ]
          },
          "metadata": {},
          "execution_count": 128
        }
      ],
      "source": [
        "s1"
      ]
    },
    {
      "cell_type": "code",
      "execution_count": 130,
      "metadata": {
        "colab": {
          "base_uri": "https://localhost:8080/",
          "height": 165
        },
        "id": "_sAXOyM1T2oo",
        "outputId": "f8405d1f-458f-4eaa-e29b-cc432f73113f"
      },
      "outputs": [
        {
          "output_type": "error",
          "ename": "TypeError",
          "evalue": "ignored",
          "traceback": [
            "\u001b[0;31m---------------------------------------------------------------------------\u001b[0m",
            "\u001b[0;31mTypeError\u001b[0m                                 Traceback (most recent call last)",
            "\u001b[0;32m<ipython-input-130-e53cb767b11d>\u001b[0m in \u001b[0;36m<module>\u001b[0;34m()\u001b[0m\n\u001b[0;32m----> 1\u001b[0;31m \u001b[0ms\u001b[0m \u001b[0;34m+\u001b[0m \u001b[0ms1\u001b[0m\u001b[0;34m\u001b[0m\u001b[0;34m\u001b[0m\u001b[0m\n\u001b[0m",
            "\u001b[0;31mTypeError\u001b[0m: unsupported operand type(s) for +: 'set' and 'set'"
          ]
        }
      ],
      "source": [
        "s + s1"
      ]
    },
    {
      "cell_type": "code",
      "execution_count": 131,
      "metadata": {
        "colab": {
          "base_uri": "https://localhost:8080/",
          "height": 165
        },
        "id": "I4quKVG7T2oo",
        "outputId": "df5ac894-04f8-4b76-d706-e962085f26be"
      },
      "outputs": [
        {
          "output_type": "error",
          "ename": "TypeError",
          "evalue": "ignored",
          "traceback": [
            "\u001b[0;31m---------------------------------------------------------------------------\u001b[0m",
            "\u001b[0;31mTypeError\u001b[0m                                 Traceback (most recent call last)",
            "\u001b[0;32m<ipython-input-131-bfe08a66835a>\u001b[0m in \u001b[0;36m<module>\u001b[0;34m()\u001b[0m\n\u001b[0;32m----> 1\u001b[0;31m \u001b[0ms\u001b[0m \u001b[0;34m*\u001b[0m \u001b[0;36m4\u001b[0m\u001b[0;34m\u001b[0m\u001b[0;34m\u001b[0m\u001b[0m\n\u001b[0m",
            "\u001b[0;31mTypeError\u001b[0m: unsupported operand type(s) for *: 'set' and 'int'"
          ]
        }
      ],
      "source": [
        "s * 4"
      ]
    },
    {
      "cell_type": "code",
      "execution_count": 132,
      "metadata": {
        "colab": {
          "base_uri": "https://localhost:8080/"
        },
        "id": "4icRJbBZT2oo",
        "outputId": "2e242b85-fe75-42c4-8353-bc42385a8a9b"
      },
      "outputs": [
        {
          "output_type": "execute_result",
          "data": {
            "text/plain": [
              "{234, 345, 'sdfsd', 'wer'}"
            ]
          },
          "metadata": {},
          "execution_count": 132
        }
      ],
      "source": [
        "s "
      ]
    },
    {
      "cell_type": "code",
      "execution_count": 133,
      "metadata": {
        "id": "pTz3RVCRT2op"
      },
      "outputs": [],
      "source": [
        "l4 = list(s)"
      ]
    },
    {
      "cell_type": "code",
      "execution_count": 134,
      "metadata": {
        "id": "KphO6xa1T2op"
      },
      "outputs": [],
      "source": [
        "l4.append(345)"
      ]
    },
    {
      "cell_type": "code",
      "execution_count": 135,
      "metadata": {
        "colab": {
          "base_uri": "https://localhost:8080/"
        },
        "id": "q1hbBzkAT2oq",
        "outputId": "23fc4fc7-3343-4c37-db69-03a9eb708e84"
      },
      "outputs": [
        {
          "output_type": "execute_result",
          "data": {
            "text/plain": [
              "[345, 234, 'wer', 'sdfsd', 345]"
            ]
          },
          "metadata": {},
          "execution_count": 135
        }
      ],
      "source": [
        "l4"
      ]
    },
    {
      "cell_type": "code",
      "execution_count": 136,
      "metadata": {
        "id": "KNB8y8MFT2or"
      },
      "outputs": [],
      "source": [
        " t4 = tuple(s)"
      ]
    },
    {
      "cell_type": "code",
      "source": [
        "t4.count(345)"
      ],
      "metadata": {
        "colab": {
          "base_uri": "https://localhost:8080/"
        },
        "id": "sw_lwlUMWw3z",
        "outputId": "efb4e049-58f4-4844-9bbb-a3c323e87cb2"
      },
      "execution_count": 139,
      "outputs": [
        {
          "output_type": "execute_result",
          "data": {
            "text/plain": [
              "1"
            ]
          },
          "metadata": {},
          "execution_count": 139
        }
      ]
    },
    {
      "cell_type": "code",
      "execution_count": 140,
      "metadata": {
        "colab": {
          "base_uri": "https://localhost:8080/"
        },
        "id": "qwQkOpk4T2os",
        "outputId": "0da1a09c-2484-4fe1-818e-890f0fd35c47"
      },
      "outputs": [
        {
          "output_type": "execute_result",
          "data": {
            "text/plain": [
              "{234, 345, 'sdfsd', 'wer'}"
            ]
          },
          "metadata": {},
          "execution_count": 140
        }
      ],
      "source": [
        "set(t4)"
      ]
    },
    {
      "cell_type": "code",
      "execution_count": 141,
      "metadata": {
        "colab": {
          "base_uri": "https://localhost:8080/"
        },
        "id": "rGZLjR9jT2os",
        "outputId": "c4eabeb1-7244-4d9e-a783-88cb4f7dec3b"
      },
      "outputs": [
        {
          "output_type": "execute_result",
          "data": {
            "text/plain": [
              "{234, 345, 'sdfsd', 'wer'}"
            ]
          },
          "metadata": {},
          "execution_count": 141
        }
      ],
      "source": [
        "s "
      ]
    },
    {
      "cell_type": "code",
      "execution_count": 142,
      "metadata": {
        "colab": {
          "base_uri": "https://localhost:8080/",
          "height": 165
        },
        "id": "vxWmqt5xT2ot",
        "outputId": "214b1e98-7561-409d-f46e-2bcb3983a673"
      },
      "outputs": [
        {
          "output_type": "error",
          "ename": "TypeError",
          "evalue": "ignored",
          "traceback": [
            "\u001b[0;31m---------------------------------------------------------------------------\u001b[0m",
            "\u001b[0;31mTypeError\u001b[0m                                 Traceback (most recent call last)",
            "\u001b[0;32m<ipython-input-142-0b3feb6a5a72>\u001b[0m in \u001b[0;36m<module>\u001b[0;34m()\u001b[0m\n\u001b[0;32m----> 1\u001b[0;31m \u001b[0ms\u001b[0m\u001b[0;34m[\u001b[0m\u001b[0;36m0\u001b[0m\u001b[0;34m]\u001b[0m \u001b[0;34m=\u001b[0m \u001b[0;34m\"fsdfs\"\u001b[0m\u001b[0;34m\u001b[0m\u001b[0;34m\u001b[0m\u001b[0m\n\u001b[0m",
            "\u001b[0;31mTypeError\u001b[0m: 'set' object does not support item assignment"
          ]
        }
      ],
      "source": [
        "s[0] = \"fsdfs\""
      ]
    },
    {
      "cell_type": "code",
      "execution_count": 143,
      "metadata": {
        "id": "v0B-evPpT2ot"
      },
      "outputs": [],
      "source": [
        "x = {}"
      ]
    },
    {
      "cell_type": "code",
      "execution_count": 144,
      "metadata": {
        "colab": {
          "base_uri": "https://localhost:8080/"
        },
        "id": "-92426c0T2ot",
        "outputId": "70a1a254-da48-4f00-9a70-c45560124648"
      },
      "outputs": [
        {
          "output_type": "execute_result",
          "data": {
            "text/plain": [
              "dict"
            ]
          },
          "metadata": {},
          "execution_count": 144
        }
      ],
      "source": [
        "type(x)"
      ]
    },
    {
      "cell_type": "code",
      "execution_count": 145,
      "metadata": {
        "id": "YfxkD3b9T2ou"
      },
      "outputs": [],
      "source": [
        "x1 = {34,56}"
      ]
    },
    {
      "cell_type": "code",
      "execution_count": 146,
      "metadata": {
        "colab": {
          "base_uri": "https://localhost:8080/"
        },
        "id": "1NKubR06T2ou",
        "outputId": "da378baa-2b76-42d7-ca6d-43ecf3348b93"
      },
      "outputs": [
        {
          "output_type": "execute_result",
          "data": {
            "text/plain": [
              "set"
            ]
          },
          "metadata": {},
          "execution_count": 146
        }
      ],
      "source": [
        "type(x1)"
      ]
    },
    {
      "cell_type": "code",
      "execution_count": 149,
      "metadata": {
        "id": "lbDM258PT2ou"
      },
      "outputs": [],
      "source": [
        "x = {\"name \" :\"ashish\"  , \"age\": 25}"
      ]
    },
    {
      "cell_type": "code",
      "execution_count": 150,
      "metadata": {
        "colab": {
          "base_uri": "https://localhost:8080/"
        },
        "id": "JG_5h-1pT2ov",
        "outputId": "698d2817-2391-42e6-9e30-f9e16029d957"
      },
      "outputs": [
        {
          "output_type": "execute_result",
          "data": {
            "text/plain": [
              "dict"
            ]
          },
          "metadata": {},
          "execution_count": 150
        }
      ],
      "source": [
        "type(x)"
      ]
    },
    {
      "cell_type": "code",
      "execution_count": 152,
      "metadata": {
        "id": "XULNsXqZT2ov"
      },
      "outputs": [],
      "source": [
        "x1 = {\"name \" :\"ashish\", \"age\": 25, True : {45,34545,454,54}, \"key\" : False, 34554:(45,45,45,45), \"_sfsdf\" : [34,45,454,54,545]}"
      ]
    },
    {
      "cell_type": "code",
      "execution_count": 153,
      "metadata": {
        "colab": {
          "base_uri": "https://localhost:8080/"
        },
        "id": "h92vjw02T2ov",
        "outputId": "64feea67-37c7-43b6-89e8-7a71a10ca3d8"
      },
      "outputs": [
        {
          "output_type": "execute_result",
          "data": {
            "text/plain": [
              "{34554: (45, 45, 45, 45),\n",
              " True: {45, 54, 454, 34545},\n",
              " '_sfsdf': [34, 45, 454, 54, 545],\n",
              " 'age': 25,\n",
              " 'key': False,\n",
              " 'name ': 'ashish'}"
            ]
          },
          "metadata": {},
          "execution_count": 153
        }
      ],
      "source": [
        "x1"
      ]
    },
    {
      "cell_type": "code",
      "execution_count": 154,
      "metadata": {
        "id": "xkwPlIKMT2ov"
      },
      "outputs": [],
      "source": [
        "x2 = {\"name \" :{\"k1\":\"wer\",'k4' :[345,534535,534,]} , \"age\": 3455 ,True : {45,34545,454,54}, \"key\" : False , 34554:(45,45,45,45) , \"_sfsdf\" : [34,45,454,54,545]}"
      ]
    },
    {
      "cell_type": "code",
      "execution_count": 155,
      "metadata": {
        "colab": {
          "base_uri": "https://localhost:8080/"
        },
        "id": "D13LNQ54T2ow",
        "outputId": "6ab85e9e-4aee-493f-8b9c-310ba09c0bdd"
      },
      "outputs": [
        {
          "output_type": "execute_result",
          "data": {
            "text/plain": [
              "{34554: (45, 45, 45, 45),\n",
              " True: {45, 54, 454, 34545},\n",
              " '_sfsdf': [34, 45, 454, 54, 545],\n",
              " 'age': 3455,\n",
              " 'key': False,\n",
              " 'name ': {'k1': 'wer', 'k4': [345, 534535, 534]}}"
            ]
          },
          "metadata": {},
          "execution_count": 155
        }
      ],
      "source": [
        "x2"
      ]
    },
    {
      "cell_type": "code",
      "execution_count": 156,
      "metadata": {
        "id": "8f9Xng2BT2ow"
      },
      "outputs": [],
      "source": [
        "x3 = {5:\"wer\",'k4' :[345,534535,534,]} "
      ]
    },
    {
      "cell_type": "code",
      "execution_count": 157,
      "metadata": {
        "colab": {
          "base_uri": "https://localhost:8080/"
        },
        "id": "oqKN6iYtT2ow",
        "outputId": "2f939cee-1637-4049-b300-5b4904c2bbb0"
      },
      "outputs": [
        {
          "output_type": "execute_result",
          "data": {
            "text/plain": [
              "4"
            ]
          },
          "metadata": {},
          "execution_count": 157
        }
      ],
      "source": [
        "l = [34,45,4,54]\n",
        "l[2]"
      ]
    },
    {
      "cell_type": "code",
      "execution_count": 158,
      "metadata": {
        "colab": {
          "base_uri": "https://localhost:8080/"
        },
        "id": "4YlTkYLwT2ow",
        "outputId": "40a33ae7-b86f-4bbd-ca44-477b0c6ed38d"
      },
      "outputs": [
        {
          "output_type": "execute_result",
          "data": {
            "text/plain": [
              "False"
            ]
          },
          "metadata": {},
          "execution_count": 158
        }
      ],
      "source": [
        "x2[\"key\"]"
      ]
    },
    {
      "cell_type": "code",
      "execution_count": 159,
      "metadata": {
        "colab": {
          "base_uri": "https://localhost:8080/"
        },
        "id": "D-y6a1AkT2ox",
        "outputId": "f483887e-55dc-418d-ffcb-f557db767fd4"
      },
      "outputs": [
        {
          "output_type": "execute_result",
          "data": {
            "text/plain": [
              "(45, 45, 45, 45)"
            ]
          },
          "metadata": {},
          "execution_count": 159
        }
      ],
      "source": [
        "x2[34554]"
      ]
    },
    {
      "cell_type": "code",
      "execution_count": 160,
      "metadata": {
        "colab": {
          "base_uri": "https://localhost:8080/"
        },
        "id": "Z7SL3KiAT2ox",
        "outputId": "8449ccfb-1c69-431f-b43c-082541903f34"
      },
      "outputs": [
        {
          "output_type": "execute_result",
          "data": {
            "text/plain": [
              "54"
            ]
          },
          "metadata": {},
          "execution_count": 160
        }
      ],
      "source": [
        "x2[\"_sfsdf\"][3]"
      ]
    },
    {
      "cell_type": "code",
      "execution_count": 161,
      "metadata": {
        "colab": {
          "base_uri": "https://localhost:8080/"
        },
        "id": "gIDsj27xT2ox",
        "outputId": "36566068-4590-4047-fa41-c18f71486876"
      },
      "outputs": [
        {
          "output_type": "execute_result",
          "data": {
            "text/plain": [
              "534"
            ]
          },
          "metadata": {},
          "execution_count": 161
        }
      ],
      "source": [
        "x2[\"name \"]['k4'][2]"
      ]
    },
    {
      "cell_type": "code",
      "execution_count": 162,
      "metadata": {
        "id": "dFCCw9PeT2ox"
      },
      "outputs": [],
      "source": [
        "x3 = {5:\"wer\",'k4' :[345,534535,534,]} "
      ]
    },
    {
      "cell_type": "code",
      "execution_count": 163,
      "metadata": {
        "id": "Wsdrzng6T2oy"
      },
      "outputs": [],
      "source": [
        "x4 = {\"k4\" :\"Fsdfs\"}"
      ]
    },
    {
      "cell_type": "code",
      "execution_count": 164,
      "metadata": {
        "colab": {
          "base_uri": "https://localhost:8080/",
          "height": 165
        },
        "id": "NkAOF-3-T2oy",
        "outputId": "eaea2f6a-f082-42e6-ab5f-933c9f7c43de"
      },
      "outputs": [
        {
          "output_type": "error",
          "ename": "TypeError",
          "evalue": "ignored",
          "traceback": [
            "\u001b[0;31m---------------------------------------------------------------------------\u001b[0m",
            "\u001b[0;31mTypeError\u001b[0m                                 Traceback (most recent call last)",
            "\u001b[0;32m<ipython-input-164-6b27f76da613>\u001b[0m in \u001b[0;36m<module>\u001b[0;34m()\u001b[0m\n\u001b[0;32m----> 1\u001b[0;31m \u001b[0mx3\u001b[0m\u001b[0;34m+\u001b[0m\u001b[0mx4\u001b[0m\u001b[0;34m\u001b[0m\u001b[0;34m\u001b[0m\u001b[0m\n\u001b[0m",
            "\u001b[0;31mTypeError\u001b[0m: unsupported operand type(s) for +: 'dict' and 'dict'"
          ]
        }
      ],
      "source": [
        "x3+x4"
      ]
    },
    {
      "cell_type": "code",
      "execution_count": 165,
      "metadata": {
        "colab": {
          "base_uri": "https://localhost:8080/",
          "height": 165
        },
        "id": "ea2Qkc7xT2oz",
        "outputId": "0bbe21f8-56be-44e4-8d39-8e232edf4028"
      },
      "outputs": [
        {
          "output_type": "error",
          "ename": "TypeError",
          "evalue": "ignored",
          "traceback": [
            "\u001b[0;31m---------------------------------------------------------------------------\u001b[0m",
            "\u001b[0;31mTypeError\u001b[0m                                 Traceback (most recent call last)",
            "\u001b[0;32m<ipython-input-165-25847429fcd3>\u001b[0m in \u001b[0;36m<module>\u001b[0;34m()\u001b[0m\n\u001b[0;32m----> 1\u001b[0;31m \u001b[0mx3\u001b[0m \u001b[0;34m*\u001b[0m \u001b[0;36m3\u001b[0m\u001b[0;34m\u001b[0m\u001b[0;34m\u001b[0m\u001b[0m\n\u001b[0m",
            "\u001b[0;31mTypeError\u001b[0m: unsupported operand type(s) for *: 'dict' and 'int'"
          ]
        }
      ],
      "source": [
        "x3 * 3"
      ]
    },
    {
      "cell_type": "code",
      "execution_count": 166,
      "metadata": {
        "colab": {
          "base_uri": "https://localhost:8080/"
        },
        "id": "BbPgDuJzT2oz",
        "outputId": "1b142bd6-530f-4a4c-eb6b-953225463722"
      },
      "outputs": [
        {
          "output_type": "execute_result",
          "data": {
            "text/plain": [
              "{5: 'wer', 'k4': [345, 534535, 534]}"
            ]
          },
          "metadata": {},
          "execution_count": 166
        }
      ],
      "source": [
        "x3 "
      ]
    },
    {
      "cell_type": "code",
      "execution_count": 167,
      "metadata": {
        "id": "gYR-SCEIT2o0"
      },
      "outputs": [],
      "source": [
        "x3['k4'] = 456"
      ]
    },
    {
      "cell_type": "code",
      "execution_count": 169,
      "metadata": {
        "colab": {
          "base_uri": "https://localhost:8080/"
        },
        "id": "rKRSlMOvT2o0",
        "outputId": "944594a1-6381-4288-bc0f-a3fdf7a3a2d0"
      },
      "outputs": [
        {
          "output_type": "execute_result",
          "data": {
            "text/plain": [
              "{5: 'wer', 'k4': 456}"
            ]
          },
          "metadata": {},
          "execution_count": 169
        }
      ],
      "source": [
        "x3"
      ]
    },
    {
      "cell_type": "code",
      "execution_count": 170,
      "metadata": {
        "id": "ECdWeEHfT2o0"
      },
      "outputs": [],
      "source": [
        "x3['k4'] -= 10"
      ]
    },
    {
      "cell_type": "code",
      "execution_count": 171,
      "metadata": {
        "id": "kDAZ33RvT2o1"
      },
      "outputs": [],
      "source": [
        "x3['k4'] = x3['k4'] -10"
      ]
    },
    {
      "cell_type": "code",
      "execution_count": 172,
      "metadata": {
        "colab": {
          "base_uri": "https://localhost:8080/"
        },
        "id": "LkigKrjoT2o1",
        "outputId": "784d4cfb-0c5b-471a-8037-57df05b521b1"
      },
      "outputs": [
        {
          "output_type": "execute_result",
          "data": {
            "text/plain": [
              "{5: 'wer', 'k4': 436}"
            ]
          },
          "metadata": {},
          "execution_count": 172
        }
      ],
      "source": [
        "x3"
      ]
    },
    {
      "cell_type": "code",
      "execution_count": 173,
      "metadata": {
        "colab": {
          "base_uri": "https://localhost:8080/"
        },
        "id": "az6tuT6mT2o2",
        "outputId": "806a4fb8-d233-47bc-dff7-bdff1badeb56"
      },
      "outputs": [
        {
          "output_type": "execute_result",
          "data": {
            "text/plain": [
              "True"
            ]
          },
          "metadata": {},
          "execution_count": 173
        }
      ],
      "source": [
        "'k4' in x3.keys()"
      ]
    },
    {
      "cell_type": "code",
      "execution_count": 174,
      "metadata": {
        "colab": {
          "base_uri": "https://localhost:8080/"
        },
        "id": "ZGA8dzs1T2o2",
        "outputId": "f86cfd31-4731-4b9b-f772-c5443669944f"
      },
      "outputs": [
        {
          "output_type": "execute_result",
          "data": {
            "text/plain": [
              "dict_keys([5, 'k4'])"
            ]
          },
          "metadata": {},
          "execution_count": 174
        }
      ],
      "source": [
        "x3.keys()"
      ]
    },
    {
      "cell_type": "code",
      "execution_count": 175,
      "metadata": {
        "colab": {
          "base_uri": "https://localhost:8080/"
        },
        "id": "N6K-kQsjT2o2",
        "outputId": "def3f7e3-9cbc-4f1d-bb80-52e4b9948a17"
      },
      "outputs": [
        {
          "output_type": "stream",
          "name": "stdout",
          "text": [
            "wer\n",
            "436\n"
          ]
        }
      ],
      "source": [
        "for i in x3.keys() :\n",
        "    print(x3[i])"
      ]
    },
    {
      "cell_type": "code",
      "execution_count": 176,
      "metadata": {
        "colab": {
          "base_uri": "https://localhost:8080/"
        },
        "id": "oHGrF6UHT2o3",
        "outputId": "df3ce373-ce05-46f0-837d-83660492cb7a"
      },
      "outputs": [
        {
          "output_type": "execute_result",
          "data": {
            "text/plain": [
              "{5: 'wer', 'k4': 436}"
            ]
          },
          "metadata": {},
          "execution_count": 176
        }
      ],
      "source": [
        "x3"
      ]
    },
    {
      "cell_type": "code",
      "execution_count": 177,
      "metadata": {
        "colab": {
          "base_uri": "https://localhost:8080/"
        },
        "id": "ANYQYYxcT2o3",
        "outputId": "b7b3ca79-1a50-4296-ae8b-7a937866cb34"
      },
      "outputs": [
        {
          "output_type": "execute_result",
          "data": {
            "text/plain": [
              "{34554: (45, 45, 45, 45),\n",
              " True: {45, 54, 454, 34545},\n",
              " '_sfsdf': [34, 45, 454, 54, 545],\n",
              " 'age': 3455,\n",
              " 'key': False,\n",
              " 'name ': {'k1': 'wer', 'k4': [345, 534535, 534]}}"
            ]
          },
          "metadata": {},
          "execution_count": 177
        }
      ],
      "source": [
        "x2 "
      ]
    },
    {
      "cell_type": "code",
      "execution_count": 178,
      "metadata": {
        "colab": {
          "base_uri": "https://localhost:8080/"
        },
        "id": "ZmWnX0f1T2o3",
        "outputId": "0230a2be-87b1-4b75-fe3d-f3cb7870f7ca"
      },
      "outputs": [
        {
          "output_type": "execute_result",
          "data": {
            "text/plain": [
              "dict_keys(['name ', 'age', True, 'key', 34554, '_sfsdf'])"
            ]
          },
          "metadata": {},
          "execution_count": 178
        }
      ],
      "source": [
        "x2.keys()"
      ]
    },
    {
      "cell_type": "code",
      "execution_count": 179,
      "metadata": {
        "colab": {
          "base_uri": "https://localhost:8080/"
        },
        "id": "8IsMgv2IT2o4",
        "outputId": "c13e2cb2-e86b-4470-d794-f29569f500f0"
      },
      "outputs": [
        {
          "output_type": "stream",
          "name": "stdout",
          "text": [
            "<class 'dict'>\n",
            "<class 'int'>\n",
            "<class 'set'>\n",
            "<class 'bool'>\n",
            "<class 'tuple'>\n",
            "<class 'list'>\n"
          ]
        }
      ],
      "source": [
        "for i in x2.keys():\n",
        "    print(type(x2[i]))"
      ]
    },
    {
      "cell_type": "code",
      "execution_count": 180,
      "metadata": {
        "colab": {
          "base_uri": "https://localhost:8080/"
        },
        "id": "eB3-bWnmT2o4",
        "outputId": "ded35f66-e152-43c6-f334-db1cbdcc35c4"
      },
      "outputs": [
        {
          "output_type": "execute_result",
          "data": {
            "text/plain": [
              "dict_items([('name ', {'k1': 'wer', 'k4': [345, 534535, 534]}), ('age', 3455), (True, {54, 34545, 45, 454}), ('key', False), (34554, (45, 45, 45, 45)), ('_sfsdf', [34, 45, 454, 54, 545])])"
            ]
          },
          "metadata": {},
          "execution_count": 180
        }
      ],
      "source": [
        "x2.items()"
      ]
    },
    {
      "cell_type": "code",
      "execution_count": 182,
      "metadata": {
        "scrolled": true,
        "colab": {
          "base_uri": "https://localhost:8080/"
        },
        "id": "0qScIKdwT2o4",
        "outputId": "d9d82a1c-653c-4f93-b1fc-dd523e23cb29"
      },
      "outputs": [
        {
          "output_type": "stream",
          "name": "stdout",
          "text": [
            "{'k1': 'wer', 'k4': [345, 534535, 534]}\n",
            "3455\n",
            "{54, 34545, 45, 454}\n",
            "False\n",
            "(45, 45, 45, 45)\n",
            "[34, 45, 454, 54, 545]\n"
          ]
        }
      ],
      "source": [
        "for i in x2.items():\n",
        "    print(i[1])"
      ]
    },
    {
      "cell_type": "code",
      "execution_count": 183,
      "metadata": {
        "id": "kOvTOmeVT2o5"
      },
      "outputs": [],
      "source": [
        "x5 = {(34,56,56) : \"Fsdfsfsd\"}"
      ]
    },
    {
      "cell_type": "code",
      "execution_count": 184,
      "metadata": {
        "colab": {
          "base_uri": "https://localhost:8080/",
          "height": 35
        },
        "id": "CAn7Fek1T2o5",
        "outputId": "eaa79881-700c-48a2-c143-af97d41051d9"
      },
      "outputs": [
        {
          "output_type": "execute_result",
          "data": {
            "application/vnd.google.colaboratory.intrinsic+json": {
              "type": "string"
            },
            "text/plain": [
              "'Fsdfsfsd'"
            ]
          },
          "metadata": {},
          "execution_count": 184
        }
      ],
      "source": [
        "x5[(34,56,56) ]"
      ]
    },
    {
      "cell_type": "code",
      "execution_count": 185,
      "metadata": {
        "colab": {
          "base_uri": "https://localhost:8080/"
        },
        "id": "0vN9XRxTT2o5",
        "outputId": "84b71c03-2613-404a-8127-b4e0c9088e23"
      },
      "outputs": [
        {
          "output_type": "execute_result",
          "data": {
            "text/plain": [
              "{34554: (45, 45, 45, 45),\n",
              " True: {45, 54, 454, 34545},\n",
              " '_sfsdf': [34, 45, 454, 54, 545],\n",
              " 'age': 3455,\n",
              " 'key': False,\n",
              " 'name ': {'k1': 'wer', 'k4': [345, 534535, 534]}}"
            ]
          },
          "metadata": {},
          "execution_count": 185
        }
      ],
      "source": [
        "x2"
      ]
    },
    {
      "cell_type": "code",
      "source": [
        "x1 = {\"name \" :\"ashish\", \"age\": 25, True : {45,34545,454,54}, \"key\" : False, 34554:(45,45,45,45), \"_sfsdf\" : [34,45,454,54,545]}"
      ],
      "metadata": {
        "id": "q18lcoNZaHDm"
      },
      "execution_count": 222,
      "outputs": []
    },
    {
      "cell_type": "code",
      "source": [
        "x = {\"name\" : \"ashish\", \"idd\" : 123456789, True : [1,2,3,4,5,6,7], \"ep\" : (2,3,4,5,5), 7 : (2,3,4,5)}"
      ],
      "metadata": {
        "id": "1nYXIOx-ZB4E"
      },
      "execution_count": 223,
      "outputs": []
    },
    {
      "cell_type": "code",
      "source": [
        "x[\"name\"][0:4]"
      ],
      "metadata": {
        "colab": {
          "base_uri": "https://localhost:8080/",
          "height": 35
        },
        "id": "qpxc8PdaZByd",
        "outputId": "06e144e4-7f51-4053-ceff-f4e16baf72b2"
      },
      "execution_count": 224,
      "outputs": [
        {
          "output_type": "execute_result",
          "data": {
            "application/vnd.google.colaboratory.intrinsic+json": {
              "type": "string"
            },
            "text/plain": [
              "'ashi'"
            ]
          },
          "metadata": {},
          "execution_count": 224
        }
      ]
    },
    {
      "cell_type": "code",
      "source": [
        "x.keys()"
      ],
      "metadata": {
        "colab": {
          "base_uri": "https://localhost:8080/"
        },
        "id": "itrGGY2qZBvd",
        "outputId": "7d6d9a87-cadc-4318-8d49-aa1313974bd9"
      },
      "execution_count": 225,
      "outputs": [
        {
          "output_type": "execute_result",
          "data": {
            "text/plain": [
              "dict_keys(['name', 'idd', True, 'ep', 7])"
            ]
          },
          "metadata": {},
          "execution_count": 225
        }
      ]
    },
    {
      "cell_type": "code",
      "source": [
        "x.items()"
      ],
      "metadata": {
        "colab": {
          "base_uri": "https://localhost:8080/"
        },
        "id": "p3npBiEEbevl",
        "outputId": "37e2a04f-a591-475e-c07c-e8bd0d7eab62"
      },
      "execution_count": 226,
      "outputs": [
        {
          "output_type": "execute_result",
          "data": {
            "text/plain": [
              "dict_items([('name', 'ashish'), ('idd', 123456789), (True, [1, 2, 3, 4, 5, 6, 7]), ('ep', (2, 3, 4, 5, 5)), (7, (2, 3, 4, 5))])"
            ]
          },
          "metadata": {},
          "execution_count": 226
        }
      ]
    },
    {
      "cell_type": "code",
      "source": [
        "for i in x.keys():\n",
        "  print(type(i))"
      ],
      "metadata": {
        "colab": {
          "base_uri": "https://localhost:8080/"
        },
        "id": "LpLV_umfbkCX",
        "outputId": "1da77cda-ec7e-45da-faf3-555876b20a67"
      },
      "execution_count": 227,
      "outputs": [
        {
          "output_type": "stream",
          "name": "stdout",
          "text": [
            "<class 'str'>\n",
            "<class 'str'>\n",
            "<class 'bool'>\n",
            "<class 'str'>\n",
            "<class 'int'>\n"
          ]
        }
      ]
    },
    {
      "cell_type": "code",
      "source": [
        "for i in x.items():\n",
        "  print(i[1])"
      ],
      "metadata": {
        "colab": {
          "base_uri": "https://localhost:8080/"
        },
        "id": "-7o2Iu28bqtn",
        "outputId": "ba8038b0-43e4-4da2-f360-c99587fa5bf0"
      },
      "execution_count": 228,
      "outputs": [
        {
          "output_type": "stream",
          "name": "stdout",
          "text": [
            "ashish\n",
            "123456789\n",
            "[1, 2, 3, 4, 5, 6, 7]\n",
            "(2, 3, 4, 5, 5)\n",
            "(2, 3, 4, 5)\n"
          ]
        }
      ]
    },
    {
      "cell_type": "code",
      "execution_count": 229,
      "metadata": {
        "colab": {
          "base_uri": "https://localhost:8080/"
        },
        "id": "lmSlQW6WT2o6",
        "outputId": "a2878d12-5c3a-44cf-e1bb-ae76ac33a016"
      },
      "outputs": [
        {
          "output_type": "execute_result",
          "data": {
            "text/plain": [
              "{45, 78, 89}"
            ]
          },
          "metadata": {},
          "execution_count": 229
        }
      ],
      "source": [
        "e = {56: {45, 78, 89}}\n",
        "e[56]"
      ]
    },
    {
      "cell_type": "code",
      "execution_count": 230,
      "metadata": {
        "colab": {
          "base_uri": "https://localhost:8080/"
        },
        "id": "C6lKzlIcT2o6",
        "outputId": "7ff8bf5e-f574-4e18-8bfe-72795b0d3cb9"
      },
      "outputs": [
        {
          "output_type": "execute_result",
          "data": {
            "text/plain": [
              "89"
            ]
          },
          "metadata": {},
          "execution_count": 230
        }
      ],
      "source": [
        "list(e[56])[0]"
      ]
    },
    {
      "cell_type": "code",
      "execution_count": 231,
      "metadata": {
        "colab": {
          "base_uri": "https://localhost:8080/",
          "height": 130
        },
        "id": "g3A9T7biT2o6",
        "outputId": "b604df0c-8748-42d5-838a-01b14cba111b"
      },
      "outputs": [
        {
          "output_type": "error",
          "ename": "SyntaxError",
          "evalue": "ignored",
          "traceback": [
            "\u001b[0;36m  File \u001b[0;32m\"<ipython-input-231-4003932deb61>\"\u001b[0;36m, line \u001b[0;32m3\u001b[0m\n\u001b[0;31m    data_list= data.split(\" \")\u001b[0m\n\u001b[0m            ^\u001b[0m\n\u001b[0;31mSyntaxError\u001b[0m\u001b[0;31m:\u001b[0m invalid syntax\n"
          ]
        }
      ],
      "source": [
        "data=input(\"Enter the paragraph-->> \"\n",
        "# Q1\n",
        "data_list= data.split(\" \")\n",
        "# Q2\n",
        "no_duplicate=set(data_list)\n",
        "# Q3\n",
        "my_dict={}\n",
        "for i in no_duplicate:\n",
        "    my_dict[i]=\"akshat\"\n",
        "# my_dict\n",
        "# Q4\n",
        "tup_list=[]\n",
        "for i in my_dict.keys():\n",
        "    tup_list.append(my_dict[i])\n",
        "print(\"Tuple List-->> \",tuple(tup_list))\n",
        "# Q5\n",
        "list_keys=[]\n",
        "for i in my_dict.keys():\n",
        "    list_keys.append(i)\n",
        "print(\"List Keys-->> \",list_keys)"
      ]
    },
    {
      "cell_type": "code",
      "execution_count": 232,
      "metadata": {
        "colab": {
          "base_uri": "https://localhost:8080/"
        },
        "id": "eiFAGXrYT2o7",
        "outputId": "6d4fc2cf-1aff-4e87-ebb4-c57910eecc7b"
      },
      "outputs": [
        {
          "name": "stdout",
          "output_type": "stream",
          "text": [
            "Enter the para:dadadasfafa faf faf af af af f fa fa faf af af af afaf af af afa fa fa faf\n"
          ]
        }
      ],
      "source": [
        "paragph = input(\"Enter the para:\")\n",
        "lst1=paragph.split(\" \")\n",
        "s1=set(lst1)\n",
        "dic1=dict.fromkeys(s1,'db')\n",
        "t1=tuple(dic1.keys())\n",
        "l2=list(dic1.values())"
      ]
    },
    {
      "cell_type": "code",
      "execution_count": 233,
      "metadata": {
        "colab": {
          "base_uri": "https://localhost:8080/"
        },
        "id": "oDSHuKzKT2o7",
        "outputId": "e8891300-6295-4178-9293-b349b898fc83"
      },
      "outputs": [
        {
          "output_type": "execute_result",
          "data": {
            "text/plain": [
              "{'af', 'afa', 'afaf', 'dadadasfafa', 'f', 'fa', 'faf'}"
            ]
          },
          "metadata": {},
          "execution_count": 233
        }
      ],
      "source": [
        "s1"
      ]
    },
    {
      "cell_type": "code",
      "execution_count": 234,
      "metadata": {
        "colab": {
          "base_uri": "https://localhost:8080/"
        },
        "id": "IkCDPN9ST2o7",
        "outputId": "90ecc29d-68d9-4b3c-9974-3efefe735047"
      },
      "outputs": [
        {
          "output_type": "execute_result",
          "data": {
            "text/plain": [
              "{'af': 'db',\n",
              " 'afa': 'db',\n",
              " 'afaf': 'db',\n",
              " 'dadadasfafa': 'db',\n",
              " 'f': 'db',\n",
              " 'fa': 'db',\n",
              " 'faf': 'db'}"
            ]
          },
          "metadata": {},
          "execution_count": 234
        }
      ],
      "source": [
        "dic1"
      ]
    },
    {
      "cell_type": "code",
      "execution_count": 235,
      "metadata": {
        "colab": {
          "base_uri": "https://localhost:8080/"
        },
        "id": "uLOlqEBYT2o8",
        "outputId": "380fcf99-445a-47ae-9f95-4a3d4f340f91"
      },
      "outputs": [
        {
          "output_type": "execute_result",
          "data": {
            "text/plain": [
              "('fa', 'afaf', 'af', 'faf', 'afa', 'dadadasfafa', 'f')"
            ]
          },
          "metadata": {},
          "execution_count": 235
        }
      ],
      "source": [
        "t1"
      ]
    },
    {
      "cell_type": "code",
      "execution_count": 236,
      "metadata": {
        "colab": {
          "base_uri": "https://localhost:8080/"
        },
        "id": "JSTP7ad9T2o8",
        "outputId": "e9dc61e1-7d93-4ae3-8488-5dbec43e7319"
      },
      "outputs": [
        {
          "output_type": "execute_result",
          "data": {
            "text/plain": [
              "['db', 'db', 'db', 'db', 'db', 'db', 'db']"
            ]
          },
          "metadata": {},
          "execution_count": 236
        }
      ],
      "source": [
        "l2"
      ]
    },
    {
      "cell_type": "code",
      "execution_count": 237,
      "metadata": {
        "id": "3J-PhPmRT2o8"
      },
      "outputs": [],
      "source": [
        "d = {\"company\":\"ineuron\" ,\"course\": \"full stack data science\" , \"year\" : 2021}"
      ]
    },
    {
      "cell_type": "code",
      "execution_count": 238,
      "metadata": {
        "colab": {
          "base_uri": "https://localhost:8080/"
        },
        "id": "sodoMTNUT2o8",
        "outputId": "676b40c7-c5d3-48c3-ebf7-5b35a3ae7c2d"
      },
      "outputs": [
        {
          "output_type": "stream",
          "name": "stdout",
          "text": [
            " print a key  :  company  ;  value wise :   ineuron\n",
            " print a key  :  course  ;  value wise :   full stack data science\n",
            " print a key  :  year  ;  value wise :   2021\n"
          ]
        }
      ],
      "source": [
        "for i in d :\n",
        "    print(\" print a key  : \" ,i  , \" ; \", \"value wise :  \" , d[i])"
      ]
    },
    {
      "cell_type": "code",
      "execution_count": 239,
      "metadata": {
        "colab": {
          "base_uri": "https://localhost:8080/"
        },
        "id": "koZIYjXUT2o9",
        "outputId": "900f4ca2-e64b-4352-d168-7608bb45bfbf"
      },
      "outputs": [
        {
          "output_type": "execute_result",
          "data": {
            "text/plain": [
              "True"
            ]
          },
          "metadata": {},
          "execution_count": 239
        }
      ],
      "source": [
        "\"course\" in d "
      ]
    },
    {
      "cell_type": "code",
      "execution_count": 240,
      "metadata": {
        "id": "DUH59B15T2o9"
      },
      "outputs": [],
      "source": [
        "for i in d :\n",
        "    if i == 'year':\n",
        "        if d[i] > 2021:\n",
        "            print(\"year is fine \")\n",
        "        else :\n",
        "            d[i] = 2022"
      ]
    },
    {
      "cell_type": "code",
      "execution_count": 241,
      "metadata": {
        "colab": {
          "base_uri": "https://localhost:8080/"
        },
        "id": "YCEi1wYVT2o9",
        "outputId": "0c8db1c5-13b9-4ba6-ae56-2e954f9496d2"
      },
      "outputs": [
        {
          "output_type": "execute_result",
          "data": {
            "text/plain": [
              "{'company': 'ineuron', 'course': 'full stack data science', 'year': 2022}"
            ]
          },
          "metadata": {},
          "execution_count": 241
        }
      ],
      "source": [
        "d"
      ]
    },
    {
      "cell_type": "code",
      "execution_count": 242,
      "metadata": {
        "id": "Me3FPEJnT2o9"
      },
      "outputs": [],
      "source": [
        "my_dict = {}\n",
        "for i in range(10):\n",
        "    my_dict[i] = i *i"
      ]
    },
    {
      "cell_type": "code",
      "execution_count": 243,
      "metadata": {
        "colab": {
          "base_uri": "https://localhost:8080/"
        },
        "id": "eaycbd-pT2o-",
        "outputId": "ab761be1-bc47-4df3-83e6-e7ebf967b933"
      },
      "outputs": [
        {
          "output_type": "execute_result",
          "data": {
            "text/plain": [
              "{0: 0, 1: 1, 2: 4, 3: 9, 4: 16, 5: 25, 6: 36, 7: 49, 8: 64, 9: 81}"
            ]
          },
          "metadata": {},
          "execution_count": 243
        }
      ],
      "source": [
        "my_dict"
      ]
    },
    {
      "cell_type": "code",
      "execution_count": 244,
      "metadata": {
        "colab": {
          "base_uri": "https://localhost:8080/"
        },
        "id": "2rQ0H-J9T2o-",
        "outputId": "63aafa6e-0774-412f-f2e0-73089082731e"
      },
      "outputs": [
        {
          "output_type": "execute_result",
          "data": {
            "text/plain": [
              "{0: 0, 3: 9, 6: 36, 9: 81}"
            ]
          },
          "metadata": {},
          "execution_count": 244
        }
      ],
      "source": [
        "{i:i*i for i in range(0,10,3)}"
      ]
    }
  ],
  "metadata": {
    "kernelspec": {
      "display_name": "Python 3",
      "language": "python",
      "name": "python3"
    },
    "language_info": {
      "codemirror_mode": {
        "name": "ipython",
        "version": 3
      },
      "file_extension": ".py",
      "mimetype": "text/x-python",
      "name": "python",
      "nbconvert_exporter": "python",
      "pygments_lexer": "ipython3",
      "version": "3.8.3"
    },
    "colab": {
      "name": "tuple set dictionary ineuron.ipynb",
      "provenance": []
    }
  },
  "nbformat": 4,
  "nbformat_minor": 0
}
