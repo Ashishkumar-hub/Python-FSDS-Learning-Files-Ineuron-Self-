{
  "cells": [
    {
      "cell_type": "code",
      "execution_count": 3,
      "metadata": {
        "id": "mUgPAg6gKaZb"
      },
      "outputs": [],
      "source": [
        "a = \"ash'u\""
      ]
    },
    {
      "cell_type": "code",
      "execution_count": 4,
      "metadata": {
        "id": "YzKfCsnfKaZh"
      },
      "outputs": [],
      "source": [
        "b = 'ash\"u'"
      ]
    },
    {
      "cell_type": "code",
      "execution_count": 5,
      "metadata": {
        "colab": {
          "base_uri": "https://localhost:8080/",
          "height": 35
        },
        "id": "cDHL3AYBKaZi",
        "outputId": "fb4a5cb3-8362-4920-a70b-8ecae8ae2300"
      },
      "outputs": [
        {
          "output_type": "execute_result",
          "data": {
            "application/vnd.google.colaboratory.intrinsic+json": {
              "type": "string"
            },
            "text/plain": [
              "\"ash'u\""
            ]
          },
          "metadata": {},
          "execution_count": 5
        }
      ],
      "source": [
        "a"
      ]
    },
    {
      "cell_type": "code",
      "execution_count": 6,
      "metadata": {
        "colab": {
          "base_uri": "https://localhost:8080/",
          "height": 35
        },
        "id": "siieTcAIKaZj",
        "outputId": "bff4fa96-1068-4974-e068-151178137978"
      },
      "outputs": [
        {
          "output_type": "execute_result",
          "data": {
            "application/vnd.google.colaboratory.intrinsic+json": {
              "type": "string"
            },
            "text/plain": [
              "'ash\"u'"
            ]
          },
          "metadata": {},
          "execution_count": 6
        }
      ],
      "source": [
        "b"
      ]
    },
    {
      "cell_type": "code",
      "execution_count": 7,
      "metadata": {
        "id": "sa51_L7rKaZk"
      },
      "outputs": [],
      "source": [
        "c = 'this is my first class for full stack data science  that\"s why i have joined this class '"
      ]
    },
    {
      "cell_type": "code",
      "execution_count": 8,
      "metadata": {
        "colab": {
          "base_uri": "https://localhost:8080/",
          "height": 35
        },
        "id": "QGym2Ti2KaZl",
        "outputId": "cbae9ff1-63bc-4d4e-92f5-868ae6ea33f6"
      },
      "outputs": [
        {
          "output_type": "execute_result",
          "data": {
            "application/vnd.google.colaboratory.intrinsic+json": {
              "type": "string"
            },
            "text/plain": [
              "'this is my first class for full stack data science  that\"s why i have joined this class '"
            ]
          },
          "metadata": {},
          "execution_count": 8
        }
      ],
      "source": [
        "c"
      ]
    },
    {
      "cell_type": "code",
      "execution_count": 9,
      "metadata": {
        "id": "lafQw1IcKaZl"
      },
      "outputs": [],
      "source": [
        "s = \"this is full stack class\""
      ]
    },
    {
      "cell_type": "code",
      "execution_count": 10,
      "metadata": {
        "colab": {
          "base_uri": "https://localhost:8080/",
          "height": 35
        },
        "id": "zFFDF2CbKaZm",
        "outputId": "5d9c5f9c-71f0-4ded-f10e-0106f22862fa"
      },
      "outputs": [
        {
          "output_type": "execute_result",
          "data": {
            "application/vnd.google.colaboratory.intrinsic+json": {
              "type": "string"
            },
            "text/plain": [
              "'t'"
            ]
          },
          "metadata": {},
          "execution_count": 10
        }
      ],
      "source": [
        "s[0]"
      ]
    },
    {
      "cell_type": "code",
      "execution_count": 11,
      "metadata": {
        "colab": {
          "base_uri": "https://localhost:8080/",
          "height": 35
        },
        "id": "m1rMQ6vXKaZn",
        "outputId": "59e091dd-0043-4979-f024-5cf199516ac0"
      },
      "outputs": [
        {
          "output_type": "execute_result",
          "data": {
            "application/vnd.google.colaboratory.intrinsic+json": {
              "type": "string"
            },
            "text/plain": [
              "'s'"
            ]
          },
          "metadata": {},
          "execution_count": 11
        }
      ],
      "source": [
        "s[-1]"
      ]
    },
    {
      "cell_type": "code",
      "execution_count": 12,
      "metadata": {
        "colab": {
          "base_uri": "https://localhost:8080/"
        },
        "id": "Eu6HH7jaKaZo",
        "outputId": "1e596dde-d699-4f13-cea6-285e96c9e80c"
      },
      "outputs": [
        {
          "output_type": "execute_result",
          "data": {
            "text/plain": [
              "24"
            ]
          },
          "metadata": {},
          "execution_count": 12
        }
      ],
      "source": [
        "len(s)"
      ]
    },
    {
      "cell_type": "code",
      "execution_count": 13,
      "metadata": {
        "colab": {
          "base_uri": "https://localhost:8080/",
          "height": 165
        },
        "id": "4_j0eEUyKaZp",
        "outputId": "0fd9d88d-f91d-472d-a119-b23bd1304f73"
      },
      "outputs": [
        {
          "output_type": "error",
          "ename": "IndexError",
          "evalue": "ignored",
          "traceback": [
            "\u001b[0;31m---------------------------------------------------------------------------\u001b[0m",
            "\u001b[0;31mIndexError\u001b[0m                                Traceback (most recent call last)",
            "\u001b[0;32m<ipython-input-13-2a138df92e52>\u001b[0m in \u001b[0;36m<module>\u001b[0;34m()\u001b[0m\n\u001b[0;32m----> 1\u001b[0;31m \u001b[0ms\u001b[0m\u001b[0;34m[\u001b[0m\u001b[0;36m100\u001b[0m\u001b[0;34m]\u001b[0m\u001b[0;34m\u001b[0m\u001b[0;34m\u001b[0m\u001b[0m\n\u001b[0m",
            "\u001b[0;31mIndexError\u001b[0m: string index out of range"
          ]
        }
      ],
      "source": [
        "s[100]"
      ]
    },
    {
      "cell_type": "code",
      "execution_count": 15,
      "metadata": {
        "colab": {
          "base_uri": "https://localhost:8080/",
          "height": 35
        },
        "id": "Sz8IGyYBKaZq",
        "outputId": "dfa72370-2fa9-4740-aa82-d7733df4ca39"
      },
      "outputs": [
        {
          "output_type": "execute_result",
          "data": {
            "application/vnd.google.colaboratory.intrinsic+json": {
              "type": "string"
            },
            "text/plain": [
              "'ssalc kca'"
            ]
          },
          "metadata": {},
          "execution_count": 15
        }
      ],
      "source": [
        "s[-1:-10:-1]"
      ]
    },
    {
      "cell_type": "code",
      "execution_count": 16,
      "metadata": {
        "colab": {
          "base_uri": "https://localhost:8080/",
          "height": 35
        },
        "id": "bightkFdKaZq",
        "outputId": "6e807d96-4aee-436e-9fad-556c1fd0d053"
      },
      "outputs": [
        {
          "output_type": "execute_result",
          "data": {
            "application/vnd.google.colaboratory.intrinsic+json": {
              "type": "string"
            },
            "text/plain": [
              "'ssalc kcats lluf si siht'"
            ]
          },
          "metadata": {},
          "execution_count": 16
        }
      ],
      "source": [
        "s[::-1]"
      ]
    },
    {
      "cell_type": "code",
      "execution_count": 17,
      "metadata": {
        "colab": {
          "base_uri": "https://localhost:8080/",
          "height": 35
        },
        "id": "4G4POXKsKaZr",
        "outputId": "2fd766b0-93a2-4fda-a2bd-462dbb4320b8"
      },
      "outputs": [
        {
          "output_type": "execute_result",
          "data": {
            "application/vnd.google.colaboratory.intrinsic+json": {
              "type": "string"
            },
            "text/plain": [
              "'this is full stack class'"
            ]
          },
          "metadata": {},
          "execution_count": 17
        }
      ],
      "source": [
        "s"
      ]
    },
    {
      "cell_type": "code",
      "execution_count": 18,
      "metadata": {
        "colab": {
          "base_uri": "https://localhost:8080/",
          "height": 35
        },
        "id": "2CWpIR6UKaZs",
        "outputId": "75bd80aa-e98f-4c84-9ef3-1b19c0f50db0"
      },
      "outputs": [
        {
          "output_type": "execute_result",
          "data": {
            "application/vnd.google.colaboratory.intrinsic+json": {
              "type": "string"
            },
            "text/plain": [
              "'sackaslu ish'"
            ]
          },
          "metadata": {},
          "execution_count": 18
        }
      ],
      "source": [
        "s[::-2]"
      ]
    },
    {
      "cell_type": "code",
      "execution_count": 19,
      "metadata": {
        "colab": {
          "base_uri": "https://localhost:8080/",
          "height": 35
        },
        "id": "q8t6u9cdKaZs",
        "outputId": "0f48eb99-fa8e-40c5-96d9-4db19edef838"
      },
      "outputs": [
        {
          "output_type": "execute_result",
          "data": {
            "application/vnd.google.colaboratory.intrinsic+json": {
              "type": "string"
            },
            "text/plain": [
              "'this is full stack class'"
            ]
          },
          "metadata": {},
          "execution_count": 19
        }
      ],
      "source": [
        "s "
      ]
    },
    {
      "cell_type": "code",
      "execution_count": 20,
      "metadata": {
        "colab": {
          "base_uri": "https://localhost:8080/",
          "height": 165
        },
        "id": "YBeq_dKMKaZt",
        "outputId": "9f873290-efcf-4a2a-c6ac-20966abc4c93"
      },
      "outputs": [
        {
          "output_type": "error",
          "ename": "TypeError",
          "evalue": "ignored",
          "traceback": [
            "\u001b[0;31m---------------------------------------------------------------------------\u001b[0m",
            "\u001b[0;31mTypeError\u001b[0m                                 Traceback (most recent call last)",
            "\u001b[0;32m<ipython-input-20-416b596371a8>\u001b[0m in \u001b[0;36m<module>\u001b[0;34m()\u001b[0m\n\u001b[0;32m----> 1\u001b[0;31m \u001b[0ms\u001b[0m\u001b[0;34m[\u001b[0m\u001b[0;36m0\u001b[0m\u001b[0;34m]\u001b[0m \u001b[0;34m=\u001b[0m \u001b[0;34m\"x\"\u001b[0m\u001b[0;34m\u001b[0m\u001b[0;34m\u001b[0m\u001b[0m\n\u001b[0m",
            "\u001b[0;31mTypeError\u001b[0m: 'str' object does not support item assignment"
          ]
        }
      ],
      "source": [
        "s[0] = \"x\""
      ]
    },
    {
      "cell_type": "code",
      "execution_count": 21,
      "metadata": {
        "id": "mcaEMcdNKaZt"
      },
      "outputs": [],
      "source": [
        "l = [\"sdfs\",234,345.45,True]"
      ]
    },
    {
      "cell_type": "code",
      "execution_count": 22,
      "metadata": {
        "colab": {
          "base_uri": "https://localhost:8080/",
          "height": 35
        },
        "id": "Lg7IaG1lKaZt",
        "outputId": "1ece303f-a0d7-43b8-ea0e-756fafc147de"
      },
      "outputs": [
        {
          "output_type": "execute_result",
          "data": {
            "application/vnd.google.colaboratory.intrinsic+json": {
              "type": "string"
            },
            "text/plain": [
              "'this is full stack class'"
            ]
          },
          "metadata": {},
          "execution_count": 22
        }
      ],
      "source": [
        "s"
      ]
    },
    {
      "cell_type": "code",
      "execution_count": 23,
      "metadata": {
        "id": "jlzduHhZKaZu"
      },
      "outputs": [],
      "source": [
        "s = \"ffsfsfds\""
      ]
    },
    {
      "cell_type": "code",
      "execution_count": 24,
      "metadata": {
        "colab": {
          "base_uri": "https://localhost:8080/",
          "height": 35
        },
        "id": "Q_SsW3alKaZu",
        "outputId": "bb5b3ee2-0fa8-4bae-e27d-57665b83730a"
      },
      "outputs": [
        {
          "output_type": "execute_result",
          "data": {
            "application/vnd.google.colaboratory.intrinsic+json": {
              "type": "string"
            },
            "text/plain": [
              "'ffsfsfds'"
            ]
          },
          "metadata": {},
          "execution_count": 24
        }
      ],
      "source": [
        "s"
      ]
    },
    {
      "cell_type": "code",
      "execution_count": 26,
      "metadata": {
        "id": "nZtOkPFyKaZv"
      },
      "outputs": [],
      "source": [
        "l[0] = \"ashu\""
      ]
    },
    {
      "cell_type": "code",
      "execution_count": 27,
      "metadata": {
        "colab": {
          "base_uri": "https://localhost:8080/"
        },
        "id": "pgognsxKKaZv",
        "outputId": "3a16e13e-33ae-4e12-ae60-54170616f52d"
      },
      "outputs": [
        {
          "output_type": "execute_result",
          "data": {
            "text/plain": [
              "['ashu', 234, 345.45, True]"
            ]
          },
          "metadata": {},
          "execution_count": 27
        }
      ],
      "source": [
        "l"
      ]
    },
    {
      "cell_type": "code",
      "execution_count": 28,
      "metadata": {
        "colab": {
          "base_uri": "https://localhost:8080/"
        },
        "id": "yIOsakImKaZv",
        "outputId": "c535d0b9-23d9-4ee6-9536-54a583565e6f"
      },
      "outputs": [
        {
          "output_type": "stream",
          "name": "stdout",
          "text": [
            "f\n",
            "f\n",
            "s\n",
            "f\n",
            "s\n",
            "f\n",
            "d\n",
            "s\n"
          ]
        }
      ],
      "source": [
        "for i in range(len(s)) :\n",
        "    print(s[i])"
      ]
    },
    {
      "cell_type": "code",
      "execution_count": 29,
      "metadata": {
        "colab": {
          "base_uri": "https://localhost:8080/",
          "height": 35
        },
        "id": "jzfGoTlBKaZw",
        "outputId": "4b77ea77-9ff6-4e78-e940-4069cd5ee8fb"
      },
      "outputs": [
        {
          "output_type": "execute_result",
          "data": {
            "application/vnd.google.colaboratory.intrinsic+json": {
              "type": "string"
            },
            "text/plain": [
              "'ashish kumar '"
            ]
          },
          "metadata": {},
          "execution_count": 29
        }
      ],
      "source": [
        "\"ashish\"  + \" kumar \""
      ]
    },
    {
      "cell_type": "code",
      "execution_count": 31,
      "metadata": {
        "colab": {
          "base_uri": "https://localhost:8080/",
          "height": 35
        },
        "id": "4YyHYzUeKaZw",
        "outputId": "848c3fe4-7221-4a3e-d915-0983d7e2e8c7"
      },
      "outputs": [
        {
          "output_type": "execute_result",
          "data": {
            "application/vnd.google.colaboratory.intrinsic+json": {
              "type": "string"
            },
            "text/plain": [
              "'ashish3'"
            ]
          },
          "metadata": {},
          "execution_count": 31
        }
      ],
      "source": [
        "\"ashish\" + str(3) "
      ]
    },
    {
      "cell_type": "code",
      "execution_count": 33,
      "metadata": {
        "colab": {
          "base_uri": "https://localhost:8080/",
          "height": 165
        },
        "id": "EopKnezMKaZw",
        "outputId": "1492b87a-c5a5-4585-f45e-c31ab6a7b7fb"
      },
      "outputs": [
        {
          "output_type": "error",
          "ename": "TypeError",
          "evalue": "ignored",
          "traceback": [
            "\u001b[0;31m---------------------------------------------------------------------------\u001b[0m",
            "\u001b[0;31mTypeError\u001b[0m                                 Traceback (most recent call last)",
            "\u001b[0;32m<ipython-input-33-98cfa5380264>\u001b[0m in \u001b[0;36m<module>\u001b[0;34m()\u001b[0m\n\u001b[0;32m----> 1\u001b[0;31m \u001b[0;34m\"ashish\"\u001b[0m \u001b[0;34m+\u001b[0m \u001b[0;34m[\u001b[0m\u001b[0;34m\"kumar\"\u001b[0m \u001b[0;34m,\u001b[0m \u001b[0;36m3\u001b[0m\u001b[0;34m,\u001b[0m\u001b[0;36m4\u001b[0m\u001b[0;34m,\u001b[0m\u001b[0;36m56\u001b[0m\u001b[0;34m]\u001b[0m\u001b[0;34m\u001b[0m\u001b[0;34m\u001b[0m\u001b[0m\n\u001b[0m",
            "\u001b[0;31mTypeError\u001b[0m: can only concatenate str (not \"list\") to str"
          ]
        }
      ],
      "source": [
        "\"ashish\" + [\"kumar\" , 3,4,56]"
      ]
    },
    {
      "cell_type": "code",
      "execution_count": 35,
      "metadata": {
        "colab": {
          "base_uri": "https://localhost:8080/",
          "height": 35
        },
        "id": "vI3DLBg9KaZx",
        "outputId": "dafcc1af-4159-4bd0-ec02-e99753b148be"
      },
      "outputs": [
        {
          "output_type": "execute_result",
          "data": {
            "application/vnd.google.colaboratory.intrinsic+json": {
              "type": "string"
            },
            "text/plain": [
              "'ashu ashu ashu ashu ashu ashu '"
            ]
          },
          "metadata": {},
          "execution_count": 35
        }
      ],
      "source": [
        "\"ashu \" * 6"
      ]
    },
    {
      "cell_type": "code",
      "execution_count": 37,
      "metadata": {
        "id": "pVEyYlPNKaZy"
      },
      "outputs": [],
      "source": [
        "s = \"my name is ashish kumar , Name of org is ineuron\""
      ]
    },
    {
      "cell_type": "code",
      "execution_count": 38,
      "metadata": {
        "colab": {
          "base_uri": "https://localhost:8080/",
          "height": 35
        },
        "id": "crWexfKVKaZy",
        "outputId": "3efd1a4a-a206-4311-a490-8bd8602fc7a5"
      },
      "outputs": [
        {
          "output_type": "execute_result",
          "data": {
            "application/vnd.google.colaboratory.intrinsic+json": {
              "type": "string"
            },
            "text/plain": [
              "'my name is ashish kumar , Name of org is ineuron'"
            ]
          },
          "metadata": {},
          "execution_count": 38
        }
      ],
      "source": [
        "s"
      ]
    },
    {
      "cell_type": "code",
      "execution_count": 39,
      "metadata": {
        "colab": {
          "base_uri": "https://localhost:8080/"
        },
        "id": "lOGTl_6aKaZz",
        "outputId": "94d83024-d2eb-4b10-e89a-2ca68b41c2b2"
      },
      "outputs": [
        {
          "output_type": "execute_result",
          "data": {
            "text/plain": [
              "3"
            ]
          },
          "metadata": {},
          "execution_count": 39
        }
      ],
      "source": [
        "s.find(\"name\")"
      ]
    },
    {
      "cell_type": "code",
      "execution_count": 41,
      "metadata": {
        "colab": {
          "base_uri": "https://localhost:8080/"
        },
        "id": "jYiJgvM7KaZz",
        "outputId": "2753b79e-0e4c-4dc7-960b-82dcf16099ae"
      },
      "outputs": [
        {
          "output_type": "stream",
          "name": "stdout",
          "text": [
            "3\n",
            "4\n",
            "5\n",
            "6\n"
          ]
        }
      ],
      "source": [
        "b = s.find(\"name\")\n",
        "for i in range(len(\"name\")):\n",
        "    print(b + i)"
      ]
    },
    {
      "cell_type": "code",
      "execution_count": 42,
      "metadata": {
        "colab": {
          "base_uri": "https://localhost:8080/",
          "height": 35
        },
        "id": "KEDzmcGaKaZ0",
        "outputId": "8678c8ff-dd70-423c-d67f-1b4c4d0858ff"
      },
      "outputs": [
        {
          "output_type": "execute_result",
          "data": {
            "application/vnd.google.colaboratory.intrinsic+json": {
              "type": "string"
            },
            "text/plain": [
              "'my name is ashish kumar , Name of org is ineuron'"
            ]
          },
          "metadata": {},
          "execution_count": 42
        }
      ],
      "source": [
        "s"
      ]
    },
    {
      "cell_type": "code",
      "execution_count": 43,
      "metadata": {
        "colab": {
          "base_uri": "https://localhost:8080/"
        },
        "id": "a-xgad4_KaZ1",
        "outputId": "e0c9aaf8-1ecb-43f7-de3c-6ac0354e02c2"
      },
      "outputs": [
        {
          "output_type": "execute_result",
          "data": {
            "text/plain": [
              "1"
            ]
          },
          "metadata": {},
          "execution_count": 43
        }
      ],
      "source": [
        "s.count(\"name\")"
      ]
    },
    {
      "cell_type": "code",
      "execution_count": 44,
      "metadata": {
        "colab": {
          "base_uri": "https://localhost:8080/",
          "height": 35
        },
        "id": "mfJd5hSxKaZ2",
        "outputId": "c3930eec-c9b5-4ed4-ac6d-224343803b84"
      },
      "outputs": [
        {
          "output_type": "execute_result",
          "data": {
            "application/vnd.google.colaboratory.intrinsic+json": {
              "type": "string"
            },
            "text/plain": [
              "'my name is ashish kumar , Name of org is ineuron'"
            ]
          },
          "metadata": {},
          "execution_count": 44
        }
      ],
      "source": [
        "s "
      ]
    },
    {
      "cell_type": "code",
      "execution_count": 45,
      "metadata": {
        "colab": {
          "base_uri": "https://localhost:8080/"
        },
        "id": "D0PlZOOYKaZ2",
        "outputId": "a3cf5ad5-2621-45c9-9930-8601453c13e6"
      },
      "outputs": [
        {
          "output_type": "execute_result",
          "data": {
            "text/plain": [
              "['my',\n",
              " 'name',\n",
              " 'is',\n",
              " 'ashish',\n",
              " 'kumar',\n",
              " ',',\n",
              " 'Name',\n",
              " 'of',\n",
              " 'org',\n",
              " 'is',\n",
              " 'ineuron']"
            ]
          },
          "metadata": {},
          "execution_count": 45
        }
      ],
      "source": [
        "s.split()"
      ]
    },
    {
      "cell_type": "code",
      "execution_count": 46,
      "metadata": {
        "colab": {
          "base_uri": "https://localhost:8080/"
        },
        "id": "HQryHvIVKaZ2",
        "outputId": "c1377c63-cd17-48fe-f3d5-4891b79eca70"
      },
      "outputs": [
        {
          "output_type": "execute_result",
          "data": {
            "text/plain": [
              "list"
            ]
          },
          "metadata": {},
          "execution_count": 46
        }
      ],
      "source": [
        "type(s.split('na'))"
      ]
    },
    {
      "cell_type": "code",
      "execution_count": 47,
      "metadata": {
        "colab": {
          "base_uri": "https://localhost:8080/",
          "height": 35
        },
        "id": "PIX95efjKaZ3",
        "outputId": "8959d7d8-e0a9-4205-c761-5b599b40edad"
      },
      "outputs": [
        {
          "output_type": "execute_result",
          "data": {
            "application/vnd.google.colaboratory.intrinsic+json": {
              "type": "string"
            },
            "text/plain": [
              "'my name is ashish kumar , Name of org is ineuron'"
            ]
          },
          "metadata": {},
          "execution_count": 47
        }
      ],
      "source": [
        "s "
      ]
    },
    {
      "cell_type": "code",
      "execution_count": 48,
      "metadata": {
        "colab": {
          "base_uri": "https://localhost:8080/",
          "height": 35
        },
        "id": "7NwC-1GAKaZ3",
        "outputId": "6251358e-2b75-4667-f057-fdf7ade753e6"
      },
      "outputs": [
        {
          "output_type": "execute_result",
          "data": {
            "application/vnd.google.colaboratory.intrinsic+json": {
              "type": "string"
            },
            "text/plain": [
              "'MY NAME IS ASHISH KUMAR , NAME OF ORG IS INEURON'"
            ]
          },
          "metadata": {},
          "execution_count": 48
        }
      ],
      "source": [
        "s.upper()"
      ]
    },
    {
      "cell_type": "code",
      "execution_count": 49,
      "metadata": {
        "colab": {
          "base_uri": "https://localhost:8080/",
          "height": 35
        },
        "id": "w-zD8N9eKaZ3",
        "outputId": "44f79267-8595-48f8-85ee-0b99085b07cd"
      },
      "outputs": [
        {
          "output_type": "execute_result",
          "data": {
            "application/vnd.google.colaboratory.intrinsic+json": {
              "type": "string"
            },
            "text/plain": [
              "'my name is ashish kumar , name of org is ineuron'"
            ]
          },
          "metadata": {},
          "execution_count": 49
        }
      ],
      "source": [
        "s.lower()"
      ]
    },
    {
      "cell_type": "code",
      "execution_count": 50,
      "metadata": {
        "colab": {
          "base_uri": "https://localhost:8080/",
          "height": 35
        },
        "id": "VgtNjmvsKaZ4",
        "outputId": "aa7bc8b9-f7ff-414e-d749-ba5deeaa1530"
      },
      "outputs": [
        {
          "output_type": "execute_result",
          "data": {
            "application/vnd.google.colaboratory.intrinsic+json": {
              "type": "string"
            },
            "text/plain": [
              "'MY NAME IS ASHISH KUMAR , nAME OF ORG IS INEURON'"
            ]
          },
          "metadata": {},
          "execution_count": 50
        }
      ],
      "source": [
        "s.swapcase()"
      ]
    },
    {
      "cell_type": "code",
      "execution_count": 52,
      "metadata": {
        "colab": {
          "base_uri": "https://localhost:8080/",
          "height": 35
        },
        "id": "0n7-zvXOKaZ4",
        "outputId": "c2d2d892-d50b-4519-a2c9-377b60a0a62b"
      },
      "outputs": [
        {
          "output_type": "execute_result",
          "data": {
            "application/vnd.google.colaboratory.intrinsic+json": {
              "type": "string"
            },
            "text/plain": [
              "'m y   n a m e   i s   a s h i s h   k u m a r   ,   N a m e   o f   o r g   i s   i n e u r o n'"
            ]
          },
          "metadata": {},
          "execution_count": 52
        }
      ],
      "source": [
        "\" \".join(s)"
      ]
    },
    {
      "cell_type": "code",
      "execution_count": 53,
      "metadata": {
        "colab": {
          "base_uri": "https://localhost:8080/"
        },
        "id": "OA_QtL57KaZ4",
        "outputId": "ece0d3ac-b0dd-4a3b-f964-28e0edfbed41"
      },
      "outputs": [
        {
          "output_type": "execute_result",
          "data": {
            "text/plain": [
              "<reversed at 0x7f0e70866990>"
            ]
          },
          "metadata": {},
          "execution_count": 53
        }
      ],
      "source": [
        "reversed(s)"
      ]
    },
    {
      "cell_type": "code",
      "execution_count": 56,
      "metadata": {
        "colab": {
          "base_uri": "https://localhost:8080/"
        },
        "id": "OCQwvaY3KaZ5",
        "outputId": "029a5fba-40c3-42ad-cbf2-80090caccd98"
      },
      "outputs": [
        {
          "output_type": "stream",
          "name": "stdout",
          "text": [
            "['n']\n",
            "['o']\n",
            "['r']\n",
            "['u']\n",
            "['e']\n",
            "['n']\n",
            "['i']\n",
            "[' ']\n",
            "['s']\n",
            "['i']\n",
            "[' ']\n",
            "['g']\n",
            "['r']\n",
            "['o']\n",
            "[' ']\n",
            "['f']\n",
            "['o']\n",
            "[' ']\n",
            "['e']\n",
            "['m']\n",
            "['a']\n",
            "['N']\n",
            "[' ']\n",
            "[',']\n",
            "[' ']\n",
            "['r']\n",
            "['a']\n",
            "['m']\n",
            "['u']\n",
            "['k']\n",
            "[' ']\n",
            "['h']\n",
            "['s']\n",
            "['i']\n",
            "['h']\n",
            "['s']\n",
            "['a']\n",
            "[' ']\n",
            "['s']\n",
            "['i']\n",
            "[' ']\n",
            "['e']\n",
            "['m']\n",
            "['a']\n",
            "['n']\n",
            "[' ']\n",
            "['y']\n",
            "['m']\n"
          ]
        }
      ],
      "source": [
        "for i in reversed(s):\n",
        "    print(list(i))"
      ]
    },
    {
      "cell_type": "code",
      "execution_count": 57,
      "metadata": {
        "colab": {
          "base_uri": "https://localhost:8080/",
          "height": 35
        },
        "id": "Baue5ljBKaZ5",
        "outputId": "61a31a29-ede8-42f8-a32c-d168ef0a3c61"
      },
      "outputs": [
        {
          "output_type": "execute_result",
          "data": {
            "application/vnd.google.colaboratory.intrinsic+json": {
              "type": "string"
            },
            "text/plain": [
              "'norueni si gro fo emaN , ramuk hsihsa si eman ym'"
            ]
          },
          "metadata": {},
          "execution_count": 57
        }
      ],
      "source": [
        "s[::-1]"
      ]
    },
    {
      "cell_type": "code",
      "execution_count": 59,
      "metadata": {
        "id": "ZeyZPqOMKaZ5"
      },
      "outputs": [],
      "source": [
        "s = \"       as hi  sh \""
      ]
    },
    {
      "cell_type": "code",
      "execution_count": 60,
      "metadata": {
        "colab": {
          "base_uri": "https://localhost:8080/",
          "height": 35
        },
        "id": "V8Afz5D1KaZ5",
        "outputId": "ea92b30f-b8b8-4662-f36b-aa6c2f1d591f"
      },
      "outputs": [
        {
          "output_type": "execute_result",
          "data": {
            "application/vnd.google.colaboratory.intrinsic+json": {
              "type": "string"
            },
            "text/plain": [
              "'       as hi  sh '"
            ]
          },
          "metadata": {},
          "execution_count": 60
        }
      ],
      "source": [
        "s"
      ]
    },
    {
      "cell_type": "code",
      "execution_count": 61,
      "metadata": {
        "colab": {
          "base_uri": "https://localhost:8080/",
          "height": 35
        },
        "id": "8OB7izl6KaZ6",
        "outputId": "bd079576-5337-45c4-c60a-e1155cdf10bb"
      },
      "outputs": [
        {
          "output_type": "execute_result",
          "data": {
            "application/vnd.google.colaboratory.intrinsic+json": {
              "type": "string"
            },
            "text/plain": [
              "'as hi  sh'"
            ]
          },
          "metadata": {},
          "execution_count": 61
        }
      ],
      "source": [
        "s.strip()"
      ]
    },
    {
      "cell_type": "code",
      "execution_count": 62,
      "metadata": {
        "colab": {
          "base_uri": "https://localhost:8080/",
          "height": 35
        },
        "id": "AdBPIMtwKaZ6",
        "outputId": "f9137e88-54cf-4738-9c0b-b9f72c074f81"
      },
      "outputs": [
        {
          "output_type": "execute_result",
          "data": {
            "application/vnd.google.colaboratory.intrinsic+json": {
              "type": "string"
            },
            "text/plain": [
              "'as hi  sh '"
            ]
          },
          "metadata": {},
          "execution_count": 62
        }
      ],
      "source": [
        "s.lstrip()"
      ]
    },
    {
      "cell_type": "code",
      "execution_count": 63,
      "metadata": {
        "colab": {
          "base_uri": "https://localhost:8080/",
          "height": 35
        },
        "id": "lGvAf3kgKaZ6",
        "outputId": "348cfef9-19c6-4eff-8b35-16df7a781c5e"
      },
      "outputs": [
        {
          "output_type": "execute_result",
          "data": {
            "application/vnd.google.colaboratory.intrinsic+json": {
              "type": "string"
            },
            "text/plain": [
              "'       as hi  sh'"
            ]
          },
          "metadata": {},
          "execution_count": 63
        }
      ],
      "source": [
        "s.rstrip()"
      ]
    },
    {
      "cell_type": "code",
      "execution_count": 64,
      "metadata": {
        "id": "zMdZ9wGGKaZ6"
      },
      "outputs": [],
      "source": [
        "s = \"greeting from ineuron\""
      ]
    },
    {
      "cell_type": "code",
      "execution_count": 66,
      "metadata": {
        "id": "bAJ5LOvDKaZ7"
      },
      "outputs": [],
      "source": [
        "s = s.replace(\"gr\" , 'swer')"
      ]
    },
    {
      "cell_type": "code",
      "execution_count": 67,
      "metadata": {
        "colab": {
          "base_uri": "https://localhost:8080/",
          "height": 35
        },
        "id": "x3mNBLOUKaZ7",
        "outputId": "b2d07917-0a73-47e2-ccd3-3f7373d4127d"
      },
      "outputs": [
        {
          "output_type": "execute_result",
          "data": {
            "application/vnd.google.colaboratory.intrinsic+json": {
              "type": "string"
            },
            "text/plain": [
              "'swereeting from ineuron'"
            ]
          },
          "metadata": {},
          "execution_count": 67
        }
      ],
      "source": [
        "s"
      ]
    },
    {
      "cell_type": "code",
      "execution_count": 68,
      "metadata": {
        "id": "NmSB18HPKaZ7"
      },
      "outputs": [],
      "source": [
        "s = \"ashu\""
      ]
    },
    {
      "cell_type": "code",
      "execution_count": 69,
      "metadata": {
        "id": "QVadY0LKKaZ7"
      },
      "outputs": [],
      "source": [
        "s = s.replace(\"u\" , \"kumar\")"
      ]
    },
    {
      "cell_type": "code",
      "execution_count": 70,
      "metadata": {
        "colab": {
          "base_uri": "https://localhost:8080/",
          "height": 35
        },
        "id": "HEbV7dYcKaZ7",
        "outputId": "ae36c7ae-2bd6-44f9-ab50-7b36f22c6b35"
      },
      "outputs": [
        {
          "output_type": "execute_result",
          "data": {
            "application/vnd.google.colaboratory.intrinsic+json": {
              "type": "string"
            },
            "text/plain": [
              "'ashkumar'"
            ]
          },
          "metadata": {},
          "execution_count": 70
        }
      ],
      "source": [
        "s"
      ]
    },
    {
      "cell_type": "code",
      "execution_count": 71,
      "metadata": {
        "colab": {
          "base_uri": "https://localhost:8080/",
          "height": 165
        },
        "id": "Q4YDNjB3KaZ8",
        "outputId": "1a262979-19fe-4e8a-d1f0-6117599af53c"
      },
      "outputs": [
        {
          "output_type": "error",
          "ename": "TypeError",
          "evalue": "ignored",
          "traceback": [
            "\u001b[0;31m---------------------------------------------------------------------------\u001b[0m",
            "\u001b[0;31mTypeError\u001b[0m                                 Traceback (most recent call last)",
            "\u001b[0;32m<ipython-input-71-45b9a7bdbadb>\u001b[0m in \u001b[0;36m<module>\u001b[0;34m()\u001b[0m\n\u001b[0;32m----> 1\u001b[0;31m \u001b[0ms\u001b[0m\u001b[0;34m[\u001b[0m\u001b[0;36m1\u001b[0m\u001b[0;34m]\u001b[0m \u001b[0;34m=\u001b[0m \u001b[0;34m\"kumar\"\u001b[0m\u001b[0;34m\u001b[0m\u001b[0;34m\u001b[0m\u001b[0m\n\u001b[0m",
            "\u001b[0;31mTypeError\u001b[0m: 'str' object does not support item assignment"
          ]
        }
      ],
      "source": [
        "s[1] = \"kumar\""
      ]
    },
    {
      "cell_type": "code",
      "execution_count": 72,
      "metadata": {
        "id": "TVoFZGTpKaZ8"
      },
      "outputs": [],
      "source": [
        "s = \"ashs\""
      ]
    },
    {
      "cell_type": "code",
      "execution_count": 73,
      "metadata": {
        "colab": {
          "base_uri": "https://localhost:8080/",
          "height": 35
        },
        "id": "68J9sjNiKaZ8",
        "outputId": "218b6aae-a85f-4c43-afa4-7d86b5ba0740"
      },
      "outputs": [
        {
          "output_type": "execute_result",
          "data": {
            "application/vnd.google.colaboratory.intrinsic+json": {
              "type": "string"
            },
            "text/plain": [
              "'@@@@@@@@@@ashs@@@@@@@@@'"
            ]
          },
          "metadata": {},
          "execution_count": 73
        }
      ],
      "source": [
        "s.center(23 , '@')"
      ]
    },
    {
      "cell_type": "code",
      "execution_count": 75,
      "metadata": {
        "id": "gugJriSjKaZ8"
      },
      "outputs": [],
      "source": [
        "s = \"ashish\\kumar\\singh\""
      ]
    },
    {
      "cell_type": "code",
      "execution_count": 76,
      "metadata": {
        "colab": {
          "base_uri": "https://localhost:8080/",
          "height": 35
        },
        "id": "xu0gdZ9_KaZ9",
        "outputId": "17d74c1f-8c0a-42b0-f08f-9fb698e29106"
      },
      "outputs": [
        {
          "output_type": "execute_result",
          "data": {
            "application/vnd.google.colaboratory.intrinsic+json": {
              "type": "string"
            },
            "text/plain": [
              "'ashish\\\\kumar\\\\singh'"
            ]
          },
          "metadata": {},
          "execution_count": 76
        }
      ],
      "source": [
        "s"
      ]
    },
    {
      "cell_type": "code",
      "execution_count": 77,
      "metadata": {
        "colab": {
          "base_uri": "https://localhost:8080/",
          "height": 35
        },
        "id": "nm4x7KoVKaZ9",
        "outputId": "d79ecbca-def2-4ccc-ff57-7787f0024509"
      },
      "outputs": [
        {
          "output_type": "execute_result",
          "data": {
            "application/vnd.google.colaboratory.intrinsic+json": {
              "type": "string"
            },
            "text/plain": [
              "'ashish\\\\kumar\\\\singh'"
            ]
          },
          "metadata": {},
          "execution_count": 77
        }
      ],
      "source": [
        "s.expandtabs()"
      ]
    },
    {
      "cell_type": "code",
      "source": [
        "a = \"ashish\""
      ],
      "metadata": {
        "id": "fAe6qarnNMF4"
      },
      "execution_count": 80,
      "outputs": []
    },
    {
      "cell_type": "code",
      "execution_count": 81,
      "metadata": {
        "colab": {
          "base_uri": "https://localhost:8080/"
        },
        "id": "NA8_OlzOKaZ-",
        "outputId": "aac9d97d-c01d-49ba-93a0-f701afcfd5b6"
      },
      "outputs": [
        {
          "output_type": "stream",
          "name": "stdout",
          "text": [
            "0\n"
          ]
        }
      ],
      "source": [
        "for i in range(len(a)):\n",
        "    if(a[i]==\"a\"):\n",
        "        print(i)"
      ]
    },
    {
      "cell_type": "code",
      "execution_count": 82,
      "metadata": {
        "colab": {
          "base_uri": "https://localhost:8080/",
          "height": 35
        },
        "id": "yuuN220hKaZ-",
        "outputId": "708ffba1-dad6-42e5-81c3-1f9600de06af"
      },
      "outputs": [
        {
          "output_type": "execute_result",
          "data": {
            "application/vnd.google.colaboratory.intrinsic+json": {
              "type": "string"
            },
            "text/plain": [
              "'iNeuronshish'"
            ]
          },
          "metadata": {},
          "execution_count": 82
        }
      ],
      "source": [
        "d=a.replace(\"a\",\"iNeuron\")\n",
        "d"
      ]
    },
    {
      "cell_type": "code",
      "execution_count": 83,
      "metadata": {
        "colab": {
          "base_uri": "https://localhost:8080/"
        },
        "id": "d3g5g7htKaZ_",
        "outputId": "79307c8d-299f-402c-acb5-114bc0e7455f"
      },
      "outputs": [
        {
          "output_type": "stream",
          "name": "stdout",
          "text": [
            "['ashish']\n"
          ]
        }
      ],
      "source": [
        "e=a.split()\n",
        "print(e)"
      ]
    },
    {
      "cell_type": "code",
      "execution_count": 84,
      "metadata": {
        "colab": {
          "base_uri": "https://localhost:8080/"
        },
        "id": "czOS8PuwKaZ_",
        "outputId": "ab59dbc9-d3c1-4c9c-bbd1-95cf51eb348d"
      },
      "outputs": [
        {
          "output_type": "stream",
          "name": "stdout",
          "text": [
            "we all are a part of full stack\n",
            "The count of a is  5\n",
            "3\n",
            "7\n",
            "11\n",
            "14\n",
            "28\n",
            "We iNeuronll iNeuronre iNeuron piNeuronrt of Full StiNeuronck\n",
            "['We', 'all', 'are', 'a', 'part', 'of', 'Full', 'Stack']\n"
          ]
        }
      ],
      "source": [
        "a=\"We all are a part of Full Stack\"\n",
        "b=a.lower()\n",
        "print(b)\n",
        "c=a.count(\"a\")\n",
        "print(\"The count of a is \",c)\n",
        "for i in range(len(a)):\n",
        "    if(a[i]==\"a\"):\n",
        "        print(i)\n",
        "d=a.replace(\"a\",\"iNeuron\")\n",
        "print(d)\n",
        "e=a.split()\n",
        "print(e)\n"
      ]
    },
    {
      "cell_type": "code",
      "execution_count": 85,
      "metadata": {
        "colab": {
          "base_uri": "https://localhost:8080/"
        },
        "id": "HM3v7lb3KaaA",
        "outputId": "49e40675-bda6-48a8-fedd-c4876598565e"
      },
      "outputs": [
        {
          "output_type": "stream",
          "name": "stdout",
          "text": [
            "we are all part of full stack\n",
            "4\n",
            "[3, 7, 12, 26]\n",
            "We Ineuronre Ineuronll pIneuronrt of Full StIneuronck\n",
            "['We', 'are', 'all', 'part', 'of', 'Full', 'Stack']\n"
          ]
        }
      ],
      "source": [
        "a = \"We are all part of Full Stack\"\n",
        "\n",
        "# 1. Normalizing entire string in lower case\n",
        "print(a.lower())\n",
        "# 2. Finding number of occurances of a in entire string\n",
        "print(len([i for i in range(len(a)) if a[i] == 'a']))\n",
        "# 3. Indexes where a is present \n",
        "print([i for i in range(len(a)) if a[i] == 'a'])  \n",
        "# 4 . replace all a's with ineuron\n",
        "print(a.replace('a','Ineuron'))\n",
        "#5. print all the words as a list\n",
        "print([i for i in a.split() ])\n"
      ]
    },
    {
      "cell_type": "code",
      "execution_count": 86,
      "metadata": {
        "colab": {
          "base_uri": "https://localhost:8080/"
        },
        "id": "LfTQOI1YKaaB",
        "outputId": "2508c626-7883-46ce-c231-5f166e766d01"
      },
      "outputs": [
        {
          "output_type": "stream",
          "name": "stdout",
          "text": [
            "lower : we are part of full stack\n",
            "Count of a : 3\n",
            "3\n",
            "8\n",
            "22\n",
            "Replace a with iNeuron : We iNeuronre PiNeuronrt of Full StiNeuronck\n"
          ]
        }
      ],
      "source": [
        "a='We are Part of Full Stack'\n",
        "b=a.lower()\n",
        "print('lower :',b)\n",
        "c=a.count('a')\n",
        "print('Count of a :',c)\n",
        "for i in range(1,25):\n",
        "    if a[i]== 'a':\n",
        "        print(i)\n",
        "str=a.replace('a','iNeuron')\n",
        "print('Replace a with iNeuron :',str)\n"
      ]
    },
    {
      "cell_type": "code",
      "execution_count": 87,
      "metadata": {
        "colab": {
          "base_uri": "https://localhost:8080/"
        },
        "id": "l4PhYlxBKaaB",
        "outputId": "33a46b15-2b7a-41a8-86c8-5fe9c03ebd2b"
      },
      "outputs": [
        {
          "output_type": "stream",
          "name": "stdout",
          "text": [
            "count of a= 5\n"
          ]
        }
      ],
      "source": [
        "a=\"we all are a part of Full Stack\"\n",
        "a=a.lower()\n",
        "c=a.count(\"a\")\n",
        "print(\"count of a=\",c)"
      ]
    },
    {
      "cell_type": "code",
      "execution_count": 88,
      "metadata": {
        "colab": {
          "base_uri": "https://localhost:8080/"
        },
        "id": "EV20WisYKaaB",
        "outputId": "295feb9a-60f2-4138-e009-64acde7c7247"
      },
      "outputs": [
        {
          "output_type": "stream",
          "name": "stdout",
          "text": [
            "count of a= 5\n",
            "all indexes of 'a': [3, 7, 11, 14, 28]\n"
          ]
        }
      ],
      "source": [
        "a=\"we all are a part of Full Stack\"\n",
        "a=a.lower()\n",
        "c=a.count(\"a\")\n",
        "print(\"count of a=\",c)\n",
        "l=[]\n",
        "for e in range(len(a)):\n",
        "    if a[e]==\"a\":\n",
        "        l.append(e)\n",
        "print(\"all indexes of 'a':\",l)                                                                   "
      ]
    },
    {
      "cell_type": "code",
      "execution_count": 89,
      "metadata": {
        "colab": {
          "base_uri": "https://localhost:8080/"
        },
        "id": "CqRU81htKaaC",
        "outputId": "533b1f7a-cbb0-4fe3-9149-c2bff8364225"
      },
      "outputs": [
        {
          "output_type": "execute_result",
          "data": {
            "text/plain": [
              "['we',\n",
              " 'iNeuronll',\n",
              " 'iNeuronre',\n",
              " 'iNeuron',\n",
              " 'piNeuronrt',\n",
              " 'of',\n",
              " 'full',\n",
              " 'stiNeuronck']"
            ]
          },
          "metadata": {},
          "execution_count": 89
        }
      ],
      "source": [
        "a=a.replace(\"a\",\"iNeuron\")    \n",
        "a.split() "
      ]
    },
    {
      "cell_type": "code",
      "execution_count": 90,
      "metadata": {
        "colab": {
          "base_uri": "https://localhost:8080/"
        },
        "id": "clW8E4MSKaaC",
        "outputId": "8dcb6bc8-4ede-497c-b37f-eff737c96481"
      },
      "outputs": [
        {
          "output_type": "stream",
          "name": "stdout",
          "text": [
            "The count of a is we all are a part of full stack\n",
            "Indexs of a [3, 7, 11, 14, 28]\n",
            "we ineuronll ineuronre ineuron pineuronrt of full stineuronck\n"
          ]
        },
        {
          "output_type": "execute_result",
          "data": {
            "text/plain": [
              "['we',\n",
              " 'ineuronll',\n",
              " 'ineuronre',\n",
              " 'ineuron',\n",
              " 'pineuronrt',\n",
              " 'of',\n",
              " 'full',\n",
              " 'stineuronck']"
            ]
          },
          "metadata": {},
          "execution_count": 90
        }
      ],
      "source": [
        "a = \"we all are a part of Full Stack\"\n",
        "a = a.lower()\n",
        "count_a = a.count('a')\n",
        "print(\"The count of a is\",a)\n",
        "index_a=[]\n",
        "for i in range(len(a)):\n",
        "    if(a[i]=='a'):\n",
        "        index_a.append(i)\n",
        "print(\"Indexs of a\",index_a)\n",
        "for i in range(len(a)):\n",
        "    if(a[i]=='a'):\n",
        "        a=a.replace('a','ineuron')\n",
        "        print(a)\n",
        "        \n",
        "a.split()\n"
      ]
    },
    {
      "cell_type": "code",
      "execution_count": 91,
      "metadata": {
        "id": "yosr8Yb-KaaC"
      },
      "outputs": [],
      "source": [
        "s = \"Fds\""
      ]
    },
    {
      "cell_type": "code",
      "execution_count": 92,
      "metadata": {
        "colab": {
          "base_uri": "https://localhost:8080/"
        },
        "id": "qpy_F_UAKaaD",
        "outputId": "a00e5358-bfec-482d-95fc-9669debf1ad3"
      },
      "outputs": [
        {
          "output_type": "execute_result",
          "data": {
            "text/plain": [
              "False"
            ]
          },
          "metadata": {},
          "execution_count": 92
        }
      ],
      "source": [
        "s.isupper()"
      ]
    },
    {
      "cell_type": "code",
      "execution_count": 93,
      "metadata": {
        "colab": {
          "base_uri": "https://localhost:8080/"
        },
        "id": "S2n7WDC_KaaD",
        "outputId": "7cec8702-e442-4bdf-f9b6-f1540c698b15"
      },
      "outputs": [
        {
          "output_type": "execute_result",
          "data": {
            "text/plain": [
              "False"
            ]
          },
          "metadata": {},
          "execution_count": 93
        }
      ],
      "source": [
        "s.islower()"
      ]
    },
    {
      "cell_type": "code",
      "execution_count": 94,
      "metadata": {
        "colab": {
          "base_uri": "https://localhost:8080/"
        },
        "id": "TUHG_NYHKaaD",
        "outputId": "d46d39bd-cdf0-4789-a599-f1d6aba966c2"
      },
      "outputs": [
        {
          "output_type": "execute_result",
          "data": {
            "text/plain": [
              "False"
            ]
          },
          "metadata": {},
          "execution_count": 94
        }
      ],
      "source": [
        "s.isspace()"
      ]
    },
    {
      "cell_type": "code",
      "execution_count": 95,
      "metadata": {
        "colab": {
          "base_uri": "https://localhost:8080/"
        },
        "id": "Dg796g8MKaaE",
        "outputId": "deda5ad8-9d76-4440-9933-4c4a81825828"
      },
      "outputs": [
        {
          "output_type": "execute_result",
          "data": {
            "text/plain": [
              "False"
            ]
          },
          "metadata": {},
          "execution_count": 95
        }
      ],
      "source": [
        "s.isdigit()"
      ]
    },
    {
      "cell_type": "code",
      "execution_count": 96,
      "metadata": {
        "colab": {
          "base_uri": "https://localhost:8080/"
        },
        "id": "wD_EEPvHKaaE",
        "outputId": "bd008f31-4274-4e48-de17-c9658eb55166"
      },
      "outputs": [
        {
          "output_type": "execute_result",
          "data": {
            "text/plain": [
              "True"
            ]
          },
          "metadata": {},
          "execution_count": 96
        }
      ],
      "source": [
        "s.endswith('s')"
      ]
    },
    {
      "cell_type": "code",
      "execution_count": 97,
      "metadata": {
        "colab": {
          "base_uri": "https://localhost:8080/"
        },
        "id": "bS1x-oA_KaaE",
        "outputId": "9754fce4-4ecf-4027-f68e-a3478e73c2c5"
      },
      "outputs": [
        {
          "output_type": "execute_result",
          "data": {
            "text/plain": [
              "False"
            ]
          },
          "metadata": {},
          "execution_count": 97
        }
      ],
      "source": [
        "s.startswith(\"s\")"
      ]
    },
    {
      "cell_type": "code",
      "execution_count": 98,
      "metadata": {
        "colab": {
          "base_uri": "https://localhost:8080/"
        },
        "id": "Q4ohzreCKaaE",
        "outputId": "63c50e57-9b17-492d-90fd-41af27757462"
      },
      "outputs": [
        {
          "output_type": "execute_result",
          "data": {
            "text/plain": [
              "True"
            ]
          },
          "metadata": {},
          "execution_count": 98
        }
      ],
      "source": [
        "s.isalnum()"
      ]
    },
    {
      "cell_type": "code",
      "execution_count": 99,
      "metadata": {
        "colab": {
          "base_uri": "https://localhost:8080/"
        },
        "id": "_cJbqGKMKaaF",
        "outputId": "c5de6ae5-cbfa-4f2c-f841-4946fbe06b0a"
      },
      "outputs": [
        {
          "output_type": "execute_result",
          "data": {
            "text/plain": [
              "True"
            ]
          },
          "metadata": {},
          "execution_count": 99
        }
      ],
      "source": [
        "s.isalpha()"
      ]
    },
    {
      "cell_type": "code",
      "execution_count": 100,
      "metadata": {
        "colab": {
          "base_uri": "https://localhost:8080/"
        },
        "id": "qQ3ravmoKaaF",
        "outputId": "c395d93c-afa4-41e3-aa68-40b8e0399f6a"
      },
      "outputs": [
        {
          "output_type": "execute_result",
          "data": {
            "text/plain": [
              "True"
            ]
          },
          "metadata": {},
          "execution_count": 100
        }
      ],
      "source": [
        "s.istitle()"
      ]
    },
    {
      "cell_type": "code",
      "execution_count": 101,
      "metadata": {
        "colab": {
          "base_uri": "https://localhost:8080/"
        },
        "id": "0NevX2hsKaaF",
        "outputId": "f6e9b3e6-415a-4ebe-9dc2-f97f2cee1022"
      },
      "outputs": [
        {
          "output_type": "execute_result",
          "data": {
            "text/plain": [
              "3"
            ]
          },
          "metadata": {},
          "execution_count": 101
        }
      ],
      "source": [
        "len(s)"
      ]
    },
    {
      "cell_type": "code",
      "execution_count": 102,
      "metadata": {
        "id": "5ZXBsYV0KaaF"
      },
      "outputs": [],
      "source": [
        "s = \"this is a full stack batch\""
      ]
    },
    {
      "cell_type": "code",
      "execution_count": 103,
      "metadata": {
        "colab": {
          "base_uri": "https://localhost:8080/"
        },
        "id": "mqQo-ZdoKaaG",
        "outputId": "79bac6ea-6904-434c-8277-8f623a39ce5f"
      },
      "outputs": [
        {
          "output_type": "stream",
          "name": "stdout",
          "text": [
            "26\n"
          ]
        }
      ],
      "source": [
        "count = 0 \n",
        "for i in  s :\n",
        "    count = count +1 \n",
        "print(count)"
      ]
    },
    {
      "cell_type": "code",
      "execution_count": 104,
      "metadata": {
        "colab": {
          "base_uri": "https://localhost:8080/"
        },
        "id": "fmuo-DZ_KaaG",
        "outputId": "81f8fd99-9ff7-4d26-e1ba-6625739f115d"
      },
      "outputs": [
        {
          "output_type": "stream",
          "name": "stdout",
          "text": [
            "h\n",
            "c\n",
            "t\n",
            "a\n",
            "b\n",
            " \n",
            "k\n",
            "c\n",
            "a\n",
            "t\n",
            "s\n",
            " \n",
            "l\n",
            "l\n",
            "u\n",
            "f\n",
            " \n",
            "a\n",
            " \n",
            "s\n",
            "i\n",
            " \n",
            "s\n",
            "i\n",
            "h\n"
          ]
        }
      ],
      "source": [
        "for i in range(1, len(s)) :\n",
        "    print(s[-i])"
      ]
    },
    {
      "cell_type": "code",
      "execution_count": 106,
      "metadata": {
        "colab": {
          "base_uri": "https://localhost:8080/"
        },
        "id": "SM72Pr3CKaaG",
        "outputId": "e0026b24-3ffc-4957-972c-1d2507eebd70"
      },
      "outputs": [
        {
          "output_type": "stream",
          "name": "stdout",
          "text": [
            "u\n",
            "h\n",
            "s\n",
            "a\n"
          ]
        }
      ],
      "source": [
        "s = \"ashu\"\n",
        "ch = len(s) -1\n",
        "while ch >= 0 :\n",
        "    print(s[ch])\n",
        "    ch = ch -1 "
      ]
    },
    {
      "cell_type": "code",
      "execution_count": 107,
      "metadata": {
        "colab": {
          "base_uri": "https://localhost:8080/"
        },
        "id": "JFpRKSShKaaG",
        "outputId": "67be97b1-f043-43bd-c4ee-042288ff0dee"
      },
      "outputs": [
        {
          "output_type": "stream",
          "name": "stdout",
          "text": [
            "i is a vowel\n",
            "n is not a vowel\n",
            "e is a vowel\n",
            "r is not a vowel\n",
            "u is a vowel\n",
            "o is a vowel\n",
            "n is not a vowel\n"
          ]
        }
      ],
      "source": [
        "name = \"ineruon\"\n",
        "vowels = \"AaEeIiOoUu\"\n",
        "\n",
        "for i in name :\n",
        "    if i in vowels:\n",
        "        print(\"{} is a vowel\".format(i))\n",
        "    else :\n",
        "        print(\"{} is not a vowel\".format(i))\n"
      ]
    },
    {
      "cell_type": "code",
      "execution_count": 111,
      "metadata": {
        "colab": {
          "base_uri": "https://localhost:8080/",
          "height": 35
        },
        "id": "tgq1Q_DNKaaH",
        "outputId": "04260ab0-60f3-4401-d154-a929f138547d"
      },
      "outputs": [
        {
          "output_type": "execute_result",
          "data": {
            "application/vnd.google.colaboratory.intrinsic+json": {
              "type": "string"
            },
            "text/plain": [
              "' my name is sudh'"
            ]
          },
          "metadata": {},
          "execution_count": 111
        }
      ],
      "source": [
        "\" {} name is sudh\".format(\"my\")"
      ]
    },
    {
      "cell_type": "code",
      "execution_count": 112,
      "metadata": {
        "colab": {
          "base_uri": "https://localhost:8080/"
        },
        "id": "cHkLQuTxKaaH",
        "outputId": "40a546a6-1dab-49ee-e7c5-6d3e7b781abe"
      },
      "outputs": [
        {
          "name": "stdout",
          "output_type": "stream",
          "text": [
            "my\n",
            "name\n"
          ]
        }
      ],
      "source": [
        "a = input()\n",
        "b = input()"
      ]
    },
    {
      "cell_type": "code",
      "execution_count": 113,
      "metadata": {
        "colab": {
          "base_uri": "https://localhost:8080/"
        },
        "id": "aQpkjGOFKaaH",
        "outputId": "d7859b31-f719-4376-ae3b-b68622264bf8"
      },
      "outputs": [
        {
          "output_type": "execute_result",
          "data": {
            "text/plain": [
              "(<function str.format>, ('my', 'name', 'Fsdfsfs'))"
            ]
          },
          "metadata": {},
          "execution_count": 113
        }
      ],
      "source": [
        "\"{} name {} ashish {} \".format,(a, b, \"Fsdfsfs\")"
      ]
    },
    {
      "cell_type": "code",
      "execution_count": 114,
      "metadata": {
        "id": "566o4BziKaaI"
      },
      "outputs": [],
      "source": [
        "a = \"xyx\"\n",
        "b = 2002\n",
        "c = \"eye\"\n",
        "d = \"nitin\""
      ]
    },
    {
      "cell_type": "code",
      "execution_count": 115,
      "metadata": {
        "colab": {
          "base_uri": "https://localhost:8080/"
        },
        "id": "QiRWMOjoKaaI",
        "outputId": "036451d5-865d-4934-d5d7-5682609a0a9d"
      },
      "outputs": [
        {
          "output_type": "stream",
          "name": "stdout",
          "text": [
            "enter a data for which you would like to check pelindrom asa\n",
            "its a same \n"
          ]
        }
      ],
      "source": [
        "s = input(\"enter a data for which you would like to check pelindrom \" )\n",
        "s1 = s[::-1]\n",
        "if s ==s1:\n",
        "    print(\"its a same \")\n",
        "else :\n",
        "    print(\"its not a same \")"
      ]
    },
    {
      "cell_type": "code",
      "execution_count": 116,
      "metadata": {
        "id": "XnLYAk5rKaaI"
      },
      "outputs": [],
      "source": [
        "l = [\"ashu\" , 34,34,45,[34,45]]"
      ]
    },
    {
      "cell_type": "code",
      "execution_count": 117,
      "metadata": {
        "colab": {
          "base_uri": "https://localhost:8080/"
        },
        "id": "1lOnGw5kKaaI",
        "outputId": "48a412af-c14a-4a86-8f2a-e846b472029e"
      },
      "outputs": [
        {
          "output_type": "execute_result",
          "data": {
            "text/plain": [
              "45"
            ]
          },
          "metadata": {},
          "execution_count": 117
        }
      ],
      "source": [
        "l[3]"
      ]
    },
    {
      "cell_type": "code",
      "execution_count": 118,
      "metadata": {
        "colab": {
          "base_uri": "https://localhost:8080/"
        },
        "id": "GWQ4U4SUKaaJ",
        "outputId": "58536f11-77ce-4b43-8923-f2eaca84393f"
      },
      "outputs": [
        {
          "output_type": "execute_result",
          "data": {
            "text/plain": [
              "['ashu', 34, 34]"
            ]
          },
          "metadata": {},
          "execution_count": 118
        }
      ],
      "source": [
        "l[0:3]"
      ]
    },
    {
      "cell_type": "code",
      "execution_count": 119,
      "metadata": {
        "colab": {
          "base_uri": "https://localhost:8080/"
        },
        "id": "JL-SbSKHKaaJ",
        "outputId": "548498f9-d3d4-417a-ccc3-7d5c3d89a1a4"
      },
      "outputs": [
        {
          "output_type": "execute_result",
          "data": {
            "text/plain": [
              "[45, 34, 34]"
            ]
          },
          "metadata": {},
          "execution_count": 119
        }
      ],
      "source": [
        "l[3:0:-1]"
      ]
    },
    {
      "cell_type": "code",
      "execution_count": 120,
      "metadata": {
        "colab": {
          "base_uri": "https://localhost:8080/"
        },
        "id": "mfK_uU3XKaaJ",
        "outputId": "3cb2816a-8c25-4792-d42b-63b53d11d116"
      },
      "outputs": [
        {
          "output_type": "execute_result",
          "data": {
            "text/plain": [
              "[[34, 45], 45, 34, 34, 'ashu']"
            ]
          },
          "metadata": {},
          "execution_count": 120
        }
      ],
      "source": [
        "l[::-1]"
      ]
    },
    {
      "cell_type": "code",
      "execution_count": 121,
      "metadata": {
        "colab": {
          "base_uri": "https://localhost:8080/"
        },
        "id": "6-atrVH9KaaJ",
        "outputId": "9b2b800b-8f73-41bb-b7b9-95a059dd456d"
      },
      "outputs": [
        {
          "output_type": "execute_result",
          "data": {
            "text/plain": [
              "['ashu', 34, 34, 45, [34, 45]]"
            ]
          },
          "metadata": {},
          "execution_count": 121
        }
      ],
      "source": [
        "l "
      ]
    },
    {
      "cell_type": "code",
      "execution_count": 123,
      "metadata": {
        "colab": {
          "base_uri": "https://localhost:8080/"
        },
        "id": "doADwNWcKaaK",
        "outputId": "08b45240-8e2a-486c-e662-223f9c3ade7c"
      },
      "outputs": [
        {
          "output_type": "execute_result",
          "data": {
            "text/plain": [
              "['a', 's', 'h', 'i', 's', 'h']"
            ]
          },
          "metadata": {},
          "execution_count": 123
        }
      ],
      "source": [
        "s = \"ashish\"\n",
        "s = list(s)\n",
        "s"
      ]
    },
    {
      "cell_type": "code",
      "execution_count": 125,
      "metadata": {
        "id": "9V4IhOsFKaaK"
      },
      "outputs": [],
      "source": [
        "s = [\"ashish\"]"
      ]
    },
    {
      "cell_type": "code",
      "execution_count": 126,
      "metadata": {
        "colab": {
          "base_uri": "https://localhost:8080/"
        },
        "id": "1CoaXX5TKaaK",
        "outputId": "979212a5-d3b9-436b-9501-edd5489af5d1"
      },
      "outputs": [
        {
          "output_type": "execute_result",
          "data": {
            "text/plain": [
              "['ashu', 34, 34, 45, [34, 45], 'ashish']"
            ]
          },
          "metadata": {},
          "execution_count": 126
        }
      ],
      "source": [
        "l + s "
      ]
    },
    {
      "cell_type": "code",
      "execution_count": 127,
      "metadata": {
        "colab": {
          "base_uri": "https://localhost:8080/"
        },
        "id": "Aox6DeOFKaaK",
        "outputId": "44418bc1-0084-4543-aaec-386bd130e800"
      },
      "outputs": [
        {
          "output_type": "execute_result",
          "data": {
            "text/plain": [
              "['ashu', 34, 34, 45, [34, 45]]"
            ]
          },
          "metadata": {},
          "execution_count": 127
        }
      ],
      "source": [
        "l"
      ]
    },
    {
      "cell_type": "code",
      "execution_count": 128,
      "metadata": {
        "colab": {
          "base_uri": "https://localhost:8080/"
        },
        "id": "WlnaRuLzKaaL",
        "outputId": "56bb01ff-c47c-4975-f9fe-fb82bd6a7389"
      },
      "outputs": [
        {
          "output_type": "execute_result",
          "data": {
            "text/plain": [
              "['ashu', 34, 34, 45, [34, 45], 'ashu', 34, 34, 45, [34, 45]]"
            ]
          },
          "metadata": {},
          "execution_count": 128
        }
      ],
      "source": [
        "l *2"
      ]
    },
    {
      "cell_type": "code",
      "execution_count": 129,
      "metadata": {
        "colab": {
          "base_uri": "https://localhost:8080/"
        },
        "id": "eEzWzFesKaaL",
        "outputId": "d434d133-b4d5-4f77-b87d-d31543450da7"
      },
      "outputs": [
        {
          "output_type": "execute_result",
          "data": {
            "text/plain": [
              "5"
            ]
          },
          "metadata": {},
          "execution_count": 129
        }
      ],
      "source": [
        "len(l)"
      ]
    },
    {
      "cell_type": "code",
      "execution_count": 130,
      "metadata": {
        "colab": {
          "base_uri": "https://localhost:8080/"
        },
        "id": "A_feEynxKaaL",
        "outputId": "c160ae20-50c4-43df-be02-dbbc277c7e50"
      },
      "outputs": [
        {
          "output_type": "execute_result",
          "data": {
            "text/plain": [
              "['ashu', 34, 34, 45, [34, 45]]"
            ]
          },
          "metadata": {},
          "execution_count": 130
        }
      ],
      "source": [
        "l "
      ]
    },
    {
      "cell_type": "code",
      "execution_count": 131,
      "metadata": {
        "colab": {
          "base_uri": "https://localhost:8080/"
        },
        "id": "pP9atPnHKaaL",
        "outputId": "8381645f-5c0d-45e5-da95-92286bff13e9"
      },
      "outputs": [
        {
          "output_type": "execute_result",
          "data": {
            "text/plain": [
              "False"
            ]
          },
          "metadata": {},
          "execution_count": 131
        }
      ],
      "source": [
        "454 in l "
      ]
    }
  ],
  "metadata": {
    "kernelspec": {
      "display_name": "Python 3",
      "language": "python",
      "name": "python3"
    },
    "language_info": {
      "codemirror_mode": {
        "name": "ipython",
        "version": 3
      },
      "file_extension": ".py",
      "mimetype": "text/x-python",
      "name": "python",
      "nbconvert_exporter": "python",
      "pygments_lexer": "ipython3",
      "version": "3.8.3"
    },
    "colab": {
      "name": "string and list manupulation ineuron.ipynb",
      "provenance": []
    }
  },
  "nbformat": 4,
  "nbformat_minor": 0
}
