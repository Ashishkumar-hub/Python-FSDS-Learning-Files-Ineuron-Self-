{
  "cells": [
    {
      "cell_type": "code",
      "execution_count": 1,
      "metadata": {
        "colab": {
          "base_uri": "https://localhost:8080/"
        },
        "id": "fa42KXXn_L6K",
        "outputId": "701f6d90-88b3-4c76-adc0-c0a6338f1c16"
      },
      "outputs": [
        {
          "output_type": "stream",
          "name": "stdout",
          "text": [
            "this is my first python program\n"
          ]
        }
      ],
      "source": [
        "#this is my first prog\n",
        "print('this is my first python program')"
      ]
    },
    {
      "cell_type": "code",
      "execution_count": 2,
      "metadata": {
        "colab": {
          "base_uri": "https://localhost:8080/",
          "height": 130
        },
        "id": "hI6lPdiE_L6R",
        "outputId": "537bbefd-ffa9-45b3-b300-ee0174b74e92"
      },
      "outputs": [
        {
          "output_type": "error",
          "ename": "SyntaxError",
          "evalue": "ignored",
          "traceback": [
            "\u001b[0;36m  File \u001b[0;32m\"<ipython-input-2-470a57016701>\"\u001b[0;36m, line \u001b[0;32m1\u001b[0m\n\u001b[0;31m    print \" this is my first program\"\u001b[0m\n\u001b[0m                                    ^\u001b[0m\n\u001b[0;31mSyntaxError\u001b[0m\u001b[0;31m:\u001b[0m Missing parentheses in call to 'print'. Did you mean print(\" this is my first program\")?\n"
          ]
        }
      ],
      "source": [
        "print \" this is my first program\""
      ]
    },
    {
      "cell_type": "code",
      "execution_count": 3,
      "metadata": {
        "colab": {
          "base_uri": "https://localhost:8080/",
          "height": 35
        },
        "id": "zI0bK1rq_L6S",
        "outputId": "42f0314b-6596-42b8-f39f-964f6d9d9382"
      },
      "outputs": [
        {
          "output_type": "execute_result",
          "data": {
            "application/vnd.google.colaboratory.intrinsic+json": {
              "type": "string"
            },
            "text/plain": [
              "'d\\ndd\\nd\\na '"
            ]
          },
          "metadata": {},
          "execution_count": 3
        }
      ],
      "source": [
        "#my name is ashish \n",
        "\"\"\"d\n",
        "dd\n",
        "d\n",
        "a \"\"\""
      ]
    },
    {
      "cell_type": "code",
      "execution_count": null,
      "metadata": {
        "id": "Gh2J2t4X_L6T",
        "outputId": "f5a49b2a-7c3d-4f81-e37e-ea9fea4cea28"
      },
      "outputs": [
        {
          "data": {
            "text/plain": [
              "'print(\"fsdfsdfs\")\\nprint(\"Fsdfsfs\\\\FSDFSAFASFASDDF)\\nprint(\"sdfsfsdf\")'"
            ]
          },
          "execution_count": 14,
          "metadata": {},
          "output_type": "execute_result"
        }
      ],
      "source": [
        "\"\"\"print(\"fsdfsdfs\")\n",
        "print(\"Fsdfsfs\\FSDFSAFASFASDDF)\n",
        "print(\"sdfsfsdf\")\"\"\""
      ]
    },
    {
      "cell_type": "code",
      "execution_count": 4,
      "metadata": {
        "id": "8rmfLQ6D_L6U"
      },
      "outputs": [],
      "source": [
        "A = 10 "
      ]
    },
    {
      "cell_type": "code",
      "execution_count": 5,
      "metadata": {
        "colab": {
          "base_uri": "https://localhost:8080/"
        },
        "id": "kutE5JEd_L6U",
        "outputId": "16859db5-bfc6-4b1d-90ce-415821d1cc69"
      },
      "outputs": [
        {
          "output_type": "execute_result",
          "data": {
            "text/plain": [
              "10"
            ]
          },
          "metadata": {},
          "execution_count": 5
        }
      ],
      "source": [
        "A"
      ]
    },
    {
      "cell_type": "code",
      "execution_count": 6,
      "metadata": {
        "colab": {
          "base_uri": "https://localhost:8080/"
        },
        "id": "BBHFNjZR_L6V",
        "outputId": "190acacf-4d3f-4490-9af6-e18fa0b3b56e"
      },
      "outputs": [
        {
          "output_type": "execute_result",
          "data": {
            "text/plain": [
              "int"
            ]
          },
          "metadata": {},
          "execution_count": 6
        }
      ],
      "source": [
        "type(A)"
      ]
    },
    {
      "cell_type": "code",
      "execution_count": 7,
      "metadata": {
        "id": "JdaevhEj_L6W"
      },
      "outputs": [],
      "source": [
        "b = 'ashish kumamrr'"
      ]
    },
    {
      "cell_type": "code",
      "execution_count": 8,
      "metadata": {
        "colab": {
          "base_uri": "https://localhost:8080/",
          "height": 35
        },
        "id": "jVRpLdKV_L6X",
        "outputId": "5391b736-778c-4698-fd3a-d2727631d0a1"
      },
      "outputs": [
        {
          "output_type": "execute_result",
          "data": {
            "application/vnd.google.colaboratory.intrinsic+json": {
              "type": "string"
            },
            "text/plain": [
              "'ashish kumamrr'"
            ]
          },
          "metadata": {},
          "execution_count": 8
        }
      ],
      "source": [
        "b"
      ]
    },
    {
      "cell_type": "code",
      "execution_count": 9,
      "metadata": {
        "colab": {
          "base_uri": "https://localhost:8080/"
        },
        "id": "5t6fuV1V_L6Y",
        "outputId": "1094fbfc-ee17-4924-d248-3c07a7b81922"
      },
      "outputs": [
        {
          "output_type": "execute_result",
          "data": {
            "text/plain": [
              "str"
            ]
          },
          "metadata": {},
          "execution_count": 9
        }
      ],
      "source": [
        "type(b)"
      ]
    },
    {
      "cell_type": "code",
      "execution_count": 10,
      "metadata": {
        "colab": {
          "base_uri": "https://localhost:8080/"
        },
        "id": "t9j2hVQj_L6Z",
        "outputId": "eb012e8c-9bd6-4b79-c510-113b275abbf5"
      },
      "outputs": [
        {
          "output_type": "stream",
          "name": "stdout",
          "text": [
            "ashish kumamrr 10 singhhh\n"
          ]
        }
      ],
      "source": [
        "print(b , A ,\"singhhh\")"
      ]
    },
    {
      "cell_type": "code",
      "execution_count": 11,
      "metadata": {
        "id": "pEdN2UtU_L6Z"
      },
      "outputs": [],
      "source": [
        "a = 45\n",
        "b = \"ashu\""
      ]
    },
    {
      "cell_type": "code",
      "execution_count": 12,
      "metadata": {
        "id": "ZCMLr22E_L6a"
      },
      "outputs": [],
      "source": [
        "a, b , s = 45 , \"ashu\" , \"this is my name \""
      ]
    },
    {
      "cell_type": "code",
      "execution_count": 13,
      "metadata": {
        "colab": {
          "base_uri": "https://localhost:8080/"
        },
        "id": "YTNYcBpJ_L6a",
        "outputId": "0f8bee07-b602-4104-be9a-9ee9e54234ef"
      },
      "outputs": [
        {
          "output_type": "execute_result",
          "data": {
            "text/plain": [
              "45"
            ]
          },
          "metadata": {},
          "execution_count": 13
        }
      ],
      "source": [
        "a "
      ]
    },
    {
      "cell_type": "code",
      "execution_count": 14,
      "metadata": {
        "colab": {
          "base_uri": "https://localhost:8080/",
          "height": 35
        },
        "id": "FWKUbgVT_L6b",
        "outputId": "7bc65c9d-64ad-457d-b77d-1a02ce3f1fc9"
      },
      "outputs": [
        {
          "output_type": "execute_result",
          "data": {
            "application/vnd.google.colaboratory.intrinsic+json": {
              "type": "string"
            },
            "text/plain": [
              "'ashu'"
            ]
          },
          "metadata": {},
          "execution_count": 14
        }
      ],
      "source": [
        "b"
      ]
    },
    {
      "cell_type": "code",
      "execution_count": 15,
      "metadata": {
        "colab": {
          "base_uri": "https://localhost:8080/",
          "height": 35
        },
        "id": "NTtPY-D0_L6b",
        "outputId": "a79c7225-8b74-425b-d327-4f762afaf665"
      },
      "outputs": [
        {
          "output_type": "execute_result",
          "data": {
            "application/vnd.google.colaboratory.intrinsic+json": {
              "type": "string"
            },
            "text/plain": [
              "'this is my name '"
            ]
          },
          "metadata": {},
          "execution_count": 15
        }
      ],
      "source": [
        "s "
      ]
    },
    {
      "cell_type": "code",
      "execution_count": 16,
      "metadata": {
        "colab": {
          "base_uri": "https://localhost:8080/"
        },
        "id": "REp37EGt_L6c",
        "outputId": "8290934e-8187-4e52-a1ed-aa7838da0de4"
      },
      "outputs": [
        {
          "output_type": "execute_result",
          "data": {
            "text/plain": [
              "str"
            ]
          },
          "metadata": {},
          "execution_count": 16
        }
      ],
      "source": [
        "type(b)"
      ]
    },
    {
      "cell_type": "code",
      "execution_count": 17,
      "metadata": {
        "colab": {
          "base_uri": "https://localhost:8080/"
        },
        "id": "VdwYtXMz_L6c",
        "outputId": "7096f8b9-0b91-4fc4-ca02-c3fde847a0ec"
      },
      "outputs": [
        {
          "output_type": "execute_result",
          "data": {
            "text/plain": [
              "str"
            ]
          },
          "metadata": {},
          "execution_count": 17
        }
      ],
      "source": [
        "type(s)"
      ]
    },
    {
      "cell_type": "code",
      "execution_count": 18,
      "metadata": {
        "colab": {
          "base_uri": "https://localhost:8080/"
        },
        "id": "CacaUoF5_L6d",
        "outputId": "67d112be-d96d-46d6-852b-1d9d013f491b"
      },
      "outputs": [
        {
          "output_type": "execute_result",
          "data": {
            "text/plain": [
              "int"
            ]
          },
          "metadata": {},
          "execution_count": 18
        }
      ],
      "source": [
        "type(a)"
      ]
    },
    {
      "cell_type": "code",
      "execution_count": 19,
      "metadata": {
        "colab": {
          "base_uri": "https://localhost:8080/"
        },
        "id": "GJ5r2QmY_L6d",
        "outputId": "b7d75a98-fee1-4e35-8a94-4864d856825a"
      },
      "outputs": [
        {
          "output_type": "stream",
          "name": "stdout",
          "text": [
            "45 ashu this is my name \n"
          ]
        }
      ],
      "source": [
        "print(a,b,s)"
      ]
    },
    {
      "cell_type": "code",
      "execution_count": 20,
      "metadata": {
        "id": "SklkzxWy_L6e"
      },
      "outputs": [],
      "source": [
        "b  = '\"fsds\"'"
      ]
    },
    {
      "cell_type": "code",
      "execution_count": 21,
      "metadata": {
        "colab": {
          "base_uri": "https://localhost:8080/",
          "height": 35
        },
        "id": "bBEOKxgg_L6e",
        "outputId": "71f76f21-449b-414c-c4f3-1247b2f8bee5"
      },
      "outputs": [
        {
          "output_type": "execute_result",
          "data": {
            "application/vnd.google.colaboratory.intrinsic+json": {
              "type": "string"
            },
            "text/plain": [
              "'\"fsds\"'"
            ]
          },
          "metadata": {},
          "execution_count": 21
        }
      ],
      "source": [
        "b "
      ]
    },
    {
      "cell_type": "code",
      "execution_count": 22,
      "metadata": {
        "colab": {
          "base_uri": "https://localhost:8080/",
          "height": 130
        },
        "id": "UdEqOmvB_L6e",
        "outputId": "5f6d6f4b-904a-4bcf-d5d2-ad94902c9439"
      },
      "outputs": [
        {
          "output_type": "error",
          "ename": "SyntaxError",
          "evalue": "ignored",
          "traceback": [
            "\u001b[0;36m  File \u001b[0;32m\"<ipython-input-22-e3f34da01b3c>\"\u001b[0;36m, line \u001b[0;32m1\u001b[0m\n\u001b[0;31m    1b = \"fsfsd\"\u001b[0m\n\u001b[0m     ^\u001b[0m\n\u001b[0;31mSyntaxError\u001b[0m\u001b[0;31m:\u001b[0m invalid syntax\n"
          ]
        }
      ],
      "source": [
        "1b = \"fsfsd\""
      ]
    },
    {
      "cell_type": "code",
      "execution_count": 27,
      "metadata": {
        "id": "jyS3fwUq_L6f"
      },
      "outputs": [],
      "source": [
        "B = \"fsds\""
      ]
    },
    {
      "cell_type": "code",
      "execution_count": 28,
      "metadata": {
        "colab": {
          "base_uri": "https://localhost:8080/",
          "height": 35
        },
        "id": "Grd6zBfz_L6f",
        "outputId": "43758b9b-e5ea-4cb1-8e8b-64181ba8544a"
      },
      "outputs": [
        {
          "output_type": "execute_result",
          "data": {
            "application/vnd.google.colaboratory.intrinsic+json": {
              "type": "string"
            },
            "text/plain": [
              "'fsds'"
            ]
          },
          "metadata": {},
          "execution_count": 28
        }
      ],
      "source": [
        "B"
      ]
    },
    {
      "cell_type": "code",
      "execution_count": 29,
      "metadata": {
        "id": "a0zaU-Q0_L6g"
      },
      "outputs": [],
      "source": [
        "b = \"fsds\""
      ]
    },
    {
      "cell_type": "code",
      "execution_count": 30,
      "metadata": {
        "colab": {
          "base_uri": "https://localhost:8080/",
          "height": 130
        },
        "id": "8lbdm_kb_L6g",
        "outputId": "dd50641f-187e-442c-f7d7-90b15aed7bcd"
      },
      "outputs": [
        {
          "output_type": "error",
          "ename": "SyntaxError",
          "evalue": "ignored",
          "traceback": [
            "\u001b[0;36m  File \u001b[0;32m\"<ipython-input-30-15e8dfce1214>\"\u001b[0;36m, line \u001b[0;32m1\u001b[0m\n\u001b[0;31m    2b = \"sdfs\"\u001b[0m\n\u001b[0m     ^\u001b[0m\n\u001b[0;31mSyntaxError\u001b[0m\u001b[0;31m:\u001b[0m invalid syntax\n"
          ]
        }
      ],
      "source": [
        "2b = \"sdfs\""
      ]
    },
    {
      "cell_type": "code",
      "execution_count": 31,
      "metadata": {
        "id": "ZB5UsMMO_L6g"
      },
      "outputs": [],
      "source": [
        "_b = 234534"
      ]
    },
    {
      "cell_type": "code",
      "execution_count": 32,
      "metadata": {
        "colab": {
          "base_uri": "https://localhost:8080/"
        },
        "id": "acoGbmlY_L6g",
        "outputId": "d0dbc9ba-4215-488c-c41e-bd2016202348"
      },
      "outputs": [
        {
          "output_type": "execute_result",
          "data": {
            "text/plain": [
              "234534"
            ]
          },
          "metadata": {},
          "execution_count": 32
        }
      ],
      "source": [
        "_b"
      ]
    },
    {
      "cell_type": "code",
      "execution_count": 33,
      "metadata": {
        "colab": {
          "base_uri": "https://localhost:8080/",
          "height": 130
        },
        "id": "9qe7kSTO_L6h",
        "outputId": "e3888367-900b-4fbb-bfcf-fc93d042238a"
      },
      "outputs": [
        {
          "output_type": "error",
          "ename": "SyntaxError",
          "evalue": "ignored",
          "traceback": [
            "\u001b[0;36m  File \u001b[0;32m\"<ipython-input-33-0f0b1b1ea588>\"\u001b[0;36m, line \u001b[0;32m1\u001b[0m\n\u001b[0;31m    b& = \"fsds\"\u001b[0m\n\u001b[0m       ^\u001b[0m\n\u001b[0;31mSyntaxError\u001b[0m\u001b[0;31m:\u001b[0m invalid syntax\n"
          ]
        }
      ],
      "source": [
        "b& = \"fsds\""
      ]
    },
    {
      "cell_type": "code",
      "execution_count": 35,
      "metadata": {
        "id": "t8Ot9JSD_L6h"
      },
      "outputs": [],
      "source": [
        "name = \"ashu\"\n",
        "userid = \"IN001\"\n",
        "password = \"fsfsfsd\"\n",
        "mail = \"ashu@github.in\""
      ]
    },
    {
      "cell_type": "code",
      "execution_count": 36,
      "metadata": {
        "id": "in_4nF-H_L6h"
      },
      "outputs": [],
      "source": [
        "a = 1.6423424242243434234234"
      ]
    },
    {
      "cell_type": "code",
      "execution_count": 37,
      "metadata": {
        "colab": {
          "base_uri": "https://localhost:8080/"
        },
        "id": "9f0Sq1_t_L6h",
        "outputId": "df655018-f5b5-4eed-9342-d4d06021fa0a"
      },
      "outputs": [
        {
          "output_type": "execute_result",
          "data": {
            "text/plain": [
              "float"
            ]
          },
          "metadata": {},
          "execution_count": 37
        }
      ],
      "source": [
        "type(a )"
      ]
    },
    {
      "cell_type": "code",
      "execution_count": 38,
      "metadata": {
        "id": "qlmKXYAm_L6i"
      },
      "outputs": [],
      "source": [
        "b = True \n",
        "c = False "
      ]
    },
    {
      "cell_type": "code",
      "execution_count": 39,
      "metadata": {
        "colab": {
          "base_uri": "https://localhost:8080/"
        },
        "id": "daiaiDgJ_L6i",
        "outputId": "5116af68-3962-4e75-c4fa-605e6634a07d"
      },
      "outputs": [
        {
          "output_type": "execute_result",
          "data": {
            "text/plain": [
              "bool"
            ]
          },
          "metadata": {},
          "execution_count": 39
        }
      ],
      "source": [
        "type(b)"
      ]
    },
    {
      "cell_type": "code",
      "execution_count": 40,
      "metadata": {
        "colab": {
          "base_uri": "https://localhost:8080/"
        },
        "id": "VnfvewXt_L6i",
        "outputId": "b7c846dd-7b82-4596-8fc9-62d0091ced29"
      },
      "outputs": [
        {
          "output_type": "execute_result",
          "data": {
            "text/plain": [
              "bool"
            ]
          },
          "metadata": {},
          "execution_count": 40
        }
      ],
      "source": [
        "type(c)"
      ]
    },
    {
      "cell_type": "code",
      "execution_count": 41,
      "metadata": {
        "colab": {
          "base_uri": "https://localhost:8080/"
        },
        "id": "O8HVRHUI_L6j",
        "outputId": "d52561e9-829a-4f3a-ade8-26ca61e59b40"
      },
      "outputs": [
        {
          "output_type": "stream",
          "name": "stdout",
          "text": [
            "4\n",
            "0\n"
          ]
        }
      ],
      "source": [
        "print(True + True + True + False + True  )\n",
        "print(False - True+ True ) "
      ]
    },
    {
      "cell_type": "code",
      "execution_count": 42,
      "metadata": {
        "colab": {
          "base_uri": "https://localhost:8080/"
        },
        "id": "28PN8Kgv_L6j",
        "outputId": "85c1ad8f-70fb-4739-abf2-6abee67cbac6"
      },
      "outputs": [
        {
          "output_type": "execute_result",
          "data": {
            "text/plain": [
              "2"
            ]
          },
          "metadata": {},
          "execution_count": 42
        }
      ],
      "source": [
        "True + True -False"
      ]
    },
    {
      "cell_type": "code",
      "execution_count": 43,
      "metadata": {
        "colab": {
          "base_uri": "https://localhost:8080/",
          "height": 165
        },
        "id": "QEY62aT3_L6j",
        "outputId": "3451b062-6b8a-4455-c7e4-d133ea57ab65"
      },
      "outputs": [
        {
          "output_type": "error",
          "ename": "ZeroDivisionError",
          "evalue": "ignored",
          "traceback": [
            "\u001b[0;31m---------------------------------------------------------------------------\u001b[0m",
            "\u001b[0;31mZeroDivisionError\u001b[0m                         Traceback (most recent call last)",
            "\u001b[0;32m<ipython-input-43-f8487d9d0863>\u001b[0m in \u001b[0;36m<module>\u001b[0;34m()\u001b[0m\n\u001b[0;32m----> 1\u001b[0;31m \u001b[0;32mTrue\u001b[0m \u001b[0;34m/\u001b[0m \u001b[0;32mFalse\u001b[0m\u001b[0;34m\u001b[0m\u001b[0;34m\u001b[0m\u001b[0m\n\u001b[0m",
            "\u001b[0;31mZeroDivisionError\u001b[0m: division by zero"
          ]
        }
      ],
      "source": [
        "True / False"
      ]
    },
    {
      "cell_type": "code",
      "execution_count": 44,
      "metadata": {
        "id": "RhVuf_bX_L6j"
      },
      "outputs": [],
      "source": [
        "n  = 45 + 6j\n",
        "m = 56 + 8j"
      ]
    },
    {
      "cell_type": "code",
      "execution_count": 45,
      "metadata": {
        "colab": {
          "base_uri": "https://localhost:8080/"
        },
        "id": "EcsKFYMN_L6k",
        "outputId": "9a6dff5a-25f8-42bf-b18b-4c0e19622067"
      },
      "outputs": [
        {
          "output_type": "execute_result",
          "data": {
            "text/plain": [
              "complex"
            ]
          },
          "metadata": {},
          "execution_count": 45
        }
      ],
      "source": [
        "type(m)"
      ]
    },
    {
      "cell_type": "code",
      "execution_count": 46,
      "metadata": {
        "colab": {
          "base_uri": "https://localhost:8080/"
        },
        "id": "neGQYo_R_L6k",
        "outputId": "35f205e5-9768-44fd-eb9b-438c59251b3b"
      },
      "outputs": [
        {
          "output_type": "execute_result",
          "data": {
            "text/plain": [
              "(2472+696j)"
            ]
          },
          "metadata": {},
          "execution_count": 46
        }
      ],
      "source": [
        "n* m"
      ]
    },
    {
      "cell_type": "code",
      "execution_count": 47,
      "metadata": {
        "colab": {
          "base_uri": "https://localhost:8080/"
        },
        "id": "P_gub8gp_L6k",
        "outputId": "a3913e14-7113-4113-fb38-d5435098ad4b"
      },
      "outputs": [
        {
          "output_type": "execute_result",
          "data": {
            "text/plain": [
              "45.0"
            ]
          },
          "metadata": {},
          "execution_count": 47
        }
      ],
      "source": [
        "n.real"
      ]
    },
    {
      "cell_type": "code",
      "execution_count": 48,
      "metadata": {
        "colab": {
          "base_uri": "https://localhost:8080/"
        },
        "id": "L2FUeZS__L6k",
        "outputId": "0826e7ab-3fd3-46aa-998b-976d3821aefe"
      },
      "outputs": [
        {
          "output_type": "execute_result",
          "data": {
            "text/plain": [
              "6.0"
            ]
          },
          "metadata": {},
          "execution_count": 48
        }
      ],
      "source": [
        "n.imag"
      ]
    },
    {
      "cell_type": "code",
      "execution_count": 51,
      "metadata": {
        "colab": {
          "base_uri": "https://localhost:8080/"
        },
        "id": "KV5Ojhtx_L6l",
        "outputId": "8a7f3523-dd44-4f7a-d578-c826c0b4c518"
      },
      "outputs": [
        {
          "output_type": "execute_result",
          "data": {
            "text/plain": [
              "str"
            ]
          },
          "metadata": {},
          "execution_count": 51
        }
      ],
      "source": [
        "b = \"sdf\"\n",
        "type(b)"
      ]
    },
    {
      "cell_type": "code",
      "execution_count": 52,
      "metadata": {
        "colab": {
          "base_uri": "https://localhost:8080/",
          "height": 35
        },
        "id": "VVgPzbCH_L6l",
        "outputId": "39a1f21f-3ca8-4bb1-cfc4-e2a85de50229"
      },
      "outputs": [
        {
          "output_type": "execute_result",
          "data": {
            "application/vnd.google.colaboratory.intrinsic+json": {
              "type": "string"
            },
            "text/plain": [
              "'1ashu'"
            ]
          },
          "metadata": {},
          "execution_count": 52
        }
      ],
      "source": [
        "\"1\"+ \"ashu\""
      ]
    },
    {
      "cell_type": "code",
      "execution_count": 54,
      "metadata": {
        "colab": {
          "base_uri": "https://localhost:8080/"
        },
        "id": "egFKrgrN_L6l",
        "outputId": "5a86e161-a8eb-4fcd-eb53-1cc5a79e54fb"
      },
      "outputs": [
        {
          "output_type": "execute_result",
          "data": {
            "text/plain": [
              "2.0"
            ]
          },
          "metadata": {},
          "execution_count": 54
        }
      ],
      "source": [
        "1 + 1.0"
      ]
    },
    {
      "cell_type": "code",
      "execution_count": 55,
      "metadata": {
        "colab": {
          "base_uri": "https://localhost:8080/",
          "height": 35
        },
        "id": "wIasslMP_L6m",
        "outputId": "c628d7fe-7bbb-4866-8ea8-4cbb6325f67d"
      },
      "outputs": [
        {
          "output_type": "execute_result",
          "data": {
            "application/vnd.google.colaboratory.intrinsic+json": {
              "type": "string"
            },
            "text/plain": [
              "'ashuashuashu'"
            ]
          },
          "metadata": {},
          "execution_count": 55
        }
      ],
      "source": [
        "\"ashu\"+\"ashu\"+\"ashu\""
      ]
    },
    {
      "cell_type": "code",
      "execution_count": 56,
      "metadata": {
        "colab": {
          "base_uri": "https://localhost:8080/",
          "height": 35
        },
        "id": "XwUbZ7-O_L6m",
        "outputId": "aeb5c142-8d02-44f8-dce0-cd15c1843b4b"
      },
      "outputs": [
        {
          "output_type": "execute_result",
          "data": {
            "application/vnd.google.colaboratory.intrinsic+json": {
              "type": "string"
            },
            "text/plain": [
              "'ashuashuashu'"
            ]
          },
          "metadata": {},
          "execution_count": 56
        }
      ],
      "source": [
        "\"ashu\" * 3"
      ]
    },
    {
      "cell_type": "code",
      "execution_count": 57,
      "metadata": {
        "colab": {
          "base_uri": "https://localhost:8080/"
        },
        "id": "KmOS_5xi_L6m",
        "outputId": "7556c7ca-fc91-48fb-91a0-59633726e168"
      },
      "outputs": [
        {
          "output_type": "execute_result",
          "data": {
            "text/plain": [
              "23"
            ]
          },
          "metadata": {},
          "execution_count": 57
        }
      ],
      "source": [
        "int('23')"
      ]
    },
    {
      "cell_type": "code",
      "execution_count": 58,
      "metadata": {
        "colab": {
          "base_uri": "https://localhost:8080/",
          "height": 165
        },
        "id": "zV98d08X_L6m",
        "outputId": "6c68d404-84f0-4cb8-9000-a3b07967d333"
      },
      "outputs": [
        {
          "output_type": "error",
          "ename": "ValueError",
          "evalue": "ignored",
          "traceback": [
            "\u001b[0;31m---------------------------------------------------------------------------\u001b[0m",
            "\u001b[0;31mValueError\u001b[0m                                Traceback (most recent call last)",
            "\u001b[0;32m<ipython-input-58-726447aa2631>\u001b[0m in \u001b[0;36m<module>\u001b[0;34m()\u001b[0m\n\u001b[0;32m----> 1\u001b[0;31m \u001b[0mint\u001b[0m\u001b[0;34m(\u001b[0m\u001b[0;34m\"2354dfsdfs\"\u001b[0m\u001b[0;34m)\u001b[0m\u001b[0;34m\u001b[0m\u001b[0;34m\u001b[0m\u001b[0m\n\u001b[0m",
            "\u001b[0;31mValueError\u001b[0m: invalid literal for int() with base 10: '2354dfsdfs'"
          ]
        }
      ],
      "source": [
        "int(\"2354dfsdfs\")"
      ]
    },
    {
      "cell_type": "code",
      "execution_count": 59,
      "metadata": {
        "id": "St9m0Ntg_L6n"
      },
      "outputs": [],
      "source": [
        "a = 10 "
      ]
    },
    {
      "cell_type": "code",
      "execution_count": 60,
      "metadata": {
        "colab": {
          "base_uri": "https://localhost:8080/"
        },
        "id": "30INPZWm_L6n",
        "outputId": "5c8f84f8-f44e-4e54-869b-ba90a94a0c6c"
      },
      "outputs": [
        {
          "name": "stdout",
          "output_type": "stream",
          "text": [
            "enter a interger dda\n"
          ]
        }
      ],
      "source": [
        "a = input(\"enter a interger \")"
      ]
    },
    {
      "cell_type": "code",
      "execution_count": 61,
      "metadata": {
        "colab": {
          "base_uri": "https://localhost:8080/"
        },
        "id": "G5oU9phx_L6n",
        "outputId": "c9022043-d800-4df1-b3e1-acf2816196af"
      },
      "outputs": [
        {
          "output_type": "execute_result",
          "data": {
            "text/plain": [
              "str"
            ]
          },
          "metadata": {},
          "execution_count": 61
        }
      ],
      "source": [
        "type(a)"
      ]
    },
    {
      "cell_type": "code",
      "execution_count": 63,
      "metadata": {
        "colab": {
          "base_uri": "https://localhost:8080/",
          "height": 87
        },
        "id": "lukkMNmJ_L6n",
        "outputId": "1f52ce25-4e7c-43af-db0c-914ceb2d258d"
      },
      "outputs": [
        {
          "name": "stdout",
          "output_type": "stream",
          "text": [
            "this is my var a 4\n",
            "this is my var b 5\n",
            "this is my var c 6\n"
          ]
        },
        {
          "output_type": "execute_result",
          "data": {
            "application/vnd.google.colaboratory.intrinsic+json": {
              "type": "string"
            },
            "text/plain": [
              "'(82.83333333333333+6j)ashu'"
            ]
          },
          "metadata": {},
          "execution_count": 63
        }
      ],
      "source": [
        "a = int(input(\"this is my var a \"))\n",
        "b = int(input(\"this is my var b \"))\n",
        "c = int(input(\"this is my var c \"))\n",
        "o = a+b/c\n",
        "o1 = o + 78 + 6j\n",
        "str(o1) + \"ashu\""
      ]
    },
    {
      "cell_type": "code",
      "execution_count": 64,
      "metadata": {
        "id": "2H2aDEiK_L6o"
      },
      "outputs": [],
      "source": [
        "o = a+b/c\n",
        "o1 = o + 78 + 6j"
      ]
    },
    {
      "cell_type": "code",
      "execution_count": 65,
      "metadata": {
        "colab": {
          "base_uri": "https://localhost:8080/"
        },
        "id": "zE-U1oRc_L6o",
        "outputId": "c63d6ad1-d2ef-4cad-b135-03ef66d61d69"
      },
      "outputs": [
        {
          "output_type": "execute_result",
          "data": {
            "text/plain": [
              "(82.83333333333333+6j)"
            ]
          },
          "metadata": {},
          "execution_count": 65
        }
      ],
      "source": [
        "o1"
      ]
    },
    {
      "cell_type": "code",
      "execution_count": 67,
      "metadata": {
        "colab": {
          "base_uri": "https://localhost:8080/",
          "height": 35
        },
        "id": "HKKFiIVC_L6o",
        "outputId": "609f9cfe-f982-47fc-ad77-6a7b57904de8"
      },
      "outputs": [
        {
          "output_type": "execute_result",
          "data": {
            "application/vnd.google.colaboratory.intrinsic+json": {
              "type": "string"
            },
            "text/plain": [
              "'(82.83333333333333+6j)ashish'"
            ]
          },
          "metadata": {},
          "execution_count": 67
        }
      ],
      "source": [
        "str(o1) + \"ashish\""
      ]
    },
    {
      "cell_type": "code",
      "execution_count": 69,
      "metadata": {
        "colab": {
          "base_uri": "https://localhost:8080/"
        },
        "id": "mYTv7WVT_L6o",
        "outputId": "9decb7ee-506e-4687-a958-eb33c2259e88"
      },
      "outputs": [
        {
          "name": "stdout",
          "output_type": "stream",
          "text": [
            "input a number lesser then 34 -- 33\n"
          ]
        }
      ],
      "source": [
        "a = int(input(\"input a number lesser then 34 -- \"))"
      ]
    },
    {
      "cell_type": "code",
      "execution_count": 70,
      "metadata": {
        "id": "oXtlrUXh_L6p"
      },
      "outputs": [],
      "source": [
        "if a <34 :\n",
        "    pass"
      ]
    },
    {
      "cell_type": "code",
      "execution_count": 72,
      "metadata": {
        "colab": {
          "base_uri": "https://localhost:8080/"
        },
        "id": "-XNPBvoz_L6p",
        "outputId": "17da8b3d-ce8e-4f6f-e910-6a5a74a0fce4"
      },
      "outputs": [
        {
          "output_type": "stream",
          "name": "stdout",
          "text": [
            "input a number33\n",
            "data input is lesser then 34 and i am fine with it \n"
          ]
        }
      ],
      "source": [
        "a = int(input(\"input a number\"))\n",
        "if a <34:\n",
        "    print(\"data input is lesser then 34 and i am fine with it \")\n",
        "elif a < 100:\n",
        "    print(\" my data is lesser then 100\")\n",
        "else:\n",
        "    print ( \"user input is not lesser then 34\")"
      ]
    },
    {
      "cell_type": "code",
      "execution_count": 73,
      "metadata": {
        "colab": {
          "base_uri": "https://localhost:8080/"
        },
        "id": "0lac4LwU_L6p",
        "outputId": "14a6a7cd-27a0-4439-f827-c5332972c60c"
      },
      "outputs": [
        {
          "output_type": "stream",
          "name": "stdout",
          "text": [
            "enter your salary11111\n",
            "you salary is good\n",
            "i will go with a card nano\n",
            "false code\n"
          ]
        }
      ],
      "source": [
        "salary = int(input(\"enter your salary\"))\n",
        "if( salary > 1000):\n",
        "    print(\"you salary is good\")\n",
        "    if salary > 5000:\n",
        "        print(\"i will go with a card nano\")\n",
        "        if True:\n",
        "            print(\"false code\")\n",
        "    elif salary >10000:\n",
        "        print(\"i will go with maruti\")\n",
        "    elif salary > 50000:\n",
        "        print(\"i wil go with toyota\")\n",
        "    else :\n",
        "        print(\"i will rent a car \")\n",
        "elif salary > 500:\n",
        "    print(\" i will go for bike \")\n",
        "elif salary> 100:\n",
        "    print(\"i will not buy anyting\")\n",
        "else :\n",
        "    print(\"i will go for savinig \")"
      ]
    },
    {
      "cell_type": "code",
      "execution_count": 74,
      "metadata": {
        "colab": {
          "base_uri": "https://localhost:8080/"
        },
        "id": "ip9f6AK3_L6q",
        "outputId": "f389b67e-12ff-43e4-88d1-11b4e9b3915a"
      },
      "outputs": [
        {
          "output_type": "execute_result",
          "data": {
            "text/plain": [
              "True"
            ]
          },
          "metadata": {},
          "execution_count": 74
        }
      ],
      "source": [
        "salary > 5000"
      ]
    },
    {
      "cell_type": "code",
      "execution_count": 75,
      "metadata": {
        "colab": {
          "base_uri": "https://localhost:8080/",
          "height": 130
        },
        "id": "jx07hXQs_L6q",
        "outputId": "25380b93-a71b-4fb3-aeb3-d99102f619b3"
      },
      "outputs": [
        {
          "output_type": "error",
          "ename": "SyntaxError",
          "evalue": "ignored",
          "traceback": [
            "\u001b[0;36m  File \u001b[0;32m\"<ipython-input-75-3a464b50e29a>\"\u001b[0;36m, line \u001b[0;32m1\u001b[0m\n\u001b[0;31m    void test(int i , float j ){\u001b[0m\n\u001b[0m            ^\u001b[0m\n\u001b[0;31mSyntaxError\u001b[0m\u001b[0;31m:\u001b[0m invalid syntax\n"
          ]
        }
      ],
      "source": [
        "void test(int i , float j ){    \n",
        "}"
      ]
    },
    {
      "cell_type": "code",
      "execution_count": 76,
      "metadata": {
        "id": "EO1Hr_YL_L6q"
      },
      "outputs": [],
      "source": [
        "name = \"ashish\"\n",
        "test = \"fsds\""
      ]
    },
    {
      "cell_type": "code",
      "execution_count": 77,
      "metadata": {
        "id": "ketXMUUb_L6q"
      },
      "outputs": [],
      "source": [
        "def test(name = str  , test = int):\n",
        "    name = \"fsfds\"\n",
        "    test= \"fsdfs\"\n",
        "    print(name, test)"
      ]
    },
    {
      "cell_type": "code",
      "execution_count": 78,
      "metadata": {
        "colab": {
          "base_uri": "https://localhost:8080/"
        },
        "id": "p-kWFBG0_L6r",
        "outputId": "8eb92ba1-2d97-41dd-fe6d-5add7d848b8b"
      },
      "outputs": [
        {
          "output_type": "stream",
          "name": "stdout",
          "text": [
            "fsfds fsdfs\n"
          ]
        }
      ],
      "source": [
        "test()"
      ]
    },
    {
      "cell_type": "code",
      "execution_count": 81,
      "metadata": {
        "id": "_OX3zvb9_L6r"
      },
      "outputs": [],
      "source": [
        "def test1(name , id1):\n",
        "    \n",
        "    print(test(), name , id1)\n",
        "    "
      ]
    },
    {
      "cell_type": "code",
      "execution_count": 82,
      "metadata": {
        "colab": {
          "base_uri": "https://localhost:8080/"
        },
        "id": "nAwMnpHg_L6r",
        "outputId": "0cc80538-ce53-40eb-eb31-d8df9697f19f"
      },
      "outputs": [
        {
          "output_type": "stream",
          "name": "stdout",
          "text": [
            "fsfds fsdfs\n",
            "None Sds ds\n"
          ]
        }
      ],
      "source": [
        "test1(\"Sds\",\"ds\")"
      ]
    },
    {
      "cell_type": "code",
      "execution_count": 83,
      "metadata": {
        "id": "O6lfgjfB_L6r"
      },
      "outputs": [],
      "source": [
        "def test():\n",
        "        return \"dasas\""
      ]
    },
    {
      "cell_type": "code",
      "execution_count": 84,
      "metadata": {
        "colab": {
          "base_uri": "https://localhost:8080/",
          "height": 35
        },
        "id": "vFSDRFYz_L6r",
        "outputId": "c3dca946-fe5d-431b-b98a-cfaf3c8162b9"
      },
      "outputs": [
        {
          "output_type": "execute_result",
          "data": {
            "application/vnd.google.colaboratory.intrinsic+json": {
              "type": "string"
            },
            "text/plain": [
              "'dasas'"
            ]
          },
          "metadata": {},
          "execution_count": 84
        }
      ],
      "source": [
        "test()"
      ]
    }
  ],
  "metadata": {
    "kernelspec": {
      "display_name": "Python 3",
      "language": "python",
      "name": "python3"
    },
    "language_info": {
      "codemirror_mode": {
        "name": "ipython",
        "version": 3
      },
      "file_extension": ".py",
      "mimetype": "text/x-python",
      "name": "python",
      "nbconvert_exporter": "python",
      "pygments_lexer": "ipython3",
      "version": "3.8.3"
    },
    "colab": {
      "name": "python basic.ipynb",
      "provenance": []
    }
  },
  "nbformat": 4,
  "nbformat_minor": 0
}