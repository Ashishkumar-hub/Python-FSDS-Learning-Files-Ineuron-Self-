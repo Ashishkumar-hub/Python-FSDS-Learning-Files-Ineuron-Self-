{
  "cells": [
    {
      "cell_type": "code",
      "execution_count": 1,
      "metadata": {
        "id": "BZq2Xx4fOcWU"
      },
      "outputs": [],
      "source": [
        "l  = [\"ashish\" , 234,45.56, [45,56,6,\"c\"] , True]"
      ]
    },
    {
      "cell_type": "code",
      "execution_count": 2,
      "metadata": {
        "colab": {
          "base_uri": "https://localhost:8080/"
        },
        "id": "905F1nhzOcWb",
        "outputId": "715318dc-a9f3-4e7b-ad0f-0d29a20cac35"
      },
      "outputs": [
        {
          "output_type": "stream",
          "name": "stdout",
          "text": [
            "ashish\n",
            "234\n",
            "45.56\n",
            "[45, 56, 6, 'c']\n",
            "True\n"
          ]
        }
      ],
      "source": [
        "for i in l :\n",
        "    print(i)"
      ]
    },
    {
      "cell_type": "code",
      "execution_count": 3,
      "metadata": {
        "colab": {
          "base_uri": "https://localhost:8080/",
          "height": 35
        },
        "id": "FgDZejfNOcWc",
        "outputId": "97036d58-4eaf-48a5-a266-885f2377b6a0"
      },
      "outputs": [
        {
          "output_type": "execute_result",
          "data": {
            "application/vnd.google.colaboratory.intrinsic+json": {
              "type": "string"
            },
            "text/plain": [
              "'ashish'"
            ]
          },
          "metadata": {},
          "execution_count": 3
        }
      ],
      "source": [
        "l[0]"
      ]
    },
    {
      "cell_type": "code",
      "execution_count": 4,
      "metadata": {
        "colab": {
          "base_uri": "https://localhost:8080/"
        },
        "id": "Vr02mFkOOcWd",
        "outputId": "a4c6b1a7-9f65-4e03-d21f-3dc89b2ade1e"
      },
      "outputs": [
        {
          "output_type": "execute_result",
          "data": {
            "text/plain": [
              "[True, [45, 56, 6, 'c'], 45.56, 234, 'ashish']"
            ]
          },
          "metadata": {},
          "execution_count": 4
        }
      ],
      "source": [
        "l[::-1]"
      ]
    },
    {
      "cell_type": "code",
      "execution_count": 5,
      "metadata": {
        "colab": {
          "base_uri": "https://localhost:8080/"
        },
        "id": "rZYnyBYzOcWe",
        "outputId": "be56246b-2251-4a1a-ebe3-0f44e22817b0"
      },
      "outputs": [
        {
          "output_type": "stream",
          "name": "stdout",
          "text": [
            "no element is not a list  ashish\n",
            "no element is not a list  234\n",
            "no element is not a list  45.56\n",
            "this is a list  [45, 56, 6, 'c']\n",
            "no element is not a list  True\n"
          ]
        }
      ],
      "source": [
        "for i in l :\n",
        "    if type(i)== list :\n",
        "        print(\"this is a list \" ,i)\n",
        "    else :\n",
        "        print(\"no element is not a list \", i)"
      ]
    },
    {
      "cell_type": "code",
      "execution_count": 6,
      "metadata": {
        "colab": {
          "base_uri": "https://localhost:8080/"
        },
        "id": "l3OVMKXoOcWf",
        "outputId": "10ffb574-d358-4613-e343-6fca50c08f22"
      },
      "outputs": [
        {
          "output_type": "execute_result",
          "data": {
            "text/plain": [
              "['ashish', 234, 45.56, [45, 56, 6, 'c'], True]"
            ]
          },
          "metadata": {},
          "execution_count": 6
        }
      ],
      "source": [
        "l "
      ]
    },
    {
      "cell_type": "code",
      "execution_count": 7,
      "metadata": {
        "id": "NOrdJAMeOcWf"
      },
      "outputs": [],
      "source": [
        "l1= [345,2345, \"ineuron\" , \"tech \"]"
      ]
    },
    {
      "cell_type": "code",
      "execution_count": 8,
      "metadata": {
        "colab": {
          "base_uri": "https://localhost:8080/"
        },
        "id": "P5JL-hxXOcWg",
        "outputId": "37245db5-5ffd-449c-f98d-7c06d8fcc11a"
      },
      "outputs": [
        {
          "output_type": "execute_result",
          "data": {
            "text/plain": [
              "['ashish', 234, 45.56, [45, 56, 6, 'c'], True, 345, 2345, 'ineuron', 'tech ']"
            ]
          },
          "metadata": {},
          "execution_count": 8
        }
      ],
      "source": [
        "l + l1"
      ]
    },
    {
      "cell_type": "code",
      "execution_count": 9,
      "metadata": {
        "colab": {
          "base_uri": "https://localhost:8080/"
        },
        "id": "4zJjlPD6OcWh",
        "outputId": "596def4e-94f6-4283-902a-3fdb2b277b1f"
      },
      "outputs": [
        {
          "output_type": "execute_result",
          "data": {
            "text/plain": [
              "['ashish',\n",
              " 234,\n",
              " 45.56,\n",
              " [45, 56, 6, 'c'],\n",
              " True,\n",
              " 'ashish',\n",
              " 234,\n",
              " 45.56,\n",
              " [45, 56, 6, 'c'],\n",
              " True]"
            ]
          },
          "metadata": {},
          "execution_count": 9
        }
      ],
      "source": [
        "l * 2"
      ]
    },
    {
      "cell_type": "code",
      "execution_count": 10,
      "metadata": {
        "colab": {
          "base_uri": "https://localhost:8080/"
        },
        "id": "1--_c3G0OcWi",
        "outputId": "7cea8493-2d2d-49b0-9357-b75dc06e950f"
      },
      "outputs": [
        {
          "output_type": "execute_result",
          "data": {
            "text/plain": [
              "5"
            ]
          },
          "metadata": {},
          "execution_count": 10
        }
      ],
      "source": [
        "len(l)"
      ]
    },
    {
      "cell_type": "code",
      "execution_count": 11,
      "metadata": {
        "colab": {
          "base_uri": "https://localhost:8080/"
        },
        "id": "FdMLnELiOcWj",
        "outputId": "d09db1bf-fe03-4b7f-e151-941786525d9e"
      },
      "outputs": [
        {
          "output_type": "execute_result",
          "data": {
            "text/plain": [
              "True"
            ]
          },
          "metadata": {},
          "execution_count": 11
        }
      ],
      "source": [
        "234  in l"
      ]
    },
    {
      "cell_type": "code",
      "execution_count": 12,
      "metadata": {
        "colab": {
          "base_uri": "https://localhost:8080/"
        },
        "id": "keB3dGY_OcWk",
        "outputId": "dbb7429f-dd60-4455-84cc-aca6ee3c17fa"
      },
      "outputs": [
        {
          "output_type": "stream",
          "name": "stdout",
          "text": [
            "45.56\n"
          ]
        }
      ],
      "source": [
        "print(max([2,3,4,5,45.56]))"
      ]
    },
    {
      "cell_type": "code",
      "execution_count": 13,
      "metadata": {
        "colab": {
          "base_uri": "https://localhost:8080/",
          "height": 165
        },
        "id": "fEGO49R4OcWl",
        "outputId": "9ceb4f8e-f097-4a5f-f603-f357629cdbf6"
      },
      "outputs": [
        {
          "output_type": "error",
          "ename": "TypeError",
          "evalue": "ignored",
          "traceback": [
            "\u001b[0;31m---------------------------------------------------------------------------\u001b[0m",
            "\u001b[0;31mTypeError\u001b[0m                                 Traceback (most recent call last)",
            "\u001b[0;32m<ipython-input-13-738f7be65a3a>\u001b[0m in \u001b[0;36m<module>\u001b[0;34m()\u001b[0m\n\u001b[0;32m----> 1\u001b[0;31m \u001b[0mmax\u001b[0m\u001b[0;34m(\u001b[0m\u001b[0;34m[\u001b[0m\u001b[0;34m\"sdfs\"\u001b[0m\u001b[0;34m,\u001b[0m\u001b[0;34m\"sdfs\"\u001b[0m \u001b[0;34m,\u001b[0m \u001b[0;36m234\u001b[0m\u001b[0;34m]\u001b[0m\u001b[0;34m)\u001b[0m\u001b[0;34m\u001b[0m\u001b[0;34m\u001b[0m\u001b[0m\n\u001b[0m",
            "\u001b[0;31mTypeError\u001b[0m: '>' not supported between instances of 'int' and 'str'"
          ]
        }
      ],
      "source": [
        "max([\"sdfs\",\"sdfs\" , 234])"
      ]
    },
    {
      "cell_type": "code",
      "execution_count": 14,
      "metadata": {
        "colab": {
          "base_uri": "https://localhost:8080/",
          "height": 35
        },
        "id": "5tCVjL76OcWl",
        "outputId": "a1887cdd-a0c8-4e49-db76-d89b0f049409"
      },
      "outputs": [
        {
          "output_type": "execute_result",
          "data": {
            "application/vnd.google.colaboratory.intrinsic+json": {
              "type": "string"
            },
            "text/plain": [
              "'z'"
            ]
          },
          "metadata": {},
          "execution_count": 14
        }
      ],
      "source": [
        "max([\"sudh\" , \"ineruon\" , \"AI\",\"z\"])"
      ]
    },
    {
      "cell_type": "code",
      "execution_count": 15,
      "metadata": {
        "colab": {
          "base_uri": "https://localhost:8080/",
          "height": 35
        },
        "id": "84dXlqQGOcWm",
        "outputId": "e9b46f04-6982-4344-9a49-656582e0765e"
      },
      "outputs": [
        {
          "output_type": "execute_result",
          "data": {
            "application/vnd.google.colaboratory.intrinsic+json": {
              "type": "string"
            },
            "text/plain": [
              "'A'"
            ]
          },
          "metadata": {},
          "execution_count": 15
        }
      ],
      "source": [
        "min([\"fsdfa3434\",\"fsd\",\"fsdfaaaaaaaaa\",\"a\" , \"A\"])"
      ]
    },
    {
      "cell_type": "code",
      "execution_count": 16,
      "metadata": {
        "colab": {
          "base_uri": "https://localhost:8080/"
        },
        "id": "0Kr8MdnXOcWm",
        "outputId": "3c3f4137-ea93-43c0-f006-bd8b53f83b0f"
      },
      "outputs": [
        {
          "output_type": "execute_result",
          "data": {
            "text/plain": [
              "0"
            ]
          },
          "metadata": {},
          "execution_count": 16
        }
      ],
      "source": [
        "min([2,3,4,5,0])"
      ]
    },
    {
      "cell_type": "code",
      "execution_count": 17,
      "metadata": {
        "colab": {
          "base_uri": "https://localhost:8080/",
          "height": 165
        },
        "id": "1HbfqvHnOcWm",
        "outputId": "d7649a6c-9091-4c28-a82f-a0591c8aac3a"
      },
      "outputs": [
        {
          "output_type": "error",
          "ename": "TypeError",
          "evalue": "ignored",
          "traceback": [
            "\u001b[0;31m---------------------------------------------------------------------------\u001b[0m",
            "\u001b[0;31mTypeError\u001b[0m                                 Traceback (most recent call last)",
            "\u001b[0;32m<ipython-input-17-3877a0cf8210>\u001b[0m in \u001b[0;36m<module>\u001b[0;34m()\u001b[0m\n\u001b[0;32m----> 1\u001b[0;31m \u001b[0mmin\u001b[0m\u001b[0;34m(\u001b[0m\u001b[0;34m\"34345\"\u001b[0m\u001b[0;34m,\u001b[0m\u001b[0;36m234\u001b[0m\u001b[0;34m,\u001b[0m\u001b[0;36m234.345\u001b[0m\u001b[0;34m,\u001b[0m\u001b[0;34m\"344\"\u001b[0m\u001b[0;34m)\u001b[0m\u001b[0;34m\u001b[0m\u001b[0;34m\u001b[0m\u001b[0m\n\u001b[0m",
            "\u001b[0;31mTypeError\u001b[0m: '<' not supported between instances of 'int' and 'str'"
          ]
        }
      ],
      "source": [
        "min(\"34345\",234,234.345,\"344\")"
      ]
    },
    {
      "cell_type": "code",
      "execution_count": 18,
      "metadata": {
        "id": "_EzL8HS7OcWn"
      },
      "outputs": [],
      "source": [
        "l = [1,2,3,4]"
      ]
    },
    {
      "cell_type": "code",
      "execution_count": 19,
      "metadata": {
        "id": "7gLRYboiOcWn"
      },
      "outputs": [],
      "source": [
        "l.append(6+6j)"
      ]
    },
    {
      "cell_type": "code",
      "execution_count": 20,
      "metadata": {
        "colab": {
          "base_uri": "https://localhost:8080/"
        },
        "id": "aKVKQKRTOcWo",
        "outputId": "7ca95011-bd19-4005-f5cc-f3e9e11011b2"
      },
      "outputs": [
        {
          "output_type": "execute_result",
          "data": {
            "text/plain": [
              "[1, 2, 3, 4, (6+6j)]"
            ]
          },
          "metadata": {},
          "execution_count": 20
        }
      ],
      "source": [
        "l"
      ]
    },
    {
      "cell_type": "code",
      "execution_count": 21,
      "metadata": {
        "colab": {
          "base_uri": "https://localhost:8080/"
        },
        "id": "Q-1Jcvy8OcWo",
        "outputId": "bd8c9b0c-8c8e-4e13-adbf-e4eab2667138"
      },
      "outputs": [
        {
          "output_type": "execute_result",
          "data": {
            "text/plain": [
              "[1, 2, 3, 4, (6+6j)]"
            ]
          },
          "metadata": {},
          "execution_count": 21
        }
      ],
      "source": [
        "l"
      ]
    },
    {
      "cell_type": "code",
      "execution_count": 22,
      "metadata": {
        "colab": {
          "base_uri": "https://localhost:8080/",
          "height": 165
        },
        "id": "kFLzg6DkOcWp",
        "outputId": "d86f015d-edd6-4327-9695-6cdef644f75d"
      },
      "outputs": [
        {
          "output_type": "error",
          "ename": "TypeError",
          "evalue": "ignored",
          "traceback": [
            "\u001b[0;31m---------------------------------------------------------------------------\u001b[0m",
            "\u001b[0;31mTypeError\u001b[0m                                 Traceback (most recent call last)",
            "\u001b[0;32m<ipython-input-22-60be42d46cfc>\u001b[0m in \u001b[0;36m<module>\u001b[0;34m()\u001b[0m\n\u001b[0;32m----> 1\u001b[0;31m \u001b[0ml\u001b[0m \u001b[0;34m+\u001b[0m \u001b[0;34m\"ashu\"\u001b[0m\u001b[0;34m\u001b[0m\u001b[0;34m\u001b[0m\u001b[0m\n\u001b[0m",
            "\u001b[0;31mTypeError\u001b[0m: can only concatenate list (not \"str\") to list"
          ]
        }
      ],
      "source": [
        "l + \"ashu\""
      ]
    },
    {
      "cell_type": "code",
      "execution_count": 23,
      "metadata": {
        "id": "vXWjlOuoOcWp"
      },
      "outputs": [],
      "source": [
        "l.append(\"ashish\")"
      ]
    },
    {
      "cell_type": "code",
      "execution_count": 24,
      "metadata": {
        "colab": {
          "base_uri": "https://localhost:8080/"
        },
        "id": "weGtZTV1OcWp",
        "outputId": "66f4c931-881b-4c25-f52b-87954b8e8ed2"
      },
      "outputs": [
        {
          "output_type": "execute_result",
          "data": {
            "text/plain": [
              "[1, 2, 3, 4, (6+6j), 'ashish']"
            ]
          },
          "metadata": {},
          "execution_count": 24
        }
      ],
      "source": [
        "l"
      ]
    },
    {
      "cell_type": "code",
      "execution_count": 25,
      "metadata": {
        "id": "gCC0G0EsOcWq"
      },
      "outputs": [],
      "source": [
        "l = [1,2,3,4,5]"
      ]
    },
    {
      "cell_type": "code",
      "execution_count": 26,
      "metadata": {
        "id": "w-LLbfJcOcWq"
      },
      "outputs": [],
      "source": [
        "l.append(\"ashish\")"
      ]
    },
    {
      "cell_type": "code",
      "execution_count": 27,
      "metadata": {
        "colab": {
          "base_uri": "https://localhost:8080/"
        },
        "id": "pqWHKX3HOcWq",
        "outputId": "ce94803c-39d1-404f-af14-a1569c9db815"
      },
      "outputs": [
        {
          "output_type": "execute_result",
          "data": {
            "text/plain": [
              "[1, 2, 3, 4, 5, 'ashish']"
            ]
          },
          "metadata": {},
          "execution_count": 27
        }
      ],
      "source": [
        "l"
      ]
    },
    {
      "cell_type": "code",
      "execution_count": 28,
      "metadata": {
        "id": "XLH6F11nOcWr"
      },
      "outputs": [],
      "source": [
        "l.insert(3,\"ineuron\")"
      ]
    },
    {
      "cell_type": "code",
      "execution_count": 29,
      "metadata": {
        "colab": {
          "base_uri": "https://localhost:8080/"
        },
        "id": "Bdc9KKqROcWr",
        "outputId": "9d823d4d-24a3-4355-e72b-5dbf79fb537b"
      },
      "outputs": [
        {
          "output_type": "execute_result",
          "data": {
            "text/plain": [
              "[1, 2, 3, 'ineuron', 4, 5, 'ashish']"
            ]
          },
          "metadata": {},
          "execution_count": 29
        }
      ],
      "source": [
        "l"
      ]
    },
    {
      "cell_type": "code",
      "execution_count": 30,
      "metadata": {
        "id": "B14x736gOcWr"
      },
      "outputs": [],
      "source": [
        "l.insert(-1 , \"test\")"
      ]
    },
    {
      "cell_type": "code",
      "execution_count": 31,
      "metadata": {
        "colab": {
          "base_uri": "https://localhost:8080/"
        },
        "id": "2DvxLMcQOcWr",
        "outputId": "fb8f6fb0-3b1a-44a5-c3a5-5e071dfcc2aa"
      },
      "outputs": [
        {
          "output_type": "execute_result",
          "data": {
            "text/plain": [
              "[1, 2, 3, 'ineuron', 4, 5, 'test', 'ashish']"
            ]
          },
          "metadata": {},
          "execution_count": 31
        }
      ],
      "source": [
        "l"
      ]
    },
    {
      "cell_type": "code",
      "execution_count": 32,
      "metadata": {
        "colab": {
          "base_uri": "https://localhost:8080/"
        },
        "id": "THAaeyKDOcWs",
        "outputId": "c4bcc97e-e046-45a5-edd4-d94a76a72ed9"
      },
      "outputs": [
        {
          "output_type": "execute_result",
          "data": {
            "text/plain": [
              "[1, 2, 3, 'ineuron', 4, 5, 'test', 'ashish']"
            ]
          },
          "metadata": {},
          "execution_count": 32
        }
      ],
      "source": [
        "l"
      ]
    },
    {
      "cell_type": "code",
      "execution_count": 33,
      "metadata": {
        "id": "306BePz9OcWs"
      },
      "outputs": [],
      "source": [
        "l.insert(-1 , \"test2\")"
      ]
    },
    {
      "cell_type": "code",
      "execution_count": 34,
      "metadata": {
        "colab": {
          "base_uri": "https://localhost:8080/"
        },
        "id": "r9wH6micOcWs",
        "outputId": "ed91e880-197e-44df-d2c3-1839a917042d"
      },
      "outputs": [
        {
          "output_type": "execute_result",
          "data": {
            "text/plain": [
              "[1, 2, 3, 'ineuron', 4, 5, 'test', 'test2', 'ashish']"
            ]
          },
          "metadata": {},
          "execution_count": 34
        }
      ],
      "source": [
        "l"
      ]
    },
    {
      "cell_type": "code",
      "execution_count": 35,
      "metadata": {
        "colab": {
          "base_uri": "https://localhost:8080/"
        },
        "id": "wJXg9G0nOcWt",
        "outputId": "a18390c5-1945-44ba-f23f-2e0b973661e2"
      },
      "outputs": [
        {
          "output_type": "execute_result",
          "data": {
            "text/plain": [
              "[1, 2, 3, 'ineuron', 4, 5, 'test', 'test2', 'ashish']"
            ]
          },
          "metadata": {},
          "execution_count": 35
        }
      ],
      "source": [
        "l"
      ]
    },
    {
      "cell_type": "code",
      "execution_count": 36,
      "metadata": {
        "colab": {
          "base_uri": "https://localhost:8080/"
        },
        "id": "JNT6OZtfOcWt",
        "outputId": "f4e5d013-b866-4194-ff19-82777de821ae"
      },
      "outputs": [
        {
          "output_type": "execute_result",
          "data": {
            "text/plain": [
              "1"
            ]
          },
          "metadata": {},
          "execution_count": 36
        }
      ],
      "source": [
        "l.count(\"test\")"
      ]
    },
    {
      "cell_type": "code",
      "execution_count": 37,
      "metadata": {
        "id": "COzPjL61OcWt"
      },
      "outputs": [],
      "source": [
        "l = [1,2,3,4]"
      ]
    },
    {
      "cell_type": "code",
      "execution_count": 38,
      "metadata": {
        "id": "KjhT3h5tOcWt"
      },
      "outputs": [],
      "source": [
        "l.append([3,4,7,89])"
      ]
    },
    {
      "cell_type": "code",
      "execution_count": 39,
      "metadata": {
        "colab": {
          "base_uri": "https://localhost:8080/"
        },
        "id": "l3IsHPKAOcWu",
        "outputId": "63566d8c-3d08-418c-b981-8bb43ff420f3"
      },
      "outputs": [
        {
          "output_type": "execute_result",
          "data": {
            "text/plain": [
              "[1, 2, 3, 4, [3, 4, 7, 89]]"
            ]
          },
          "metadata": {},
          "execution_count": 39
        }
      ],
      "source": [
        "l"
      ]
    },
    {
      "cell_type": "code",
      "execution_count": 40,
      "metadata": {
        "id": "8wG2kjxEOcWu"
      },
      "outputs": [],
      "source": [
        "l.append([1,2,4,56])"
      ]
    },
    {
      "cell_type": "code",
      "execution_count": 41,
      "metadata": {
        "colab": {
          "base_uri": "https://localhost:8080/"
        },
        "id": "Ja2Y4QmCOcWu",
        "outputId": "ccfecb3c-299e-4573-bfab-0fbeb37bab12"
      },
      "outputs": [
        {
          "output_type": "execute_result",
          "data": {
            "text/plain": [
              "[1, 2, 3, 4, [3, 4, 7, 89], [1, 2, 4, 56]]"
            ]
          },
          "metadata": {},
          "execution_count": 41
        }
      ],
      "source": [
        "l"
      ]
    },
    {
      "cell_type": "code",
      "execution_count": 42,
      "metadata": {
        "id": "dnyL1obxOcWv"
      },
      "outputs": [],
      "source": [
        "l.extend([3,4,7,89,[\"sdfusdf\",4,5]])"
      ]
    },
    {
      "cell_type": "code",
      "execution_count": 43,
      "metadata": {
        "colab": {
          "base_uri": "https://localhost:8080/"
        },
        "id": "25LHXpr7OcWv",
        "outputId": "b88f2149-2601-4658-c4db-115d43424520"
      },
      "outputs": [
        {
          "output_type": "execute_result",
          "data": {
            "text/plain": [
              "[1, 2, 3, 4, [3, 4, 7, 89], [1, 2, 4, 56], 3, 4, 7, 89, ['sdfusdf', 4, 5]]"
            ]
          },
          "metadata": {},
          "execution_count": 43
        }
      ],
      "source": [
        "l"
      ]
    },
    {
      "cell_type": "code",
      "execution_count": 44,
      "metadata": {
        "colab": {
          "base_uri": "https://localhost:8080/"
        },
        "id": "7hNyY8wrOcWv",
        "outputId": "d16ba60e-1348-41b7-bcca-9b04a1ff1abe"
      },
      "outputs": [
        {
          "output_type": "execute_result",
          "data": {
            "text/plain": [
              "['t', 'e', 's', 't']"
            ]
          },
          "metadata": {},
          "execution_count": 44
        }
      ],
      "source": [
        "s = \"test\"\n",
        "list(s)"
      ]
    },
    {
      "cell_type": "code",
      "execution_count": 45,
      "metadata": {
        "colab": {
          "base_uri": "https://localhost:8080/"
        },
        "id": "C4aY-RlKOcWv",
        "outputId": "55912ed0-08b6-4b00-df63-251cc7489cac"
      },
      "outputs": [
        {
          "output_type": "execute_result",
          "data": {
            "text/plain": [
              "[1, 2, 3, 4, [3, 4, 7, 89], [1, 2, 4, 56], 3, 4, 7, 89, ['sdfusdf', 4, 5]]"
            ]
          },
          "metadata": {},
          "execution_count": 45
        }
      ],
      "source": [
        "l "
      ]
    },
    {
      "cell_type": "code",
      "execution_count": 46,
      "metadata": {
        "colab": {
          "base_uri": "https://localhost:8080/"
        },
        "id": "nsk-46lrOcWw",
        "outputId": "ac83ae9e-a622-4a9d-f498-723bf87c34be"
      },
      "outputs": [
        {
          "output_type": "execute_result",
          "data": {
            "text/plain": [
              "2"
            ]
          },
          "metadata": {},
          "execution_count": 46
        }
      ],
      "source": [
        "l.index(3)"
      ]
    },
    {
      "cell_type": "code",
      "execution_count": 47,
      "metadata": {
        "id": "yV1T9IHkOcWw"
      },
      "outputs": [],
      "source": [
        "l = [2,3,4,5,6,7]"
      ]
    },
    {
      "cell_type": "code",
      "execution_count": 48,
      "metadata": {
        "colab": {
          "base_uri": "https://localhost:8080/"
        },
        "id": "89MJhe__OcWw",
        "outputId": "57c41a61-8804-47fd-de56-655d5ece770f"
      },
      "outputs": [
        {
          "output_type": "execute_result",
          "data": {
            "text/plain": [
              "2"
            ]
          },
          "metadata": {},
          "execution_count": 48
        }
      ],
      "source": [
        "l.pop(0)"
      ]
    },
    {
      "cell_type": "code",
      "execution_count": 49,
      "metadata": {
        "colab": {
          "base_uri": "https://localhost:8080/"
        },
        "id": "NAQ9HgimOcWw",
        "outputId": "67b89036-ec97-49de-e213-7fc0012c4795"
      },
      "outputs": [
        {
          "output_type": "execute_result",
          "data": {
            "text/plain": [
              "[3, 4, 5, 6, 7]"
            ]
          },
          "metadata": {},
          "execution_count": 49
        }
      ],
      "source": [
        "l"
      ]
    },
    {
      "cell_type": "code",
      "execution_count": 50,
      "metadata": {
        "id": "5yDYWTxyOcWx"
      },
      "outputs": [],
      "source": [
        "l = [4,5,6,6,6,6,6,7,8,9]\n"
      ]
    },
    {
      "cell_type": "code",
      "execution_count": 51,
      "metadata": {
        "id": "e3hg97WoOcWx"
      },
      "outputs": [],
      "source": [
        "l.remove(6)"
      ]
    },
    {
      "cell_type": "code",
      "execution_count": 52,
      "metadata": {
        "colab": {
          "base_uri": "https://localhost:8080/"
        },
        "id": "8SWql3mrOcWx",
        "outputId": "d0bccf78-8652-4ace-a85d-55e8c8d54d29"
      },
      "outputs": [
        {
          "output_type": "execute_result",
          "data": {
            "text/plain": [
              "[4, 5, 6, 6, 6, 6, 7, 8, 9]"
            ]
          },
          "metadata": {},
          "execution_count": 52
        }
      ],
      "source": [
        "l"
      ]
    },
    {
      "cell_type": "code",
      "execution_count": 53,
      "metadata": {
        "colab": {
          "base_uri": "https://localhost:8080/"
        },
        "id": "VLqbglPtOcWx",
        "outputId": "ffbdecf7-450e-4401-ed47-64b36ef32bc5"
      },
      "outputs": [
        {
          "output_type": "execute_result",
          "data": {
            "text/plain": [
              "[4, 5, 6, 6, 6, 6, 7, 8, 9]"
            ]
          },
          "metadata": {},
          "execution_count": 53
        }
      ],
      "source": [
        "l "
      ]
    },
    {
      "cell_type": "code",
      "execution_count": 54,
      "metadata": {
        "id": "Uj15RyApOcWy"
      },
      "outputs": [],
      "source": [
        "l.reverse()"
      ]
    },
    {
      "cell_type": "code",
      "execution_count": 55,
      "metadata": {
        "colab": {
          "base_uri": "https://localhost:8080/"
        },
        "id": "NhHwIiaCOcWy",
        "outputId": "22fbd248-b7f8-43ac-f8f2-9d1d5ffb099d"
      },
      "outputs": [
        {
          "output_type": "execute_result",
          "data": {
            "text/plain": [
              "[9, 8, 7, 6, 6, 6, 6, 5, 4]"
            ]
          },
          "metadata": {},
          "execution_count": 55
        }
      ],
      "source": [
        "l"
      ]
    },
    {
      "cell_type": "code",
      "execution_count": 56,
      "metadata": {
        "id": "07zJDtAxOcWy"
      },
      "outputs": [],
      "source": [
        "l.sort()"
      ]
    },
    {
      "cell_type": "code",
      "execution_count": 57,
      "metadata": {
        "colab": {
          "base_uri": "https://localhost:8080/"
        },
        "id": "iQZYjOacOcWy",
        "outputId": "a7087698-00ef-47e6-c3ae-403f7aa599eb"
      },
      "outputs": [
        {
          "output_type": "execute_result",
          "data": {
            "text/plain": [
              "[4, 5, 6, 6, 6, 6, 7, 8, 9]"
            ]
          },
          "metadata": {},
          "execution_count": 57
        }
      ],
      "source": [
        "l"
      ]
    },
    {
      "cell_type": "code",
      "execution_count": 59,
      "metadata": {
        "id": "aVv3DH4GOcWz"
      },
      "outputs": [],
      "source": [
        "l = [3,4,5,6,7,\"ashish\" , \"ineuron\" , 45.6]"
      ]
    },
    {
      "cell_type": "code",
      "execution_count": 60,
      "metadata": {
        "colab": {
          "base_uri": "https://localhost:8080/",
          "height": 165
        },
        "id": "0Uf97XYiOcWz",
        "outputId": "c8e7f9e5-b258-45a9-bac3-eef8e497e658"
      },
      "outputs": [
        {
          "output_type": "error",
          "ename": "TypeError",
          "evalue": "ignored",
          "traceback": [
            "\u001b[0;31m---------------------------------------------------------------------------\u001b[0m",
            "\u001b[0;31mTypeError\u001b[0m                                 Traceback (most recent call last)",
            "\u001b[0;32m<ipython-input-60-fb07ac7c73ab>\u001b[0m in \u001b[0;36m<module>\u001b[0;34m()\u001b[0m\n\u001b[0;32m----> 1\u001b[0;31m \u001b[0ml\u001b[0m\u001b[0;34m.\u001b[0m\u001b[0msort\u001b[0m\u001b[0;34m(\u001b[0m\u001b[0;34m)\u001b[0m\u001b[0;34m\u001b[0m\u001b[0;34m\u001b[0m\u001b[0m\n\u001b[0m",
            "\u001b[0;31mTypeError\u001b[0m: '<' not supported between instances of 'str' and 'int'"
          ]
        }
      ],
      "source": [
        "l.sort()"
      ]
    },
    {
      "cell_type": "code",
      "execution_count": 61,
      "metadata": {
        "id": "WeqZI3YHOcWz"
      },
      "outputs": [],
      "source": [
        "l = [3,4,5,6,78 , 45.67]"
      ]
    },
    {
      "cell_type": "code",
      "execution_count": 62,
      "metadata": {
        "id": "Vy6m_UNJOcWz"
      },
      "outputs": [],
      "source": [
        "l.sort()"
      ]
    },
    {
      "cell_type": "code",
      "execution_count": 63,
      "metadata": {
        "colab": {
          "base_uri": "https://localhost:8080/"
        },
        "id": "wDixIxHXOcW0",
        "outputId": "1d45d065-6175-4af7-d9b8-a6232556e31c"
      },
      "outputs": [
        {
          "output_type": "execute_result",
          "data": {
            "text/plain": [
              "[3, 4, 5, 6, 45.67, 78]"
            ]
          },
          "metadata": {},
          "execution_count": 63
        }
      ],
      "source": [
        "l"
      ]
    },
    {
      "cell_type": "code",
      "execution_count": 65,
      "metadata": {
        "colab": {
          "base_uri": "https://localhost:8080/"
        },
        "id": "VvRoL3jxOcW0",
        "outputId": "19a2bede-6acc-4b64-ca06-50f093875ed8"
      },
      "outputs": [
        {
          "output_type": "stream",
          "name": "stdout",
          "text": [
            "2\n",
            "index of string:  3\n",
            "6\n",
            "7\n",
            "3\n",
            "6\n",
            "[[1, 2, 3, 4], [5, 6, 7, 'hi', 8], [8, 7, 66], 2, 6, [2, 3, 4], (8+6j), [5, 6, 7]]\n"
          ]
        }
      ],
      "source": [
        "l = [[1,2,3,4],[5,6,7,\"hello\",8],[8,7,66],2,6]\n",
        "l.append([2,3,4])\n",
        "l.append(8+6j)\n",
        "l.append([5,6,7])\n",
        "for i in l:\n",
        "  if type(i) == list:\n",
        "    for j,v in enumerate(i):    \n",
        "      if type(v) == str:\n",
        "        print(\"index of string: \",j)\n",
        "        i[j]=\"hi\"\n",
        "    print(i[1])\n",
        "print(l)"
      ]
    },
    {
      "cell_type": "code",
      "execution_count": 66,
      "metadata": {
        "id": "4MGCTO2ROcW0"
      },
      "outputs": [],
      "source": [
        "l=[[1,2,3],[4,5,6],[7,8,9,'xyz','xyz','xyz'],10, 'vishal', True]\n",
        "# part1\n",
        "l.insert(2,[11,12])\n",
        "l.insert(-1,[13,14])\n",
        "l.append(12+3j)"
      ]
    },
    {
      "cell_type": "code",
      "execution_count": 67,
      "metadata": {
        "colab": {
          "base_uri": "https://localhost:8080/"
        },
        "id": "DMRPgzHZOcW0",
        "outputId": "b4c1691a-e1f4-46d7-a68b-3ee44e5c55c6"
      },
      "outputs": [
        {
          "output_type": "stream",
          "name": "stdout",
          "text": [
            "3\n",
            "3\n",
            "3\n"
          ]
        }
      ],
      "source": [
        "for i in l:\n",
        "    if type(i) == list:\n",
        "        for j in i:\n",
        "            if type(j) == str:\n",
        "                print(l.index(i))"
      ]
    },
    {
      "cell_type": "code",
      "execution_count": 68,
      "metadata": {
        "colab": {
          "base_uri": "https://localhost:8080/"
        },
        "id": "HU-ZdSIJOcW1",
        "outputId": "5b9ca6a8-e5b3-4178-e834-dd744dd1873a"
      },
      "outputs": [
        {
          "output_type": "execute_result",
          "data": {
            "text/plain": [
              "[[1, 2, 3],\n",
              " [4, 5, 6],\n",
              " [11, 12],\n",
              " [7, 8, 9, 'xyz', 'xyz', 'xyz'],\n",
              " 10,\n",
              " 'vishal',\n",
              " [13, 14],\n",
              " True,\n",
              " (12+3j)]"
            ]
          },
          "metadata": {},
          "execution_count": 68
        }
      ],
      "source": [
        "l"
      ]
    },
    {
      "cell_type": "code",
      "execution_count": 70,
      "metadata": {
        "colab": {
          "base_uri": "https://localhost:8080/"
        },
        "id": "LUFYP_9AOcW1",
        "outputId": "4fb2f533-bee1-49fa-ce0b-c5ecbc9468f9"
      },
      "outputs": [
        {
          "output_type": "stream",
          "name": "stdout",
          "text": [
            "[[23, 45], [6, 7, '78S'], ['sdf', 'sdf'], 'ABC', 'REV']\n",
            "[[23, 45], [6, 7, '78S'], ['sdf', 'sdf'], [11, 12], 'ABC', 'REV']\n",
            "After complex number-  [[23, 45], (2+3j), [6, 7, '78S'], ['sdf', 'sdf'], [11, 12], 'ABC', 'REV']\n"
          ]
        },
        {
          "output_type": "execute_result",
          "data": {
            "text/plain": [
              "[[23, 45], (2+3j), [6, 7, '78S'], ['sdf', 'sdf'], [11, 12], 'ABC', 'REV']"
            ]
          },
          "metadata": {},
          "execution_count": 70
        }
      ],
      "source": [
        "l = [[23,45],[6,7,'78S'],'ABC','REV']\n",
        "\n",
        "#Q1\n",
        "\n",
        "l.insert(2,['sdf','sdf'])\n",
        "print(l)\n",
        "l.insert(3,[11,12])\n",
        "print(l)\n",
        "l.insert(1,(2+3j))\n",
        "print('After complex number- ',l)\n",
        "l"
      ]
    },
    {
      "cell_type": "code",
      "execution_count": 71,
      "metadata": {
        "colab": {
          "base_uri": "https://localhost:8080/"
        },
        "id": "i28WCu9iOcW2",
        "outputId": "1070bd5b-7dfa-425a-b4e3-18e1c938fdb5"
      },
      "outputs": [
        {
          "output_type": "stream",
          "name": "stdout",
          "text": [
            "Found String in Neasted List at index=[6, 7, '78S'] : 78S\n",
            "Removed 78S\n",
            "Found String in Neasted List at index=['sdf', 'sdf'] : sdf\n",
            "Removed sdf\n",
            "List after remove  [[23, 45], (2+3j), [6, 7], ['sdf'], [11, 12], 'ABC', 'REV']\n"
          ]
        }
      ],
      "source": [
        "#Q2\n",
        "for i in l:\n",
        "    if type(i) == list:\n",
        "        for j in i:\n",
        "            if type(j) == str:\n",
        "                print('Found String in Neasted List at index={} : {}'.format(i,j))\n",
        "                print('Removed',j)\n",
        "                i.remove(j)\n",
        "\n",
        "print('List after remove ',l)"
      ]
    },
    {
      "cell_type": "code",
      "execution_count": 72,
      "metadata": {
        "colab": {
          "base_uri": "https://localhost:8080/"
        },
        "id": "rlLcqzTPOcW2",
        "outputId": "8a61a10d-a37b-4578-9bfd-3101d7a193a0"
      },
      "outputs": [
        {
          "output_type": "stream",
          "name": "stdout",
          "text": [
            "Updated list: [[1, '2'], [(1+2j), (3+5j)], [10, 11], [20, 21], '3', 4, 5]\n",
            "\n",
            "\n"
          ]
        }
      ],
      "source": [
        "\n",
        "\n",
        "l=[[1,'2'],[10,11],[20,21],'3',4,5]\n",
        "c=[1+2j,3+5j]\n",
        "\n",
        "# question 1\n",
        "l.insert(1,c)\n",
        "print(f'Updated list: {l}')\n",
        "\n",
        "print()\n",
        "print()"
      ]
    },
    {
      "cell_type": "code",
      "execution_count": 73,
      "metadata": {
        "colab": {
          "base_uri": "https://localhost:8080/"
        },
        "id": "nSSmCHiaOcW2",
        "outputId": "bbbc71b7-eba2-4cca-cc7f-62b1cfbd15aa"
      },
      "outputs": [
        {
          "output_type": "stream",
          "name": "stdout",
          "text": [
            "Updated list: [[1, '2'], [(1+2j), (3+5j)], [10, 11], [20, 21], '3', 4, 5]\n",
            "\n",
            "\n",
            "String exist is 3\n",
            "Its position is: 4\n",
            "\n",
            "After removing 4 the new list is:\n",
            " [[1, '2'], [(1+2j), (3+5j)], [10, 11], [20, 21], 4, 5]\n",
            "\n",
            "\n",
            "The every second elemnt is:\n",
            "2\n",
            "(3+5j)\n",
            "11\n",
            "21\n"
          ]
        }
      ],
      "source": [
        "l=[[1,'2'],[10,11],[20,21],'3',4,5]\n",
        "c=[1+2j,3+5j]\n",
        "\n",
        "# question 1\n",
        "l.insert(1,c)\n",
        "print(f'Updated list: {l}')\n",
        "\n",
        "print()\n",
        "print()\n",
        "\n",
        "# question 2\n",
        "for i in l:\n",
        "    if type(i)==str:\n",
        "        print(f'String exist is {i}')\n",
        "        a=l.index(i)\n",
        "        print(f'Its position is: {a}')\n",
        "print()\n",
        "l.remove('3')\n",
        "print(f'After removing {a} the new list is:\\n {l}')\n",
        "\n",
        "print()\n",
        "print()\n",
        "\n",
        "# question 3\n",
        "print('The every second elemnt is:')\n",
        "for i in l:\n",
        "    if type(i)==list:\n",
        "        \n",
        "        print(i[1])\n"
      ]
    },
    {
      "cell_type": "code",
      "execution_count": 73,
      "metadata": {
        "id": "4bp7lSdUOcW3"
      },
      "outputs": [],
      "source": [
        ""
      ]
    },
    {
      "cell_type": "code",
      "execution_count": 74,
      "metadata": {
        "colab": {
          "base_uri": "https://localhost:8080/"
        },
        "id": "0cud6zfDOcW3",
        "outputId": "b3707a14-31ab-4356-a979-7c543eb81e71"
      },
      "outputs": [
        {
          "output_type": "stream",
          "name": "stdout",
          "text": [
            "[[23, 45], [6, 7, '78S'], ['sdf', 'sdf'], 'ABC', 'REV']\n",
            "[[23, 45], [6, 7, '78S'], ['sdf', 'sdf'], [11, 12], 'ABC', 'REV']\n",
            "After complex number-  [[23, 45], (2+3j), [6, 7, '78S'], ['sdf', 'sdf'], [11, 12], 'ABC', 'REV']\n",
            "Found String in Neasted List at index=[6, 7, '78S'] : 78S\n",
            "Removed 78S\n",
            "Found String in Neasted List at index=['sdf', 'sdf'] : sdf\n",
            "Removed sdf\n",
            "List after remove  [[23, 45], (2+3j), [6, 7], ['sdf'], [11, 12], 'ABC', 'REV']\n",
            "Neasted List  1\n",
            "2nd element of it is= 45\n",
            "Neasted List  2\n",
            "2nd element of it is= 7\n",
            "Neasted List  3\n",
            "2nd element of it is= 12\n"
          ]
        }
      ],
      "source": [
        "l = [[23,45],[6,7,'78S'],'ABC','REV']\n",
        "\n",
        "#Q1\n",
        "\n",
        "l.insert(2,['sdf','sdf'])\n",
        "print(l)\n",
        "l.insert(3,[11,12])\n",
        "print(l)\n",
        "l.insert(1,(2+3j))\n",
        "print('After complex number- ',l)\n",
        "\n",
        "#Q2\n",
        "for i in l:\n",
        "    if type(i) == list:\n",
        "        for j in i:\n",
        "            if type(j) == str:\n",
        "                print('Found String in Neasted List at index={} : {}'.format(i,j))\n",
        "                print('Removed',j)\n",
        "                i.remove(j)\n",
        "\n",
        "print('List after remove ',l)\n",
        "\n",
        "#Q3\n",
        "k=1\n",
        "for i in l:\n",
        "    if type(i) == list and len(i) >=2:\n",
        "        print('Neasted List ',k)\n",
        "        print('2nd element of it is=',i[1])\n",
        "        k+=1\n"
      ]
    },
    {
      "cell_type": "code",
      "execution_count": 75,
      "metadata": {
        "colab": {
          "base_uri": "https://localhost:8080/"
        },
        "id": "AEGNMjKaOcW4",
        "outputId": "43b5d9a3-3114-4924-a863-501121f5590f"
      },
      "outputs": [
        {
          "output_type": "stream",
          "name": "stdout",
          "text": [
            "[[1, 'a'], [3, 4], [5, 'b'], 6j, [7, 8], [9, 0], 1, 3, 4, 5, 6]\n",
            "a\n",
            "b\n"
          ]
        }
      ],
      "source": [
        "l = [[1,'a'],[3,4],[5,'b'],1,3,4,5,6]\n",
        "# Append 2 more list and 1 complex number in between\n",
        "l.insert(3,6j)\n",
        "l.insert(4,[7,8])\n",
        "l.insert(5,[9,0])\n",
        "print (l)\n",
        "for i in l:\n",
        "    if type(i) == list:\n",
        "        for t in i:\n",
        "            if type(t) == str:\n",
        "                print(t)\n"
      ]
    },
    {
      "cell_type": "code",
      "execution_count": 76,
      "metadata": {
        "colab": {
          "base_uri": "https://localhost:8080/"
        },
        "id": "UkaigwiXOcW4",
        "outputId": "6be1ba8c-7dc4-4c06-cf33-475359e6e275"
      },
      "outputs": [
        {
          "output_type": "execute_result",
          "data": {
            "text/plain": [
              "[[22, 'mahendra', 55, 22.4],\n",
              " ['dhoni', 77, 11, 55, 78.9],\n",
              " [2, 5, 6],\n",
              " [77, 88, 99],\n",
              " [99, 'pravin', 88, True],\n",
              " 2,\n",
              " 5,\n",
              " (6+4j),\n",
              " 8]"
            ]
          },
          "metadata": {},
          "execution_count": 76
        }
      ],
      "source": [
        "l1 = [[22,\"mahendra\",55,22.4],[\"dhoni\",77,11,55,78.9],[77,88,99],2,5,8]\n",
        "\n",
        "l1.insert(2,[2,5,6])\n",
        "l1.insert(4,[99,\"pravin\",88,True])\n",
        "l1.insert(-1,6+4j)\n",
        "l1"
      ]
    },
    {
      "cell_type": "code",
      "execution_count": 77,
      "metadata": {
        "colab": {
          "base_uri": "https://localhost:8080/"
        },
        "id": "hPxvomJSOcW4",
        "outputId": "f52c4608-fbf8-49fb-b372-971864ce3f94"
      },
      "outputs": [
        {
          "output_type": "stream",
          "name": "stdout",
          "text": [
            "1\n",
            "0\n",
            "1\n"
          ]
        }
      ],
      "source": [
        "for i in l1:\n",
        "    if type(i) == list :\n",
        "        for j in i:\n",
        "            if type(j) == str :\n",
        "                print(i.index(j))\n",
        "                i.remove(j)"
      ]
    },
    {
      "cell_type": "code",
      "execution_count": 78,
      "metadata": {
        "id": "hzzNPiPAOcW5"
      },
      "outputs": [],
      "source": [
        "l=[[\"gh\",56],[89,\"yhg\"],[\"90\",98],78,90.0]"
      ]
    },
    {
      "cell_type": "code",
      "execution_count": 79,
      "metadata": {
        "colab": {
          "base_uri": "https://localhost:8080/"
        },
        "id": "Y4jgEumaOcW5",
        "outputId": "972c0f33-5abf-4574-a089-934445e947c3"
      },
      "outputs": [
        {
          "output_type": "stream",
          "name": "stdout",
          "text": [
            "[['gh', 56], [78, 90], [89, '90', '90', '90'], (6+7j), [89, 'yhg'], ['90', 98], 78, 90.0]\n"
          ]
        }
      ],
      "source": [
        "for e in l:\n",
        "    if type(e)==list:\n",
        "        l.insert(l.index(e)+1,[78,90])\n",
        "        l.insert(l.index(e)+2,[89,\"90\",\"90\",\"90\"])\n",
        "        l.insert(l.index(e)+3,6+7j)\n",
        "        break\n",
        "print(l)"
      ]
    },
    {
      "cell_type": "code",
      "execution_count": 80,
      "metadata": {
        "colab": {
          "base_uri": "https://localhost:8080/"
        },
        "id": "Mt45FZnCOcW5",
        "outputId": "8c0e4203-b9ed-4834-c1b1-2def5ab01db1"
      },
      "outputs": [
        {
          "output_type": "stream",
          "name": "stdout",
          "text": [
            "index of string in nested list of index number 0 is 0\n",
            "index of string in nested list of index number 2 is 1\n",
            "index of string in nested list of index number 2 is 1\n",
            "index of string in nested list of index number 4 is 1\n",
            "index of string in nested list of index number 5 is 0\n",
            "new list [[56], [78, 90], [89, '90'], (6+7j), [89], [98], 78, 90.0]\n"
          ]
        }
      ],
      "source": [
        "for i in l:\n",
        "    if type(i)==list:\n",
        "        for e in i:\n",
        "            if type(e)==str:\n",
        "                print(f\"index of string in nested list of index number {l.index(i)} is {i.index(e)}\")\n",
        "                i.remove(e)\n",
        "print(\"new list\",l)"
      ]
    },
    {
      "cell_type": "code",
      "execution_count": 81,
      "metadata": {
        "colab": {
          "base_uri": "https://localhost:8080/"
        },
        "id": "2-9yfZZqOcW6",
        "outputId": "6a5de19f-439a-4cc8-92a5-116863c2a3a2"
      },
      "outputs": [
        {
          "output_type": "stream",
          "name": "stdout",
          "text": [
            "[['gh', 56], [78, 90], [89, '90'], (6+7j), [89, 'yhg'], ['90', 98], 78, 90.0]\n",
            "index of string in nested list of index number 0 is 0\n",
            "index of string in nested list of index number 2 is 1\n",
            "index of string in nested list of index number 4 is 1\n",
            "index of string in nested list of index number 5 is 0\n",
            "new list [[56], [78, 90], [89], (6+7j), [89], [98], 78, 90.0]\n",
            "final list [[56], [78], [89], (6+7j), [89], [98], 78, 90.0]\n"
          ]
        }
      ],
      "source": [
        "l=[[\"gh\",56],[89,\"yhg\"],[\"90\",98],78,90.0]\n",
        "for e in l:\n",
        "    if type(e)==list:\n",
        "        l.insert(l.index(e)+1,[78,90])\n",
        "        l.insert(l.index(e)+2,[89,\"90\"])\n",
        "        l.insert(l.index(e)+3,6+7j)\n",
        "        break\n",
        "print(l)\n",
        "for i in l:\n",
        "    if type(i)==list:\n",
        "        for e in i:\n",
        "            if type(e)==str:\n",
        "                print(f\"index of string in nested list of index number {l.index(i)} is {i.index(e)}\")\n",
        "                i.remove(e)\n",
        "print(\"new list\",l)\n",
        "for i in l:\n",
        "    if type(i)==list:\n",
        "        for e in i:\n",
        "            if len(i)>1:\n",
        "                i.pop(1)\n",
        "print(\"final list\",l)\n"
      ]
    },
    {
      "cell_type": "code",
      "execution_count": 81,
      "metadata": {
        "id": "gi0wmAAQOcW6"
      },
      "outputs": [],
      "source": [
        ""
      ]
    },
    {
      "cell_type": "code",
      "execution_count": 82,
      "metadata": {
        "colab": {
          "base_uri": "https://localhost:8080/"
        },
        "id": "7HBQuwAXOcW6",
        "outputId": "30ae9c22-c2f3-42c0-9684-78489da51eaf"
      },
      "outputs": [
        {
          "output_type": "stream",
          "name": "stdout",
          "text": [
            "[[22, 'mahendra', 55, 22.4], ['dhoni', 77, 11, 55, 78.9], [2, 5, 6], [77, 88, 99], [99, 'pravin', 88, True], 2, 5, (6+4j), 8]\n",
            "1\n",
            "0\n",
            "1\n",
            "[[22, 55, 22.4], [77, 11, 55, 78.9], [2, 5, 6], [77, 88, 99], [99, 88, True], 2, 5, (6+4j), 8]\n",
            "22.4,55,6,99,True,"
          ]
        }
      ],
      "source": [
        "l1 = [[22,\"mahendra\",55,22.4],[\"dhoni\",77,11,55,78.9],[77,88,99],2,5,8]\n",
        "\n",
        "l1.insert(2,[2,5,6])\n",
        "l1.insert(4,[99,\"pravin\",88,True])\n",
        "l1.insert(-1,6+4j)\n",
        "\n",
        "print(l1)\n",
        "\n",
        "for i in l1:\n",
        "    if type(i) == list :\n",
        "        for j in i:\n",
        "            if type(j) == str :\n",
        "                print(i.index(j))\n",
        "                i.remove(j)\n",
        "\n",
        "\n",
        "print(l1)\n",
        "\n",
        "for i in l1 :\n",
        "    if type(i) == list :\n",
        "        print(i[2], end = \",\")\n"
      ]
    },
    {
      "cell_type": "code",
      "execution_count": 83,
      "metadata": {
        "colab": {
          "base_uri": "https://localhost:8080/"
        },
        "id": "zasrVrG4OcW7",
        "outputId": "cdecc654-7f5c-415e-a8b7-83da6b77ad5f"
      },
      "outputs": [
        {
          "output_type": "stream",
          "name": "stdout",
          "text": [
            "Q1\n",
            "[(5+6j), [1, 2, 3], [4, 5, 6], [6, 5, 4], [3, 2, 1, 'test', 'test', 'test'], [7, 8, 9], 12, 'Santosh']\n"
          ]
        }
      ],
      "source": [
        "l = [[1,2,3],[4,5,6],[7,8,9],12,\"Santosh\"]\n",
        "l.insert(2,[3,2,1,\"test\",\"test\",\"test\"])\n",
        "l.insert(2,[6,5,4])\n",
        "l.insert(0, 5 + 6j)\n",
        "print(\"Q1\")\n",
        "print(l)"
      ]
    },
    {
      "cell_type": "code",
      "execution_count": 84,
      "metadata": {
        "colab": {
          "base_uri": "https://localhost:8080/",
          "height": 269
        },
        "id": "5F3p-JNvOcW7",
        "outputId": "5a826ceb-daa3-488a-fe63-e8134be47808"
      },
      "outputs": [
        {
          "output_type": "stream",
          "name": "stdout",
          "text": [
            "3\n",
            "4\n"
          ]
        },
        {
          "output_type": "error",
          "ename": "IndexError",
          "evalue": "ignored",
          "traceback": [
            "\u001b[0;31m---------------------------------------------------------------------------\u001b[0m",
            "\u001b[0;31mIndexError\u001b[0m                                Traceback (most recent call last)",
            "\u001b[0;32m<ipython-input-84-d0066ee02aec>\u001b[0m in \u001b[0;36m<module>\u001b[0;34m()\u001b[0m\n\u001b[1;32m      2\u001b[0m     \u001b[0;32mif\u001b[0m \u001b[0mtype\u001b[0m\u001b[0;34m(\u001b[0m\u001b[0ml\u001b[0m\u001b[0;34m[\u001b[0m\u001b[0mi\u001b[0m\u001b[0;34m]\u001b[0m\u001b[0;34m)\u001b[0m \u001b[0;34m==\u001b[0m \u001b[0mlist\u001b[0m\u001b[0;34m:\u001b[0m\u001b[0;34m\u001b[0m\u001b[0;34m\u001b[0m\u001b[0m\n\u001b[1;32m      3\u001b[0m         \u001b[0;32mfor\u001b[0m \u001b[0mj\u001b[0m \u001b[0;32min\u001b[0m \u001b[0mrange\u001b[0m\u001b[0;34m(\u001b[0m\u001b[0mlen\u001b[0m\u001b[0;34m(\u001b[0m\u001b[0ml\u001b[0m\u001b[0;34m[\u001b[0m\u001b[0mi\u001b[0m\u001b[0;34m]\u001b[0m\u001b[0;34m)\u001b[0m\u001b[0;34m)\u001b[0m\u001b[0;34m:\u001b[0m\u001b[0;34m\u001b[0m\u001b[0;34m\u001b[0m\u001b[0m\n\u001b[0;32m----> 4\u001b[0;31m             \u001b[0;32mif\u001b[0m \u001b[0mtype\u001b[0m\u001b[0;34m(\u001b[0m\u001b[0ml\u001b[0m\u001b[0;34m[\u001b[0m\u001b[0mi\u001b[0m\u001b[0;34m]\u001b[0m\u001b[0;34m[\u001b[0m\u001b[0mj\u001b[0m\u001b[0;34m]\u001b[0m\u001b[0;34m)\u001b[0m \u001b[0;34m==\u001b[0m \u001b[0mstr\u001b[0m\u001b[0;34m:\u001b[0m\u001b[0;34m\u001b[0m\u001b[0;34m\u001b[0m\u001b[0m\n\u001b[0m\u001b[1;32m      5\u001b[0m                 \u001b[0mprint\u001b[0m\u001b[0;34m(\u001b[0m\u001b[0mj\u001b[0m\u001b[0;34m)\u001b[0m\u001b[0;34m\u001b[0m\u001b[0;34m\u001b[0m\u001b[0m\n\u001b[1;32m      6\u001b[0m                 \u001b[0;32mdel\u001b[0m \u001b[0ml\u001b[0m\u001b[0;34m[\u001b[0m\u001b[0mi\u001b[0m\u001b[0;34m]\u001b[0m\u001b[0;34m[\u001b[0m\u001b[0mj\u001b[0m\u001b[0;34m]\u001b[0m\u001b[0;34m\u001b[0m\u001b[0;34m\u001b[0m\u001b[0m\n",
            "\u001b[0;31mIndexError\u001b[0m: list index out of range"
          ]
        }
      ],
      "source": [
        "for i in range(len(l)):\n",
        "    if type(l[i]) == list:\n",
        "        for j in range(len(l[i])):\n",
        "            if type(l[i][j]) == str:\n",
        "                print(j)\n",
        "                del l[i][j]\n",
        "    if(type(l[i]) == str):\n",
        "        print(j)\n",
        "        del l[i]\n",
        "print(\"Q2\")\n",
        "print(l)\n",
        "print(\"Q3\")\n",
        "for i in range(len(l)):\n",
        "    if type(l[i]) == list:\n",
        "        print(l[i][1])\n"
      ]
    },
    {
      "cell_type": "code",
      "execution_count": 85,
      "metadata": {
        "colab": {
          "base_uri": "https://localhost:8080/"
        },
        "id": "QXffy7EkOcW7",
        "outputId": "0227e57c-33b9-4062-8cdb-ca98eef23357"
      },
      "outputs": [
        {
          "output_type": "execute_result",
          "data": {
            "text/plain": [
              "[[4, 5, 'Sameer', 'Sameer', 'Sameer'],\n",
              " [346, 7, 3426, 76],\n",
              " [34657, 'Jadhav', 74557, 45, 6],\n",
              " (3+6j),\n",
              " 23095,\n",
              " 'ineuron',\n",
              " [67, 67],\n",
              " [55, 55]]"
            ]
          },
          "metadata": {},
          "execution_count": 85
        }
      ],
      "source": [
        "l=[[4,5,\"Sameer\",\"Sameer\",\"Sameer\"],[346,7,3426,76],[34657,\"Jadhav\",74557,45,6],23095,'ineuron']\n",
        "l.append([67,67])\n",
        "l.append([55,55])\n",
        "l.insert(3,3+6j)\n",
        "l"
      ]
    },
    {
      "cell_type": "code",
      "execution_count": 86,
      "metadata": {
        "colab": {
          "base_uri": "https://localhost:8080/"
        },
        "id": "JS3Om_nSOcW7",
        "outputId": "33576da9-b961-4158-9bce-8090a17765b8"
      },
      "outputs": [
        {
          "output_type": "stream",
          "name": "stdout",
          "text": [
            " got Sameer string at [4, 5, 'Sameer', 'Sameer', 'Sameer'] location\n",
            "[4, 5, 'Sameer', 'Sameer']\n",
            " got Sameer string at [4, 5, 'Sameer', 'Sameer'] location\n",
            "[4, 5, 'Sameer']\n",
            " got Jadhav string at [34657, 'Jadhav', 74557, 45, 6] location\n",
            "[34657, 74557, 45, 6]\n"
          ]
        }
      ],
      "source": [
        "l=[[4,5,\"Sameer\",\"Sameer\",\"Sameer\"],[346,7,3426,76],[34657,\"Jadhav\",74557,45,6],23095,'ineuron']\n",
        "l.append([67,67])\n",
        "l.append([55,55])\n",
        "l.insert(3,3+6j)\n",
        "l\n",
        "\n",
        "for i in l:\n",
        "    if type(i)==list:\n",
        "        for j in i:\n",
        "            if type(j)== str:\n",
        "                print (\" got {} string at {} location\".format(j,i))\n",
        "                i.remove(j)\n",
        "                print(i)\n"
      ]
    },
    {
      "cell_type": "code",
      "execution_count": 87,
      "metadata": {
        "colab": {
          "base_uri": "https://localhost:8080/"
        },
        "id": "3mHBrjo8OcW8",
        "outputId": "95d13f4a-1888-423b-e940-e729d1eaa1ce"
      },
      "outputs": [
        {
          "output_type": "stream",
          "name": "stdout",
          "text": [
            "Main List :  [[1, 2, 3], [11, 12, 'b', 'b', 'b'], [21, 't', 223], [4, 5, 6], [7, 8, 9], 'demo', 12.5]\n",
            "Index :  2\n",
            "Index :  2\n",
            "Index :  1\n",
            "Second Element :  2\n",
            "Second Element :  12\n",
            "Second Element :  223\n",
            "Second Element :  5\n",
            "Second Element :  8\n"
          ]
        }
      ],
      "source": [
        "# This is 100% working \n",
        "\n",
        "l1 = [[1,2,3],[4,5,6],[7,8,9],'demo',12.5]\n",
        "l2 = [11,12,'b','b','b']\n",
        "l3 = [21,'t',223]\n",
        "# 1)\n",
        "l1.insert(1,l2)\n",
        "l1.insert(2,l3)\n",
        "print(\"Main List : \",l1)\n",
        "# 2)\n",
        "\n",
        "for i in l1:\n",
        "    if type(i)== list:\n",
        "        for j in i:\n",
        "            if type(j) == str:\n",
        "                print(\"Index : \",i.index(j))\n",
        "                i.remove(j)\n",
        "                \n",
        "# 3) \n",
        "for i in l1:\n",
        "    if type(i)== list:\n",
        "        print(\"Second Element : \",i[1])\n"
      ]
    },
    {
      "cell_type": "code",
      "execution_count": 88,
      "metadata": {
        "colab": {
          "base_uri": "https://localhost:8080/"
        },
        "id": "m0uRPISsOcW8",
        "outputId": "59199e6c-cfde-4b37-d30e-e2321f1323de"
      },
      "outputs": [
        {
          "output_type": "execute_result",
          "data": {
            "text/plain": [
              "[[1, 2, 3], [11, 12, 'b'], [21, 223], [4, 5, 6], [7, 8, 9], 'demo', 12.5]"
            ]
          },
          "metadata": {},
          "execution_count": 88
        }
      ],
      "source": [
        "l1"
      ]
    },
    {
      "cell_type": "code",
      "execution_count": 89,
      "metadata": {
        "colab": {
          "base_uri": "https://localhost:8080/"
        },
        "id": "BeQi9BwmOcW8",
        "outputId": "ca4e13f8-aee2-47b4-f05c-df09951ccbbf"
      },
      "outputs": [
        {
          "output_type": "execute_result",
          "data": {
            "text/plain": [
              "[[1, 2, 3],\n",
              " [11, 12, 'b', 'b', 'b'],\n",
              " [21, 't', 223],\n",
              " [4, 5, 6],\n",
              " [7, 8, 9],\n",
              " 'demo',\n",
              " 12.5]"
            ]
          },
          "metadata": {},
          "execution_count": 89
        }
      ],
      "source": [
        "\n",
        "l1 = [[1,2,3],[4,5,6],[7,8,9],'demo',12.5]\n",
        "l2 = [11,12,'b','b','b']\n",
        "l3 = [21,'t',223]\n",
        "# 1)\n",
        "l1.insert(1,l2)\n",
        "l1.insert(2,l3)\n",
        "l1"
      ]
    },
    {
      "cell_type": "code",
      "execution_count": 90,
      "metadata": {
        "id": "J3O7LZvtOcW9"
      },
      "outputs": [],
      "source": [
        "l = [[1, 2, 3],\n",
        " [11, 12, 'b', 'b', 'b'],\n",
        " [21, 't', 223],\n",
        " [4, 5, 6],\n",
        " [7, 8, 9],\n",
        " 'demo',\n",
        " 12.5]"
      ]
    },
    {
      "cell_type": "code",
      "execution_count": 91,
      "metadata": {
        "colab": {
          "base_uri": "https://localhost:8080/",
          "height": 373
        },
        "id": "g8tFA0KqOcW9",
        "outputId": "8263e342-08f4-4ee4-a07e-6a7990e9ce93"
      },
      "outputs": [
        {
          "output_type": "stream",
          "name": "stdout",
          "text": [
            "Ans 2:  5\n",
            "[[1, 2, 3], [11, 12, 'b', 'b', 'b'], [21, 't', 223], [4, 5, 6], [7, 8, 9], 12.5]\n",
            "string: demo\n"
          ]
        },
        {
          "output_type": "error",
          "ename": "TypeError",
          "evalue": "ignored",
          "traceback": [
            "\u001b[0;31m---------------------------------------------------------------------------\u001b[0m",
            "\u001b[0;31mTypeError\u001b[0m                                 Traceback (most recent call last)",
            "\u001b[0;32m<ipython-input-91-d4bc60cb68ba>\u001b[0m in \u001b[0;36m<module>\u001b[0;34m()\u001b[0m\n\u001b[1;32m     16\u001b[0m \u001b[0;31m#3\u001b[0m\u001b[0;34m\u001b[0m\u001b[0;34m\u001b[0m\u001b[0;34m\u001b[0m\u001b[0m\n\u001b[1;32m     17\u001b[0m \u001b[0;34m\u001b[0m\u001b[0m\n\u001b[0;32m---> 18\u001b[0;31m \u001b[0mb\u001b[0m \u001b[0;34m=\u001b[0m \u001b[0;34m[\u001b[0m\u001b[0mel\u001b[0m\u001b[0;34m[\u001b[0m\u001b[0;36m1\u001b[0m\u001b[0;34m]\u001b[0m \u001b[0;32mfor\u001b[0m \u001b[0mel\u001b[0m \u001b[0;32min\u001b[0m \u001b[0ml\u001b[0m\u001b[0;34m]\u001b[0m\u001b[0;34m\u001b[0m\u001b[0;34m\u001b[0m\u001b[0m\n\u001b[0m\u001b[1;32m     19\u001b[0m \u001b[0mprint\u001b[0m\u001b[0;34m(\u001b[0m\u001b[0mb\u001b[0m\u001b[0;34m)\u001b[0m\u001b[0;34m\u001b[0m\u001b[0;34m\u001b[0m\u001b[0m\n",
            "\u001b[0;32m<ipython-input-91-d4bc60cb68ba>\u001b[0m in \u001b[0;36m<listcomp>\u001b[0;34m(.0)\u001b[0m\n\u001b[1;32m     16\u001b[0m \u001b[0;31m#3\u001b[0m\u001b[0;34m\u001b[0m\u001b[0;34m\u001b[0m\u001b[0;34m\u001b[0m\u001b[0m\n\u001b[1;32m     17\u001b[0m \u001b[0;34m\u001b[0m\u001b[0m\n\u001b[0;32m---> 18\u001b[0;31m \u001b[0mb\u001b[0m \u001b[0;34m=\u001b[0m \u001b[0;34m[\u001b[0m\u001b[0mel\u001b[0m\u001b[0;34m[\u001b[0m\u001b[0;36m1\u001b[0m\u001b[0;34m]\u001b[0m \u001b[0;32mfor\u001b[0m \u001b[0mel\u001b[0m \u001b[0;32min\u001b[0m \u001b[0ml\u001b[0m\u001b[0;34m]\u001b[0m\u001b[0;34m\u001b[0m\u001b[0;34m\u001b[0m\u001b[0m\n\u001b[0m\u001b[1;32m     19\u001b[0m \u001b[0mprint\u001b[0m\u001b[0;34m(\u001b[0m\u001b[0mb\u001b[0m\u001b[0;34m)\u001b[0m\u001b[0;34m\u001b[0m\u001b[0;34m\u001b[0m\u001b[0m\n",
            "\u001b[0;31mTypeError\u001b[0m: 'float' object is not subscriptable"
          ]
        }
      ],
      "source": [
        "l = [[1, 2, 3],\n",
        " [11, 12, 'b', 'b', 'b'],\n",
        " [21, 't', 223],\n",
        " [4, 5, 6],\n",
        " [7, 8, 9],\n",
        " 'demo',\n",
        " 12.5]\n",
        "\n",
        "\n",
        "for i in l:\n",
        "    if type(i)==str:\n",
        "        print(\"Ans 2: \",l.index(i))\n",
        "        l.pop(l.index(i))\n",
        "        print(l)\n",
        "        print(\"string:\",i)\n",
        "#3\n",
        "\n",
        "b = [el[1] for el in l]\n",
        "print(b)\n"
      ]
    },
    {
      "cell_type": "code",
      "execution_count": 92,
      "metadata": {
        "colab": {
          "base_uri": "https://localhost:8080/"
        },
        "id": "I6pqCpw3OcW9",
        "outputId": "27cb2b50-53b8-47d2-f550-df53517d7ce0"
      },
      "outputs": [
        {
          "output_type": "stream",
          "name": "stdout",
          "text": [
            "index of string in the list is  2\n",
            "index of string in the list is  3\n",
            "index of string in the list is  4\n",
            "index of string in the list is  1\n",
            "[[1, 2, 3], [11, 12, 'ccc', 'ccc', 'ccc'], [21, 'ccc', 223], [4, 5, 6], [7, 8, 9], 'demo', 12.5]\n"
          ]
        },
        {
          "output_type": "execute_result",
          "data": {
            "text/plain": [
              "[2, 12, 'ccc', 5, 8]"
            ]
          },
          "metadata": {},
          "execution_count": 92
        }
      ],
      "source": [
        "l = [[1, 2, 3],\n",
        " [11, 12, 'b', 'b', 'b'],\n",
        " [21, 't', 223],\n",
        " [4, 5, 6],\n",
        " [7, 8, 9],\n",
        " 'demo',\n",
        " 12.5]\n",
        "\n",
        "li=[]\n",
        "for i,j in enumerate(l):\n",
        "    if type(j) == list:\n",
        "        for k,d in enumerate(j):\n",
        "            if type(d) == str:\n",
        "                print('index of string in the list is ',k)\n",
        "                l[i][k] = 'ccc'\n",
        "            if k == 1:\n",
        "                li.append(j[k])\n",
        "print(l)\n",
        "li\n"
      ]
    },
    {
      "cell_type": "code",
      "execution_count": 93,
      "metadata": {
        "colab": {
          "base_uri": "https://localhost:8080/"
        },
        "id": "zzlpT7aSOcW-",
        "outputId": "43339883-dbcb-4737-9f32-4c5a4dc80094"
      },
      "outputs": [
        {
          "output_type": "execute_result",
          "data": {
            "text/plain": [
              "[[1, 2, 3],\n",
              " [11, 12, 'ccc', 'ccc', 'ccc'],\n",
              " [21, 'ccc', 223],\n",
              " [4, 5, 6],\n",
              " [7, 8, 9],\n",
              " 'demo',\n",
              " 12.5]"
            ]
          },
          "metadata": {},
          "execution_count": 93
        }
      ],
      "source": [
        "l"
      ]
    },
    {
      "cell_type": "code",
      "execution_count": 94,
      "metadata": {
        "colab": {
          "base_uri": "https://localhost:8080/"
        },
        "id": "JZnPQAq0OcW-",
        "outputId": "3d74223d-bec3-4d93-bb8c-59481394da94"
      },
      "outputs": [
        {
          "output_type": "stream",
          "name": "stdout",
          "text": [
            "1\n"
          ]
        }
      ],
      "source": [
        "l = [[1, 2, 3],[11, 12, 'b', 'b', 'b'],[21, 't', 223],[4, 5, 6],[7, 8, 9],'demo',12.5]\n",
        "for i in l:\n",
        "    b=False\n",
        "    if type(i) == list:\n",
        "        a=False\n",
        "        for j in i:\n",
        "            if type(j)==str:\n",
        "                i.remove(j)\n",
        "                a=True\n",
        "                break\n",
        "        if a :\n",
        "            print(l.index(i))\n",
        "            l.remove(i)"
      ]
    },
    {
      "cell_type": "code",
      "execution_count": 95,
      "metadata": {
        "colab": {
          "base_uri": "https://localhost:8080/"
        },
        "id": "1t1pHT-1OcW-",
        "outputId": "d5e7d36b-6a0d-4602-e338-731a47f9c22f"
      },
      "outputs": [
        {
          "output_type": "execute_result",
          "data": {
            "text/plain": [
              "[[1, 2, 3], [21, 't', 223], [4, 5, 6], [7, 8, 9], 'demo', 12.5]"
            ]
          },
          "metadata": {},
          "execution_count": 95
        }
      ],
      "source": [
        "l"
      ]
    },
    {
      "cell_type": "code",
      "execution_count": 96,
      "metadata": {
        "colab": {
          "base_uri": "https://localhost:8080/"
        },
        "id": "mv1wiPehOcW-",
        "outputId": "dda2d3ae-b1f7-4343-ff50-ef1b6fe8787c"
      },
      "outputs": [
        {
          "output_type": "stream",
          "name": "stdout",
          "text": [
            "[1, 2, 3]\n",
            "Occurance found in sublist [11, 12, 'b', 'b', 'b']  at  2\n",
            "Occurance found in sublist [11, 12, 'b', 'b']  at  2\n",
            "[11, 12, 'b']\n",
            "Occurance found in sublist [21, 't', 223, 44]  at  1\n",
            "[21, 223, 44]\n",
            "[4, 5, 6]\n",
            "[7, 8, 9]\n",
            "demo\n",
            "12.5\n",
            "3\n",
            "b\n",
            "44\n",
            "6\n",
            "9\n"
          ]
        }
      ],
      "source": [
        "\n",
        "l = [[1, 2, 3],\n",
        " [11, 12, 'b', 'b', 'b'],\n",
        " [21, 't', 223,44],\n",
        " [4, 5, 6],\n",
        " [7, 8, 9],\n",
        " 'demo',\n",
        " 12.5]\n",
        "\n",
        "#part 2\n",
        "for sublist in l:\n",
        "    if isinstance(sublist,list):\n",
        "           for obj in sublist:\n",
        "                if isinstance(obj,str):\n",
        "                    print('Occurance found in sublist',sublist ,' at ',sublist.index(obj))\n",
        "                    sublist.remove(obj)\n",
        "                 \n",
        "    print(sublist)\n",
        "\n",
        "#part 3\n",
        "\n",
        "for i in l:\n",
        "    if type(i)== list:\n",
        "        print(i[2])\n"
      ]
    },
    {
      "cell_type": "code",
      "execution_count": 97,
      "metadata": {
        "colab": {
          "base_uri": "https://localhost:8080/"
        },
        "id": "8dkA8XDvOcW_",
        "outputId": "27c6d0eb-0b04-4571-9647-2081773c5612"
      },
      "outputs": [
        {
          "output_type": "execute_result",
          "data": {
            "text/plain": [
              "[[1, 2, 3], [11, 12, 'b'], [21, 223, 44], [4, 5, 6], [7, 8, 9], 'demo', 12.5]"
            ]
          },
          "metadata": {},
          "execution_count": 97
        }
      ],
      "source": [
        "l"
      ]
    },
    {
      "cell_type": "code",
      "execution_count": 102,
      "metadata": {
        "colab": {
          "base_uri": "https://localhost:8080/"
        },
        "id": "9YVOjIOgOcW_",
        "outputId": "b7569e9f-55bf-4917-b866-d5276b7f89ea"
      },
      "outputs": [
        {
          "output_type": "stream",
          "name": "stdout",
          "text": [
            "1\n",
            "1\n",
            "1\n",
            "1\n",
            "1\n",
            "[1, 1, 1, 1, 1]\n"
          ]
        }
      ],
      "source": [
        "l = []\n",
        "for i in range(5):\n",
        "    l.append(int(input()))\n",
        "print(l)"
      ]
    },
    {
      "cell_type": "code",
      "execution_count": 103,
      "metadata": {
        "colab": {
          "base_uri": "https://localhost:8080/",
          "height": 53
        },
        "id": "rcxbvFsfOcXB",
        "outputId": "189e3b94-9d88-4ae3-b1ed-e25b9accd7e3"
      },
      "outputs": [
        {
          "name": "stdout",
          "output_type": "stream",
          "text": [
            "[dddddd,dd,d,ssss,ss,]\n"
          ]
        },
        {
          "output_type": "execute_result",
          "data": {
            "application/vnd.google.colaboratory.intrinsic+json": {
              "type": "string"
            },
            "text/plain": [
              "'[dddddd,dd,d,ssss,ss,]'"
            ]
          },
          "metadata": {},
          "execution_count": 103
        }
      ],
      "source": [
        "input()"
      ]
    },
    {
      "cell_type": "code",
      "execution_count": 104,
      "metadata": {
        "colab": {
          "base_uri": "https://localhost:8080/"
        },
        "id": "50yDuLEpOcXD",
        "outputId": "36712a24-f270-400a-be96-0a1c2d6ddd4e"
      },
      "outputs": [
        {
          "output_type": "stream",
          "name": "stdout",
          "text": [
            "Index of string b is : 2\n",
            "Index of string b is : 3\n",
            "Index of string b is : 4\n",
            "The string in the nested list is 'b'\n",
            "The string in the nested list is 'b'\n",
            "The string in the nested list is 'b'\n",
            "Index of string t is : 1\n",
            "The string in the nested list is 't'\n",
            "List after removal of string from nested list is\r [[1, 2, 3], [11, 12], [21, 223], [4, 5, 6], [7, 8, 9], 'demo', 12.5] \n",
            "\n"
          ]
        }
      ],
      "source": [
        "\n",
        "#2. Find the index of string element in the nested list and remove the string\n",
        "l = [[1, 2, 3],\n",
        " [11, 12, 'b', 'b', 'b'],\n",
        " [21, 't', 223],\n",
        " [4, 5, 6],\n",
        " [7, 8, 9],\n",
        " 'demo',\n",
        " 12.5]\n",
        "for i in l:\n",
        "    if type(i) == list:\n",
        "        j=0\n",
        "        while j < len(i):\n",
        "            if type(i[j]) is str:\n",
        "                print(\"Index of string {} is :\".format(i[j]),j)\n",
        "            j = j +1\n",
        "        j=0\n",
        "        while j < len(i):\n",
        "            if type(i[j]) is str:\n",
        "                print(\"The string in the nested list is '{}'\".format(i[j]))\n",
        "                i.remove(i[j])\n",
        "                continue\n",
        "            j = j +1\n",
        "print(\"List after removal of string from nested list is\\r\",l,'\\n')"
      ]
    },
    {
      "cell_type": "code",
      "execution_count": 105,
      "metadata": {
        "id": "GcdBKPalOcXD"
      },
      "outputs": [],
      "source": [
        "l = [1,2,3,4,5]"
      ]
    },
    {
      "cell_type": "code",
      "execution_count": 110,
      "metadata": {
        "id": "LvtPddT7OcXE"
      },
      "outputs": [],
      "source": [
        "l1 = []"
      ]
    },
    {
      "cell_type": "code",
      "execution_count": 111,
      "metadata": {
        "id": "GAcrR4M1OcXF"
      },
      "outputs": [],
      "source": [
        "for i in \"ashi/\":\n",
        "    l1.append(i)\n",
        "    "
      ]
    },
    {
      "cell_type": "code",
      "execution_count": 112,
      "metadata": {
        "colab": {
          "base_uri": "https://localhost:8080/"
        },
        "id": "NEYdifr0OcXF",
        "outputId": "af6e049d-579f-4b1c-8918-36f36e9a6f07"
      },
      "outputs": [
        {
          "output_type": "execute_result",
          "data": {
            "text/plain": [
              "['a', 's', 'h', 'i', '/']"
            ]
          },
          "metadata": {},
          "execution_count": 112
        }
      ],
      "source": [
        "l1"
      ]
    },
    {
      "cell_type": "code",
      "execution_count": 113,
      "metadata": {
        "colab": {
          "base_uri": "https://localhost:8080/"
        },
        "id": "SOcX2aj1OcXG",
        "outputId": "ffeb983f-5ab7-44e6-80ed-f8ba3cb66b25"
      },
      "outputs": [
        {
          "output_type": "execute_result",
          "data": {
            "text/plain": [
              "[['a'], ['s'], ['h'], ['u']]"
            ]
          },
          "metadata": {},
          "execution_count": 113
        }
      ],
      "source": [
        "[[i] for i in \"ashu\"]"
      ]
    },
    {
      "cell_type": "code",
      "execution_count": 114,
      "metadata": {
        "id": "hRcTsGC9OcXG"
      },
      "outputs": [],
      "source": [
        "l = []\n",
        "for i in range(10) :\n",
        "    if i%2 ==0:\n",
        "        l.append(i)"
      ]
    },
    {
      "cell_type": "code",
      "execution_count": 115,
      "metadata": {
        "colab": {
          "base_uri": "https://localhost:8080/"
        },
        "id": "F8lWUM4zOcXG",
        "outputId": "e9619971-a536-4f0f-cfd4-d9f146de2207"
      },
      "outputs": [
        {
          "output_type": "execute_result",
          "data": {
            "text/plain": [
              "[0, 2, 4, 6, 8]"
            ]
          },
          "metadata": {},
          "execution_count": 115
        }
      ],
      "source": [
        "l"
      ]
    },
    {
      "cell_type": "code",
      "execution_count": 116,
      "metadata": {
        "colab": {
          "base_uri": "https://localhost:8080/"
        },
        "id": "9LFdvsYJOcXG",
        "outputId": "764354c8-e00a-4031-e8a0-a92ea8f8a643"
      },
      "outputs": [
        {
          "output_type": "execute_result",
          "data": {
            "text/plain": [
              "[0, 2, 4, 6, 8]"
            ]
          },
          "metadata": {},
          "execution_count": 116
        }
      ],
      "source": [
        "[i for i in range(10) if i %2 == 0 ]"
      ]
    },
    {
      "cell_type": "code",
      "execution_count": 117,
      "metadata": {
        "colab": {
          "base_uri": "https://localhost:8080/"
        },
        "id": "cdnHzMyxOcXH",
        "outputId": "2cfdc5ea-1f8f-4420-dd55-2a21c4554022"
      },
      "outputs": [
        {
          "output_type": "execute_result",
          "data": {
            "text/plain": [
              "2"
            ]
          },
          "metadata": {},
          "execution_count": 117
        }
      ],
      "source": [
        "\n",
        "8%3"
      ]
    },
    {
      "cell_type": "code",
      "execution_count": 118,
      "metadata": {
        "colab": {
          "base_uri": "https://localhost:8080/"
        },
        "id": "7snHl9ErOcXH",
        "outputId": "bf61393b-7a12-45ee-f9e9-b2e4d2f84586"
      },
      "outputs": [
        {
          "output_type": "execute_result",
          "data": {
            "text/plain": [
              "0"
            ]
          },
          "metadata": {},
          "execution_count": 118
        }
      ],
      "source": [
        "8%2"
      ]
    },
    {
      "cell_type": "code",
      "execution_count": 119,
      "metadata": {
        "id": "lMPA0qu9OcXH"
      },
      "outputs": [],
      "source": [
        "l = []\n",
        "for i in range(10):\n",
        "    if i % 2 != 0:\n",
        "        l.append(\"odd\")\n",
        "    else :\n",
        "        l.append(\"even\")"
      ]
    },
    {
      "cell_type": "code",
      "execution_count": 120,
      "metadata": {
        "colab": {
          "base_uri": "https://localhost:8080/"
        },
        "id": "2uhh8hPTOcXI",
        "outputId": "b064b2d0-81dc-43f2-bb71-e93080422068"
      },
      "outputs": [
        {
          "output_type": "execute_result",
          "data": {
            "text/plain": [
              "['even', 'odd', 'even', 'odd', 'even', 'odd', 'even', 'odd', 'even', 'odd']"
            ]
          },
          "metadata": {},
          "execution_count": 120
        }
      ],
      "source": [
        "l"
      ]
    },
    {
      "cell_type": "code",
      "execution_count": null,
      "metadata": {
        "id": "6shzYQBNOcXI",
        "outputId": "878f2626-3014-4d53-f5b9-c45035aeca0e"
      },
      "outputs": [
        {
          "data": {
            "text/plain": [
              "['even', 'odd', 'even', 'odd', 'even', 'odd', 'even', 'odd', 'even', 'odd']"
            ]
          },
          "execution_count": 184,
          "metadata": {},
          "output_type": "execute_result"
        }
      ],
      "source": [
        "[\"odd\" if i%2 != 0 else \"even\" for i in range(10)]"
      ]
    },
    {
      "cell_type": "code",
      "execution_count": 122,
      "metadata": {
        "colab": {
          "base_uri": "https://localhost:8080/"
        },
        "id": "Kcsl60O6OcXI",
        "outputId": "5c9449a4-3025-46bc-8941-4686d0db254a"
      },
      "outputs": [
        {
          "output_type": "execute_result",
          "data": {
            "text/plain": [
              "[[0, 1, 2], [0, 1, 2], [0, 1, 2]]"
            ]
          },
          "metadata": {},
          "execution_count": 122
        }
      ],
      "source": [
        "mat = []\n",
        "for i in range(3):\n",
        "    mat.append([])\n",
        "    for j in range(3):\n",
        "        mat[i].append(j)\n",
        "mat"
      ]
    },
    {
      "cell_type": "code",
      "execution_count": 123,
      "metadata": {
        "colab": {
          "base_uri": "https://localhost:8080/"
        },
        "id": "U5jakYuhOcXJ",
        "outputId": "62424bc2-b13f-4ec4-dd63-567cc83475f9"
      },
      "outputs": [
        {
          "output_type": "execute_result",
          "data": {
            "text/plain": [
              "[[0, 1, 2], [0, 1, 2], [0, 1, 2]]"
            ]
          },
          "metadata": {},
          "execution_count": 123
        }
      ],
      "source": [
        "[[j for j in range(3)]for i in range(3)]"
      ]
    },
    {
      "cell_type": "code",
      "execution_count": null,
      "metadata": {
        "id": "19q5KZObOcXJ",
        "outputId": "842ad61e-9f4d-43bc-a93f-3ee0367012e8"
      },
      "outputs": [
        {
          "data": {
            "text/plain": [
              "[0, 6]"
            ]
          },
          "execution_count": 191,
          "metadata": {},
          "output_type": "execute_result"
        }
      ],
      "source": [
        "[i for i in range(8) if i % 2 == 0 if i % 3 == 0  ]"
      ]
    },
    {
      "cell_type": "code",
      "execution_count": 124,
      "metadata": {
        "id": "3rZtmc0zOcXJ"
      },
      "outputs": [],
      "source": [
        "l = []\n",
        "for i in range(8):\n",
        "    if i % 2 == 0 :\n",
        "        if i % 3 == 0 :\n",
        "            l.append(i)"
      ]
    },
    {
      "cell_type": "code",
      "execution_count": 125,
      "metadata": {
        "colab": {
          "base_uri": "https://localhost:8080/"
        },
        "id": "RCPefV0kOcXJ",
        "outputId": "8540ee2e-da89-497e-f0d9-1af35a58ecb4"
      },
      "outputs": [
        {
          "output_type": "execute_result",
          "data": {
            "text/plain": [
              "[0, 6]"
            ]
          },
          "metadata": {},
          "execution_count": 125
        }
      ],
      "source": [
        "l"
      ]
    },
    {
      "cell_type": "code",
      "source": [
        "[i for i in range(8) if i%2==0 if i%3==0 ]"
      ],
      "metadata": {
        "colab": {
          "base_uri": "https://localhost:8080/"
        },
        "id": "M7WpTUvjSQF1",
        "outputId": "9c35c9b4-61e1-4151-fad8-e4dd96654cc9"
      },
      "execution_count": 126,
      "outputs": [
        {
          "output_type": "execute_result",
          "data": {
            "text/plain": [
              "[0, 6]"
            ]
          },
          "metadata": {},
          "execution_count": 126
        }
      ]
    },
    {
      "cell_type": "code",
      "execution_count": 127,
      "metadata": {
        "id": "O16UOsCyOcXK"
      },
      "outputs": [],
      "source": [
        "l = []\n",
        "for i in range(10):\n",
        "    l.append(i)"
      ]
    },
    {
      "cell_type": "code",
      "execution_count": 128,
      "metadata": {
        "colab": {
          "base_uri": "https://localhost:8080/"
        },
        "id": "E9s5XWvPOcXK",
        "outputId": "d0a7e1ff-5f26-4e58-aeb6-f7efb9368d12"
      },
      "outputs": [
        {
          "output_type": "execute_result",
          "data": {
            "text/plain": [
              "[0, 1, 2, 3, 4, 5, 6, 7, 8, 9]"
            ]
          },
          "metadata": {},
          "execution_count": 128
        }
      ],
      "source": [
        "l"
      ]
    },
    {
      "cell_type": "code",
      "execution_count": 129,
      "metadata": {
        "colab": {
          "base_uri": "https://localhost:8080/"
        },
        "id": "JTTR3EMZOcXL",
        "outputId": "059f0aa1-92a0-4954-ac14-7acc1560ead9"
      },
      "outputs": [
        {
          "output_type": "execute_result",
          "data": {
            "text/plain": [
              "['test ',\n",
              " 'yes ',\n",
              " 'no',\n",
              " 'test ',\n",
              " 'test ',\n",
              " 'test ',\n",
              " 'test ',\n",
              " 'test ',\n",
              " 'test ',\n",
              " 'test ']"
            ]
          },
          "metadata": {},
          "execution_count": 129
        }
      ],
      "source": [
        "[\"yes \" if i == 1  else \"no\" if i == 2 else \"test \" for i in l]"
      ]
    },
    {
      "cell_type": "code",
      "execution_count": 130,
      "metadata": {
        "colab": {
          "base_uri": "https://localhost:8080/"
        },
        "id": "VfTmfHOWOcXL",
        "outputId": "e8234517-63a7-4a52-c62f-262dbf4410c1"
      },
      "outputs": [
        {
          "output_type": "execute_result",
          "data": {
            "text/plain": [
              "[0, 1, 2, 3, 4, 5, 6, 7, 8, 9]"
            ]
          },
          "metadata": {},
          "execution_count": 130
        }
      ],
      "source": [
        " l "
      ]
    },
    {
      "cell_type": "code",
      "execution_count": 132,
      "metadata": {
        "id": "jTZgPgWnOcXM"
      },
      "outputs": [],
      "source": [
        "res = []\n",
        "for i in l :\n",
        "    if i == 1 :\n",
        "        res.append(\"yes\")\n",
        "    elif i ==2 :\n",
        "        res.append(\"no\")\n",
        "    else :\n",
        "        res.append(\"test\")"
      ]
    },
    {
      "cell_type": "code",
      "source": [
        "[\"yes\" if i ==1 else \"no\" if i==2 else \"test\" for i in l]"
      ],
      "metadata": {
        "colab": {
          "base_uri": "https://localhost:8080/"
        },
        "id": "Jx-bRpFoS1TH",
        "outputId": "49d6b043-28de-42b6-8424-02c1ee836bcd"
      },
      "execution_count": 136,
      "outputs": [
        {
          "output_type": "execute_result",
          "data": {
            "text/plain": [
              "['test', 'yes', 'no', 'test', 'test', 'test', 'test', 'test', 'test', 'test']"
            ]
          },
          "metadata": {},
          "execution_count": 136
        }
      ]
    },
    {
      "cell_type": "code",
      "execution_count": 134,
      "metadata": {
        "colab": {
          "base_uri": "https://localhost:8080/"
        },
        "id": "bpu6-ZkKOcXM",
        "outputId": "e9a3e9bd-41a3-4f21-c564-6214fdeda2d1"
      },
      "outputs": [
        {
          "output_type": "execute_result",
          "data": {
            "text/plain": [
              "['test', 'yes', 'no', 'test', 'test', 'test', 'test', 'test', 'test', 'test']"
            ]
          },
          "metadata": {},
          "execution_count": 134
        }
      ],
      "source": [
        "res"
      ]
    }
  ],
  "metadata": {
    "kernelspec": {
      "display_name": "Python 3",
      "language": "python",
      "name": "python3"
    },
    "language_info": {
      "codemirror_mode": {
        "name": "ipython",
        "version": 3
      },
      "file_extension": ".py",
      "mimetype": "text/x-python",
      "name": "python",
      "nbconvert_exporter": "python",
      "pygments_lexer": "ipython3",
      "version": "3.8.3"
    },
    "colab": {
      "name": "list manipulation / comprehension  ineuron.ipynb",
      "provenance": []
    }
  },
  "nbformat": 4,
  "nbformat_minor": 0
}