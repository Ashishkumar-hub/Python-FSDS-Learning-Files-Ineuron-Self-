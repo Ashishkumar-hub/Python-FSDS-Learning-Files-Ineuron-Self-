{
  "cells": [
    {
      "cell_type": "code",
      "execution_count": 1,
      "metadata": {
        "colab": {
          "base_uri": "https://localhost:8080/"
        },
        "id": "fwM0vIoIcxFI",
        "outputId": "3cc39a65-0dd0-49eb-ad7b-1a243df1acfd"
      },
      "outputs": [
        {
          "output_type": "execute_result",
          "data": {
            "text/plain": [
              "30"
            ]
          },
          "metadata": {},
          "execution_count": 1
        }
      ],
      "source": [
        "a = 10\n",
        "b = 20\n",
        "a+b"
      ]
    },
    {
      "cell_type": "code",
      "execution_count": 2,
      "metadata": {
        "id": "QXE3MeVFcxFP"
      },
      "outputs": [],
      "source": [
        "def test(x,y):    \n",
        "    print(x+y)"
      ]
    },
    {
      "cell_type": "code",
      "execution_count": 3,
      "metadata": {
        "colab": {
          "base_uri": "https://localhost:8080/"
        },
        "id": "6iFZkN7FcxFR",
        "outputId": "f67ba035-7f8d-4f58-d7b4-7004de7aea03"
      },
      "outputs": [
        {
          "output_type": "stream",
          "name": "stdout",
          "text": [
            "68\n"
          ]
        },
        {
          "output_type": "execute_result",
          "data": {
            "text/plain": [
              "NoneType"
            ]
          },
          "metadata": {},
          "execution_count": 3
        }
      ],
      "source": [
        "type(test(23,45))"
      ]
    },
    {
      "cell_type": "code",
      "execution_count": 4,
      "metadata": {
        "colab": {
          "base_uri": "https://localhost:8080/"
        },
        "id": "3Hy0uODPcxFT",
        "outputId": "48569474-d791-41ce-cc62-389ed623538f"
      },
      "outputs": [
        {
          "output_type": "stream",
          "name": "stdout",
          "text": [
            "90\n"
          ]
        }
      ],
      "source": [
        "b = test(34,56)"
      ]
    },
    {
      "cell_type": "code",
      "execution_count": 5,
      "metadata": {
        "colab": {
          "base_uri": "https://localhost:8080/"
        },
        "id": "0Q0x5STAcxFU",
        "outputId": "de938b3e-2b2d-4941-86d9-14747156ed93"
      },
      "outputs": [
        {
          "output_type": "execute_result",
          "data": {
            "text/plain": [
              "NoneType"
            ]
          },
          "metadata": {},
          "execution_count": 5
        }
      ],
      "source": [
        "type(b)"
      ]
    },
    {
      "cell_type": "code",
      "execution_count": 6,
      "metadata": {
        "id": "In9EvP2YcxFV"
      },
      "outputs": [],
      "source": [
        "def test1(b,m):\n",
        "    return b * m "
      ]
    },
    {
      "cell_type": "code",
      "execution_count": 7,
      "metadata": {
        "id": "i7mqStKBcxFW"
      },
      "outputs": [],
      "source": [
        "a = test1(5,89)"
      ]
    },
    {
      "cell_type": "code",
      "execution_count": 8,
      "metadata": {
        "colab": {
          "base_uri": "https://localhost:8080/"
        },
        "id": "wHJccmkycxFW",
        "outputId": "09103545-de25-4af9-c9e0-493b5cbd951c"
      },
      "outputs": [
        {
          "output_type": "execute_result",
          "data": {
            "text/plain": [
              "int"
            ]
          },
          "metadata": {},
          "execution_count": 8
        }
      ],
      "source": [
        "type(a)"
      ]
    },
    {
      "cell_type": "code",
      "execution_count": 9,
      "metadata": {
        "id": "0EVOhU7LcxFX"
      },
      "outputs": [],
      "source": [
        "def test2(t,n,m):\n",
        "    return t + n\n",
        "    return n+m"
      ]
    },
    {
      "cell_type": "code",
      "execution_count": 10,
      "metadata": {
        "colab": {
          "base_uri": "https://localhost:8080/"
        },
        "id": "monE61VccxFZ",
        "outputId": "0fdfd845-238e-4d09-9787-b3a37f3f35e3"
      },
      "outputs": [
        {
          "output_type": "execute_result",
          "data": {
            "text/plain": [
              "9"
            ]
          },
          "metadata": {},
          "execution_count": 10
        }
      ],
      "source": [
        "test2(4,5,6)"
      ]
    },
    {
      "cell_type": "code",
      "execution_count": 11,
      "metadata": {
        "colab": {
          "base_uri": "https://localhost:8080/"
        },
        "id": "X6SLftQ6cxFa",
        "outputId": "41745d43-197e-4274-90d5-0bf22bb5ea9d"
      },
      "outputs": [
        {
          "output_type": "execute_result",
          "data": {
            "text/plain": [
              "5"
            ]
          },
          "metadata": {},
          "execution_count": 11
        }
      ],
      "source": [
        "test2(2,3,0)"
      ]
    },
    {
      "cell_type": "code",
      "execution_count": 12,
      "metadata": {
        "id": "YKHSPohzcxFb"
      },
      "outputs": [],
      "source": [
        "def test3(n, m ):\n",
        "    return n*10 , m*40 ,m+n"
      ]
    },
    {
      "cell_type": "code",
      "execution_count": 13,
      "metadata": {
        "colab": {
          "base_uri": "https://localhost:8080/"
        },
        "id": "1j36AV-_cxFb",
        "outputId": "410eda6e-44c7-42dd-88bd-aa6c55bdff77"
      },
      "outputs": [
        {
          "output_type": "execute_result",
          "data": {
            "text/plain": [
              "(20, 280, 9)"
            ]
          },
          "metadata": {},
          "execution_count": 13
        }
      ],
      "source": [
        "test3(2,7)"
      ]
    },
    {
      "cell_type": "code",
      "execution_count": 14,
      "metadata": {
        "id": "Q-7ww6RmcxFc"
      },
      "outputs": [],
      "source": [
        "c,x,v = test3(2,7)"
      ]
    },
    {
      "cell_type": "code",
      "execution_count": 15,
      "metadata": {
        "colab": {
          "base_uri": "https://localhost:8080/"
        },
        "id": "WboLBhHccxFc",
        "outputId": "736a73ca-efc0-45b2-e556-7fb28fdffb2b"
      },
      "outputs": [
        {
          "output_type": "execute_result",
          "data": {
            "text/plain": [
              "20"
            ]
          },
          "metadata": {},
          "execution_count": 15
        }
      ],
      "source": [
        "c"
      ]
    },
    {
      "cell_type": "code",
      "execution_count": 16,
      "metadata": {
        "colab": {
          "base_uri": "https://localhost:8080/"
        },
        "id": "vAolx1HmcxFd",
        "outputId": "0d3b14d9-af27-4211-fb6d-add1a91c6591"
      },
      "outputs": [
        {
          "output_type": "execute_result",
          "data": {
            "text/plain": [
              "280"
            ]
          },
          "metadata": {},
          "execution_count": 16
        }
      ],
      "source": [
        "x"
      ]
    },
    {
      "cell_type": "code",
      "execution_count": 17,
      "metadata": {
        "colab": {
          "base_uri": "https://localhost:8080/"
        },
        "id": "Z1JuBf2scxFd",
        "outputId": "a0f52a91-f617-41f3-f4a6-d0571d84e4a8"
      },
      "outputs": [
        {
          "output_type": "execute_result",
          "data": {
            "text/plain": [
              "9"
            ]
          },
          "metadata": {},
          "execution_count": 17
        }
      ],
      "source": [
        "v"
      ]
    },
    {
      "cell_type": "code",
      "execution_count": 28,
      "metadata": {
        "id": "UQyGlCadcxFe"
      },
      "outputs": [],
      "source": [
        "c , x , _ = test3(2,7)"
      ]
    },
    {
      "cell_type": "code",
      "execution_count": 29,
      "metadata": {
        "colab": {
          "base_uri": "https://localhost:8080/"
        },
        "id": "OaavYsSdcxFe",
        "outputId": "0e6b5f2c-31d4-4b0a-f260-64012b545e93"
      },
      "outputs": [
        {
          "output_type": "execute_result",
          "data": {
            "text/plain": [
              "20"
            ]
          },
          "metadata": {},
          "execution_count": 29
        }
      ],
      "source": [
        "c "
      ]
    },
    {
      "cell_type": "code",
      "execution_count": 30,
      "metadata": {
        "colab": {
          "base_uri": "https://localhost:8080/"
        },
        "id": "Tvb4pfnDcxFe",
        "outputId": "43c8882a-1fa1-42b3-ebe8-0108c768d35b"
      },
      "outputs": [
        {
          "output_type": "execute_result",
          "data": {
            "text/plain": [
              "280"
            ]
          },
          "metadata": {},
          "execution_count": 30
        }
      ],
      "source": [
        "x"
      ]
    },
    {
      "cell_type": "code",
      "execution_count": 31,
      "metadata": {
        "colab": {
          "base_uri": "https://localhost:8080/"
        },
        "id": "q4Mu7cCdcxFf",
        "outputId": "25bc532a-8248-4a9a-c37c-68915b4536de"
      },
      "outputs": [
        {
          "output_type": "execute_result",
          "data": {
            "text/plain": [
              "280"
            ]
          },
          "metadata": {},
          "execution_count": 31
        }
      ],
      "source": [
        "_"
      ]
    },
    {
      "cell_type": "code",
      "execution_count": 36,
      "metadata": {
        "id": "gCDrxZeQcxFf"
      },
      "outputs": [],
      "source": [
        "\n",
        "c,_ , m= test3(2,7)"
      ]
    },
    {
      "cell_type": "code",
      "execution_count": 37,
      "metadata": {
        "colab": {
          "base_uri": "https://localhost:8080/"
        },
        "id": "o1tHSOSScxFf",
        "outputId": "29a5aa6e-6729-4770-9731-b61b9515820a"
      },
      "outputs": [
        {
          "output_type": "execute_result",
          "data": {
            "text/plain": [
              "20"
            ]
          },
          "metadata": {},
          "execution_count": 37
        }
      ],
      "source": [
        "c"
      ]
    },
    {
      "cell_type": "code",
      "execution_count": 38,
      "metadata": {
        "colab": {
          "base_uri": "https://localhost:8080/"
        },
        "id": "qeBwsPwMcxFg",
        "outputId": "8861f10f-57a5-4aa6-f743-b5fa9c889018"
      },
      "outputs": [
        {
          "output_type": "execute_result",
          "data": {
            "text/plain": [
              "9"
            ]
          },
          "metadata": {},
          "execution_count": 38
        }
      ],
      "source": [
        "m"
      ]
    },
    {
      "cell_type": "code",
      "execution_count": 39,
      "metadata": {
        "colab": {
          "base_uri": "https://localhost:8080/"
        },
        "id": "xZY4oOK1cxFg",
        "outputId": "432c43d5-50c0-4f88-e58f-ad519a18eb3b"
      },
      "outputs": [
        {
          "output_type": "execute_result",
          "data": {
            "text/plain": [
              "9"
            ]
          },
          "metadata": {},
          "execution_count": 39
        }
      ],
      "source": [
        "_"
      ]
    },
    {
      "cell_type": "code",
      "execution_count": 40,
      "metadata": {
        "id": "w3PlPMVQcxFh"
      },
      "outputs": [],
      "source": [
        "def test():\n",
        "    print(\"this is my first funcation \")"
      ]
    },
    {
      "cell_type": "code",
      "execution_count": 41,
      "metadata": {
        "colab": {
          "base_uri": "https://localhost:8080/"
        },
        "id": "JWaz1PF8cxFh",
        "outputId": "c80bd0f1-9f1e-4677-d116-f4a063d4f248"
      },
      "outputs": [
        {
          "output_type": "stream",
          "name": "stdout",
          "text": [
            "this is my first funcation \n"
          ]
        }
      ],
      "source": [
        "m = test()"
      ]
    },
    {
      "cell_type": "code",
      "execution_count": 42,
      "metadata": {
        "colab": {
          "base_uri": "https://localhost:8080/",
          "height": 165
        },
        "id": "ZxSURjzkcxFi",
        "outputId": "30d5155d-0007-48c1-9636-fb694708fa4e"
      },
      "outputs": [
        {
          "output_type": "error",
          "ename": "TypeError",
          "evalue": "ignored",
          "traceback": [
            "\u001b[0;31m---------------------------------------------------------------------------\u001b[0m",
            "\u001b[0;31mTypeError\u001b[0m                                 Traceback (most recent call last)",
            "\u001b[0;32m<ipython-input-42-0231523aa123>\u001b[0m in \u001b[0;36m<module>\u001b[0;34m()\u001b[0m\n\u001b[0;32m----> 1\u001b[0;31m \u001b[0mm\u001b[0m \u001b[0;34m+\u001b[0m \u001b[0;34m\"fsdfsfsd\"\u001b[0m\u001b[0;34m\u001b[0m\u001b[0;34m\u001b[0m\u001b[0m\n\u001b[0m",
            "\u001b[0;31mTypeError\u001b[0m: unsupported operand type(s) for +: 'NoneType' and 'str'"
          ]
        }
      ],
      "source": [
        "m + \"fsdfsfsd\""
      ]
    },
    {
      "cell_type": "code",
      "execution_count": 43,
      "metadata": {
        "id": "TZRrJqYMcxFj"
      },
      "outputs": [],
      "source": [
        "def test7():\n",
        "    return \"this is my first class \""
      ]
    },
    {
      "cell_type": "code",
      "execution_count": 44,
      "metadata": {
        "id": "NPteGow4cxFj"
      },
      "outputs": [],
      "source": [
        "n = test7()"
      ]
    },
    {
      "cell_type": "code",
      "execution_count": 45,
      "metadata": {
        "colab": {
          "base_uri": "https://localhost:8080/",
          "height": 35
        },
        "id": "DwVSu2Z6cxFj",
        "outputId": "9953f831-2567-486a-820c-3af833f0cb00"
      },
      "outputs": [
        {
          "output_type": "execute_result",
          "data": {
            "application/vnd.google.colaboratory.intrinsic+json": {
              "type": "string"
            },
            "text/plain": [
              "'this is my first class fsfsfsd'"
            ]
          },
          "metadata": {},
          "execution_count": 45
        }
      ],
      "source": [
        "n + \"fsfsfsd\""
      ]
    },
    {
      "cell_type": "code",
      "execution_count": 46,
      "metadata": {
        "id": "WMoWaee6cxFk"
      },
      "outputs": [],
      "source": [
        "def test8(n):\n",
        "    return n * 2"
      ]
    },
    {
      "cell_type": "code",
      "execution_count": 47,
      "metadata": {
        "colab": {
          "base_uri": "https://localhost:8080/"
        },
        "id": "r86vYG-hcxFk",
        "outputId": "0f37e82d-7208-4ba3-db97-8400f14a75f8"
      },
      "outputs": [
        {
          "output_type": "execute_result",
          "data": {
            "text/plain": [
              "[3, 4, 5, 6, 7, 3, 4, 5, 6, 7]"
            ]
          },
          "metadata": {},
          "execution_count": 47
        }
      ],
      "source": [
        "test8([3,4,5,6,7])"
      ]
    },
    {
      "cell_type": "code",
      "execution_count": 48,
      "metadata": {
        "colab": {
          "base_uri": "https://localhost:8080/"
        },
        "id": "WNDFiPA5cxFk",
        "outputId": "03a8ad4e-284f-4502-d1b5-8fcf400e3b0d"
      },
      "outputs": [
        {
          "output_type": "execute_result",
          "data": {
            "text/plain": [
              "134"
            ]
          },
          "metadata": {},
          "execution_count": 48
        }
      ],
      "source": [
        "test8(67)"
      ]
    },
    {
      "cell_type": "code",
      "execution_count": 49,
      "metadata": {
        "id": "BvCyH0E6cxFl"
      },
      "outputs": [],
      "source": [
        "def test9(n):\n",
        "    return n,n*2"
      ]
    },
    {
      "cell_type": "code",
      "execution_count": 50,
      "metadata": {
        "id": "HALCs9fFcxFl"
      },
      "outputs": [],
      "source": [
        "b = test9([4,5,6,6,7])"
      ]
    },
    {
      "cell_type": "code",
      "execution_count": 51,
      "metadata": {
        "colab": {
          "base_uri": "https://localhost:8080/"
        },
        "id": "1thtV1TJcxFl",
        "outputId": "f8c99ec5-1c3b-45d4-dbe3-0a708e9a83ec"
      },
      "outputs": [
        {
          "output_type": "execute_result",
          "data": {
            "text/plain": [
              "([4, 5, 6, 6, 7], [4, 5, 6, 6, 7, 4, 5, 6, 6, 7])"
            ]
          },
          "metadata": {},
          "execution_count": 51
        }
      ],
      "source": [
        "b"
      ]
    },
    {
      "cell_type": "code",
      "execution_count": 52,
      "metadata": {
        "colab": {
          "base_uri": "https://localhost:8080/"
        },
        "id": "WqJeDN-McxFl",
        "outputId": "3b768911-68a6-48bb-bcaf-41a36a86f637"
      },
      "outputs": [
        {
          "output_type": "execute_result",
          "data": {
            "text/plain": [
              "[4, 5, 6, 6, 7]"
            ]
          },
          "metadata": {},
          "execution_count": 52
        }
      ],
      "source": [
        "b[0]"
      ]
    },
    {
      "cell_type": "code",
      "execution_count": 53,
      "metadata": {
        "colab": {
          "base_uri": "https://localhost:8080/"
        },
        "id": "GucwPUIbcxFm",
        "outputId": "189e271c-175e-4a85-fd0a-fe7975f562b1"
      },
      "outputs": [
        {
          "output_type": "execute_result",
          "data": {
            "text/plain": [
              "[4, 5, 6, 6, 7, 4, 5, 6, 6, 7]"
            ]
          },
          "metadata": {},
          "execution_count": 53
        }
      ],
      "source": [
        "b[1]"
      ]
    },
    {
      "cell_type": "code",
      "execution_count": 54,
      "metadata": {
        "id": "KXSZqeDhcxFm"
      },
      "outputs": [],
      "source": [
        "def test10(n , m = 90 ):\n",
        "    return n + m "
      ]
    },
    {
      "cell_type": "code",
      "execution_count": 56,
      "metadata": {
        "colab": {
          "base_uri": "https://localhost:8080/"
        },
        "id": "xigbZUVicxFm",
        "outputId": "a5315e9f-5d58-4a67-8c28-73f2cca28cee"
      },
      "outputs": [
        {
          "output_type": "execute_result",
          "data": {
            "text/plain": [
              "150"
            ]
          },
          "metadata": {},
          "execution_count": 56
        }
      ],
      "source": [
        "test10(60)"
      ]
    },
    {
      "cell_type": "code",
      "execution_count": 58,
      "metadata": {
        "id": "6PMZzJtAcxFn"
      },
      "outputs": [],
      "source": [
        "def boolx(x = True , y = False):\n",
        "    return x + y "
      ]
    },
    {
      "cell_type": "code",
      "execution_count": 59,
      "metadata": {
        "colab": {
          "base_uri": "https://localhost:8080/"
        },
        "id": "f1R_RNrzcxFn",
        "outputId": "fc2f82ae-c58c-4112-db54-e5aee0feff37"
      },
      "outputs": [
        {
          "output_type": "execute_result",
          "data": {
            "text/plain": [
              "1"
            ]
          },
          "metadata": {},
          "execution_count": 59
        }
      ],
      "source": [
        "boolx()"
      ]
    },
    {
      "cell_type": "code",
      "execution_count": 60,
      "metadata": {
        "colab": {
          "base_uri": "https://localhost:8080/"
        },
        "id": "pd88GvVxcxFn",
        "outputId": "dd8d5be4-619b-4d5d-b6e1-1ba19b3ea5fc"
      },
      "outputs": [
        {
          "output_type": "execute_result",
          "data": {
            "text/plain": [
              "0"
            ]
          },
          "metadata": {},
          "execution_count": 60
        }
      ],
      "source": [
        "boolx(False)"
      ]
    },
    {
      "cell_type": "code",
      "execution_count": 61,
      "metadata": {
        "colab": {
          "base_uri": "https://localhost:8080/"
        },
        "id": "PwkJBuy7cxFo",
        "outputId": "fe516fe4-a515-4059-cc8b-b2f16318a987"
      },
      "outputs": [
        {
          "output_type": "execute_result",
          "data": {
            "text/plain": [
              "8"
            ]
          },
          "metadata": {},
          "execution_count": 61
        }
      ],
      "source": [
        "boolx(False , 8)"
      ]
    },
    {
      "cell_type": "code",
      "execution_count": 62,
      "metadata": {
        "colab": {
          "base_uri": "https://localhost:8080/"
        },
        "id": "MrL41xfLcxFo",
        "outputId": "50c384ec-1127-42ca-e805-083b89a72f9b"
      },
      "outputs": [
        {
          "output_type": "execute_result",
          "data": {
            "text/plain": [
              "1"
            ]
          },
          "metadata": {},
          "execution_count": 62
        }
      ],
      "source": [
        "True + False"
      ]
    },
    {
      "cell_type": "code",
      "execution_count": 63,
      "metadata": {
        "id": "maKHlEDOcxFo"
      },
      "outputs": [],
      "source": [
        "def travel( bike = True , car = False ) : \n",
        "    plan_travel = bike or car \n",
        "    return bike , car , plan_travel"
      ]
    },
    {
      "cell_type": "code",
      "execution_count": 64,
      "metadata": {
        "colab": {
          "base_uri": "https://localhost:8080/"
        },
        "id": "Clw9_9oYcxFp",
        "outputId": "9916ea6b-dde1-44f6-f0ca-406ed2749dc0"
      },
      "outputs": [
        {
          "output_type": "execute_result",
          "data": {
            "text/plain": [
              "(True, False, True)"
            ]
          },
          "metadata": {},
          "execution_count": 64
        }
      ],
      "source": [
        "travel()"
      ]
    },
    {
      "cell_type": "code",
      "execution_count": 65,
      "metadata": {
        "colab": {
          "base_uri": "https://localhost:8080/"
        },
        "id": "dMaA6-bScxFp",
        "outputId": "60ebcbb8-1f6e-43cd-d3d4-ffbff55197c1"
      },
      "outputs": [
        {
          "output_type": "execute_result",
          "data": {
            "text/plain": [
              "(True, True, True)"
            ]
          },
          "metadata": {},
          "execution_count": 65
        }
      ],
      "source": [
        "travel(car  = True )"
      ]
    },
    {
      "cell_type": "code",
      "execution_count": 66,
      "metadata": {
        "colab": {
          "base_uri": "https://localhost:8080/"
        },
        "id": "O6OpaEY6cxFp",
        "outputId": "76e0adeb-0dc9-4fb6-dc67-c429a6c12ce4"
      },
      "outputs": [
        {
          "output_type": "execute_result",
          "data": {
            "text/plain": [
              "((True, True, True), True, (True, True, True))"
            ]
          },
          "metadata": {},
          "execution_count": 66
        }
      ],
      "source": [
        "travel(_, True)"
      ]
    },
    {
      "cell_type": "code",
      "execution_count": 68,
      "metadata": {
        "id": "wv4ooFXjcxFq"
      },
      "outputs": [],
      "source": [
        "def test11(*args ):\n",
        "    return args "
      ]
    },
    {
      "cell_type": "code",
      "execution_count": 69,
      "metadata": {
        "colab": {
          "base_uri": "https://localhost:8080/"
        },
        "id": "sTJA5TqycxFq",
        "outputId": "2e085e11-b8a4-4cfc-e45c-460aa96af79f"
      },
      "outputs": [
        {
          "output_type": "execute_result",
          "data": {
            "text/plain": [
              "('vvvvvvvvvvvv', 'kumar ', 34, [34, 4, 4, 5, 454, 54])"
            ]
          },
          "metadata": {},
          "execution_count": 69
        }
      ],
      "source": [
        "test11(\"vvvvvvvvvvvv\" , \"kumar \", 34,[34,4,4,5,454,54])"
      ]
    },
    {
      "cell_type": "code",
      "execution_count": 70,
      "metadata": {
        "id": "K2QfmSDccxFr"
      },
      "outputs": [],
      "source": [
        "def test12(a , b , c ):\n",
        "    return a + b + c "
      ]
    },
    {
      "cell_type": "code",
      "execution_count": 71,
      "metadata": {
        "colab": {
          "base_uri": "https://localhost:8080/"
        },
        "id": "ZLYMWC1QcxFr",
        "outputId": "cc239af6-cf15-42d8-f16a-01c6b8d2c0ca"
      },
      "outputs": [
        {
          "output_type": "execute_result",
          "data": {
            "text/plain": [
              "[1, 2, 3, 4, 4, 5, 6, 7, 4, 5, 6, 78]"
            ]
          },
          "metadata": {},
          "execution_count": 71
        }
      ],
      "source": [
        "test12([1,2,3,4] , [4,5,6,7] , [4,5,6,78])"
      ]
    },
    {
      "cell_type": "code",
      "execution_count": 73,
      "metadata": {
        "id": "Z2w6PLzecxFs"
      },
      "outputs": [],
      "source": [
        "def test13(*args):\n",
        "    l = []\n",
        "    for i in args:\n",
        "        l = l + i\n",
        "    return l         "
      ]
    },
    {
      "cell_type": "code",
      "execution_count": 74,
      "metadata": {
        "colab": {
          "base_uri": "https://localhost:8080/"
        },
        "id": "OxFdgdlIcxFt",
        "outputId": "f1735815-de17-44f5-a4ce-afcf9ead6beb"
      },
      "outputs": [
        {
          "output_type": "execute_result",
          "data": {
            "text/plain": [
              "[3, 4, 5, 6, 3, 4, 5, 6, 7, 3, 4, 5, 6]"
            ]
          },
          "metadata": {},
          "execution_count": 74
        }
      ],
      "source": [
        "test13([3,4,5,6] , [3,4,5,6,7] , [3,4,5,6])"
      ]
    },
    {
      "cell_type": "code",
      "execution_count": 75,
      "metadata": {
        "colab": {
          "base_uri": "https://localhost:8080/"
        },
        "id": "LwDtV_UjcxFz",
        "outputId": "e3ae9b1b-75c9-45d3-fd1e-546f77e7ee0b"
      },
      "outputs": [
        {
          "output_type": "execute_result",
          "data": {
            "text/plain": [
              "[4, 5, 6, 6, 4, 5, 6, 7]"
            ]
          },
          "metadata": {},
          "execution_count": 75
        }
      ],
      "source": [
        "test13([4,5,6,6],[4,5,6,7])"
      ]
    },
    {
      "cell_type": "code",
      "execution_count": 76,
      "metadata": {
        "id": "jdNTjDjYcxF0"
      },
      "outputs": [],
      "source": [
        "def test14(*args):\n",
        "    return [i for i in args]"
      ]
    },
    {
      "cell_type": "code",
      "execution_count": 77,
      "metadata": {
        "colab": {
          "base_uri": "https://localhost:8080/"
        },
        "id": "sPJ31bwOcxF0",
        "outputId": "587efcd5-9289-4006-dc72-6e1ef81008dc"
      },
      "outputs": [
        {
          "output_type": "execute_result",
          "data": {
            "text/plain": [
              "[[4, 5, 6, 6], [4, 5, 6, 7]]"
            ]
          },
          "metadata": {},
          "execution_count": 77
        }
      ],
      "source": [
        "test14([4,5,6,6],[4,5,6,7])"
      ]
    },
    {
      "cell_type": "code",
      "execution_count": 78,
      "metadata": {
        "colab": {
          "base_uri": "https://localhost:8080/",
          "height": 269
        },
        "id": "D-uhTRu-cxF0",
        "outputId": "31777f56-55bb-446e-f90d-31da094bf951"
      },
      "outputs": [
        {
          "output_type": "error",
          "ename": "TypeError",
          "evalue": "ignored",
          "traceback": [
            "\u001b[0;31m---------------------------------------------------------------------------\u001b[0m",
            "\u001b[0;31mTypeError\u001b[0m                                 Traceback (most recent call last)",
            "\u001b[0;32m<ipython-input-78-a7757a0ef063>\u001b[0m in \u001b[0;36m<module>\u001b[0;34m()\u001b[0m\n\u001b[0;32m----> 1\u001b[0;31m \u001b[0mtest13\u001b[0m\u001b[0;34m(\u001b[0m\u001b[0;34m\"fdsfdsf\"\u001b[0m \u001b[0;34m,\u001b[0m \u001b[0;36m234\u001b[0m\u001b[0;34m,\u001b[0m\u001b[0;34m[\u001b[0m\u001b[0;36m3\u001b[0m\u001b[0;34m,\u001b[0m\u001b[0;36m4\u001b[0m\u001b[0;34m,\u001b[0m\u001b[0;36m5\u001b[0m\u001b[0;34m,\u001b[0m\u001b[0;36m6\u001b[0m\u001b[0;34m,\u001b[0m\u001b[0;36m7\u001b[0m\u001b[0;34m,\u001b[0m\u001b[0;36m8\u001b[0m\u001b[0;34m]\u001b[0m \u001b[0;34m,\u001b[0m \u001b[0;34m[\u001b[0m\u001b[0;36m5\u001b[0m\u001b[0;34m,\u001b[0m\u001b[0;36m7\u001b[0m\u001b[0;34m,\u001b[0m\u001b[0;36m7\u001b[0m\u001b[0;34m,\u001b[0m\u001b[0;36m8\u001b[0m\u001b[0;34m,\u001b[0m\u001b[0;36m9\u001b[0m\u001b[0;34m]\u001b[0m\u001b[0;34m)\u001b[0m\u001b[0;34m\u001b[0m\u001b[0;34m\u001b[0m\u001b[0m\n\u001b[0m",
            "\u001b[0;32m<ipython-input-73-ba282d385fb5>\u001b[0m in \u001b[0;36mtest13\u001b[0;34m(*args)\u001b[0m\n\u001b[1;32m      2\u001b[0m     \u001b[0ml\u001b[0m \u001b[0;34m=\u001b[0m \u001b[0;34m[\u001b[0m\u001b[0;34m]\u001b[0m\u001b[0;34m\u001b[0m\u001b[0;34m\u001b[0m\u001b[0m\n\u001b[1;32m      3\u001b[0m     \u001b[0;32mfor\u001b[0m \u001b[0mi\u001b[0m \u001b[0;32min\u001b[0m \u001b[0margs\u001b[0m\u001b[0;34m:\u001b[0m\u001b[0;34m\u001b[0m\u001b[0;34m\u001b[0m\u001b[0m\n\u001b[0;32m----> 4\u001b[0;31m         \u001b[0ml\u001b[0m \u001b[0;34m=\u001b[0m \u001b[0ml\u001b[0m \u001b[0;34m+\u001b[0m \u001b[0mi\u001b[0m\u001b[0;34m\u001b[0m\u001b[0;34m\u001b[0m\u001b[0m\n\u001b[0m\u001b[1;32m      5\u001b[0m     \u001b[0;32mreturn\u001b[0m \u001b[0ml\u001b[0m\u001b[0;34m\u001b[0m\u001b[0;34m\u001b[0m\u001b[0m\n",
            "\u001b[0;31mTypeError\u001b[0m: can only concatenate list (not \"str\") to list"
          ]
        }
      ],
      "source": [
        "test13(\"fdsfdsf\" , 234,[3,4,5,6,7,8] , [5,7,7,8,9])"
      ]
    },
    {
      "cell_type": "code",
      "execution_count": 79,
      "metadata": {
        "id": "UZ7VnRQocxF1"
      },
      "outputs": [],
      "source": [
        "def test15(*args):\n",
        "    l = []\n",
        "    for i in args:\n",
        "        if type(i) == list:  \n",
        "            l = l + i\n",
        "    return l "
      ]
    },
    {
      "cell_type": "code",
      "execution_count": 80,
      "metadata": {
        "colab": {
          "base_uri": "https://localhost:8080/"
        },
        "id": "l54wssDccxF2",
        "outputId": "a20ed73c-bc78-45be-e1a8-f34bf3778d95"
      },
      "outputs": [
        {
          "output_type": "execute_result",
          "data": {
            "text/plain": [
              "[3, 4, 5, 6, 7, 8, 5, 7, 7, 8, 9]"
            ]
          },
          "metadata": {},
          "execution_count": 80
        }
      ],
      "source": [
        "test15(\"fdsfdsf\" , 234,[3,4,5,6,7,8] , [5,7,7,8,9])"
      ]
    },
    {
      "cell_type": "code",
      "execution_count": 81,
      "metadata": {
        "id": "1-8bY7JYcxF2"
      },
      "outputs": [],
      "source": [
        "def test16(**kwargs):\n",
        "    return kwargs"
      ]
    },
    {
      "cell_type": "code",
      "execution_count": 82,
      "metadata": {
        "colab": {
          "base_uri": "https://localhost:8080/",
          "height": 165
        },
        "id": "XGkkLQPgcxF3",
        "outputId": "a800ce14-767f-444b-fced-c9e54078662c"
      },
      "outputs": [
        {
          "output_type": "error",
          "ename": "TypeError",
          "evalue": "ignored",
          "traceback": [
            "\u001b[0;31m---------------------------------------------------------------------------\u001b[0m",
            "\u001b[0;31mTypeError\u001b[0m                                 Traceback (most recent call last)",
            "\u001b[0;32m<ipython-input-82-9fdf3b93d92e>\u001b[0m in \u001b[0;36m<module>\u001b[0;34m()\u001b[0m\n\u001b[0;32m----> 1\u001b[0;31m \u001b[0mtest16\u001b[0m\u001b[0;34m(\u001b[0m\u001b[0;36m4\u001b[0m\u001b[0;34m,\u001b[0m\u001b[0;36m56\u001b[0m\u001b[0;34m,\u001b[0m\u001b[0;36m56\u001b[0m\u001b[0;34m)\u001b[0m\u001b[0;34m\u001b[0m\u001b[0;34m\u001b[0m\u001b[0m\n\u001b[0m",
            "\u001b[0;31mTypeError\u001b[0m: test16() takes 0 positional arguments but 3 were given"
          ]
        }
      ],
      "source": [
        "test16(4,56,56)"
      ]
    },
    {
      "cell_type": "code",
      "execution_count": 83,
      "metadata": {
        "colab": {
          "base_uri": "https://localhost:8080/"
        },
        "id": "XeZK9R1ScxF3",
        "outputId": "d459adcc-80d2-41df-a7a6-1cb350e60386"
      },
      "outputs": [
        {
          "output_type": "execute_result",
          "data": {
            "text/plain": [
              "{'a': 8, 'b': True, 'c': [4, 5, 6, 6, 'kumar'], 'd': 'sudh'}"
            ]
          },
          "metadata": {},
          "execution_count": 83
        }
      ],
      "source": [
        "test16(a = 8 , b = True , c = [4,5,6,6,\"kumar\"] , d = \"sudh\")"
      ]
    },
    {
      "cell_type": "code",
      "execution_count": 84,
      "metadata": {
        "id": "mCSDGtEbcxF3"
      },
      "outputs": [],
      "source": [
        "def test17(*args):\n",
        "    return args"
      ]
    },
    {
      "cell_type": "code",
      "execution_count": 85,
      "metadata": {
        "colab": {
          "base_uri": "https://localhost:8080/"
        },
        "id": "aG8-qVuFcxF3",
        "outputId": "256a25b8-1fdd-464e-a101-32186154d49e"
      },
      "outputs": [
        {
          "output_type": "execute_result",
          "data": {
            "text/plain": [
              "(4, 5, 6, 7, 'sudh', [4, 5, 6, 7, 8])"
            ]
          },
          "metadata": {},
          "execution_count": 85
        }
      ],
      "source": [
        "test17(4,5,6,7, \"sudh\" , [4,5,6,7,8])"
      ]
    },
    {
      "cell_type": "code",
      "execution_count": 86,
      "metadata": {
        "id": "lDNBIoJmcxF4"
      },
      "outputs": [],
      "source": [
        "#1\n",
        "def fun1(*args):\n",
        "    a=[]\n",
        "    b=[]\n",
        "    c=[]\n",
        "    d=[]\n",
        "    e=[]\n",
        "    f=[]\n",
        "    g=[]\n",
        "    for i in args:\n",
        "        if type(i)==int:\n",
        "            a.append(i)\n",
        "        if type(i)==float:\n",
        "            b.append(i)\n",
        "        if type(i)==str:\n",
        "            c.append(i)\n",
        "        if type(i)==tuple:\n",
        "            d.append(i)\n",
        "        if type(i)==list:\n",
        "            e.append(i)\n",
        "        if type(i)==dict:\n",
        "            f.append(i)\n",
        "        if type(i)==bool:\n",
        "            g.append(i)\n",
        "    return a,b,c,d,e,f,g\n",
        "\n",
        "#2 \n",
        "def fun2(*args,**kwargs):\n",
        "    l=[i for i in args]\n",
        "    d=[i for i in kwargs]\n",
        "    return l,d\n"
      ]
    },
    {
      "cell_type": "code",
      "execution_count": 87,
      "metadata": {
        "id": "-rdhk6YtcxF4"
      },
      "outputs": [],
      "source": [
        "#1\n",
        "def fun1(*args):\n",
        "    a=[]\n",
        "    b=[]\n",
        "    c=[]\n",
        "    d=[]\n",
        "    e=[]\n",
        "    f=[]\n",
        "    g=[]\n",
        "    for i in args:\n",
        "        if type(i)==int:\n",
        "            a.append(i)\n",
        "        if type(i)==float:\n",
        "            b.append(i)\n",
        "        if type(i)==str:\n",
        "            c.append(i)\n",
        "        if type(i)==tuple:\n",
        "            d.append(i)\n",
        "        if type(i)==list:\n",
        "            e.append(i)\n",
        "        if type(i)==dict:\n",
        "            f.append(i)\n",
        "        if type(i)==bool:\n",
        "            g.append(i)\n",
        "    return a,b,c,d,e,f,g"
      ]
    },
    {
      "cell_type": "code",
      "execution_count": 88,
      "metadata": {
        "colab": {
          "base_uri": "https://localhost:8080/"
        },
        "id": "thXzbgk5cxF5",
        "outputId": "57fabb4d-3789-4825-e21d-9c069cb2e75e"
      },
      "outputs": [
        {
          "output_type": "execute_result",
          "data": {
            "text/plain": [
              "([3, 4, 5, 6, 6],\n",
              " [7.45],\n",
              " [],\n",
              " [],\n",
              " [[4, 5, 6, 7, 8, 9], [4, 5, 6, 7, 8, 90]],\n",
              " [],\n",
              " [True, False])"
            ]
          },
          "metadata": {},
          "execution_count": 88
        }
      ],
      "source": [
        "fun1(3,4,5,6,6,7.45,True ,False , [4,5,6,7,8,9] , [4,5,6,7,8,90] , 4+5j)"
      ]
    },
    {
      "cell_type": "code",
      "execution_count": 93,
      "metadata": {
        "id": "vK2wd_9YcxF5"
      },
      "outputs": [],
      "source": [
        "def fun2(*args,**kwargs):\n",
        "    l=[i for i in args if type(i) == list ]\n",
        "    d=[i[1] for i in kwargs.items() if type(i[1]) == list ]\n",
        "    return l,d"
      ]
    },
    {
      "cell_type": "code",
      "execution_count": 94,
      "metadata": {
        "colab": {
          "base_uri": "https://localhost:8080/"
        },
        "id": "mw6lSMNIcxF5",
        "outputId": "e44aa887-64b6-4de7-ce51-d6b8050af8f0"
      },
      "outputs": [
        {
          "output_type": "execute_result",
          "data": {
            "text/plain": [
              "([[4, 5, 6, 7, 8], [5, 6, 7, 8, 9, 0]], [[4, 5, 6, 7]])"
            ]
          },
          "metadata": {},
          "execution_count": 94
        }
      ],
      "source": [
        "fun2([4,5,6,7,8] , [5,6,7,8,9,0] , 5,5,6,7, a = 5 , b = \"fsdfds\" , m = [4,5,6,7])"
      ]
    },
    {
      "cell_type": "code",
      "execution_count": 95,
      "metadata": {
        "id": "O_g-yT-7cxF5"
      },
      "outputs": [],
      "source": [
        "def test18(**kwargs):\n",
        "    for i in kwargs.items():\n",
        "        if type(i[1])== list :\n",
        "            if \"ashu\" in i[1] :\n",
        "                print(\"i am able to find your name in input data \")\n",
        "                print(i[1])\n",
        "    return kwargs"
      ]
    },
    {
      "cell_type": "code",
      "execution_count": 97,
      "metadata": {
        "colab": {
          "base_uri": "https://localhost:8080/"
        },
        "id": "Oc6nGpUJcxF6",
        "outputId": "13f32ce8-0b2e-460f-b702-60252db46b91"
      },
      "outputs": [
        {
          "output_type": "stream",
          "name": "stdout",
          "text": [
            "i am able to find your name in input data \n",
            "['ashu', 'kumar ', 5.67]\n"
          ]
        },
        {
          "output_type": "execute_result",
          "data": {
            "text/plain": [
              "{'b': 6, 'c': [4, 5, 6, 7], 'd': ['ashu', 'kumar ', 5.67], 'n': (6+7j)}"
            ]
          },
          "metadata": {},
          "execution_count": 97
        }
      ],
      "source": [
        "test18(b =6 , c = [4,5,6,7] , d = [\"ashu\" , \"kumar \" , 5.67], n = 6 + 7j)"
      ]
    },
    {
      "cell_type": "code",
      "execution_count": 99,
      "metadata": {
        "id": "QO0tr8g9cxF6"
      },
      "outputs": [],
      "source": [
        "d ={'b': 6, 'c': [4, 5, 6, 7], 'd': ['ashish', 'kumar ', 5.67], 'n': (6+7j)}"
      ]
    },
    {
      "cell_type": "code",
      "execution_count": 100,
      "metadata": {
        "colab": {
          "base_uri": "https://localhost:8080/"
        },
        "id": "wgs0nq59cxF6",
        "outputId": "8bfd7fe0-dd5a-4047-f359-704cabd47376"
      },
      "outputs": [
        {
          "output_type": "execute_result",
          "data": {
            "text/plain": [
              "dict_values([6, [4, 5, 6, 7], ['ashish', 'kumar ', 5.67], (6+7j)])"
            ]
          },
          "metadata": {},
          "execution_count": 100
        }
      ],
      "source": [
        "d.values()"
      ]
    },
    {
      "cell_type": "code",
      "execution_count": 102,
      "metadata": {
        "colab": {
          "base_uri": "https://localhost:8080/"
        },
        "id": "ThfEu3socxF7",
        "outputId": "c9ce4f3c-c6ab-474d-e8ae-e2a32e695e35"
      },
      "outputs": [
        {
          "output_type": "execute_result",
          "data": {
            "text/plain": [
              "{complex: [(6+7j), (6+4j)],\n",
              " int: [1, 2, 3],\n",
              " list: [[5, 6, 7]],\n",
              " str: ['hi', 'io']}"
            ]
          },
          "metadata": {},
          "execution_count": 102
        }
      ],
      "source": [
        "def func1(*args):\n",
        "  dt = {}\n",
        "  for i in args:\n",
        "    if type(i) in dt:\n",
        "      dt[type(i)].append(i)\n",
        "    else:\n",
        "      dt[type(i)] = [i]\n",
        "  return dt   \n",
        "func1(1,2,3,[5,6,7],'hi','io', 6+7j , 6+4j)"
      ]
    }
  ],
  "metadata": {
    "kernelspec": {
      "display_name": "Python 3",
      "language": "python",
      "name": "python3"
    },
    "language_info": {
      "codemirror_mode": {
        "name": "ipython",
        "version": 3
      },
      "file_extension": ".py",
      "mimetype": "text/x-python",
      "name": "python",
      "nbconvert_exporter": "python",
      "pygments_lexer": "ipython3",
      "version": "3.8.3"
    },
    "colab": {
      "name": "Functions ineuron.ipynb",
      "provenance": []
    }
  },
  "nbformat": 4,
  "nbformat_minor": 0
}
