{
  "cells": [
    {
      "cell_type": "code",
      "execution_count": null,
      "metadata": {
        "id": "yK2FllrumWht"
      },
      "outputs": [],
      "source": [
        "# Abstraction no underscore public one underscore (_) proteccted two underscore (__) protected\n",
        "class test:\n",
        "    def __init__(self, a , b  , c ,d ) :\n",
        "        self.__a = a \n",
        "        self.b = b\n",
        "        self.c = c \n",
        "        self.d = d \n",
        "    def test_custome(self , v ) : \n",
        "         return v - self.__a \n",
        "    \n",
        "    def __str__(self):\n",
        "        return \"this is my test code for abstraction\""
      ]
    },
    {
      "cell_type": "code",
      "execution_count": null,
      "metadata": {
        "id": "UO1h7KmKmWhz"
      },
      "outputs": [],
      "source": [
        "o = test(4,5,6,7)"
      ]
    },
    {
      "cell_type": "code",
      "execution_count": null,
      "metadata": {
        "colab": {
          "base_uri": "https://localhost:8080/"
        },
        "id": "bvUJKjAjmWh0",
        "outputId": "ca928872-c2fb-48f5-d5e7-53e151b56f1f"
      },
      "outputs": [
        {
          "output_type": "execute_result",
          "data": {
            "text/plain": [
              "3"
            ]
          },
          "metadata": {},
          "execution_count": 3
        }
      ],
      "source": [
        "o.test_custome(7)"
      ]
    },
    {
      "cell_type": "code",
      "source": [
        "o.__a #not gonna work because of private (__)"
      ],
      "metadata": {
        "colab": {
          "base_uri": "https://localhost:8080/",
          "height": 165
        },
        "id": "2jrpjanCrY9K",
        "outputId": "c576ccb4-900a-4165-b733-42c2fba1850a"
      },
      "execution_count": null,
      "outputs": [
        {
          "output_type": "error",
          "ename": "AttributeError",
          "evalue": "ignored",
          "traceback": [
            "\u001b[0;31m---------------------------------------------------------------------------\u001b[0m",
            "\u001b[0;31mAttributeError\u001b[0m                            Traceback (most recent call last)",
            "\u001b[0;32m<ipython-input-5-1e42657c998a>\u001b[0m in \u001b[0;36m<module>\u001b[0;34m()\u001b[0m\n\u001b[0;32m----> 1\u001b[0;31m \u001b[0mo\u001b[0m\u001b[0;34m.\u001b[0m\u001b[0m__a\u001b[0m\u001b[0;34m\u001b[0m\u001b[0;34m\u001b[0m\u001b[0m\n\u001b[0m",
            "\u001b[0;31mAttributeError\u001b[0m: 'test' object has no attribute '__a'"
          ]
        }
      ]
    },
    {
      "cell_type": "code",
      "execution_count": null,
      "metadata": {
        "colab": {
          "base_uri": "https://localhost:8080/"
        },
        "id": "fqRNAvpMmWh2",
        "outputId": "a7102774-4e34-4f94-beea-b0615dddd96e"
      },
      "outputs": [
        {
          "output_type": "execute_result",
          "data": {
            "text/plain": [
              "4"
            ]
          },
          "metadata": {},
          "execution_count": 6
        }
      ],
      "source": [
        "o._test__a #calling class with single underscore object(underscore)classname(underscore underscore variable name)"
      ]
    },
    {
      "cell_type": "code",
      "execution_count": null,
      "metadata": {
        "colab": {
          "base_uri": "https://localhost:8080/"
        },
        "id": "05wlxlEXmWh2",
        "outputId": "21c3caf9-e03f-4b74-bb43-b128cdf7bfb9"
      },
      "outputs": [
        {
          "output_type": "execute_result",
          "data": {
            "text/plain": [
              "6"
            ]
          },
          "metadata": {},
          "execution_count": 7
        }
      ],
      "source": [
        "class test1(test):\n",
        "    def __init__(self, j , *args):\n",
        "        super(test1,self).__init__(*args) #\n",
        "        self.j = j \n",
        "        \n",
        "m = test1(4,5,6,7,8)\n",
        "m.b"
      ]
    },
    {
      "cell_type": "code",
      "execution_count": null,
      "metadata": {
        "id": "70jdnB7lmWh3",
        "outputId": "6e3123d7-9013-4302-e8c7-fbc6f6f9e185"
      },
      "outputs": [
        {
          "data": {
            "text/plain": [
              "5"
            ]
          },
          "execution_count": 42,
          "metadata": {},
          "output_type": "execute_result"
        }
      ],
      "source": [
        "m._test__a"
      ]
    },
    {
      "cell_type": "code",
      "execution_count": null,
      "metadata": {
        "id": "BjwrIoWamWh4",
        "outputId": "25afa78e-49d8-4732-fe92-38004e8549cc"
      },
      "outputs": [
        {
          "data": {
            "text/plain": [
              "3"
            ]
          },
          "execution_count": 36,
          "metadata": {},
          "output_type": "execute_result"
        }
      ],
      "source": [
        "m.test_custome(8)"
      ]
    },
    {
      "cell_type": "code",
      "execution_count": null,
      "metadata": {
        "id": "JkJYgsEEmWh5",
        "outputId": "d1c6a3f0-bfda-417c-efa6-e0eebb483d4c"
      },
      "outputs": [
        {
          "data": {
            "text/plain": [
              "6"
            ]
          },
          "execution_count": 37,
          "metadata": {},
          "output_type": "execute_result"
        }
      ],
      "source": [
        "m.b"
      ]
    },
    {
      "cell_type": "code",
      "execution_count": null,
      "metadata": {
        "id": "b8y8gyxUmWh6",
        "outputId": "e785cf69-ee6d-4a55-c8a1-8a4d0bb4350e"
      },
      "outputs": [
        {
          "data": {
            "text/plain": [
              "7"
            ]
          },
          "execution_count": 38,
          "metadata": {},
          "output_type": "execute_result"
        }
      ],
      "source": [
        "m.c"
      ]
    },
    {
      "cell_type": "code",
      "execution_count": null,
      "metadata": {
        "id": "fsouscm6mWh7",
        "outputId": "9c07c00b-ae59-4cb8-80ff-f87d9d97ddf9"
      },
      "outputs": [
        {
          "data": {
            "text/plain": [
              "8"
            ]
          },
          "execution_count": 39,
          "metadata": {},
          "output_type": "execute_result"
        }
      ],
      "source": [
        "m.d"
      ]
    },
    {
      "cell_type": "code",
      "execution_count": null,
      "metadata": {
        "id": "XpdY6GBMmWh7"
      },
      "outputs": [],
      "source": [
        "1.create class test and test1\n",
        "2.inherit test and test1 into test2\n",
        "3.function a in test\n",
        "4.function a in test1\n",
        "5.test2 should inherit function-a from test1 and test both\n"
      ]
    },
    {
      "cell_type": "code",
      "source": [
        "class test:\n",
        "  def __init__(self):\n",
        "    print(\"Hey\")\n",
        "  def a(self):\n",
        "    print(\"function overiding\")\n",
        "\n",
        "class test1:\n",
        "  def __init__(self):\n",
        "    print(\"yo\")\n",
        "  def a(self):\n",
        "    print(\"function overiding 2\")\n",
        "\n",
        "class test2(test,test1):\n",
        "  def __init__(self):\n",
        "    print(\"yoy yo\")\n",
        "    test.a(self)\n",
        "    test1.a(self)\n",
        "\n",
        "t = test2()\n"
      ],
      "metadata": {
        "colab": {
          "base_uri": "https://localhost:8080/"
        },
        "id": "lI_n341KvgSq",
        "outputId": "d180d04d-ac23-42c0-a186-73667bf5a8f9"
      },
      "execution_count": null,
      "outputs": [
        {
          "output_type": "stream",
          "name": "stdout",
          "text": [
            "yoy yo\n",
            "function overiding\n",
            "function overiding 2\n"
          ]
        }
      ]
    },
    {
      "cell_type": "code",
      "execution_count": null,
      "metadata": {
        "colab": {
          "base_uri": "https://localhost:8080/"
        },
        "id": "XmkNp4WCmWiF",
        "outputId": "8ed0e5e0-45be-42e4-e0d2-b764e9b048dd"
      },
      "outputs": [
        {
          "output_type": "stream",
          "name": "stdout",
          "text": [
            "iNeuron Company was established in 2018\n"
          ]
        }
      ],
      "source": [
        "#single level \n",
        "class Ineuron:\n",
        "    company_website = 'https://ineuron.ai/'\n",
        "    name = 'iNeuron'\n",
        " \n",
        "    def contact_details(self):\n",
        "        print('Contact us at ', self.company_website)\n",
        " \n",
        " \n",
        "class Datascience(Ineuron):\n",
        "    def __init__(self):\n",
        "        self.year_of_establishment= 2018\n",
        " \n",
        "    def est_details(self):\n",
        "        print('{0} Company was established in {1}'\n",
        "              .format(self.name,self.year_of_establishment))\n",
        " \n",
        " \n",
        "ds = Datascience()\n",
        "ds.est_details()"
      ]
    },
    {
      "cell_type": "code",
      "execution_count": null,
      "metadata": {
        "colab": {
          "base_uri": "https://localhost:8080/"
        },
        "id": "-GVmihuMmWiF",
        "outputId": "607b1dc0-7ce9-444a-e86f-9034d0f43b46"
      },
      "outputs": [
        {
          "output_type": "stream",
          "name": "stdout",
          "text": [
            "multi_task\n",
            "Name: sudh\n"
          ]
        }
      ],
      "source": [
        "#multiple inheritence\n",
        "class OS:\n",
        "    multi_task = True\n",
        "    os_name = 'Windows OS'\n",
        "    name = \"sudh\"\n",
        " \n",
        "class windows(OS, Ineuron):\n",
        "    def __init__(self):\n",
        "        if self.multi_task is True:\n",
        "            print('multi_task')\n",
        "        print('Name: {}'.format(self.name))\n",
        " \n",
        "windows = windows() "
      ]
    },
    {
      "cell_type": "code",
      "execution_count": null,
      "metadata": {
        "colab": {
          "base_uri": "https://localhost:8080/"
        },
        "id": "aUy3JgiqmWiG",
        "outputId": "b262637e-e7f5-4934-ab5e-5b0bbd560767"
      },
      "outputs": [
        {
          "output_type": "stream",
          "name": "stdout",
          "text": [
            "multi_task\n",
            "Name: iNeuron\n"
          ]
        }
      ],
      "source": [
        "class windows(Ineuron,OS):\n",
        "    def __init__(self):\n",
        "        if self.multi_task is True:\n",
        "            print('multi_task')\n",
        "        print('Name: {}'.format(self.name))\n",
        " \n",
        " \n",
        "windows = windows()"
      ]
    },
    {
      "cell_type": "code",
      "execution_count": null,
      "metadata": {
        "colab": {
          "base_uri": "https://localhost:8080/"
        },
        "id": "wUG1ozkZmWiG",
        "outputId": "048b6bd4-07c3-44a0-fa5c-b4867b216ba5"
      },
      "outputs": [
        {
          "output_type": "stream",
          "name": "stdout",
          "text": [
            "The company iNeuron offers total 12 different types of courses. Most trending course is Data-Science\n"
          ]
        }
      ],
      "source": [
        "#multlevel inheritence\n",
        "\n",
        "class iNeuron:\n",
        "    num_of_courses = 12\n",
        " \n",
        " \n",
        "class Datascience(iNeuron):\n",
        "    course_type = 'Data-Science'\n",
        " \n",
        " \n",
        "class AI(Datascience):\n",
        "    def __init__(self):\n",
        "        self.company = \"iNeuron\"\n",
        "        print('The company {0} offers total {1} different types of courses. Most trending course is {2}'.format(self.company,self.num_of_courses,self.course_type))\n",
        " \n",
        " \n",
        "AI = AI()"
      ]
    },
    {
      "cell_type": "code",
      "execution_count": null,
      "metadata": {
        "id": "gWDUcuzAmWiG"
      },
      "outputs": [],
      "source": [
        "import sqlite3\n",
        "\n",
        "class DataBaseOperations:\n",
        "\n",
        "    def __init__(self,databasename):\n",
        "        \n",
        "        self.databasename = databasename\n",
        "\n",
        "    def createDatabase(self):\n",
        "        try:\n",
        "            conn = sqlite3.connect(self.databasename)\n",
        "        except ConnectionError:\n",
        "            raise ConnectionError\n",
        "        return conn\n",
        "\n",
        "    def createTable(self,tablename,dictionaryOfcolumnNamesAndcolumnDatatypes):\n",
        "        try:\n",
        "            conn = self.createDatabase()\n",
        "            c = conn.cursor()\n",
        "            for key in dictionaryOfcolumnNamesAndcolumnDatatypes.keys():\n",
        "                datatype = dictionaryOfcolumnNamesAndcolumnDatatypes[key]\n",
        "                try:\n",
        "                    conn.execute(\n",
        "                        'ALTER TABLE {tableName} ADD COLUMN \"{column_name}\" {dataType}'.format(tableName=tablename,\n",
        "                                                                                               column_name=key,\n",
        "                                                                                               dataType=datatype))\n",
        "                except:\n",
        "                    conn.execute('CREATE TABLE {tableName} ({column_name} {dataType})'.format(tableName=tablename,\n",
        "                                                                                              column_name=key,\n",
        "                                                                                              dataType=datatype))\n",
        "            print(\"Table {0} created in database {1}\".format(tablename,self.databasename))\n",
        "            self.closeDbConnection(conn)\n",
        "            print(\"Connection to database closed!!\")\n",
        "        except Exception as e:\n",
        "            conn.rollback()\n",
        "            self.closeDbConnection(conn)\n",
        "            print(\"Connection to database closed!!\")\n",
        "\n",
        "            print(\"Exception occured: \" + str(e))\n",
        "\n",
        "    def insertIntoTable(self,tablename, listOfvaluesToInsert):\n",
        "        try:\n",
        "            conn = self.createDatabase()\n",
        "            conn.execute('INSERT INTO {tablename}  values ({values})'.format(tablename = tablename,values=(listOfvaluesToInsert)))\n",
        "            conn.commit()\n",
        "            print(\"Values Inserted Successfully!!!\")\n",
        "            self.closeDbConnection(conn)\n",
        "            print(\"Connection to database closed!!\")\n",
        "        except Exception as e:\n",
        "            conn.rollback()\n",
        "            self.closeDbConnection(conn)\n",
        "            print(\"Connection to database closed!!\")\n",
        "            print(\"Error occured: \" + str(e))\n",
        "\n",
        "        # self.closeDbconnection()\n",
        "    \n",
        "    def selectFromTable(self,tablename):\n",
        "\n",
        "        try:\n",
        "            conn = self.createDatabase()\n",
        "            c = conn.cursor()\n",
        "            c.execute(\"SELECT *  FROM {table}\".format(table=tablename))\n",
        "            print(\"values in table : \" ,c.fetchall())\n",
        "            self.closeDbConnection(conn)\n",
        "            print(\"Connection to database closed!!\")\n",
        "            \n",
        "        except Exception as e:\n",
        "            self.closeDbConnection(conn)\n",
        "            print(\"Connection to database closed!!\")\n",
        "            print(\"Error occured: \" + str(e))\n",
        "    \n",
        "    def closeDbConnection(self,connection):\n",
        "       \n",
        "        connection.close()"
      ]
    },
    {
      "cell_type": "code",
      "execution_count": null,
      "metadata": {
        "id": "HUEWnNSGmWiH"
      },
      "outputs": [],
      "source": [
        "class StudentMarks(DataBaseOperations): # inheriting the DatabaseOperation class\n",
        "    \n",
        "    def __init__ (self, ID, RollNumber, Marks):\n",
        "        \n",
        "        self.id= ID\n",
        "        self.RollNum = RollNumber\n",
        "        self.Marks = Marks\n",
        "        self.databasename = \"StudentDetails\""
      ]
    },
    {
      "cell_type": "code",
      "execution_count": null,
      "metadata": {
        "id": "pSTwJHCBmWiH"
      },
      "outputs": [],
      "source": [
        "student1 = StudentMarks(23,34,76)"
      ]
    },
    {
      "cell_type": "code",
      "execution_count": null,
      "metadata": {
        "id": "-vgJu1wWmWiH"
      },
      "outputs": [],
      "source": [
        "student1.createDatabase()"
      ]
    },
    {
      "cell_type": "code",
      "execution_count": null,
      "metadata": {
        "id": "EAZB1hYhmWiI"
      },
      "outputs": [],
      "source": [
        "#encaptulation \n",
        "class test:\n",
        "    def __init__(self, a,b,c):\n",
        "        self.a =a \n",
        "        self.b = b\n",
        "        self.c = c \n",
        "        \n",
        "    def __str__(self):\n",
        "        return \"this is the return form my test class \"\n",
        "\n",
        "    \n",
        "class test1 :\n",
        "    def __init__(self, a,b,c):\n",
        "        self.a =a \n",
        "        self.b = b\n",
        "        self.c = c \n",
        "        \n",
        "    def __str__(self):\n",
        "        return \"this is the return form my test1 class \"\n",
        "    \n",
        "class test2:\n",
        "    \n",
        "    def __init__(self, a,b,c):\n",
        "        self.a = a \n",
        "        self.b = b\n",
        "        self.c = c \n",
        "        \n",
        "    def __str__(self):\n",
        "        return \"this is the return form my test2 class \"\n",
        "\n",
        "class final:\n",
        "    \n",
        "    def __init__(self,x,y,z):\n",
        "        self.x= x\n",
        "        self.y= y\n",
        "        self.z = z\n",
        "        \n",
        "    def __str__(self) : \n",
        "        \n",
        "        return str(self.x) + \"  \" + str(self.y) + \"  \" + str(self.z)"
      ]
    },
    {
      "cell_type": "code",
      "execution_count": null,
      "metadata": {
        "id": "o8e5vopDmWiI"
      },
      "outputs": [],
      "source": [
        "t= test(4,5,6)\n",
        "t1 = test1(3,4,5)\n",
        "t2 = test2(5,6,7)\n",
        "f = final(t,t1,\"sudh\")\n"
      ]
    },
    {
      "cell_type": "code",
      "execution_count": null,
      "metadata": {
        "colab": {
          "base_uri": "https://localhost:8080/"
        },
        "id": "a5L4BfYkmWiI",
        "outputId": "5c4f7359-13e3-4d27-8b3b-fe1c4cd243b0"
      },
      "outputs": [
        {
          "output_type": "stream",
          "name": "stdout",
          "text": [
            "this is the return form my test class   this is the return form my test1 class   sudh\n"
          ]
        }
      ],
      "source": [
        "print(f)"
      ]
    },
    {
      "cell_type": "code",
      "execution_count": null,
      "metadata": {
        "colab": {
          "base_uri": "https://localhost:8080/"
        },
        "id": "iDchQhWTmWiJ",
        "outputId": "d76666ac-5a9b-40f2-947b-c992ab0ff5dc"
      },
      "outputs": [
        {
          "output_type": "stream",
          "name": "stdout",
          "text": [
            "Tyres: \n",
            " \tBranch: Pirelli\n",
            " \tBelted-bias: True\n",
            " \tOptimal pressure: 2.0\n",
            "Engine: \n",
            " \tFuel type: Diesel\n",
            " \tNoise level:3\n",
            "Body:\n",
            " \tSize: Medium toyota\n"
          ]
        }
      ],
      "source": [
        "#encpsulation example 2 \n",
        "class Tyres:\n",
        "    def __init__(self, branch, belted_bias, opt_pressure):\n",
        "        self.branch = branch\n",
        "        self.belted_bias = belted_bias\n",
        "        self.opt_pressure = opt_pressure\n",
        "        \n",
        "    def __str__(self):\n",
        "        return (\"Tyres: \\n \\tBranch: \" + self.branch +\n",
        "               \"\\n \\tBelted-bias: \" + str(self.belted_bias) + \n",
        "               \"\\n \\tOptimal pressure: \" + str(self.opt_pressure))\n",
        "        \n",
        "class Engine:\n",
        "    def __init__(self, fuel_type, noise_level):\n",
        "        self.fuel_type = fuel_type\n",
        "        self.noise_level = noise_level\n",
        "        \n",
        "    def __str__(self):\n",
        "        return (\"Engine: \\n \\tFuel type: \" + self.fuel_type +\n",
        "                \"\\n \\tNoise level:\" + str(self.noise_level))\n",
        "        \n",
        "class Body:\n",
        "    def __init__(self, size):\n",
        "        self.size = size\n",
        "        \n",
        "    def __str__(self):\n",
        "        return \"Body:\\n \\tSize: \" + self.size\n",
        "        \n",
        "class Car:\n",
        "    def __init__(self,name ,  tyres, engine, body):\n",
        "        self.name = name \n",
        "        self.tyres = tyres\n",
        "        self.engine = engine\n",
        "        self.body = body\n",
        "        \n",
        "    def __str__(self):\n",
        "        return str(self.tyres) + \"\\n\" + str(self.engine) + \"\\n\" + str(self.body) + \" \" + str(self.name)\n",
        "\n",
        "        \n",
        "t = Tyres('Pirelli', True, 2.0)\n",
        "e = Engine('Diesel', 3)\n",
        "b = Body('Medium')\n",
        "c = Car(\"toyota\",t, e, b)\n",
        "print(c)"
      ]
    },
    {
      "cell_type": "code",
      "execution_count": null,
      "metadata": {
        "id": "fLGG81GlmWiJ"
      },
      "outputs": [],
      "source": [
        "class parent :    \n",
        "    a = 10 \n",
        "    b = 40 \n",
        "    \n",
        "    def __init__(self,parent_a , parent_b):\n",
        "        self.parent_a = parent_a\n",
        "        self.parent_b = parent_b\n",
        "        \n",
        "class child(parent):\n",
        "    def __init__(self, *args):\n",
        "        super(child,self).__init__(*args)\n",
        "    "
      ]
    },
    {
      "cell_type": "code",
      "execution_count": null,
      "metadata": {
        "colab": {
          "base_uri": "https://localhost:8080/"
        },
        "id": "eoLXre3SmWiJ",
        "outputId": "f201cf1e-86b7-4f42-d6e7-3009519ac680"
      },
      "outputs": [
        {
          "output_type": "stream",
          "name": "stdout",
          "text": [
            "safeedvala is a Laika born in 1954.\n"
          ]
        }
      ],
      "source": [
        "class Dog:\n",
        "    def __init__(self, name, year_of_birth, breed):\n",
        "        self._name = name\n",
        "        self._year_of_birth = year_of_birth\n",
        "        self._breed = breed\n",
        "\n",
        "    def __str__(self):\n",
        "        return \"%s is a %s born in %d.\" % (self._name, self._breed, self._year_of_birth)\n",
        "\n",
        "asss = Dog(\"safeedvala\", 1954, \"Laika\")\n",
        "dog1 = Dog(\"german\" ,565 , \"coco\")\n",
        "dog2= Dog(\"german\" ,565 , \"coco\")\n",
        "dog3= Dog(\"german\" ,565 , \"coco\")\n",
        "dog4= Dog(\"german\" ,565 , \"coco\")\n",
        "dog5 = Dog(\"german\" ,565 , \"coco\")\n",
        "dog6= Dog(\"german\" ,565 , \"coco\")\n",
        "print(asss)"
      ]
    },
    {
      "cell_type": "code",
      "execution_count": null,
      "metadata": {
        "id": "7NYVrqMYmWiK"
      },
      "outputs": [],
      "source": [
        "class student:\n",
        "    \n",
        "    def __init__(self,name, student_id,school_name, address):\n",
        "        self.name = name \n",
        "        self.student_id = student_id\n",
        "        self.school_name = school_name\n",
        "        self.address = address\n",
        "        \n",
        "        \n",
        "    def __str__(self):\n",
        "        return str(self.name) + \"  \" + str(self.student_id) + \"   \" + str(self.school_name) + \"  \"+ str( self.address)"
      ]
    },
    {
      "cell_type": "code",
      "execution_count": null,
      "metadata": {
        "colab": {
          "base_uri": "https://localhost:8080/"
        },
        "id": "rBAMep-NmWiK",
        "outputId": "a78019eb-2d3a-4962-ec31-f7ba6f9ab4f0"
      },
      "outputs": [
        {
          "output_type": "stream",
          "name": "stdout",
          "text": [
            "ashishkumar  454   iNeuron  xyz\n"
          ]
        }
      ],
      "source": [
        "stu = student(\"ashishkumar\" , 454 , \"iNeuron\" , \"xyz\") \n",
        "print(stu)"
      ]
    },
    {
      "cell_type": "code",
      "execution_count": null,
      "metadata": {
        "colab": {
          "base_uri": "https://localhost:8080/"
        },
        "id": "ii7lOn6HmWiL",
        "outputId": "cc5afac4-cd56-4f62-e485-e6059e4923af"
      },
      "outputs": [
        {
          "output_type": "stream",
          "name": "stdout",
          "text": [
            "Kudrjavka is a Laika born in 1954.  45   dog_sch  sdfdsf\n"
          ]
        }
      ],
      "source": [
        "dog = student(kudrjavka , 45 , \"dog_sch\" , \"sdfdsf\")\n",
        "print(dog)"
      ]
    },
    {
      "cell_type": "code",
      "execution_count": null,
      "metadata": {
        "id": "azVU6TFEmWiL"
      },
      "outputs": [],
      "source": [
        "dog1 = student(dog1 , 45 , \"dog_sch\" , \"sdfdsf\")"
      ]
    },
    {
      "cell_type": "code",
      "execution_count": null,
      "metadata": {
        "id": "35DY2Gc8mWiL"
      },
      "outputs": [],
      "source": [
        "\n",
        "class BonusDistribution:\n",
        "    \n",
        "    def __init__ (self,employeeId, employeeRating):\n",
        "    \n",
        "        self.empId = employeeId\n",
        "        self.empRating = employeeRating\n",
        "        self.__bonusforRatingA = \"70%\"  #making value private\n",
        "        self.__bonusforRatingB = \"60%\"  #making value private\n",
        "        self.__bonusforRatingC = \"50%\"  #making value private\n",
        "        self.__bonusforRatingD = \"30%\"  #making value private\n",
        "        self.__bonusforRatingForRest = \"No Bonus\" #making value private\n",
        "        \n",
        "        \n",
        "    def bonusCalculator(self):\n",
        "        \n",
        "        if self.empRating == 'A':\n",
        "            bonus = self.__bonusforRatingA\n",
        "            msg = \"Bonus for this employee is :\"+ bonus\n",
        "            return msg\n",
        "        elif self.empRating == 'B':\n",
        "            bonus = self.__bonusforRatingB\n",
        "            msg = \"Bonus for this employee is :\"+ bonus\n",
        "            return msg\n",
        "        elif self.empRating == 'C':\n",
        "            bonus = self.__bonusforRatingC\n",
        "            msg = \"Bonus for this employee is :\"+ bonus\n",
        "            return msg\n",
        "        elif self.empRating == 'D':\n",
        "            bonus = self.__bonusforRatingD\n",
        "            msg = \"Bonus for this employee is :\"+ bonus\n",
        "            return msg\n",
        "        else:\n",
        "            bonus = self.__bonusforRatingForRest\n",
        "            msg = \"Bonus for this employee is :\"+ bonus\n",
        "            return msg\n",
        "        \n",
        "    def __changevariable(self , value) : \n",
        "         self.__bonusforRatingB = value"
      ]
    },
    {
      "cell_type": "code",
      "execution_count": null,
      "metadata": {
        "id": "ikNzNgDSmWiM"
      },
      "outputs": [],
      "source": [
        "emp1 = BonusDistribution(1232,'B')\n",
        "emp2 = BonusDistribution(1342,'B')\n",
        "emp3 = BonusDistribution(1031,'E')"
      ]
    },
    {
      "cell_type": "code",
      "source": [
        "emp3.bonusCalculator()"
      ],
      "metadata": {
        "colab": {
          "base_uri": "https://localhost:8080/",
          "height": 35
        },
        "id": "zSC-RtXKjNry",
        "outputId": "7185d8d4-c009-42e1-fbad-c520db3cc8d3"
      },
      "execution_count": null,
      "outputs": [
        {
          "output_type": "execute_result",
          "data": {
            "application/vnd.google.colaboratory.intrinsic+json": {
              "type": "string"
            },
            "text/plain": [
              "'Bonus for this employee is :No Bonus'"
            ]
          },
          "metadata": {},
          "execution_count": 39
        }
      ]
    },
    {
      "cell_type": "code",
      "execution_count": null,
      "metadata": {
        "id": "vb4ZTd9imWiM"
      },
      "outputs": [],
      "source": [
        "emp2._BonusDistribution__changevariable(\"67%\")"
      ]
    },
    {
      "cell_type": "code",
      "execution_count": null,
      "metadata": {
        "colab": {
          "base_uri": "https://localhost:8080/",
          "height": 35
        },
        "id": "5ltqP7wQmWiM",
        "outputId": "d286d95a-4a0c-43f0-9342-d9ff294970a4"
      },
      "outputs": [
        {
          "output_type": "execute_result",
          "data": {
            "application/vnd.google.colaboratory.intrinsic+json": {
              "type": "string"
            },
            "text/plain": [
              "'Bonus for this employee is :67%'"
            ]
          },
          "metadata": {},
          "execution_count": 38
        }
      ],
      "source": [
        "emp2.bonusCalculator()"
      ]
    },
    {
      "cell_type": "code",
      "execution_count": null,
      "metadata": {
        "colab": {
          "base_uri": "https://localhost:8080/",
          "height": 35
        },
        "id": "yg06cnkimWiM",
        "outputId": "18f8de67-d6d5-4b94-95b5-0a2457e4094d"
      },
      "outputs": [
        {
          "output_type": "execute_result",
          "data": {
            "application/vnd.google.colaboratory.intrinsic+json": {
              "type": "string"
            },
            "text/plain": [
              "'Bonus for this employee is :60%'"
            ]
          },
          "metadata": {},
          "execution_count": 40
        }
      ],
      "source": [
        "emp1.bonusCalculator()"
      ]
    },
    {
      "cell_type": "code",
      "execution_count": null,
      "metadata": {
        "id": "fyAvlp2AmWiN"
      },
      "outputs": [],
      "source": [
        "emp1._BonusDistribution__bonusforRatingB = \"90%\""
      ]
    },
    {
      "cell_type": "code",
      "execution_count": null,
      "metadata": {
        "colab": {
          "base_uri": "https://localhost:8080/",
          "height": 35
        },
        "id": "cAeF2stfmWiN",
        "outputId": "4c8b5e90-0c1b-4a0e-bfb9-e566ec1a4397"
      },
      "outputs": [
        {
          "output_type": "execute_result",
          "data": {
            "application/vnd.google.colaboratory.intrinsic+json": {
              "type": "string"
            },
            "text/plain": [
              "'Bonus for this employee is :90%'"
            ]
          },
          "metadata": {},
          "execution_count": 42
        }
      ],
      "source": [
        "emp1.bonusCalculator()"
      ]
    },
    {
      "cell_type": "code",
      "execution_count": null,
      "metadata": {
        "colab": {
          "base_uri": "https://localhost:8080/",
          "height": 165
        },
        "id": "fbbF9zMHmWiN",
        "outputId": "80091e30-8572-4c5f-8246-8686a29c28ae"
      },
      "outputs": [
        {
          "output_type": "error",
          "ename": "AttributeError",
          "evalue": "ignored",
          "traceback": [
            "\u001b[0;31m---------------------------------------------------------------------------\u001b[0m",
            "\u001b[0;31mAttributeError\u001b[0m                            Traceback (most recent call last)",
            "\u001b[0;32m<ipython-input-43-26abf670304c>\u001b[0m in \u001b[0;36m<module>\u001b[0;34m()\u001b[0m\n\u001b[0;32m----> 1\u001b[0;31m \u001b[0memp1\u001b[0m\u001b[0;34m.\u001b[0m\u001b[0mchagnevariable\u001b[0m\u001b[0;34m(\u001b[0m\u001b[0;34m\"85%\"\u001b[0m\u001b[0;34m)\u001b[0m\u001b[0;34m\u001b[0m\u001b[0;34m\u001b[0m\u001b[0m\n\u001b[0m",
            "\u001b[0;31mAttributeError\u001b[0m: 'BonusDistribution' object has no attribute 'chagnevariable'"
          ]
        }
      ],
      "source": [
        "emp1.chagnevariable(\"85%\")"
      ]
    },
    {
      "cell_type": "code",
      "execution_count": null,
      "metadata": {
        "colab": {
          "base_uri": "https://localhost:8080/",
          "height": 35
        },
        "id": "P-fq6N9emWiN",
        "outputId": "039a9d01-bcec-4d72-b8dd-cc8890f58d4c"
      },
      "outputs": [
        {
          "output_type": "execute_result",
          "data": {
            "application/vnd.google.colaboratory.intrinsic+json": {
              "type": "string"
            },
            "text/plain": [
              "'Bonus for this employee is :90%'"
            ]
          },
          "metadata": {},
          "execution_count": 44
        }
      ],
      "source": [
        "emp1.bonusCalculator()"
      ]
    },
    {
      "cell_type": "code",
      "execution_count": null,
      "metadata": {
        "colab": {
          "base_uri": "https://localhost:8080/",
          "height": 35
        },
        "id": "QROJq_yqmWiN",
        "outputId": "89b1f303-a98e-437d-85f3-b87f9b011e70"
      },
      "outputs": [
        {
          "output_type": "execute_result",
          "data": {
            "application/vnd.google.colaboratory.intrinsic+json": {
              "type": "string"
            },
            "text/plain": [
              "'Bonus for this employee is :67%'"
            ]
          },
          "metadata": {},
          "execution_count": 45
        }
      ],
      "source": [
        "emp2.bonusCalculator()"
      ]
    },
    {
      "cell_type": "code",
      "execution_count": null,
      "metadata": {
        "id": "f4WU_vIrmWiO"
      },
      "outputs": [],
      "source": [
        "emp1 = BonusDistribution(1232,'B')\n",
        "emp2 = BonusDistribution(1342,'B')"
      ]
    },
    {
      "cell_type": "code",
      "execution_count": null,
      "metadata": {
        "id": "0uf1YGjomWiO"
      },
      "outputs": [],
      "source": [
        "class multiplynumeric():\n",
        "    def __init__(self,a) : \n",
        "        self.a = a \n",
        "    \n",
        "    def __mul__(self, other ):\n",
        "        \n",
        "        return self.a - other.a #subtraction "
      ]
    },
    {
      "cell_type": "code",
      "execution_count": null,
      "metadata": {
        "id": "FxVD8J5lmWiO"
      },
      "outputs": [],
      "source": [
        "mul = multiplynumeric(10)\n",
        "mul1 = multiplynumeric(2)"
      ]
    },
    {
      "cell_type": "code",
      "execution_count": null,
      "metadata": {
        "colab": {
          "base_uri": "https://localhost:8080/"
        },
        "id": "PSMKAJJfmWiP",
        "outputId": "51841fe7-0c9d-4561-e25a-ae4af4b09f97"
      },
      "outputs": [
        {
          "output_type": "execute_result",
          "data": {
            "text/plain": [
              "8"
            ]
          },
          "metadata": {},
          "execution_count": 51
        }
      ],
      "source": [
        "mul * mul1 #in class subtraction is defined so subtraction will be performed  #overloading actual nature was different * but subtraction happened "
      ]
    },
    {
      "cell_type": "code",
      "execution_count": null,
      "metadata": {
        "colab": {
          "base_uri": "https://localhost:8080/"
        },
        "id": "D1XPGnsEmWiP",
        "outputId": "40cb4b63-a542-4f02-9dc0-7b54d225065d"
      },
      "outputs": [
        {
          "output_type": "execute_result",
          "data": {
            "text/plain": [
              "18"
            ]
          },
          "metadata": {},
          "execution_count": 52
        }
      ],
      "source": [
        "9 * 2"
      ]
    },
    {
      "cell_type": "code",
      "execution_count": null,
      "metadata": {
        "id": "qhWA16AhmWiQ"
      },
      "outputs": [],
      "source": [
        "# polymorphism exxamole myself brother to someone son of someone mama of someone etc etc\n",
        "def test(a , b ) :\n",
        "    return a + b "
      ]
    },
    {
      "cell_type": "code",
      "execution_count": null,
      "metadata": {
        "colab": {
          "base_uri": "https://localhost:8080/"
        },
        "id": "m5w4CsGVmWiQ",
        "outputId": "cf631f6c-ffe8-4ea8-8b46-12f8be476d75"
      },
      "outputs": [
        {
          "output_type": "stream",
          "name": "stdout",
          "text": [
            "11\n",
            "sudh kumar\n",
            "[3, 4, 5, 6, 7, 8, 4, 5, 6, 7, 89]\n"
          ]
        }
      ],
      "source": [
        "print(test(5, 6 ))\n",
        "print(test(\"sudh \" , \"kumar\"))\n",
        "print(test([3,4,5,6,7,8] , [ 4,5,6,7,89]))"
      ]
    },
    {
      "cell_type": "code",
      "execution_count": null,
      "metadata": {
        "id": "zZuILGMlmWiR"
      },
      "outputs": [],
      "source": [
        "class ineuron:\n",
        "    def msg(self):\n",
        "        print(\"this is a msg to ineruon\")\n",
        "          \n",
        "class xyz:  \n",
        "    def msg(self):\n",
        "        print(\"this is a msg to xyz\")     "
      ]
    },
    {
      "cell_type": "code",
      "execution_count": null,
      "metadata": {
        "id": "gWisxWl5mWiR"
      },
      "outputs": [],
      "source": [
        "def test(notes):\n",
        "    notes.msg()"
      ]
    },
    {
      "cell_type": "code",
      "execution_count": null,
      "metadata": {
        "id": "kK-wTJHumWiR"
      },
      "outputs": [],
      "source": [
        "i = ineuron()\n",
        "x = xyz()"
      ]
    },
    {
      "cell_type": "code",
      "execution_count": null,
      "metadata": {
        "colab": {
          "base_uri": "https://localhost:8080/"
        },
        "id": "LmkQ5T7YmWiS",
        "outputId": "3a063e16-6851-4f5f-9a0e-755d96fffe9b"
      },
      "outputs": [
        {
          "output_type": "stream",
          "name": "stdout",
          "text": [
            "this is a msg to ineruon\n"
          ]
        }
      ],
      "source": [
        "test(i) # function giving some result"
      ]
    },
    {
      "cell_type": "code",
      "execution_count": null,
      "metadata": {
        "colab": {
          "base_uri": "https://localhost:8080/"
        },
        "id": "GGPDaI75mWiS",
        "outputId": "3d00559a-d828-463b-8d1d-5e98e9625d03"
      },
      "outputs": [
        {
          "output_type": "stream",
          "name": "stdout",
          "text": [
            "this is a msg to xyz\n"
          ]
        }
      ],
      "source": [
        "test(x) # same function giving some other result"
      ]
    },
    {
      "cell_type": "code",
      "execution_count": null,
      "metadata": {
        "colab": {
          "base_uri": "https://localhost:8080/",
          "height": 35
        },
        "id": "wMsyhxHbmWiS",
        "outputId": "87fff0b0-7aff-4f17-ee8f-495b42da1c2d"
      },
      "outputs": [
        {
          "output_type": "execute_result",
          "data": {
            "application/vnd.google.colaboratory.intrinsic+json": {
              "type": "string"
            },
            "text/plain": [
              "'1. inheritence \\n2. polymorphism\\n3. abstraction\\n4. encaptuation '"
            ]
          },
          "metadata": {},
          "execution_count": 61
        }
      ],
      "source": [
        "'''1. inheritence \n",
        "2. polymorphism (correct)\n",
        "3. abstraction\n",
        "4. encaptuation ''' "
      ]
    },
    {
      "cell_type": "code",
      "execution_count": null,
      "metadata": {
        "id": "rv_xW72fmWiS"
      },
      "outputs": [],
      "source": [
        "# MY SQL WORKBENCH LINK : https://dev.mysql.com/downloads/installer/"
      ]
    }
  ],
  "metadata": {
    "kernelspec": {
      "display_name": "Python 3",
      "language": "python",
      "name": "python3"
    },
    "language_info": {
      "codemirror_mode": {
        "name": "ipython",
        "version": 3
      },
      "file_extension": ".py",
      "mimetype": "text/x-python",
      "name": "python",
      "nbconvert_exporter": "python",
      "pygments_lexer": "ipython3",
      "version": "3.8.5"
    },
    "colab": {
      "name": "Ineuron_Abstraction_Inheritance_Encapsulation_Polymorphism.ipynb",
      "provenance": [],
      "collapsed_sections": []
    }
  },
  "nbformat": 4,
  "nbformat_minor": 0
}