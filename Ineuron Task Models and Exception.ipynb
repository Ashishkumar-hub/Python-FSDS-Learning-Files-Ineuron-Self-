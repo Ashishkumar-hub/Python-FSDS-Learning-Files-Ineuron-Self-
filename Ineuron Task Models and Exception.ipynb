{
 "cells": [
  {
   "cell_type": "markdown",
   "metadata": {},
   "source": [
    "Task: create a directory test under that make a .py file (here named mo11.py) with logic to print whether enter number is even or not then create a ipynb file (here named challenge Models and Exception) and import that mo11.py function you created and check it by providing a use input. Then use exception handling to deal with all kind of exceptions.\n",
    "#try to perform logging too"
   ]
  },
  {
   "cell_type": "markdown",
   "metadata": {},
   "source": [
    "Solution :"
   ]
  },
  {
   "cell_type": "markdown",
   "metadata": {},
   "source": [
    "in my casse jupyter notebook lag came folder option was not working so used the os module to create a directory \n",
    "new directory can be created easily and path can be checked by using the pwd() command in jupyternotebook or colab we can mout the drive there\n",
    "\n",
    "excute the below code in scripting manner \n",
    "\n",
    "import os \n",
    "pwd()\n",
    "os.mkdir(\"C:\\\\Users\\\\dell\\\\test\")\n",
    "os.chdir(\"C:\\\\Users\\\\dell\\\\test\")\n"
   ]
  },
  {
   "cell_type": "markdown",
   "metadata": {},
   "source": [
    "code from mo11.py\n",
    "def eveno(a):\n",
    "    if a%2==0:\n",
    "        print(\"even no\",a)\n",
    "    else:\n",
    "        print(\"not even\",a)"
   ]
  },
  {
   "cell_type": "markdown",
   "metadata": {},
   "source": [
    "then in challenge Models and Exception.ipynb excute the below code "
   ]
  },
  {
   "cell_type": "code",
   "execution_count": 1,
   "metadata": {},
   "outputs": [],
   "source": [
    "import mo11"
   ]
  },
  {
   "cell_type": "code",
   "execution_count": 14,
   "metadata": {},
   "outputs": [
    {
     "name": "stdout",
     "output_type": "stream",
     "text": [
      "take input from use:3\n",
      "not even 3\n",
      "Program complete\n",
      "Curtesy - Ineuron\n"
     ]
    }
   ],
   "source": [
    "import logging \n",
    "logging.basicConfig(filename='C:\\\\Users\\\\dell\\\\test\\\\filecreation.log',level=logging.ERROR)\n",
    "try:\n",
    "    a = int(input(\"take input from use:\"))\n",
    "    mo11.eveno(a)\n",
    "except ArithmeticError as e:\n",
    "    print(\"Arithematic error\",e)\n",
    "    logging.error(\"ERROR\")\n",
    "except IOError as e:\n",
    "    print(\"IOError\",e)\n",
    "    logging.error(\"ERROR\")\n",
    "except FileNotFoundError as e:\n",
    "    print(\"FileNotFoundError\",e)\n",
    "    logging.error(\"ERROR\")\n",
    "except  AttributeError as e:\n",
    "    print(\"Attribute error\",e)\n",
    "    logging.error(\"ERROR\")\n",
    "except Exaception as e:\n",
    "    print(\"Unexpected input\",e)\n",
    "    logging.error(\"ERROR\")\n",
    "else:\n",
    "    try:\n",
    "        print(\"Program complete\")\n",
    "    except Exaception as e:\n",
    "        print(\"Unexpected input\",e)\n",
    "finally:\n",
    "    print(\"Curtesy - Ineuron\")"
   ]
  },
  {
   "cell_type": "code",
   "execution_count": null,
   "metadata": {},
   "outputs": [],
   "source": []
  }
 ],
 "metadata": {
  "kernelspec": {
   "display_name": "Python 3",
   "language": "python",
   "name": "python3"
  },
  "language_info": {
   "codemirror_mode": {
    "name": "ipython",
    "version": 3
   },
   "file_extension": ".py",
   "mimetype": "text/x-python",
   "name": "python",
   "nbconvert_exporter": "python",
   "pygments_lexer": "ipython3",
   "version": "3.7.3"
  }
 },
 "nbformat": 4,
 "nbformat_minor": 2
}
