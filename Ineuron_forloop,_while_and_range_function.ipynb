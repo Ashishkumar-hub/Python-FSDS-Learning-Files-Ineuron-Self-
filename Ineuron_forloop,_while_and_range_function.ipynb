{
  "cells": [
    {
      "cell_type": "code",
      "source": [
        "i = 1\n",
        "j = 1\n",
        "notes = 5\n",
        "while i < notes:\n",
        "  print(i)\n",
        "  i=i+1\n",
        "else:\n",
        "  while j < 2:\n",
        "    print(i)\n",
        "    j=j+1\n",
        "    print(\"no 10 rs notrd are found\")\n"
      ],
      "metadata": {
        "colab": {
          "base_uri": "https://localhost:8080/"
        },
        "id": "zQF28IKYDmwb",
        "outputId": "2b0f7394-d4c5-4ce2-e48a-90534954b9d8"
      },
      "execution_count": 1,
      "outputs": [
        {
          "output_type": "stream",
          "name": "stdout",
          "text": [
            "1\n",
            "2\n",
            "3\n",
            "4\n",
            "5\n",
            "no 10 rs notrd are found\n"
          ]
        }
      ]
    },
    {
      "cell_type": "code",
      "execution_count": 2,
      "metadata": {
        "id": "1_NcgxFmDdcK"
      },
      "outputs": [],
      "source": [
        "s = \"my name is ashish\""
      ]
    },
    {
      "cell_type": "code",
      "execution_count": 3,
      "metadata": {
        "colab": {
          "base_uri": "https://localhost:8080/",
          "height": 35
        },
        "id": "R96iYAGoDdcK",
        "outputId": "14ad5da5-fb23-4c43-8e45-536af6830cd5"
      },
      "outputs": [
        {
          "output_type": "execute_result",
          "data": {
            "application/vnd.google.colaboratory.intrinsic+json": {
              "type": "string"
            },
            "text/plain": [
              "'my name is ashish'"
            ]
          },
          "metadata": {},
          "execution_count": 3
        }
      ],
      "source": [
        "s"
      ]
    },
    {
      "cell_type": "code",
      "execution_count": 6,
      "metadata": {
        "colab": {
          "base_uri": "https://localhost:8080/",
          "height": 35
        },
        "id": "d20WV4oLDdcL",
        "outputId": "48303b81-74e6-49c6-9888-74892ff646ce"
      },
      "outputs": [
        {
          "output_type": "execute_result",
          "data": {
            "application/vnd.google.colaboratory.intrinsic+json": {
              "type": "string"
            },
            "text/plain": [
              "' name is '"
            ]
          },
          "metadata": {},
          "execution_count": 6
        }
      ],
      "source": [
        "s[2:-6]"
      ]
    },
    {
      "cell_type": "code",
      "execution_count": 7,
      "metadata": {
        "colab": {
          "base_uri": "https://localhost:8080/",
          "height": 35
        },
        "id": "qK5CgWe8DdcL",
        "outputId": "8bc7a204-d4f4-40fa-e953-3847b3643cbf"
      },
      "outputs": [
        {
          "output_type": "execute_result",
          "data": {
            "application/vnd.google.colaboratory.intrinsic+json": {
              "type": "string"
            },
            "text/plain": [
              "'nm s'"
            ]
          },
          "metadata": {},
          "execution_count": 7
        }
      ],
      "source": [
        "s[3:10:2]"
      ]
    },
    {
      "cell_type": "code",
      "execution_count": 8,
      "metadata": {
        "colab": {
          "base_uri": "https://localhost:8080/",
          "height": 35
        },
        "id": "vRb4TNGfDdcM",
        "outputId": "6019d080-1455-40d1-9946-7f6a3b136c32"
      },
      "outputs": [
        {
          "output_type": "execute_result",
          "data": {
            "application/vnd.google.colaboratory.intrinsic+json": {
              "type": "string"
            },
            "text/plain": [
              "'hsihsa si eman ym'"
            ]
          },
          "metadata": {},
          "execution_count": 8
        }
      ],
      "source": [
        "s[::-1]"
      ]
    },
    {
      "cell_type": "code",
      "execution_count": 9,
      "metadata": {
        "colab": {
          "base_uri": "https://localhost:8080/",
          "height": 35
        },
        "id": "t6gLdu9FDdcM",
        "outputId": "82326d41-9fd4-42c6-b872-776dfe4b8d82"
      },
      "outputs": [
        {
          "output_type": "execute_result",
          "data": {
            "application/vnd.google.colaboratory.intrinsic+json": {
              "type": "string"
            },
            "text/plain": [
              "' name is '"
            ]
          },
          "metadata": {},
          "execution_count": 9
        }
      ],
      "source": [
        "s[2:-6]"
      ]
    },
    {
      "cell_type": "code",
      "execution_count": 11,
      "metadata": {
        "id": "qZonfEW0DdcN"
      },
      "outputs": [],
      "source": [
        "s = \"ashish\""
      ]
    },
    {
      "cell_type": "code",
      "execution_count": 12,
      "metadata": {
        "colab": {
          "base_uri": "https://localhost:8080/",
          "height": 35
        },
        "id": "WlXpSBumDdcN",
        "outputId": "ff2edfa5-c273-4dd2-b8fa-2f4c62556e63"
      },
      "outputs": [
        {
          "output_type": "execute_result",
          "data": {
            "application/vnd.google.colaboratory.intrinsic+json": {
              "type": "string"
            },
            "text/plain": [
              "'a'"
            ]
          },
          "metadata": {},
          "execution_count": 12
        }
      ],
      "source": [
        "s[0]"
      ]
    },
    {
      "cell_type": "code",
      "execution_count": 13,
      "metadata": {
        "colab": {
          "base_uri": "https://localhost:8080/",
          "height": 35
        },
        "id": "kNVo4_B6DdcO",
        "outputId": "3146da4f-1a18-4995-edbc-1364a1d84b03"
      },
      "outputs": [
        {
          "output_type": "execute_result",
          "data": {
            "application/vnd.google.colaboratory.intrinsic+json": {
              "type": "string"
            },
            "text/plain": [
              "'ashish'"
            ]
          },
          "metadata": {},
          "execution_count": 13
        }
      ],
      "source": [
        "s"
      ]
    },
    {
      "cell_type": "code",
      "execution_count": 14,
      "metadata": {
        "colab": {
          "base_uri": "https://localhost:8080/"
        },
        "id": "ATX_D-9cDdcO",
        "outputId": "3048d974-d743-4962-dcb9-024a2b96fc0e"
      },
      "outputs": [
        {
          "output_type": "stream",
          "name": "stdout",
          "text": [
            "a\n",
            " i got s as a string \n",
            "s\n",
            "h\n",
            "i\n",
            " i got s as a string \n",
            "s\n",
            "h\n"
          ]
        }
      ],
      "source": [
        "for i in s :\n",
        "    if i == 's':\n",
        "        print(\" i got s as a string \")\n",
        "    print(i)"
      ]
    },
    {
      "cell_type": "code",
      "execution_count": 15,
      "metadata": {
        "colab": {
          "base_uri": "https://localhost:8080/",
          "height": 35
        },
        "id": "h6dUrkCbDdcP",
        "outputId": "bdd080b5-868a-48db-e559-040e1e678b3a"
      },
      "outputs": [
        {
          "output_type": "execute_result",
          "data": {
            "application/vnd.google.colaboratory.intrinsic+json": {
              "type": "string"
            },
            "text/plain": [
              "'ashish'"
            ]
          },
          "metadata": {},
          "execution_count": 15
        }
      ],
      "source": [
        "s = ashishl     "
      ]
    },
    {
      "cell_type": "code",
      "execution_count": 20,
      "metadata": {
        "colab": {
          "base_uri": "https://localhost:8080/"
        },
        "id": "Yf4kzYlZDdcP",
        "outputId": "9d5f90e4-662f-43b6-e845-31a0e6ba8f58"
      },
      "outputs": [
        {
          "output_type": "stream",
          "name": "stdout",
          "text": [
            "a\n",
            "h\n",
            "i\n",
            "h\n",
            "this is a else condtion \n"
          ]
        }
      ],
      "source": [
        "for i in s :\n",
        "    if i == \"s\":\n",
        "        continue \n",
        "    print(i)\n",
        "else :\n",
        "    if i == '1':\n",
        "        print(\"last char was 1 \")\n",
        "    print(\"this is a else condtion \")"
      ]
    },
    {
      "cell_type": "code",
      "execution_count": 22,
      "metadata": {
        "id": "dXDq1x7cDdcQ"
      },
      "outputs": [],
      "source": [
        "s =  \"ineuron\"\n",
        "ss = \"\"\n",
        "for i in range(len(s)):\n",
        "    if s[i] == \"n\":\n",
        "        continue\n",
        "    else :\n",
        "        ss = ss + s[i]"
      ]
    },
    {
      "cell_type": "code",
      "execution_count": 23,
      "metadata": {
        "colab": {
          "base_uri": "https://localhost:8080/",
          "height": 35
        },
        "id": "Ga4Rn92rDdcQ",
        "outputId": "e40bb606-593a-4c4b-9cb5-b9800f076398"
      },
      "outputs": [
        {
          "output_type": "execute_result",
          "data": {
            "application/vnd.google.colaboratory.intrinsic+json": {
              "type": "string"
            },
            "text/plain": [
              "'ieuro'"
            ]
          },
          "metadata": {},
          "execution_count": 23
        }
      ],
      "source": [
        "ss"
      ]
    },
    {
      "cell_type": "code",
      "execution_count": 24,
      "metadata": {
        "colab": {
          "base_uri": "https://localhost:8080/"
        },
        "id": "cDL6Qw1TDdcQ",
        "outputId": "931c6968-4ead-48e9-bcbb-ddaec153fa5e"
      },
      "outputs": [
        {
          "output_type": "execute_result",
          "data": {
            "text/plain": [
              "7"
            ]
          },
          "metadata": {},
          "execution_count": 24
        }
      ],
      "source": [
        "len(s)"
      ]
    },
    {
      "cell_type": "code",
      "execution_count": 25,
      "metadata": {
        "colab": {
          "base_uri": "https://localhost:8080/"
        },
        "id": "IRE9zR82DdcR",
        "outputId": "43383d7f-441f-4fc8-bab1-de44cf9d016d"
      },
      "outputs": [
        {
          "output_type": "stream",
          "name": "stdout",
          "text": [
            "+ \r\n",
            "+ + \r\n",
            "+ + + \r\n",
            "+ + + + \r\n",
            "+ + + + + \r\n",
            "+ + + + + + \r\n",
            "+ + + + + + + \r\n"
          ]
        }
      ],
      "source": [
        "n = 7 \n",
        "for i in range(0 ,n):\n",
        "    for j in range(0 ,i +1):\n",
        "        print(\"+ \" , end = \"\")\n",
        "    print(\"\\r\")    "
      ]
    },
    {
      "cell_type": "code",
      "execution_count": 26,
      "metadata": {
        "colab": {
          "base_uri": "https://localhost:8080/"
        },
        "id": "w2gS7_M0DdcR",
        "outputId": "e705fa1e-e411-4457-f827-dc3f9b964c15"
      },
      "outputs": [
        {
          "output_type": "stream",
          "name": "stdout",
          "text": [
            "        * * * * * * \r\n",
            "         * * * * * \r\n",
            "          * * * * \r\n",
            "           * * * \r\n",
            "            * * \r\n",
            "             * \r\n"
          ]
        }
      ],
      "source": [
        "def pattern(n):\n",
        "      k = 2*n -2\n",
        "      for i in range(n,-1,-1):\n",
        "           for j in range(k,0,-1):\n",
        "                print(end=\" \")\n",
        "           k = k +1\n",
        "           for j in range(0, i+1):\n",
        "                print(\"*\", end=\" \")\n",
        "           print(\"\\r\") \n",
        "pattern(5)"
      ]
    },
    {
      "cell_type": "code",
      "execution_count": 27,
      "metadata": {
        "colab": {
          "base_uri": "https://localhost:8080/"
        },
        "id": "UsCY4usXDdcS",
        "outputId": "e6c1a849-abed-4e81-9573-ac0140aefe88"
      },
      "outputs": [
        {
          "output_type": "stream",
          "name": "stdout",
          "text": [
            "7\n",
            "6\n",
            "5\n",
            "4\n",
            "3\n",
            "2\n",
            "1\n"
          ]
        }
      ],
      "source": [
        "for i in range(7,0,-1):\n",
        "    print(i)"
      ]
    },
    {
      "cell_type": "code",
      "execution_count": 28,
      "metadata": {
        "colab": {
          "base_uri": "https://localhost:8080/"
        },
        "id": "AcRkRG7JDdcS",
        "outputId": "0ef8d685-74a3-47fe-8f6d-f3138de74f4d"
      },
      "outputs": [
        {
          "output_type": "stream",
          "name": "stdout",
          "text": [
            "Enter number of rows required: 6\n",
            "***********\n",
            " *********\n",
            "  *******\n",
            "   *****\n",
            "    ***\n",
            "     *\n"
          ]
        }
      ],
      "source": [
        "n = int(input('Enter number of rows required: '))\n",
        "\n",
        "for i in range(n,0,-1):\n",
        "    for j in range(n-i):\n",
        "        print(' ', end='') \n",
        "    \n",
        "    for j in range(2*i-1):\n",
        "        print('*',end='') \n",
        "    print()\n"
      ]
    },
    {
      "cell_type": "code",
      "execution_count": 29,
      "metadata": {
        "colab": {
          "base_uri": "https://localhost:8080/"
        },
        "id": "3fWeA0SMDdcT",
        "outputId": "4b802233-0fb2-4429-f2d5-b7b12bfe3264"
      },
      "outputs": [
        {
          "output_type": "stream",
          "name": "stdout",
          "text": [
            "8\n",
            "7\n",
            "6\n",
            "5\n",
            "4\n",
            "3\n",
            "2\n",
            "1\n"
          ]
        }
      ],
      "source": [
        "for i in range(8, 0, -1):\n",
        "    print(i)"
      ]
    },
    {
      "cell_type": "code",
      "execution_count": 30,
      "metadata": {
        "colab": {
          "base_uri": "https://localhost:8080/"
        },
        "id": "T5X6SHcXDdcT",
        "outputId": "8f42fb42-a533-45bf-a02d-c7d0254eb90f"
      },
      "outputs": [
        {
          "output_type": "stream",
          "name": "stdout",
          "text": [
            "        * * * * * * \n",
            "         * * * * * \n",
            "          * * * * \n",
            "           * * * \n",
            "            * * \n",
            "             * \n"
          ]
        }
      ],
      "source": [
        "num = 5\n",
        "m = 2 * num - 2\n",
        "for i in range(num, -1, -1):\n",
        "    for j in range(m, 0, -1):\n",
        "        print(end=\" \")\n",
        "    m = m + 1\n",
        "    for j in range(0, i + 1):\n",
        "        print(\"*\", end=\" \")\n",
        "    print(\"\")"
      ]
    },
    {
      "cell_type": "code",
      "execution_count": 31,
      "metadata": {
        "colab": {
          "base_uri": "https://localhost:8080/",
          "height": 35
        },
        "id": "SJEFYMsXDdcT",
        "outputId": "c0da9b52-db05-493e-9d3f-64963bbe67f6"
      },
      "outputs": [
        {
          "output_type": "execute_result",
          "data": {
            "application/vnd.google.colaboratory.intrinsic+json": {
              "type": "string"
            },
            "text/plain": [
              "'     '"
            ]
          },
          "metadata": {},
          "execution_count": 31
        }
      ],
      "source": [
        "\" \"*5"
      ]
    },
    {
      "cell_type": "code",
      "execution_count": 32,
      "metadata": {
        "colab": {
          "base_uri": "https://localhost:8080/"
        },
        "id": "bSNEW2OODdcU",
        "outputId": "82ac0948-0a6f-49b1-9039-22de3b7c08b3"
      },
      "outputs": [
        {
          "output_type": "stream",
          "name": "stdout",
          "text": [
            "        * \n",
            "       * * \n",
            "      * * * \n",
            "     * * * * \n",
            "    * * * * * \n",
            "   * * * * * * \n",
            "  * * * * * * * \n",
            " * * * * * * * * \n",
            "* * * * * * * * * \n"
          ]
        }
      ],
      "source": [
        "n =9\n",
        "i=0\n",
        "while i < n :\n",
        "    print(' '*(n-i-1) + '* '*(i+1))\n",
        "    i +=1"
      ]
    },
    {
      "cell_type": "code",
      "execution_count": 33,
      "metadata": {
        "colab": {
          "base_uri": "https://localhost:8080/"
        },
        "id": "kYySEnzdDdcU",
        "outputId": "bb4badce-141f-4c9a-cbda-e7ac3b032bd9"
      },
      "outputs": [
        {
          "output_type": "stream",
          "name": "stdout",
          "text": [
            "    *\n",
            "   ***\n",
            "  *****\n",
            " *******\n",
            "*********\n"
          ]
        }
      ],
      "source": [
        "i=1\n",
        "k=1 #for printing starts with the increament of 2\n",
        "while i<=5:\n",
        "    b=1\n",
        "    while b<=5-i:\n",
        "        print(' ',end='')\n",
        "        b=b+1\n",
        "        \n",
        "    j=1\n",
        "    while j<=k:\n",
        "        print('*', end='')\n",
        "        j=j+1\n",
        "    print()\n",
        "    \n",
        "    k=k+2\n",
        "    \n",
        "    i=i+1\n"
      ]
    },
    {
      "cell_type": "code",
      "execution_count": 34,
      "metadata": {
        "colab": {
          "base_uri": "https://localhost:8080/"
        },
        "id": "7SY9sGoMDdcV",
        "outputId": "079745c7-10a1-40c5-d282-194894b970f7"
      },
      "outputs": [
        {
          "output_type": "stream",
          "name": "stdout",
          "text": [
            "Please enter the amount of rows: 6\n",
            "     *\n",
            "    ***\n",
            "   *****\n",
            "  *******\n",
            " *********\n",
            "***********\n",
            "**iNeuron-FSDS**\n"
          ]
        }
      ],
      "source": [
        "userInput = int(input(\"Please enter the amount of rows: \"))\n",
        "\n",
        "row = 0\n",
        "while(row < userInput):\n",
        "    row += 1\n",
        "    spaces = userInput - row\n",
        "\n",
        "    spaces_counter = 0\n",
        "    while(spaces_counter < spaces):\n",
        "        print(\" \", end='')\n",
        "        spaces_counter += 1\n",
        "\n",
        "    num_stars = 2*row-1\n",
        "    while(num_stars > 0):\n",
        "        print(\"*\", end='')\n",
        "        num_stars -= 1\n",
        "\n",
        "    print()\n",
        "print(\"**iNeuron-FSDS**\")\n"
      ]
    },
    {
      "cell_type": "code",
      "execution_count": 35,
      "metadata": {
        "id": "EyLlJ-bcDdcV"
      },
      "outputs": [],
      "source": [
        "l = list()"
      ]
    },
    {
      "cell_type": "code",
      "execution_count": 36,
      "metadata": {
        "id": "3VOZBmW7DdcW"
      },
      "outputs": [],
      "source": [
        "name = \"ashish\"\n",
        "phno = 12356849\n",
        "addr = \"fsds\"\n",
        "name , phno , addr = \"ashu \" , 1365478963,\"asdfghjk\""
      ]
    },
    {
      "cell_type": "code",
      "execution_count": 37,
      "metadata": {
        "colab": {
          "base_uri": "https://localhost:8080/"
        },
        "id": "rSEyhF_fDdcW",
        "outputId": "44e81c6a-9271-4971-b90e-ce801eb09fba"
      },
      "outputs": [
        {
          "output_type": "execute_result",
          "data": {
            "text/plain": [
              "7"
            ]
          },
          "metadata": {},
          "execution_count": 37
        }
      ],
      "source": [
        "l = [\"ashu\" , 34535,\"sfsfsafa\", True, 45+8j , [3,5,6,\"dfg\"],6.787]\n",
        "\n",
        "len(l)"
      ]
    },
    {
      "cell_type": "code",
      "execution_count": 38,
      "metadata": {
        "colab": {
          "base_uri": "https://localhost:8080/"
        },
        "id": "QeNy060FDdcW",
        "outputId": "57215676-2fef-412c-d10e-2236cbe131a8"
      },
      "outputs": [
        {
          "output_type": "execute_result",
          "data": {
            "text/plain": [
              "range(0, 10)"
            ]
          },
          "metadata": {},
          "execution_count": 38
        }
      ],
      "source": [
        "range(10)"
      ]
    },
    {
      "cell_type": "code",
      "execution_count": 39,
      "metadata": {
        "colab": {
          "base_uri": "https://localhost:8080/"
        },
        "id": "WqihecQKDdcW",
        "outputId": "0129739a-2f61-4c0a-8681-d2621d96963c"
      },
      "outputs": [
        {
          "output_type": "execute_result",
          "data": {
            "text/plain": [
              "[0, 1, 2, 3, 4, 5, 6, 7, 8, 9]"
            ]
          },
          "metadata": {},
          "execution_count": 39
        }
      ],
      "source": [
        "list(range(10))"
      ]
    },
    {
      "cell_type": "code",
      "execution_count": 40,
      "metadata": {
        "colab": {
          "base_uri": "https://localhost:8080/"
        },
        "id": "bvdbnxGbDdcX",
        "outputId": "49f47121-b433-4f93-c4b4-8d8e42130671"
      },
      "outputs": [
        {
          "output_type": "stream",
          "name": "stdout",
          "text": [
            "4\n",
            "5\n",
            "6\n",
            "7\n",
            "8\n",
            "9\n"
          ]
        }
      ],
      "source": [
        "for  i in range(4,10):\n",
        "    print(i)"
      ]
    },
    {
      "cell_type": "code",
      "execution_count": 41,
      "metadata": {
        "colab": {
          "base_uri": "https://localhost:8080/"
        },
        "id": "IQ0t6WkcDdcX",
        "outputId": "bd233cb0-28b3-42a8-e2f6-c7b021e7c641"
      },
      "outputs": [
        {
          "output_type": "execute_result",
          "data": {
            "text/plain": [
              "[]"
            ]
          },
          "metadata": {},
          "execution_count": 41
        }
      ],
      "source": [
        "l[80 :3:1]"
      ]
    },
    {
      "cell_type": "code",
      "execution_count": 42,
      "metadata": {
        "colab": {
          "base_uri": "https://localhost:8080/"
        },
        "id": "XaQMWOehDdcX",
        "outputId": "ea56a65a-a45b-4e04-869c-ef4c00215504"
      },
      "outputs": [
        {
          "output_type": "stream",
          "name": "stdout",
          "text": [
            "14\n",
            "<class 'str'>\n"
          ]
        }
      ],
      "source": [
        "for i in l :\n",
        "    if type(i) == list:\n",
        "        n = 0\n",
        "        for  j in i :\n",
        "            if type(j) == int :\n",
        "                n = n + j\n",
        "        print(n)                \n",
        "        print(type(j))"
      ]
    },
    {
      "cell_type": "code",
      "execution_count": 43,
      "metadata": {
        "colab": {
          "base_uri": "https://localhost:8080/"
        },
        "id": "AtCofN4cDdcY",
        "outputId": "2a37c064-5b67-4dcd-c065-cb05b5f2bab2"
      },
      "outputs": [
        {
          "output_type": "execute_result",
          "data": {
            "text/plain": [
              "list"
            ]
          },
          "metadata": {},
          "execution_count": 43
        }
      ],
      "source": [
        "type(l)"
      ]
    },
    {
      "cell_type": "code",
      "execution_count": 44,
      "metadata": {
        "colab": {
          "base_uri": "https://localhost:8080/"
        },
        "id": "PyMbrcLdDdcY",
        "outputId": "144be789-e27e-4d23-99ca-e58d79308541"
      },
      "outputs": [
        {
          "output_type": "execute_result",
          "data": {
            "text/plain": [
              "list"
            ]
          },
          "metadata": {},
          "execution_count": 44
        }
      ],
      "source": [
        "l1 = []\n",
        "type(l1)"
      ]
    },
    {
      "cell_type": "code",
      "execution_count": 45,
      "metadata": {
        "colab": {
          "base_uri": "https://localhost:8080/"
        },
        "id": "zwBenEvXDdcY",
        "outputId": "a957ed99-bae0-4cc0-8e15-a9ad6f22a0ce"
      },
      "outputs": [
        {
          "output_type": "execute_result",
          "data": {
            "text/plain": [
              "list"
            ]
          },
          "metadata": {},
          "execution_count": 45
        }
      ],
      "source": [
        "l2 = list()\n",
        "type(l2)"
      ]
    },
    {
      "cell_type": "code",
      "execution_count": 46,
      "metadata": {
        "colab": {
          "base_uri": "https://localhost:8080/"
        },
        "id": "5naNBBcRDdcZ",
        "outputId": "90ab22f4-ee18-456e-dfb8-3a48d49413d8"
      },
      "outputs": [
        {
          "output_type": "execute_result",
          "data": {
            "text/plain": [
              "list"
            ]
          },
          "metadata": {},
          "execution_count": 46
        }
      ],
      "source": [
        "type(l1)"
      ]
    },
    {
      "cell_type": "code",
      "execution_count": 47,
      "metadata": {
        "colab": {
          "base_uri": "https://localhost:8080/",
          "height": 35
        },
        "id": "5X45m4bUDdcZ",
        "outputId": "29fb1bee-1c65-400f-d64b-013c00770e93"
      },
      "outputs": [
        {
          "output_type": "execute_result",
          "data": {
            "application/vnd.google.colaboratory.intrinsic+json": {
              "type": "string"
            },
            "text/plain": [
              "'ashu'"
            ]
          },
          "metadata": {},
          "execution_count": 47
        }
      ],
      "source": [
        "l[0]"
      ]
    },
    {
      "cell_type": "code",
      "execution_count": 48,
      "metadata": {
        "colab": {
          "base_uri": "https://localhost:8080/"
        },
        "id": "sG-qAzomDdcZ",
        "outputId": "4bd19059-d297-4555-9dda-d70fc7b99c55"
      },
      "outputs": [
        {
          "output_type": "execute_result",
          "data": {
            "text/plain": [
              "34535"
            ]
          },
          "metadata": {},
          "execution_count": 48
        }
      ],
      "source": [
        "l[1]"
      ]
    },
    {
      "cell_type": "code",
      "execution_count": 49,
      "metadata": {
        "colab": {
          "base_uri": "https://localhost:8080/",
          "height": 35
        },
        "id": "BSZFaoDXDdca",
        "outputId": "7b11073a-6f43-44bf-f95e-ff8183cec6c5"
      },
      "outputs": [
        {
          "output_type": "execute_result",
          "data": {
            "application/vnd.google.colaboratory.intrinsic+json": {
              "type": "string"
            },
            "text/plain": [
              "'sfsfsafa'"
            ]
          },
          "metadata": {},
          "execution_count": 49
        }
      ],
      "source": [
        "l[2]"
      ]
    },
    {
      "cell_type": "code",
      "execution_count": null,
      "metadata": {
        "id": "dAAlxVx9Ddca"
      },
      "outputs": [],
      "source": [
        ""
      ]
    }
  ],
  "metadata": {
    "kernelspec": {
      "display_name": "Python 3",
      "language": "python",
      "name": "python3"
    },
    "language_info": {
      "codemirror_mode": {
        "name": "ipython",
        "version": 3
      },
      "file_extension": ".py",
      "mimetype": "text/x-python",
      "name": "python",
      "nbconvert_exporter": "python",
      "pygments_lexer": "ipython3",
      "version": "3.8.3"
    },
    "colab": {
      "name": "for loop, while and range function Ineuron.ipynb",
      "provenance": []
    }
  },
  "nbformat": 4,
  "nbformat_minor": 0
}
